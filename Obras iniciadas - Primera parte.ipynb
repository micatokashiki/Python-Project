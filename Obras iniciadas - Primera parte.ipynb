{
 "cells": [
  {
   "cell_type": "markdown",
   "metadata": {},
   "source": [
    "# Práctica inicial \n",
    "## TP integrador - Primera parte\n",
    "### EDA inicial - Obras iniciadas (Dataset Provincia Bs. As)\n",
    "#### Grupo_08 - Septiembre 2020"
   ]
  },
  {
   "cell_type": "markdown",
   "metadata": {},
   "source": [
    "En este primer código se hará un análisis preliminar para ver las posibilidades de utilizar el Dataset obtenido del siguiente link: https://data.buenosaires.gob.ar/dataset/obras-iniciadas  como potencial base para el Trabajo Práctico de la materia Ciencia de Datos"
   ]
  },
  {
   "cell_type": "code",
   "execution_count": null,
   "metadata": {},
   "outputs": [],
   "source": [
    "# importamos las librerías necesarias para trabajar.\n",
    "import numpy as np\n",
    "import pandas as pd\n",
    "import matplotlib.pyplot as plt\n",
    "import seaborn as sns"
   ]
  },
  {
   "cell_type": "code",
   "execution_count": null,
   "metadata": {},
   "outputs": [],
   "source": [
    "#Una vez que descargamos el dataset procedemos a leerlo\n",
    "obras = pd.read_csv('C:/Users/Mica/Google Drive/Quinto año/Cs de datos/Práctica/obras-iniciadas.csv')\n",
    "#historico = pd.read_csv('C:/Users/Mica/Google Drive/Quinto año/Cs de datos/Práctica/registro-acumulado-historico-de-obras-iniciadas.csv')"
   ]
  },
  {
   "cell_type": "code",
   "execution_count": null,
   "metadata": {},
   "outputs": [],
   "source": [
    "print(f'Shape: {np.shape(obras)}')\n",
    "obras.head(3)"
   ]
  },
  {
   "cell_type": "code",
   "execution_count": null,
   "metadata": {},
   "outputs": [],
   "source": [
    "#print(f'Shape: {np.shape(historico)}')\n",
    "# historico.head(3)"
   ]
  },
  {
   "cell_type": "markdown",
   "metadata": {},
   "source": [
    "## Features de interés\n",
    "\n",
    "- Tipo de obra\n",
    "- Destino\n",
    "- Metros a construir\n",
    "- Ubicación geográfica\n"
   ]
  },
  {
   "cell_type": "markdown",
   "metadata": {},
   "source": [
    "### Limpieza de datos\n",
    "\n",
    "#### Tipo de obra"
   ]
  },
  {
   "cell_type": "code",
   "execution_count": null,
   "metadata": {},
   "outputs": [],
   "source": [
    "tipos_obras = len(obras['tipo_obra'].unique()) # Cantidad de valores unicos \n",
    "\n",
    "print(f'En total hay {tipos_obras} tipos de obras.\"\\r\\n')\n",
    "print(\"\\n\", obras['tipo_obra'].unique())"
   ]
  },
  {
   "cell_type": "code",
   "execution_count": null,
   "metadata": {},
   "outputs": [],
   "source": [
    "# Vamos a analizar las obras cuyo tipo es ' '\n",
    "\n",
    "tipo1=obras.loc[obras['tipo_obra']==' ']\n",
    "tipo1"
   ]
  },
  {
   "cell_type": "code",
   "execution_count": null,
   "metadata": {},
   "outputs": [],
   "source": [
    "# Baaai, no nos interesa, se fue a Disney\n",
    "\n",
    "obras= obras[obras['tipo_obra'] != ' ']\n",
    "\n",
    "# Vamos a ver cómo queda el dataframe, no vaya a ser que borré muchas cosas\n",
    "filas = np.shape(obras)[0] \n",
    "print(f'Filas: {filas}')\n",
    "\n",
    "# Antes de esta limipieza había 7519, estamos bien"
   ]
  },
  {
   "cell_type": "code",
   "execution_count": null,
   "metadata": {},
   "outputs": [],
   "source": [
    "# Vamos a borrar las obras cuyo tipo es 'NaN'\n",
    "\n",
    "obras.dropna(subset=['tipo_obra'], how='any', inplace=True, axis='index')\n",
    "\n",
    "filas = np.shape(obras)[0] \n",
    "print(f'Filas: {filas}')\n",
    "\n",
    "# Hermoso"
   ]
  },
  {
   "cell_type": "code",
   "execution_count": null,
   "metadata": {},
   "outputs": [],
   "source": [
    "# Siguiendo con el tipo de obras, hay varias categorías que están repetidas:\n",
    "# EJ: 'AMPLIACION Y MODIFICACION C/DEMOLICION PARCIAL' y 'AMPLIACIÓN Y MODIFICACIÓN CON DEMOLICIÓN PARCIAL'\n",
    "# Es lo mismo, vamos a unir todas estas cosas raras para que quede más lindo.\n",
    "\n",
    "def clean_row(row):\n",
    "    a= ['AMPLIACION Y MODIFICACION C/DEMOLICION PARCIAL','AMPLIACIÓN Y MODIFICACIÓN CON DEMOLICIÓN PARCIAL']\n",
    "    b= ['DEMOLICIÓN TOTAL Y OBRA NUEVA','DEMOLICION TOTAL Y OBRA NUEVA']\n",
    "    c= ['DEMOLICIÓN TOTAL','DEMOLICION TOTAL']\n",
    "    d= ['Obra media']\n",
    "    e= ['Obra menor']\n",
    "    \n",
    "    if row.tipo_obra in a:\n",
    "        return 'AMPLIACIÓN Y MODIFICACIÓN CON DEMOLICIÓN PARCIAL'\n",
    "    if row.tipo_obra in b:\n",
    "        return 'DEMOLICIÓN TOTAL Y OBRA NUEVA'\n",
    "    if row.tipo_obra in c:\n",
    "        return 'DEMOLICIÓN TOTAL'\n",
    "    if row.tipo_obra in d:\n",
    "        return 'OBRA MEDIA'\n",
    "    if row.tipo_obra in e:\n",
    "        return 'OBRA MENOR'\n",
    "    return row.tipo_obra\n",
    "\n",
    "def clean_df(obras):\n",
    "    obras_cleaned=obras.copy()\n",
    "    obras_cleaned['tipo_obras']=obras_cleaned.apply(lambda row: \n",
    "                                                   clean_row(row),axis=1)\n",
    "    return obras_cleaned\n",
    "\n",
    "obras_cleaned=clean_df(obras)\n",
    "print(obras_cleaned.tipo_obras.unique())\n",
    "\n",
    "# Como vemos, ahora no hay valores repetidos :D"
   ]
  },
  {
   "cell_type": "code",
   "execution_count": null,
   "metadata": {},
   "outputs": [],
   "source": [
    "# No se perdió nada en el camino por suerte\n",
    "\n",
    "np.shape(obras_cleaned)"
   ]
  },
  {
   "cell_type": "markdown",
   "metadata": {},
   "source": [
    "#### Destino"
   ]
  },
  {
   "cell_type": "code",
   "execution_count": null,
   "metadata": {},
   "outputs": [],
   "source": [
    "destino_obras = len(obras['destino'].unique()) # Cantidad de valores unicos \n",
    "\n",
    "print(f'En total hay {destino_obras} tipos de obras.\"\\r\\n')\n",
    "print(\"\\n\", obras['destino'].unique())\n",
    "\n",
    "# LOCO NO PUEDEN ESCRIBIR SIEMPRE IGUAL? LOS ODIO"
   ]
  },
  {
   "cell_type": "code",
   "execution_count": null,
   "metadata": {},
   "outputs": [],
   "source": [
    "# Vamos a ajustar igual que antes\n",
    "\n",
    "def clean_row(row):\n",
    "    a= ['VIVIENDA MULTIFAMILIAR','MULTIVIVIENDA','vivienda multifamiliar',\n",
    "        'VIVIENDAMULTIFAMILIAR','vivienda colectiva','VIVIENDA COLECTIVA',\n",
    "        'Vivienda multifamiliar','Vivienda Multifamiliar','CASA DE DEPARTAMENTO',\n",
    "        'VIVIENDA MULTIFAMILIAR ','Hotel Familiar','Vivienda colectiva',\n",
    "        'Vivienda Colectiva','VIVIENDA MULTI','vivienda mulfifamiliar']    \n",
    "    \n",
    "    b= ['VIVIENDA MULTIFAMILIAR Y ESPACIO GUARDACOCHES','vivienda multifamiliar y estudio profesional',\n",
    "       'VIVIENDA MULTIFAMILIAR CON COCHERAS','VIVIENDA MULTIFAMILIAR Y ESTUDIO PROFESIONAL',\n",
    "       'LOCAL COMERCIAL Y VIVIENDA MULTIFAMILIAR','VIVIENDA MULTIFAMILIAR y LOCAL COMERCIAL',\n",
    "       'Vivenda multifamiliar y cocheras ','VIVIENDA MULTIFAMILIAR Y LOCAL COMERCIAL',\n",
    "       'VIV MULTIFAMILIAR, LOCALES COMERCIALES, ESTUDIOS PROFESIONALES, ESTACIONAMIENTO',\n",
    "       'VIVIENDA MULTIFAMILIAR Y COCHERAS','vivienda multifamiliar con estacionamiento y templo',\n",
    "       'VIVIENDA COLECTIVA Y LOCAL COMERCIAL','VIVIENDA MULTIFAMILIAR - LOCAL COMERCIAL - ESTUDIOS PROFESIONALES',\n",
    "       'vivienda multifamiliar y cocheras','VIVIENDA MULTIFAMILIAR - ESTUDIO PROFESIONAL Y ESPACIO GUARDA COCHE',\n",
    "       'VIVIENDA MULTIFAMILIAR, ESTUDIOS PROFESIONALES Y LOCAL COMERCIAL','VIVIENDA COLECTIVAESTUDIOS PROFESIONALES',\n",
    "       'VIVIENDA MULTIFAMILIAR Y LOCALES COMERCIALES','vivienda multifamiliar y local comercial',\n",
    "       'LOCALES COMERCIALES Y VIVIENDA MULTIFAMILIAR','Vivienda unifamiliar y locales comerciales',\n",
    "       'vivienda multifamiliar - estudios profesionales - espacios guardacoches','VIVIENDA MULTIFAMILIAR, LOCAL COMERCIAL, COCHERAS',\n",
    "       'VIVIENDA COLECTIVA Y LOCALES COMERCIALES','VIVIENDA MULTIFAMILIAR COCHERA','Vivienda multifamiliar y cocheras privadas',\n",
    "       'VIVIENDA MULTIFAMILIAR - LOCAL COMERCIAL - ESTUDIOS PROFESIONALES ','Vivienda multifamiliar y cocheras privadas']\n",
    "    \n",
    "    c= ['VIVIENDA INDIVIDUAL','Vivienda Unifamiliar.-','VIVIENDA','Vivienda Unifamiliar',\n",
    "      'VIVIENDA UNIFAMILIAR','vivienda unifamliar','vivienda unifamiliar','Vivienda unifamiliar',\n",
    "      'Vivienda','vvienda unifamiliar','UNIVIVIENDA','viviendas','Vivienda Unica','vivienda']\n",
    "    \n",
    "    d= ['VIVIENDA INDIVIDUAL Y LOCALES COMERCIALES','LOCAL COMERCIAL CON VIVIENDA']\n",
    "    \n",
    "    e= ['COMERCIO','local comercial','LOCAL COMERCIAL - COMERCIO MINORISTA DE VENTA DE ARTICULOS (EXCLUIDO COMESTIBLES)',\n",
    "       'Local Minorista','LOCAL COMERCIAL','COMERCIAL','Comercio Minorista','Local Comercial',\n",
    "       'Comercio Minorista - Optica y fotografia (1.8.14)  y Oficinas','Locales Comerciales','LOCALES COMERCIALES']\n",
    "    \n",
    "    f= ['Oficinas','oficina y espacio guardcoche','OFICINAS COMERCIALES','oficina publica',\n",
    "       'BANCO Y OFICINAS', 'OFICINAS DE LA CONFERENCIA EPISCOPAL ARGENTINA','Oficinas','oficina y espacio guardcoche',\n",
    "       'oficina publica']\n",
    "    \n",
    "    g= ['test']\n",
    "    \n",
    "    h= ['PLAYA DE ESTACIONAMIENTO ','GARAJE COMERCIAL']\n",
    "    \n",
    "    i= ['DEMOLICION','Demolición','demolicion total','DEMOLICION TOTAL' ]\n",
    "    \n",
    "    j= ['Estudio','ESTUDIOS PROFESIONALES']\n",
    "    \n",
    "    k= ['modificacion y Amplacion']\n",
    "    \n",
    "    l= ['educativo','ESCUELA INFANTIL ESCUELA PRIMARIA']\n",
    "    \n",
    "    m= ['ESTACION DE SERVICIO DE COMBUSTIBLES LIQUIDOS, ESTACION DE SERVICIO DE GNC Y COMERCIO MINORISTA OR SISTEMA DE AUTOSERVICIO']\n",
    "    \n",
    "    n= ['Hotel']\n",
    "    \n",
    "    o= ['Sitio de Telecomunicaciones' ]\n",
    "    \n",
    "    p= ['generacion de energia electricas']\n",
    "    \n",
    "    q= ['Deposito']\n",
    "    \n",
    "    r= ['Obra Nueva']\n",
    "    \n",
    "    \n",
    "    if row.destino in a:\n",
    "        return 'VIV.MULTIFAMILIAR'\n",
    "    if row.destino in b:\n",
    "        return 'VIV.MULTIFAM.COCHERA/LOCAL/ESTUDIOPROF'\n",
    "    if row.destino in c:\n",
    "        return 'VIV.ÚNICA'\n",
    "    if row.destino in d:\n",
    "        return 'VIV.ÚNICA CON LOCAL'\n",
    "    if row.destino in e:\n",
    "        return 'LOCALES COMERCIALES'\n",
    "    if row.destino in f:\n",
    "        return 'OFICINA/BANCO/OF.COMERCIAL/OF.PÚBLICA'\n",
    "    if row.destino in g:\n",
    "        return 'OTROS'\n",
    "    if row.destino in h:\n",
    "        return 'ESTACIONAMIENTO'\n",
    "    if row.destino in i:\n",
    "        return 'DEMOLICION'\n",
    "    if row.destino in j:\n",
    "        return 'ESTUDIOS'\n",
    "    if row.destino in k:\n",
    "        return 'MODIFICACIÓN Y AMPLIACIÓN'\n",
    "    if row.destino in l:\n",
    "        return 'ESTABLECIMIENTO EDUCATIVO'\n",
    "    if row.destino in m:\n",
    "        return 'ESTACIÓN DE SERVICIOS'\n",
    "    if row.destino in n:\n",
    "        return 'HOTEL'\n",
    "    if row.destino in o:\n",
    "        return 'TELECOMUNICACIONES'\n",
    "    if row.destino in p:\n",
    "        return 'GENERACIÓN ENERGÍA'\n",
    "    if row.destino in q:\n",
    "        return 'DEPÓSITO'\n",
    "    if row.destino in r:\n",
    "        return 'OBRA NUEVA'\n",
    "\n",
    "    return row.destino\n",
    "\n",
    "def clean_df(obras):\n",
    "    obras_cleaned=obras.copy()\n",
    "    obras_cleaned['destino']=obras_cleaned.apply(lambda row: \n",
    "                                                   clean_row(row),axis=1)\n",
    "    return obras_cleaned\n",
    "\n",
    "obras_cleaned=clean_df(obras)\n",
    "print(obras_cleaned.destino.unique())\n",
    "\n",
    "# Como vemos, ahora no hay valores repetidos :D"
   ]
  },
  {
   "cell_type": "code",
   "execution_count": null,
   "metadata": {},
   "outputs": [],
   "source": [
    "np.shape(obras_cleaned)"
   ]
  },
  {
   "cell_type": "code",
   "execution_count": null,
   "metadata": {},
   "outputs": [],
   "source": [
    "# Vamos a borrar las obras cuyo tipo es 'NaN'\n",
    "\n",
    "obras_cleaned.dropna(subset=['destino'], how='any', inplace=True, axis='index')\n",
    "\n",
    "filas = np.shape(obras_cleaned)[0] \n",
    "print(f'Filas: {filas}')\n",
    "\n",
    "# Hermoso"
   ]
  },
  {
   "cell_type": "markdown",
   "metadata": {},
   "source": [
    "#### Metros a construir"
   ]
  },
  {
   "cell_type": "code",
   "execution_count": null,
   "metadata": {},
   "outputs": [],
   "source": [
    "# Esta no puede estar mal, no? acordarse que ahora estamos usando el dataframe obras_cleaned\n",
    "\n",
    "obras_cleaned['metros_a_construir'].describe()\n",
    "\n",
    "# Veo que cuenta menos filas que las que tenemos realmente.. eso quiere decir que hay NaNs?\n"
   ]
  },
  {
   "cell_type": "code",
   "execution_count": null,
   "metadata": {},
   "outputs": [],
   "source": [
    "obras_cleaned.isna().sum()"
   ]
  },
  {
   "cell_type": "code",
   "execution_count": null,
   "metadata": {},
   "outputs": [],
   "source": [
    "# Vamos a borrar las obras sin metros a construir\n",
    "\n",
    "obras_cleaned.dropna(subset=['metros_a_construir'], how='any', inplace=True, axis='index')\n",
    "\n",
    "filas = np.shape(obras_cleaned)[0] \n",
    "print(f'Filas: {filas}')\n",
    "\n",
    "# Hermoso, ahora coincide con las que cuenta"
   ]
  },
  {
   "cell_type": "code",
   "execution_count": null,
   "metadata": {},
   "outputs": [],
   "source": [
    "# Probanding plotear en mapa\n",
    "\n",
    "obras.plot(kind='scatter', x='long', y='lat',\n",
    "          cmap=plt.get_cmap(), colorbar=True, alpha=0.5, figsize=(8,8))\n",
    "plt.show()"
   ]
  },
  {
   "cell_type": "code",
   "execution_count": null,
   "metadata": {},
   "outputs": [],
   "source": [
    "obras_cleaned.loc[obras_cleaned['metros_a_construir']==1, 'Banda']='Es un puntito'\n",
    "obras_cleaned.loc[ (obras_cleaned['metros_a_construir']>1) & (obras_cleaned['metros_a_construir'] <=407), 'Banda']='407 m2'\n",
    "obras_cleaned.loc[ (obras_cleaned['metros_a_construir']>407) & (obras_cleaned['metros_a_construir'] <=1086), 'Banda']='1806 m2'\n",
    "obras_cleaned.loc[ (obras_cleaned['metros_a_construir']>1806) & (obras_cleaned['metros_a_construir'] <=2057), 'Banda']='2057 m2'\n",
    "obras_cleaned.loc[ (obras_cleaned['metros_a_construir']>2057) & (obras_cleaned['metros_a_construir'] <=5000), 'Banda']='5000 m2'\n",
    "obras_cleaned.loc[ (obras_cleaned['metros_a_construir']>5000),'Banda']='Media Argentina'\n",
    "\n",
    "ax = sns.countplot(x='destino', data=obras_cleaned)\n",
    "ax.set_xticklabels(ax.get_xticklabels(), rotation=40, ha=\"right\")\n",
    "plt.title(\"Hola\")\n",
    "plt.show()\n",
    "\n"
   ]
  },
  {
   "cell_type": "code",
   "execution_count": null,
   "metadata": {},
   "outputs": [],
   "source": [
    "ax = sns.countplot(x='Banda', data=obras_cleaned)\n",
    "ax.set_xticklabels(ax.get_xticklabels(), rotation=40, ha=\"right\")\n",
    "plt.title(\"Hola\")\n",
    "plt.show()"
   ]
  },
  {
   "cell_type": "code",
   "execution_count": null,
   "metadata": {},
   "outputs": [],
   "source": [
    "barrios = len(obras_cleaned['barrio'].unique()) # Cantidad de valores unicos \n",
    "\n",
    "print(f'En total hay {barrios} tipos de obras.\"\\r\\n')\n",
    "print(\"\\n\", obras['barrio'].unique())\n",
    "\n",
    "# Ahre, horrible esto"
   ]
  },
  {
   "cell_type": "code",
   "execution_count": null,
   "metadata": {},
   "outputs": [],
   "source": [
    "comuna = len(obras_cleaned['codigo_postal'].unique()) # Cantidad de valores unicos \n",
    "\n",
    "print(f'En total hay {comuna} tipos de obras.\"\\r\\n')\n",
    "print(\"\\n\", obras['codigo_postal'].unique())\n",
    "\n",
    "# Bueeeeno, a acomodar again"
   ]
  },
  {
   "cell_type": "code",
   "execution_count": null,
   "metadata": {},
   "outputs": [],
   "source": [
    "# Vamos a borrar las obras sin comuna\n",
    "\n",
    "obras_cleaned.dropna(subset=['codigo_postal'], how='any', inplace=True, axis='index')\n",
    "\n",
    "filas = np.shape(obras_cleaned)[0] \n",
    "print(f'Filas resultantes del dataframe: {filas}')"
   ]
  },
  {
   "cell_type": "code",
   "execution_count": null,
   "metadata": {},
   "outputs": [],
   "source": [
    "# Arreglamos nuñez\n",
    "\n",
    "def clean_row(row):\n",
    "    a=['Nu\\\\u00f1ez']\n",
    "    \n",
    "    if row.codigo_postal in a:\n",
    "        return 'Nuñez'\n",
    "\n",
    "    return row.codigo_postal\n",
    "    \n",
    "def clean_df(obras_cleaned):\n",
    "    obras_cleaned=obras_cleaned.copy()\n",
    "    obras_cleaned['codigo_postal']=obras_cleaned.apply(lambda row: \n",
    "                                                   clean_row(row),axis=1)\n",
    "    return obras_cleaned\n",
    "\n",
    "obras_cleaned=clean_df(obras_cleaned)\n",
    "print(obras_cleaned.codigo_postal.unique())\n",
    "    "
   ]
  },
  {
   "cell_type": "code",
   "execution_count": null,
   "metadata": {},
   "outputs": [],
   "source": [
    "estado= len(obras_cleaned['estado_tramite'].unique()) # Cantidad de valores unicos \n",
    "\n",
    "print(f'En total hay {estado} tipos de obras.\"\\r\\n')\n",
    "print(\"\\n\", obras['estado_tramite'].unique())\n",
    "\n",
    "# Parece joda, pero no se repiten "
   ]
  },
  {
   "cell_type": "code",
   "execution_count": null,
   "metadata": {},
   "outputs": [],
   "source": [
    "sns.FacetGrid(obras_cleaned, hue=\"destino\", height=6, size=(10)) \\\n",
    "   .map(plt.scatter,'metros_a_construir','destino') \\\n",
    "   .add_legend()\n",
    "plt.show()"
   ]
  },
  {
   "cell_type": "markdown",
   "metadata": {},
   "source": [
    "## Objetivo del Proyecto:\n",
    "\n",
    "##### Inferir la probabilidad de que el proyecto sea aprobado en función del destino, columna y m2 ????"
   ]
  }
 ],
 "metadata": {
  "kernelspec": {
   "display_name": "Python 3",
   "language": "python",
   "name": "python3"
  },
  "language_info": {
   "codemirror_mode": {
    "name": "ipython",
    "version": 3
   },
   "file_extension": ".py",
   "mimetype": "text/x-python",
   "name": "python",
   "nbconvert_exporter": "python",
   "pygments_lexer": "ipython3",
   "version": "3.8.3"
  },
  "widgets": {
   "application/vnd.jupyter.widget-state+json": {
    "state": {},
    "version_major": 2,
    "version_minor": 0
   }
  }
 },
 "nbformat": 4,
 "nbformat_minor": 4
}
