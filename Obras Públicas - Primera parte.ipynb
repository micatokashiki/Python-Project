{
 "cells": [
  {
   "cell_type": "markdown",
   "metadata": {},
   "source": [
    "# Práctica inicial \n",
    "## TP integrador - Primera parte\n",
    "### EDA inicial - Obras Públicas (Dataset Provincia Bs. As)\n",
    "#### Grupo_08 - Septiembre 2020"
   ]
  },
  {
   "cell_type": "code",
   "execution_count": 1,
   "metadata": {},
   "outputs": [],
   "source": [
    "# importamos las librerías necesarias para trabajar.\n",
    "import numpy as np\n",
    "import pandas as pd\n",
    "import matplotlib.pyplot as plt\n",
    "import seaborn as sns"
   ]
  },
  {
   "cell_type": "code",
   "execution_count": 2,
   "metadata": {},
   "outputs": [],
   "source": [
    "#Una vez que descargamos el dataset procedemos a leerlo\n",
    "obras = pd.read_csv('observatorio-de-obras-urbanas.csv')"
   ]
  },
  {
   "cell_type": "code",
   "execution_count": 3,
   "metadata": {},
   "outputs": [
    {
     "name": "stdout",
     "output_type": "stream",
     "text": [
      "Tamaño del dataset: (1117, 36)\n"
     ]
    },
    {
     "data": {
      "text/html": [
       "<div>\n",
       "<style scoped>\n",
       "    .dataframe tbody tr th:only-of-type {\n",
       "        vertical-align: middle;\n",
       "    }\n",
       "\n",
       "    .dataframe tbody tr th {\n",
       "        vertical-align: top;\n",
       "    }\n",
       "\n",
       "    .dataframe thead th {\n",
       "        text-align: right;\n",
       "    }\n",
       "</style>\n",
       "<table border=\"1\" class=\"dataframe\">\n",
       "  <thead>\n",
       "    <tr style=\"text-align: right;\">\n",
       "      <th></th>\n",
       "      <th>id</th>\n",
       "      <th>entorno</th>\n",
       "      <th>nombre</th>\n",
       "      <th>etapa</th>\n",
       "      <th>tipo</th>\n",
       "      <th>area_responsable</th>\n",
       "      <th>descripcion</th>\n",
       "      <th>monto_contrato</th>\n",
       "      <th>comuna</th>\n",
       "      <th>barrio</th>\n",
       "      <th>...</th>\n",
       "      <th>beneficiarios</th>\n",
       "      <th>mano_obra</th>\n",
       "      <th>compromiso</th>\n",
       "      <th>destacada</th>\n",
       "      <th>ba_elige</th>\n",
       "      <th>link_interno</th>\n",
       "      <th>pliego_descarga</th>\n",
       "      <th>expediente-numero</th>\n",
       "      <th>estudio_ambiental_descarga</th>\n",
       "      <th>financiamiento</th>\n",
       "    </tr>\n",
       "  </thead>\n",
       "  <tbody>\n",
       "    <tr>\n",
       "      <th>0</th>\n",
       "      <td>1</td>\n",
       "      <td>Plan 54 escuelas</td>\n",
       "      <td>Escuela de Educación Primaria N.° 24 D.E. 15 «...</td>\n",
       "      <td>Finalizada</td>\n",
       "      <td>Escuelas</td>\n",
       "      <td>Ministerio de Educación</td>\n",
       "      <td>Primaria</td>\n",
       "      <td>67065700.0</td>\n",
       "      <td>12.0</td>\n",
       "      <td>Villa Urquiza</td>\n",
       "      <td>...</td>\n",
       "      <td>NaN</td>\n",
       "      <td>NaN</td>\n",
       "      <td>NaN</td>\n",
       "      <td>SI</td>\n",
       "      <td>NaN</td>\n",
       "      <td>https://www.buenosaires.gob.ar/baobras/54-escu...</td>\n",
       "      <td>https://buenosaires.gob.ar/areas/planeamiento_...</td>\n",
       "      <td>914412-MDUGC-2013</td>\n",
       "      <td>NaN</td>\n",
       "      <td>NaN</td>\n",
       "    </tr>\n",
       "    <tr>\n",
       "      <th>1</th>\n",
       "      <td>2</td>\n",
       "      <td>Donado Holmberg</td>\n",
       "      <td>Calle Holmberg: Nivelación en cruce</td>\n",
       "      <td>Finalizada</td>\n",
       "      <td>Espacio Público</td>\n",
       "      <td>Secretaría de Transporte y Obras Públicas</td>\n",
       "      <td>En el marco del proyecto urbano del Barrio Par...</td>\n",
       "      <td>9950017.0</td>\n",
       "      <td>12.0</td>\n",
       "      <td>Villa Urquiza</td>\n",
       "      <td>...</td>\n",
       "      <td>NaN</td>\n",
       "      <td>16.0</td>\n",
       "      <td>NaN</td>\n",
       "      <td>NaN</td>\n",
       "      <td>NaN</td>\n",
       "      <td>https://www.buenosaires.gob.ar/baobras/Donado-...</td>\n",
       "      <td>https://www.buenosaires.gov.ar/areas/planeamie...</td>\n",
       "      <td>5515928/2014</td>\n",
       "      <td>NaN</td>\n",
       "      <td>NaN</td>\n",
       "    </tr>\n",
       "    <tr>\n",
       "      <th>2</th>\n",
       "      <td>3</td>\n",
       "      <td>Área Ambiental Central</td>\n",
       "      <td>Área Ambiental Central: Calles Alsina Y Moreno</td>\n",
       "      <td>Finalizada</td>\n",
       "      <td>Espacio Público</td>\n",
       "      <td>Secretaría de Transporte y Obras Públicas</td>\n",
       "      <td>Se intervinieron los tramos comprendidos entre...</td>\n",
       "      <td>36942632.0</td>\n",
       "      <td>1.0</td>\n",
       "      <td>Montserrat</td>\n",
       "      <td>...</td>\n",
       "      <td>NaN</td>\n",
       "      <td>55.0</td>\n",
       "      <td>SI</td>\n",
       "      <td>NaN</td>\n",
       "      <td>NaN</td>\n",
       "      <td>https://www.buenosaires.gob.ar/baobras/area-am...</td>\n",
       "      <td>https://www.buenosaires.gov.ar/areas/planeamie...</td>\n",
       "      <td>NaN</td>\n",
       "      <td>NaN</td>\n",
       "      <td>NaN</td>\n",
       "    </tr>\n",
       "    <tr>\n",
       "      <th>3</th>\n",
       "      <td>4</td>\n",
       "      <td>Área Ambiental Central</td>\n",
       "      <td>Área Ambiental Central: Calle Esmeralda I</td>\n",
       "      <td>Finalizada</td>\n",
       "      <td>Espacio Público</td>\n",
       "      <td>Secretaría de Transporte y Obras Públicas</td>\n",
       "      <td>La obra incluyó el tramo ubicado entre la Av. ...</td>\n",
       "      <td>26938294.0</td>\n",
       "      <td>1.0</td>\n",
       "      <td>San Nicolás</td>\n",
       "      <td>...</td>\n",
       "      <td>NaN</td>\n",
       "      <td>59.0</td>\n",
       "      <td>SI</td>\n",
       "      <td>NaN</td>\n",
       "      <td>NaN</td>\n",
       "      <td>https://www.buenosaires.gob.ar/baobras/area-am...</td>\n",
       "      <td>https://www.buenosaires.gov.ar/areas/planeamie...</td>\n",
       "      <td>NaN</td>\n",
       "      <td>NaN</td>\n",
       "      <td>NaN</td>\n",
       "    </tr>\n",
       "    <tr>\n",
       "      <th>4</th>\n",
       "      <td>5</td>\n",
       "      <td>Villa Olímpica</td>\n",
       "      <td>Villa Olímpica: Demoliciones en el Parque de l...</td>\n",
       "      <td>Finalizada</td>\n",
       "      <td>Vivienda</td>\n",
       "      <td>Secretaría de Transporte y Obras Públicas</td>\n",
       "      <td>Se realizó las demoliciones de las construccio...</td>\n",
       "      <td>6990315.0</td>\n",
       "      <td>8.0</td>\n",
       "      <td>Villa Soldati</td>\n",
       "      <td>...</td>\n",
       "      <td>NaN</td>\n",
       "      <td>NaN</td>\n",
       "      <td>SI</td>\n",
       "      <td>NaN</td>\n",
       "      <td>NaN</td>\n",
       "      <td>https://www.buenosaires.gob.ar/baobras/villa-o...</td>\n",
       "      <td>https://www.buenosaires.gov.ar/areas/planeamie...</td>\n",
       "      <td>13793268/DGPUYA/2014</td>\n",
       "      <td>NaN</td>\n",
       "      <td>NaN</td>\n",
       "    </tr>\n",
       "  </tbody>\n",
       "</table>\n",
       "<p>5 rows × 36 columns</p>\n",
       "</div>"
      ],
      "text/plain": [
       "   id                 entorno  \\\n",
       "0   1        Plan 54 escuelas   \n",
       "1   2         Donado Holmberg   \n",
       "2   3  Área Ambiental Central   \n",
       "3   4  Área Ambiental Central   \n",
       "4   5          Villa Olímpica   \n",
       "\n",
       "                                              nombre       etapa  \\\n",
       "0  Escuela de Educación Primaria N.° 24 D.E. 15 «...  Finalizada   \n",
       "1                Calle Holmberg: Nivelación en cruce  Finalizada   \n",
       "2     Área Ambiental Central: Calles Alsina Y Moreno  Finalizada   \n",
       "3          Área Ambiental Central: Calle Esmeralda I  Finalizada   \n",
       "4  Villa Olímpica: Demoliciones en el Parque de l...  Finalizada   \n",
       "\n",
       "              tipo                           area_responsable  \\\n",
       "0         Escuelas                    Ministerio de Educación   \n",
       "1  Espacio Público  Secretaría de Transporte y Obras Públicas   \n",
       "2  Espacio Público  Secretaría de Transporte y Obras Públicas   \n",
       "3  Espacio Público  Secretaría de Transporte y Obras Públicas   \n",
       "4         Vivienda  Secretaría de Transporte y Obras Públicas   \n",
       "\n",
       "                                         descripcion  monto_contrato  comuna  \\\n",
       "0                                           Primaria      67065700.0    12.0   \n",
       "1  En el marco del proyecto urbano del Barrio Par...       9950017.0    12.0   \n",
       "2  Se intervinieron los tramos comprendidos entre...      36942632.0     1.0   \n",
       "3  La obra incluyó el tramo ubicado entre la Av. ...      26938294.0     1.0   \n",
       "4  Se realizó las demoliciones de las construccio...       6990315.0     8.0   \n",
       "\n",
       "          barrio  ... beneficiarios  mano_obra  compromiso destacada ba_elige  \\\n",
       "0  Villa Urquiza  ...           NaN        NaN         NaN        SI      NaN   \n",
       "1  Villa Urquiza  ...           NaN       16.0         NaN       NaN      NaN   \n",
       "2     Montserrat  ...           NaN       55.0          SI       NaN      NaN   \n",
       "3    San Nicolás  ...           NaN       59.0          SI       NaN      NaN   \n",
       "4  Villa Soldati  ...           NaN        NaN          SI       NaN      NaN   \n",
       "\n",
       "                                        link_interno  \\\n",
       "0  https://www.buenosaires.gob.ar/baobras/54-escu...   \n",
       "1  https://www.buenosaires.gob.ar/baobras/Donado-...   \n",
       "2  https://www.buenosaires.gob.ar/baobras/area-am...   \n",
       "3  https://www.buenosaires.gob.ar/baobras/area-am...   \n",
       "4  https://www.buenosaires.gob.ar/baobras/villa-o...   \n",
       "\n",
       "                                     pliego_descarga     expediente-numero  \\\n",
       "0  https://buenosaires.gob.ar/areas/planeamiento_...     914412-MDUGC-2013   \n",
       "1  https://www.buenosaires.gov.ar/areas/planeamie...          5515928/2014   \n",
       "2  https://www.buenosaires.gov.ar/areas/planeamie...                   NaN   \n",
       "3  https://www.buenosaires.gov.ar/areas/planeamie...                   NaN   \n",
       "4  https://www.buenosaires.gov.ar/areas/planeamie...  13793268/DGPUYA/2014   \n",
       "\n",
       "  estudio_ambiental_descarga financiamiento  \n",
       "0                        NaN            NaN  \n",
       "1                        NaN            NaN  \n",
       "2                        NaN            NaN  \n",
       "3                        NaN            NaN  \n",
       "4                        NaN            NaN  \n",
       "\n",
       "[5 rows x 36 columns]"
      ]
     },
     "execution_count": 3,
     "metadata": {},
     "output_type": "execute_result"
    }
   ],
   "source": [
    "# Como siempre vemos las dimensiones e imprimimos las primeras líneas\n",
    "print(f'Tamaño del dataset: {np.shape(obras)}')\n",
    "obras.head()"
   ]
  },
  {
   "cell_type": "markdown",
   "metadata": {},
   "source": [
    "## Objetivo del Proyecto:\n",
    "### Alt. 1: Predicción en función del barrio y el tipo de obra a realizar, el monto del contrato\n",
    "### Alt. 2: Predicción en función del tipo de obra y monto de contrato, el tiempo de realización\n",
    "\n",
    "#### Primera parte, EDA y pre-procesamiento de datos"
   ]
  },
  {
   "cell_type": "code",
   "execution_count": null,
   "metadata": {},
   "outputs": [],
   "source": [
    "# Procedemos a visualizar correctamente todas las columnas del dataset y guardamos en una variable llamada columnas\n",
    "columnas = obras.columns\n",
    "columnas"
   ]
  },
  {
   "cell_type": "code",
   "execution_count": null,
   "metadata": {
    "scrolled": true
   },
   "outputs": [],
   "source": [
    "# Queremos conocer si alguna de las columnas posee valores nulos.\n",
    "# En caso de ser variables de interés, procederemos a explorarlas\n",
    "obras.isnull().sum()\n",
    "\n"
   ]
  },
  {
   "cell_type": "code",
   "execution_count": null,
   "metadata": {},
   "outputs": [],
   "source": [
    "# Vemos cantidad y % de NaN por columna.\n",
    "# El dato de % nos va a servir a la hora de tomar la decisión de borrar o no filas con NaNs.\n",
    "total = obras.isnull().sum().sort_values(ascending=False)\n",
    "percent = (obras.isnull().sum()/obras.isnull().count()).sort_values(ascending=False)\n",
    "missing_data = pd.concat([total, percent], axis=1, keys=['Total', 'Percent'])\n",
    "missing_data"
   ]
  },
  {
   "cell_type": "markdown",
   "metadata": {},
   "source": [
    "## Variables de interés a analizar:\n",
    "- Etapa\n",
    "- Tipo\n",
    "- Monto del contrato\n",
    "- Barrio\n",
    "- Latitud\n",
    "- Longitud\n",
    "- Plazo en meses"
   ]
  },
  {
   "cell_type": "markdown",
   "metadata": {},
   "source": [
    "### Etapa"
   ]
  },
  {
   "cell_type": "code",
   "execution_count": 7,
   "metadata": {},
   "outputs": [
    {
     "name": "stdout",
     "output_type": "stream",
     "text": [
      "En total hay 5 etapas de obras.\"\r\n",
      "\n",
      "\n",
      " ['Finalizada' 'En ejecución' 'En proyecto' 'En licitación' 'En Ejecución']\n"
     ]
    }
   ],
   "source": [
    "# En primer lugar, analizaremos la feature \"etapa\"\n",
    "# Comenzaremos analizando cómo vienen dados los valores, para ver si es necesario procesarlos\n",
    "etapas= len(obras['etapa'].unique()) \n",
    "print(f'En total hay {etapas} etapas de obras.\"\\r\\n')\n",
    "print(\"\\n\", obras['etapa'].unique())"
   ]
  },
  {
   "cell_type": "code",
   "execution_count": 8,
   "metadata": {},
   "outputs": [
    {
     "name": "stdout",
     "output_type": "stream",
     "text": [
      "['Finalizada' 'En ejecución' 'En licitación']\n"
     ]
    }
   ],
   "source": [
    "# Agruparemos en ejecución, en licitación y en proyecto, ya que para el caso, pueden ser consideradas similares:\n",
    "\n",
    "def clean_row(row):\n",
    "    a= ['En ejecución','En proyecto','En Ejecución']\n",
    "    \n",
    "    if row.etapa in a:\n",
    "        return 'En ejecución'\n",
    "    return row.etapa\n",
    "\n",
    "def clean_df(obras):\n",
    "    obras_cleaned=obras.copy()\n",
    "    obras_cleaned['etapa']=obras_cleaned.apply(lambda row: \n",
    "                                                   clean_row(row),axis=1)\n",
    "    return obras_cleaned\n",
    "\n",
    "obras_cleaned=clean_df(obras)\n",
    "print(obras_cleaned.etapa.unique())\n",
    "\n",
    "# Con esto ya queda ok, porque como vimos antes, no hay ninguna sample sin estapa"
   ]
  },
  {
   "cell_type": "code",
   "execution_count": 9,
   "metadata": {},
   "outputs": [
    {
     "data": {
      "image/png": "[encoded data removed]",
      "text/plain": [
       "<Figure size 432x288 with 1 Axes>"
      ]
     },
     "metadata": {
      "needs_background": "light"
     },
     "output_type": "display_data"
    }
   ],
   "source": [
    "# Visualizamos rápidamente con un countplot\n",
    "\n",
    "ax = sns.countplot(x='etapa', \n",
    "                   data=obras_cleaned, \n",
    "                   palette='spring',\n",
    "                   alpha=0.8)\n",
    "ax.set_xticklabels(ax.get_xticklabels(), rotation=40, ha=\"right\")\n",
    "plt.title('Contador etapas de estado de la obra')\n",
    "plt.show()\n",
    "\n",
    "# Vemos que el grueso de los samples ya están finalizados"
   ]
  },
  {
   "cell_type": "markdown",
   "metadata": {},
   "source": [
    "### Tipo"
   ]
  },
  {
   "cell_type": "code",
   "execution_count": 10,
   "metadata": {},
   "outputs": [
    {
     "name": "stdout",
     "output_type": "stream",
     "text": [
      "En total hay 7 tipos de obras.\"\r\n",
      "\n",
      "\n",
      " ['Escuelas' 'Espacio Público' 'Vivienda' 'Hidráulica e Infraestructura'\n",
      " 'Arquitectura' 'Transporte' 'Salud']\n"
     ]
    }
   ],
   "source": [
    "# Analizamos la cantidad de valores únicos en el feature de tipo de obra\n",
    "tipos_obras = len(obras['tipo'].unique()) \n",
    "print(f'En total hay {tipos_obras} tipos de obras.\"\\r\\n')\n",
    "print(\"\\n\", obras['tipo'].unique())"
   ]
  },
  {
   "cell_type": "code",
   "execution_count": 11,
   "metadata": {},
   "outputs": [
    {
     "data": {
      "image/png": "[encoded data removed]",
      "text/plain": [
       "<Figure size 432x288 with 1 Axes>"
      ]
     },
     "metadata": {
      "needs_background": "light"
     },
     "output_type": "display_data"
    }
   ],
   "source": [
    "# En este caso no es necesario re agrupar los valores únicos\n",
    "# Y tampoco se requiere de análisis de NaNs, pero vamos a graficar para comenzar a visualizar:\n",
    "ax = sns.countplot(x='tipo', \n",
    "                   data=obras,\n",
    "                   palette='spring')\n",
    "ax.set_xticklabels(ax.get_xticklabels(), rotation=40, ha=\"right\")\n",
    "plt.title(\"Contador de tipos de obras\")\n",
    "plt.show()"
   ]
  },
  {
   "cell_type": "code",
   "execution_count": 12,
   "metadata": {},
   "outputs": [
    {
     "data": {
      "text/html": [
       "<div>\n",
       "<style scoped>\n",
       "    .dataframe tbody tr th:only-of-type {\n",
       "        vertical-align: middle;\n",
       "    }\n",
       "\n",
       "    .dataframe tbody tr th {\n",
       "        vertical-align: top;\n",
       "    }\n",
       "\n",
       "    .dataframe thead th {\n",
       "        text-align: right;\n",
       "    }\n",
       "</style>\n",
       "<table border=\"1\" class=\"dataframe\">\n",
       "  <thead>\n",
       "    <tr style=\"text-align: right;\">\n",
       "      <th></th>\n",
       "      <th>count</th>\n",
       "      <th>mean</th>\n",
       "      <th>std</th>\n",
       "      <th>min</th>\n",
       "      <th>25%</th>\n",
       "      <th>50%</th>\n",
       "      <th>75%</th>\n",
       "      <th>max</th>\n",
       "    </tr>\n",
       "    <tr>\n",
       "      <th>tipo</th>\n",
       "      <th></th>\n",
       "      <th></th>\n",
       "      <th></th>\n",
       "      <th></th>\n",
       "      <th></th>\n",
       "      <th></th>\n",
       "      <th></th>\n",
       "      <th></th>\n",
       "    </tr>\n",
       "  </thead>\n",
       "  <tbody>\n",
       "    <tr>\n",
       "      <th>Arquitectura</th>\n",
       "      <td>194</td>\n",
       "      <td>47439458</td>\n",
       "      <td>169470659</td>\n",
       "      <td>146589</td>\n",
       "      <td>1247909</td>\n",
       "      <td>4061973</td>\n",
       "      <td>15350381</td>\n",
       "      <td>1389607260</td>\n",
       "    </tr>\n",
       "    <tr>\n",
       "      <th>Escuelas</th>\n",
       "      <td>207</td>\n",
       "      <td>19057011</td>\n",
       "      <td>57600108</td>\n",
       "      <td>47514</td>\n",
       "      <td>1119533</td>\n",
       "      <td>2991264</td>\n",
       "      <td>12057331</td>\n",
       "      <td>697650207</td>\n",
       "    </tr>\n",
       "    <tr>\n",
       "      <th>Espacio Público</th>\n",
       "      <td>356</td>\n",
       "      <td>19830220</td>\n",
       "      <td>59924315</td>\n",
       "      <td>56103</td>\n",
       "      <td>2569173</td>\n",
       "      <td>7619702</td>\n",
       "      <td>19941790</td>\n",
       "      <td>903283412</td>\n",
       "    </tr>\n",
       "    <tr>\n",
       "      <th>Hidráulica e Infraestructura</th>\n",
       "      <td>86</td>\n",
       "      <td>66164597</td>\n",
       "      <td>314760879</td>\n",
       "      <td>104574</td>\n",
       "      <td>946206</td>\n",
       "      <td>3470637</td>\n",
       "      <td>41492140</td>\n",
       "      <td>2893118429</td>\n",
       "    </tr>\n",
       "    <tr>\n",
       "      <th>Salud</th>\n",
       "      <td>105</td>\n",
       "      <td>22090619</td>\n",
       "      <td>39856387</td>\n",
       "      <td>241731</td>\n",
       "      <td>2828072</td>\n",
       "      <td>7489486</td>\n",
       "      <td>19060730</td>\n",
       "      <td>296735562</td>\n",
       "    </tr>\n",
       "    <tr>\n",
       "      <th>Transporte</th>\n",
       "      <td>33</td>\n",
       "      <td>558305555</td>\n",
       "      <td>922219981</td>\n",
       "      <td>1741124</td>\n",
       "      <td>40185440</td>\n",
       "      <td>114299267</td>\n",
       "      <td>266717844</td>\n",
       "      <td>3183200000</td>\n",
       "    </tr>\n",
       "    <tr>\n",
       "      <th>Vivienda</th>\n",
       "      <td>66</td>\n",
       "      <td>156850269</td>\n",
       "      <td>250527395</td>\n",
       "      <td>245946</td>\n",
       "      <td>22766531</td>\n",
       "      <td>102350323</td>\n",
       "      <td>195953091</td>\n",
       "      <td>1624752066</td>\n",
       "    </tr>\n",
       "  </tbody>\n",
       "</table>\n",
       "</div>"
      ],
      "text/plain": [
       "                              count       mean        std      min       25%  \\\n",
       "tipo                                                                           \n",
       "Arquitectura                    194   47439458  169470659   146589   1247909   \n",
       "Escuelas                        207   19057011   57600108    47514   1119533   \n",
       "Espacio Público                 356   19830220   59924315    56103   2569173   \n",
       "Hidráulica e Infraestructura     86   66164597  314760879   104574    946206   \n",
       "Salud                           105   22090619   39856387   241731   2828072   \n",
       "Transporte                       33  558305555  922219981  1741124  40185440   \n",
       "Vivienda                         66  156850269  250527395   245946  22766531   \n",
       "\n",
       "                                    50%        75%         max  \n",
       "tipo                                                            \n",
       "Arquitectura                    4061973   15350381  1389607260  \n",
       "Escuelas                        2991264   12057331   697650207  \n",
       "Espacio Público                 7619702   19941790   903283412  \n",
       "Hidráulica e Infraestructura    3470637   41492140  2893118429  \n",
       "Salud                           7489486   19060730   296735562  \n",
       "Transporte                    114299267  266717844  3183200000  \n",
       "Vivienda                      102350323  195953091  1624752066  "
      ]
     },
     "execution_count": 12,
     "metadata": {},
     "output_type": "execute_result"
    }
   ],
   "source": [
    "obras_cleaned.groupby('tipo')['monto_contrato'].describe().astype('int64')"
   ]
  },
  {
   "cell_type": "code",
   "execution_count": 22,
   "metadata": {},
   "outputs": [
    {
     "data": {
      "text/html": [
       "<div>\n",
       "<style scoped>\n",
       "    .dataframe tbody tr th:only-of-type {\n",
       "        vertical-align: middle;\n",
       "    }\n",
       "\n",
       "    .dataframe tbody tr th {\n",
       "        vertical-align: top;\n",
       "    }\n",
       "\n",
       "    .dataframe thead th {\n",
       "        text-align: right;\n",
       "    }\n",
       "</style>\n",
       "<table border=\"1\" class=\"dataframe\">\n",
       "  <thead>\n",
       "    <tr style=\"text-align: right;\">\n",
       "      <th></th>\n",
       "      <th>count</th>\n",
       "      <th>mean</th>\n",
       "      <th>std</th>\n",
       "      <th>min</th>\n",
       "      <th>25%</th>\n",
       "      <th>50%</th>\n",
       "      <th>75%</th>\n",
       "      <th>max</th>\n",
       "    </tr>\n",
       "    <tr>\n",
       "      <th>tipo</th>\n",
       "      <th></th>\n",
       "      <th></th>\n",
       "      <th></th>\n",
       "      <th></th>\n",
       "      <th></th>\n",
       "      <th></th>\n",
       "      <th></th>\n",
       "      <th></th>\n",
       "    </tr>\n",
       "  </thead>\n",
       "  <tbody>\n",
       "    <tr>\n",
       "      <th>Arquitectura</th>\n",
       "      <td>201</td>\n",
       "      <td>47683086</td>\n",
       "      <td>166483473</td>\n",
       "      <td>146589</td>\n",
       "      <td>1276501</td>\n",
       "      <td>4288880</td>\n",
       "      <td>18884253</td>\n",
       "      <td>1389607260</td>\n",
       "    </tr>\n",
       "    <tr>\n",
       "      <th>Escuelas</th>\n",
       "      <td>245</td>\n",
       "      <td>24544216</td>\n",
       "      <td>54458787</td>\n",
       "      <td>47514</td>\n",
       "      <td>1493450</td>\n",
       "      <td>4719903</td>\n",
       "      <td>44355506</td>\n",
       "      <td>697650207</td>\n",
       "    </tr>\n",
       "    <tr>\n",
       "      <th>Espacio Público</th>\n",
       "      <td>364</td>\n",
       "      <td>20590766</td>\n",
       "      <td>59477691</td>\n",
       "      <td>56103</td>\n",
       "      <td>2616426</td>\n",
       "      <td>8118505</td>\n",
       "      <td>20604073</td>\n",
       "      <td>903283412</td>\n",
       "    </tr>\n",
       "    <tr>\n",
       "      <th>Hidráulica e Infraestructura</th>\n",
       "      <td>95</td>\n",
       "      <td>65053375</td>\n",
       "      <td>299333406</td>\n",
       "      <td>104574</td>\n",
       "      <td>988678</td>\n",
       "      <td>4500081</td>\n",
       "      <td>54435039</td>\n",
       "      <td>2893118429</td>\n",
       "    </tr>\n",
       "    <tr>\n",
       "      <th>Salud</th>\n",
       "      <td>108</td>\n",
       "      <td>22989075</td>\n",
       "      <td>39654888</td>\n",
       "      <td>241731</td>\n",
       "      <td>2873438</td>\n",
       "      <td>7799631</td>\n",
       "      <td>22750437</td>\n",
       "      <td>296735562</td>\n",
       "    </tr>\n",
       "    <tr>\n",
       "      <th>Transporte</th>\n",
       "      <td>36</td>\n",
       "      <td>516316345</td>\n",
       "      <td>893050235</td>\n",
       "      <td>1741124</td>\n",
       "      <td>45054563</td>\n",
       "      <td>100756228</td>\n",
       "      <td>254104461</td>\n",
       "      <td>3183200000</td>\n",
       "    </tr>\n",
       "    <tr>\n",
       "      <th>Vivienda</th>\n",
       "      <td>68</td>\n",
       "      <td>153838056</td>\n",
       "      <td>247374850</td>\n",
       "      <td>245946</td>\n",
       "      <td>23921465</td>\n",
       "      <td>93104968</td>\n",
       "      <td>184779274</td>\n",
       "      <td>1624752066</td>\n",
       "    </tr>\n",
       "  </tbody>\n",
       "</table>\n",
       "</div>"
      ],
      "text/plain": [
       "                              count       mean        std      min       25%  \\\n",
       "tipo                                                                           \n",
       "Arquitectura                    201   47683086  166483473   146589   1276501   \n",
       "Escuelas                        245   24544216   54458787    47514   1493450   \n",
       "Espacio Público                 364   20590766   59477691    56103   2616426   \n",
       "Hidráulica e Infraestructura     95   65053375  299333406   104574    988678   \n",
       "Salud                           108   22989075   39654888   241731   2873438   \n",
       "Transporte                       36  516316345  893050235  1741124  45054563   \n",
       "Vivienda                         68  153838056  247374850   245946  23921465   \n",
       "\n",
       "                                    50%        75%         max  \n",
       "tipo                                                            \n",
       "Arquitectura                    4288880   18884253  1389607260  \n",
       "Escuelas                        4719903   44355506   697650207  \n",
       "Espacio Público                 8118505   20604073   903283412  \n",
       "Hidráulica e Infraestructura    4500081   54435039  2893118429  \n",
       "Salud                           7799631   22750437   296735562  \n",
       "Transporte                    100756228  254104461  3183200000  \n",
       "Vivienda                       93104968  184779274  1624752066  "
      ]
     },
     "execution_count": 22,
     "metadata": {},
     "output_type": "execute_result"
    }
   ],
   "source": [
    "obras_cleaned.groupby('tipo')['percentil90'].describe().astype('int64')"
   ]
  },
  {
   "cell_type": "code",
   "execution_count": 13,
   "metadata": {},
   "outputs": [],
   "source": [
    "# Dan todos mal"
   ]
  },
  {
   "cell_type": "code",
   "execution_count": 14,
   "metadata": {},
   "outputs": [
    {
     "data": {
      "text/plain": [
       "(1117, 36)"
      ]
     },
     "execution_count": 14,
     "metadata": {},
     "output_type": "execute_result"
    }
   ],
   "source": [
    "obras_cleaned.shape"
   ]
  },
  {
   "cell_type": "code",
   "execution_count": null,
   "metadata": {},
   "outputs": [],
   "source": [
    "#percentil_90 = obras_cleaned.groupby('tipo')['monto_contrato'].quantile(0.90)"
   ]
  },
  {
   "cell_type": "code",
   "execution_count": null,
   "metadata": {},
   "outputs": [],
   "source": [
    "#percentil_90 = percentil_90.astype(str)"
   ]
  },
  {
   "cell_type": "code",
   "execution_count": 18,
   "metadata": {},
   "outputs": [],
   "source": [
    "# Feature engineering\n",
    "obras_cleaned['percentil90'] = obras_cleaned['monto_contrato'].fillna(54435039)"
   ]
  },
  {
   "cell_type": "code",
   "execution_count": null,
   "metadata": {},
   "outputs": [],
   "source": [
    "#obras_arquitectura = obras_cleaned.loc[obras_cleaned['tipo'] == 'Arquitectura']"
   ]
  },
  {
   "cell_type": "code",
   "execution_count": null,
   "metadata": {},
   "outputs": [],
   "source": [
    "#obras_cleaned['percentil90'] = obras_cleaned['monto_contrato'].fillna(10)"
   ]
  },
  {
   "cell_type": "code",
   "execution_count": 20,
   "metadata": {},
   "outputs": [
    {
     "data": {
      "text/html": [
       "<div>\n",
       "<style scoped>\n",
       "    .dataframe tbody tr th:only-of-type {\n",
       "        vertical-align: middle;\n",
       "    }\n",
       "\n",
       "    .dataframe tbody tr th {\n",
       "        vertical-align: top;\n",
       "    }\n",
       "\n",
       "    .dataframe thead th {\n",
       "        text-align: right;\n",
       "    }\n",
       "</style>\n",
       "<table border=\"1\" class=\"dataframe\">\n",
       "  <thead>\n",
       "    <tr style=\"text-align: right;\">\n",
       "      <th></th>\n",
       "      <th>count</th>\n",
       "      <th>mean</th>\n",
       "      <th>std</th>\n",
       "      <th>min</th>\n",
       "      <th>25%</th>\n",
       "      <th>50%</th>\n",
       "      <th>75%</th>\n",
       "      <th>max</th>\n",
       "    </tr>\n",
       "    <tr>\n",
       "      <th>tipo</th>\n",
       "      <th></th>\n",
       "      <th></th>\n",
       "      <th></th>\n",
       "      <th></th>\n",
       "      <th></th>\n",
       "      <th></th>\n",
       "      <th></th>\n",
       "      <th></th>\n",
       "    </tr>\n",
       "  </thead>\n",
       "  <tbody>\n",
       "    <tr>\n",
       "      <th>Arquitectura</th>\n",
       "      <td>201</td>\n",
       "      <td>47683086</td>\n",
       "      <td>166483473</td>\n",
       "      <td>146589</td>\n",
       "      <td>1276501</td>\n",
       "      <td>4288880</td>\n",
       "      <td>18884253</td>\n",
       "      <td>1389607260</td>\n",
       "    </tr>\n",
       "    <tr>\n",
       "      <th>Escuelas</th>\n",
       "      <td>245</td>\n",
       "      <td>24544216</td>\n",
       "      <td>54458787</td>\n",
       "      <td>47514</td>\n",
       "      <td>1493450</td>\n",
       "      <td>4719903</td>\n",
       "      <td>44355506</td>\n",
       "      <td>697650207</td>\n",
       "    </tr>\n",
       "    <tr>\n",
       "      <th>Espacio Público</th>\n",
       "      <td>364</td>\n",
       "      <td>20590766</td>\n",
       "      <td>59477691</td>\n",
       "      <td>56103</td>\n",
       "      <td>2616426</td>\n",
       "      <td>8118505</td>\n",
       "      <td>20604073</td>\n",
       "      <td>903283412</td>\n",
       "    </tr>\n",
       "    <tr>\n",
       "      <th>Hidráulica e Infraestructura</th>\n",
       "      <td>95</td>\n",
       "      <td>65053375</td>\n",
       "      <td>299333406</td>\n",
       "      <td>104574</td>\n",
       "      <td>988678</td>\n",
       "      <td>4500081</td>\n",
       "      <td>54435039</td>\n",
       "      <td>2893118429</td>\n",
       "    </tr>\n",
       "    <tr>\n",
       "      <th>Salud</th>\n",
       "      <td>108</td>\n",
       "      <td>22989075</td>\n",
       "      <td>39654888</td>\n",
       "      <td>241731</td>\n",
       "      <td>2873438</td>\n",
       "      <td>7799631</td>\n",
       "      <td>22750437</td>\n",
       "      <td>296735562</td>\n",
       "    </tr>\n",
       "    <tr>\n",
       "      <th>Transporte</th>\n",
       "      <td>36</td>\n",
       "      <td>516316345</td>\n",
       "      <td>893050235</td>\n",
       "      <td>1741124</td>\n",
       "      <td>45054563</td>\n",
       "      <td>100756228</td>\n",
       "      <td>254104461</td>\n",
       "      <td>3183200000</td>\n",
       "    </tr>\n",
       "    <tr>\n",
       "      <th>Vivienda</th>\n",
       "      <td>68</td>\n",
       "      <td>153838056</td>\n",
       "      <td>247374850</td>\n",
       "      <td>245946</td>\n",
       "      <td>23921465</td>\n",
       "      <td>93104968</td>\n",
       "      <td>184779274</td>\n",
       "      <td>1624752066</td>\n",
       "    </tr>\n",
       "  </tbody>\n",
       "</table>\n",
       "</div>"
      ],
      "text/plain": [
       "                              count       mean        std      min       25%  \\\n",
       "tipo                                                                           \n",
       "Arquitectura                    201   47683086  166483473   146589   1276501   \n",
       "Escuelas                        245   24544216   54458787    47514   1493450   \n",
       "Espacio Público                 364   20590766   59477691    56103   2616426   \n",
       "Hidráulica e Infraestructura     95   65053375  299333406   104574    988678   \n",
       "Salud                           108   22989075   39654888   241731   2873438   \n",
       "Transporte                       36  516316345  893050235  1741124  45054563   \n",
       "Vivienda                         68  153838056  247374850   245946  23921465   \n",
       "\n",
       "                                    50%        75%         max  \n",
       "tipo                                                            \n",
       "Arquitectura                    4288880   18884253  1389607260  \n",
       "Escuelas                        4719903   44355506   697650207  \n",
       "Espacio Público                 8118505   20604073   903283412  \n",
       "Hidráulica e Infraestructura    4500081   54435039  2893118429  \n",
       "Salud                           7799631   22750437   296735562  \n",
       "Transporte                    100756228  254104461  3183200000  \n",
       "Vivienda                       93104968  184779274  1624752066  "
      ]
     },
     "execution_count": 20,
     "metadata": {},
     "output_type": "execute_result"
    }
   ],
   "source": [
    "obras_cleaned.groupby('tipo')['percentil90'].describe().astype('int64')"
   ]
  },
  {
   "cell_type": "code",
   "execution_count": 21,
   "metadata": {},
   "outputs": [
    {
     "data": {
      "text/plain": [
       "id                               0\n",
       "entorno                          2\n",
       "nombre                           0\n",
       "etapa                            0\n",
       "tipo                             0\n",
       "area_responsable                 0\n",
       "descripcion                     38\n",
       "monto_contrato                  70\n",
       "comuna                           7\n",
       "barrio                           6\n",
       "direccion                       99\n",
       "lat                              9\n",
       "lng                              9\n",
       "fecha_inicio                    51\n",
       "fecha_fin_inicial               30\n",
       "plazo_meses                    100\n",
       "porcentaje_avance                0\n",
       "imagen_1                        49\n",
       "imagen_2                       451\n",
       "imagen_3                       664\n",
       "imagen_4                       825\n",
       "licitacion_oferta_empresa       72\n",
       "licitacion_anio                358\n",
       "contratacion_tipo              778\n",
       "nro_contratacion               874\n",
       "cuit_contratista               328\n",
       "beneficiarios                  922\n",
       "mano_obra                      864\n",
       "compromiso                     800\n",
       "destacada                     1084\n",
       "ba_elige                      1111\n",
       "link_interno                    27\n",
       "pliego_descarga                346\n",
       "expediente-numero              872\n",
       "estudio_ambiental_descarga    1069\n",
       "financiamiento                1111\n",
       "percentil90                      0\n",
       "dtype: int64"
      ]
     },
     "execution_count": 21,
     "metadata": {},
     "output_type": "execute_result"
    }
   ],
   "source": [
    "obras_cleaned.isnull().sum()"
   ]
  },
  {
   "cell_type": "code",
   "execution_count": null,
   "metadata": {},
   "outputs": [],
   "source": [
    "obras_escuelas = obras_cleaned.loc[obras_cleaned['tipo'] == 'Escuelas']"
   ]
  },
  {
   "cell_type": "code",
   "execution_count": null,
   "metadata": {},
   "outputs": [],
   "source": []
  },
  {
   "cell_type": "code",
   "execution_count": null,
   "metadata": {},
   "outputs": [],
   "source": []
  },
  {
   "cell_type": "code",
   "execution_count": null,
   "metadata": {},
   "outputs": [],
   "source": []
  },
  {
   "cell_type": "markdown",
   "metadata": {},
   "source": [
    "### Monto del contrato "
   ]
  },
  {
   "cell_type": "code",
   "execution_count": null,
   "metadata": {},
   "outputs": [],
   "source": [
    "# Hay algunos NaNs también, se van\n",
    "\n",
    "obras_cleaned.dropna(subset=['monto_contrato'], how='any', inplace=True, axis='index')\n",
    "filas2 = np.shape(obras_cleaned)[0] \n",
    "print(f'Filas: {filas2}')"
   ]
  },
  {
   "cell_type": "code",
   "execution_count": 15,
   "metadata": {},
   "outputs": [
    {
     "data": {
      "text/plain": [
       "count          1047\n",
       "mean       54435039\n",
       "std       233990588\n",
       "min           47514\n",
       "25%         1760971\n",
       "50%         6495745\n",
       "75%        24848133\n",
       "max     -2147483648\n",
       "Name: monto_contrato, dtype: int32"
      ]
     },
     "execution_count": 15,
     "metadata": {},
     "output_type": "execute_result"
    }
   ],
   "source": [
    "# Para esta feature, nos interesan más los datos descriptivos de los valores registrados\n",
    "\n",
    "obras_cleaned['monto_contrato'].describe().astype('int')\n",
    "\n",
    "# Nuestro valor máximo es negativo?? Está chequeado?"
   ]
  },
  {
   "cell_type": "code",
   "execution_count": 16,
   "metadata": {},
   "outputs": [
    {
     "data": {
      "text/plain": [
       "tipo\n",
       "Arquitectura                    1389607260\n",
       "Escuelas                         697650207\n",
       "Espacio Público                  903283412\n",
       "Hidráulica e Infraestructura    2893118429\n",
       "Salud                            296735562\n",
       "Transporte                      3183200000\n",
       "Vivienda                        1624752066\n",
       "Name: monto_contrato, dtype: int64"
      ]
     },
     "execution_count": 16,
     "metadata": {},
     "output_type": "execute_result"
    }
   ],
   "source": [
    "# Dont worry, era una cuestión del int\n",
    "\n",
    "obras_cleaned.groupby('tipo')['monto_contrato'].aggregate('max').astype('int64')\n"
   ]
  },
  {
   "cell_type": "code",
   "execution_count": 17,
   "metadata": {},
   "outputs": [
    {
     "data": {
      "text/plain": [
       "count          1047\n",
       "mean       54435039\n",
       "std       233990588\n",
       "min           47514\n",
       "25%         1760971\n",
       "50%         6495745\n",
       "75%        24848133\n",
       "max      3183200000\n",
       "Name: monto_contrato, dtype: int64"
      ]
     },
     "execution_count": 17,
     "metadata": {},
     "output_type": "execute_result"
    }
   ],
   "source": [
    "# Va de nuevo:\n",
    "\n",
    "obras_cleaned['monto_contrato'].describe().astype('int64')\n",
    "\n",
    "# Ahora seee"
   ]
  },
  {
   "cell_type": "code",
   "execution_count": null,
   "metadata": {},
   "outputs": [],
   "source": [
    "# Según entendí al tener un std mayor a la media hay un sesgo, deberíamos ver qué onda los outliers\n",
    "\n",
    "percentil_90 = obras_cleaned['monto_contrato'].quantile(0.90)"
   ]
  },
  {
   "cell_type": "code",
   "execution_count": null,
   "metadata": {},
   "outputs": [],
   "source": [
    "percentil_90.astype(int)"
   ]
  },
  {
   "cell_type": "code",
   "execution_count": null,
   "metadata": {},
   "outputs": [],
   "source": [
    "obras_90 = obras_cleaned.loc[obras_cleaned['monto_contrato']<percentil_90]\n",
    "obras_outliers = obras_cleaned.loc[obras_cleaned['monto_contrato']>percentil_90]"
   ]
  },
  {
   "cell_type": "code",
   "execution_count": null,
   "metadata": {},
   "outputs": [],
   "source": [
    "obras_90.shape"
   ]
  },
  {
   "cell_type": "code",
   "execution_count": null,
   "metadata": {},
   "outputs": [],
   "source": [
    "obras_90.describe().astype('int64')"
   ]
  },
  {
   "cell_type": "code",
   "execution_count": null,
   "metadata": {},
   "outputs": [],
   "source": [
    "obras_90['monto_contrato'].describe().astype('int64')"
   ]
  },
  {
   "cell_type": "code",
   "execution_count": null,
   "metadata": {},
   "outputs": [],
   "source": [
    "obras_90.head()"
   ]
  },
  {
   "cell_type": "code",
   "execution_count": null,
   "metadata": {},
   "outputs": [],
   "source": []
  },
  {
   "cell_type": "code",
   "execution_count": null,
   "metadata": {},
   "outputs": [],
   "source": [
    "# Vamos a graficar esto, ya sabemos que varios samples no tienen el valor del contrato\n",
    "# Una de las cosas que buscamos es estimar el monto, si no lo tienen no me sirve\n",
    "# Borramos los que no tengan monto :o\n",
    "\n",
    "#obras_cleaned.dropna(subset=['monto_contrato'], how='any', inplace=True, axis='index')\n",
    "#filas = np.shape(obras_cleaned)[0] \n",
    "#print(f'Filas: {filas}')\n",
    "\n",
    "sns.kdeplot(obras_60.monto_contrato, color=\"purple\", shade = True)\n",
    "plt.xlabel(\"Price\")\n",
    "plt.title('Distribucion de Precio',size = 20)\n",
    "plt.show()\n",
    "\n",
    "# Plot Log-Precio\n",
    "sns.distplot(np.log(1+obras_60['monto_contrato']),color='purple')\n",
    "plt.xlabel(\"Price\")\n",
    "plt.title('Distribucion de Precio logarítmica',size = 20)\n",
    "plt.show()\n",
    "\n",
    "# Facherito el segundo"
   ]
  },
  {
   "cell_type": "markdown",
   "metadata": {},
   "source": [
    "### Barrio"
   ]
  },
  {
   "cell_type": "code",
   "execution_count": null,
   "metadata": {},
   "outputs": [],
   "source": [
    "# Analizamos la cantidad de valores únicos en el feature de barrio\n",
    "barrio = len(obras_cleaned['barrio'].unique()) \n",
    "print(f'En total hay {barrio} barrios en el análisis.\\r\\n')\n",
    "print(\"\\n\", obras_cleaned['barrio'].unique())"
   ]
  },
  {
   "cell_type": "code",
   "execution_count": null,
   "metadata": {},
   "outputs": [],
   "source": [
    "# Algún mono escribió mal (montserrat)\n",
    "# Villa del Parque está repetido por una mayúscula\n",
    "# A alguien le salió el turro y puso LA BOCA y otro solo Boca\n",
    "\n",
    "\n",
    "def clean_row(row):\n",
    "    a= ['La Boca','Boca']\n",
    "    b= ['Montserrat','Monserrat']\n",
    "    c= ['Villa Del Parque','Villa del Parque']\n",
    "    \n",
    "    if row.barrio in a:\n",
    "        return 'La Boca'\n",
    "    if row.barrio in b:\n",
    "        return 'Monserrat'\n",
    "    if row.barrio in c:\n",
    "        return 'Villa del Parque'\n",
    "    return row.barrio\n",
    "\n",
    "def clean_df(obras_cleaned):\n",
    "    obras_cleaned=obras_cleaned.copy()\n",
    "    obras_cleaned['barrio']=obras_cleaned.apply(lambda row: \n",
    "                                                   clean_row(row),axis=1)\n",
    "    return obras_cleaned\n",
    "\n",
    "obras_cleaned=clean_df(obras_cleaned)\n",
    "print(obras_cleaned.barrio.unique())\n"
   ]
  },
  {
   "cell_type": "code",
   "execution_count": null,
   "metadata": {},
   "outputs": [],
   "source": [
    "# Hay algunos NaNs también, se van\n",
    "\n",
    "obras_cleaned.dropna(subset=['barrio'], how='any', inplace=True, axis='index')\n",
    "filas2 = np.shape(obras_cleaned)[0] \n",
    "print(f'Filas: {filas2}')\n",
    "\n",
    "# Teníamos 1047, así que se fueron solo 5, está bien, no fue tan grave"
   ]
  },
  {
   "cell_type": "code",
   "execution_count": null,
   "metadata": {},
   "outputs": [],
   "source": [
    "# Probamos visualizar\n",
    "\n",
    "ax = sns.countplot(x='barrio', data=obras_cleaned)\n",
    "ax.set_xticklabels(ax.get_xticklabels(), rotation=40, ha=\"right\")\n",
    "plt.title(\"Contador de obras por barrio\")\n",
    "plt.show()"
   ]
  },
  {
   "cell_type": "code",
   "execution_count": null,
   "metadata": {},
   "outputs": [],
   "source": [
    "# Fuck, son muchas\n",
    "\n",
    "top = obras_cleaned['barrio'].value_counts().index[0:10]\n",
    "\n",
    "\n",
    "plt.figure(figsize=(15,3))\n",
    "g = sns.countplot(x='barrio',\n",
    "                  data=obras_cleaned, \n",
    "                  palette = 'spring',\n",
    "                  order=top)\n",
    "g.set_xticklabels(g.get_xticklabels(), \n",
    "                  rotation=90, \n",
    "                  ha=\"right\")\n",
    "plt.title('Cuenta por Barrio',size = 20)\n",
    "plt.xlabel('Barrio')\n",
    "plt.ylabel('Count')\n",
    "plt.show()\n",
    "\n",
    "# A ver qué onda con los más bajos\n",
    "\n",
    "bottom = obras_cleaned['barrio'].value_counts().index[43:53]\n",
    "plt.figure(figsize=(15,3))\n",
    "h = sns.countplot(x='barrio',\n",
    "                  data=obras_cleaned, \n",
    "                  palette = 'viridis',\n",
    "                  order=bottom)\n",
    "h.set_xticklabels(h.get_xticklabels(), \n",
    "                  rotation=90, \n",
    "                  ha=\"right\")\n",
    "plt.title('Cuenta por Barrio',size = 20)\n",
    "plt.xlabel('Barrio')\n",
    "plt.ylabel('Count')\n",
    "plt.show()\n",
    "\n",
    "# MMMMM 2 barrios con sólo una obra, creo que nos va a arruinar el accuracy, pruebo con comuna"
   ]
  },
  {
   "cell_type": "markdown",
   "metadata": {},
   "source": [
    "### Comunas"
   ]
  },
  {
   "cell_type": "code",
   "execution_count": null,
   "metadata": {},
   "outputs": [],
   "source": [
    "# Analizamos la cantidad de valores únicos en la feature de comuna\n",
    "# Guarda, estoy tomando el obras_cleaned de antes, si no tomamos barrio hay que anular las líneas!!!\n",
    "\n",
    "comuna = len(obras_cleaned['comuna'].unique()) \n",
    "print(f'En total hay {comuna} comunas en el análisis.\\r\\n')\n",
    "print(\"\\n\", obras_cleaned['comuna'].unique())"
   ]
  },
  {
   "cell_type": "code",
   "execution_count": null,
   "metadata": {},
   "outputs": [],
   "source": [
    "# La diferencia entre barrio y comuna era un NaN (al ppio del notebook)\n",
    "# Lo voy a sacar y rezar que sea ese solito y no haya borrado nada más\n",
    "\n",
    "obras_cleaned.dropna(subset=['comuna'], how='any', inplace=True, axis='index')\n",
    "filas3 = np.shape(obras_cleaned)[0] \n",
    "print(f'Filas: {filas3}')\n",
    "\n",
    "# No, saqué de más, si vamos con comunas hay que modificar esto!!!!!"
   ]
  },
  {
   "cell_type": "code",
   "execution_count": null,
   "metadata": {},
   "outputs": [],
   "source": [
    "ax = sns.countplot(x='comuna', \n",
    "                   data=obras_cleaned,\n",
    "                   palette='gist_rainbow',\n",
    "                   alpha=0.5)\n",
    "ax.set_xticklabels(ax.get_xticklabels(), rotation=40, ha=\"right\")\n",
    "plt.title(\"Contador de obras por comuna\")\n",
    "plt.show()"
   ]
  },
  {
   "cell_type": "markdown",
   "metadata": {},
   "source": [
    "### Latitud y longitud "
   ]
  },
  {
   "cell_type": "code",
   "execution_count": null,
   "metadata": {},
   "outputs": [],
   "source": [
    "# Probanding plotear en mapa, sólo para esto\n",
    "\n",
    "#obras_cleaned.plot(kind='scatter', \n",
    "                   #x='lng', \n",
    "                   #y='lat', \n",
    "                   #cmap=plt.get_cmap(), \n",
    "                   #colorbar=True, \n",
    "                   #alpha=0.5, \n",
    "                   #figsize=(10,8))\n",
    "#plt.show()\n",
    "\n",
    "# El primer gráfico me pareció medio feo, se pueden sacar los # y verlo, pero al pedo\n",
    "\n",
    "plt.figure(figsize=(13,13))\n",
    "sns.scatterplot(x=obras_cleaned.lng,\n",
    "                y=obras_cleaned.lat,\n",
    "                hue=obras_cleaned.comuna,\n",
    "                palette='muted')\n",
    "plt.show()\n",
    "\n",
    "# Podríamos buscar alguna etiqueta mejor para la comuna\n",
    "# https://www.buenosaires.gob.ar/comunas"
   ]
  },
  {
   "cell_type": "markdown",
   "metadata": {},
   "source": [
    "### Plazo en meses"
   ]
  },
  {
   "cell_type": "code",
   "execution_count": null,
   "metadata": {},
   "outputs": [],
   "source": [
    "# Analizamos la cantidad de valores únicos en la feature de plazos de realización\n",
    "\n",
    "meses = len(obras_90['plazo_meses'].unique()) \n",
    "print(\"\\n\", obras_90['plazo_meses'].unique())"
   ]
  },
  {
   "cell_type": "code",
   "execution_count": null,
   "metadata": {},
   "outputs": [],
   "source": [
    "# Primero vamos a sacar los NaNs\n",
    "# Vamos a agrupar en períodos\n",
    "\n",
    "#obras_cleaned.dropna(subset=['plazo_meses'], how='any', inplace=True, axis='index')\n",
    "#filas4 = np.shape(obras_cleaned)[0] \n",
    "#print(f'Filas: {filas4}')\n",
    "\n",
    "def clean_row(row):\n",
    "    a= [0,1,2,3,4,5,6,7,8,9,10,11,12]\n",
    "    b= [13,14,15,16,17,18,19,20,21,22,23,24]\n",
    "    c= [25,26,27,28,29,30,31,32,33,34,35,36]\n",
    "    d= [37,38,39,40,41,42,43,44,45,46,47,48,57,52,55,86]\n",
    "    #e= [57,52,55,86]\n",
    "    \n",
    "    if row.plazo_meses in a:\n",
    "        return 'Menos de 1 año'\n",
    "    if row.plazo_meses in b:\n",
    "        return 'De 1 a 2 años'\n",
    "    if row.plazo_meses in c:\n",
    "        return 'De 2 a 3 años'\n",
    "    if row.plazo_meses in d:\n",
    "        return 'Más de 3 años'\n",
    "    #if row.plazo_meses in e:\n",
    "        #return 'Más de 4 años'\n",
    "    \n",
    "    \n",
    "    return row.plazo_meses\n",
    "\n",
    "def clean_df(obras_60):\n",
    "    obras_60=obras_60.copy()\n",
    "    obras_60['plazo_años']=obras_60.apply(lambda row: \n",
    "                                                   clean_row(row),axis=1)\n",
    "    return obras_60\n",
    "\n",
    "obras_60=clean_df(obras_60)\n",
    "\n",
    "print(obras_60.plazo_meses.unique())\n",
    "\n",
    "#Agregar una columna en cuanto a plazo meses (hacer!)"
   ]
  },
  {
   "cell_type": "code",
   "execution_count": null,
   "metadata": {},
   "outputs": [],
   "source": [
    "# Vamos a agrupar en períodos\n",
    "# Para no reemplazar los datos exactos de los plazos, vamos a crear una nueva columna \"Plazo en años\".\n",
    "\n",
    "obras_60['plazo_años'] = obras_60['plazo_meses']\n",
    "\n",
    "# En esta nueva columna, reemplazamos los valores agrupando por períodos.\n",
    "\n",
    "def clean_row(row):\n",
    "    a= [0,1,2,3,4,5,6,7,8,9,10,11,12]\n",
    "    b= [13,14,15,16,17,18,19,20,21,22,23,24]\n",
    "    c= [25,26,27,28,29,30,31,32,33,34,35,36]\n",
    "    d= [37,38,39,40,41,42,43,44,45,46,47,48,57,52,55,86]\n",
    "    #e= [57,52,55,86]\n",
    "    \n",
    "    if row.plazo_años in a:\n",
    "        return 'Menos de 1 año'\n",
    "    if row.plazo_años in b:\n",
    "        return 'De 1 a 2 años'\n",
    "    if row.plazo_años in c:\n",
    "        return 'De 2 a 3 años'\n",
    "    if row.plazo_años in d:\n",
    "        return 'Más de 3 años'\n",
    "    #if row.plazo_meses in e:\n",
    "        #return 'Más de 4 años'\n",
    "    \n",
    "    \n",
    "    return row.plazo_años\n",
    "\n",
    "def clean_df(obras_60):\n",
    "    obras_60=obras_60.copy()\n",
    "    obras_60['plazo_años']=obras_60.apply(lambda row: \n",
    "                                                   clean_row(row),axis=1)\n",
    "    return obras_60\n",
    "\n",
    "obras_cleaned=clean_df(obras_60)\n",
    "\n",
    "print(f'Los plazos de las obras ahora quedarán agrupados como:\"\\r\\n')\n",
    "print(obras_cleaned.plazo_años.unique())"
   ]
  },
  {
   "cell_type": "code",
   "execution_count": null,
   "metadata": {},
   "outputs": [],
   "source": [
    "obras_cleaned.shape"
   ]
  },
  {
   "cell_type": "code",
   "execution_count": null,
   "metadata": {},
   "outputs": [],
   "source": []
  },
  {
   "cell_type": "code",
   "execution_count": null,
   "metadata": {},
   "outputs": [],
   "source": []
  },
  {
   "cell_type": "code",
   "execution_count": null,
   "metadata": {},
   "outputs": [],
   "source": []
  },
  {
   "cell_type": "code",
   "execution_count": null,
   "metadata": {},
   "outputs": [],
   "source": [
    "ax = sns.countplot(x='plazo_años', \n",
    "                   data=obras_cleaned,\n",
    "                   palette='gist_rainbow',\n",
    "                   alpha=0.5)\n",
    "ax.set_xticklabels(ax.get_xticklabels(), rotation=40, ha=\"right\")\n",
    "plt.title(\"Tiempo de realización\")\n",
    "plt.show()"
   ]
  },
  {
   "cell_type": "code",
   "execution_count": null,
   "metadata": {},
   "outputs": [],
   "source": [
    "g = sns.catplot(x='plazo_años', y='monto_contrato',\n",
    "                data=obras_cleaned, \n",
    "                kind=\"box\", # box , violin\n",
    "                height = 5,aspect=3 ,palette = \"muted\")\n",
    "g.set_xticklabels(rotation=90)\n",
    "g = g.set_ylabels(\"monto_contrato\")\n",
    "plt.title('Boxplot',size = 20)\n",
    "plt.show()"
   ]
  },
  {
   "cell_type": "code",
   "execution_count": null,
   "metadata": {},
   "outputs": [],
   "source": [
    "#Primero defininmos los limites de cada categoria y creemos la columna 'Monto'\n",
    "#acá con loc le indicamos que queremos sólo esos registros\n",
    "\n",
    "\n",
    "obras_cleaned.loc[(obras_cleaned['monto_contrato'] > 0) & (obras_cleaned['monto_contrato'] <= 4760), 'monto'] = 'Mínimo'\n",
    "obras_cleaned.loc[(obras_cleaned['monto_contrato'] > 4760) & (obras_cleaned['monto_contrato'] <= 1760971), 'monto'] = 'Primer Q'\n",
    "obras_cleaned.loc[(obras_cleaned['monto_contrato'] > 1760971) & (obras_cleaned['monto_contrato'] <= 6495745), 'monto'] = 'Segundo Q'\n",
    "obras_cleaned.loc[(obras_cleaned['monto_contrato'] > 6495745) & (obras_cleaned['monto_contrato'] <= 24848133), 'monto'] = 'Tercer Q'\n",
    "obras_cleaned.loc[(obras_cleaned['monto_contrato'] > 24848133), 'monto'] = 'Máximo'"
   ]
  },
  {
   "cell_type": "code",
   "execution_count": null,
   "metadata": {},
   "outputs": [],
   "source": [
    "obras_cleaned.head()"
   ]
  },
  {
   "cell_type": "code",
   "execution_count": null,
   "metadata": {},
   "outputs": [],
   "source": [
    "np.shape(obras_cleaned)"
   ]
  },
  {
   "cell_type": "markdown",
   "metadata": {},
   "source": [
    "## Ahora a buscar si están relacionados los features"
   ]
  },
  {
   "cell_type": "code",
   "execution_count": null,
   "metadata": {},
   "outputs": [],
   "source": [
    "# Matriz de correlación para ver si son lineales\n",
    "corr = obras_cleaned.corr()\n",
    "\n",
    "fig, ax = plt.subplots(figsize=(10, 8))\n",
    "#Permitimos anotaciones y numeros (float) sobre el mapa\n",
    "sns.heatmap(corr, cmap='summer', annot=True, fmt=\".2f\", alpha=0.6)\n",
    "\n",
    "plt.show()\n",
    "# Monto contrato - meses\n",
    "# Monto contrato - mano de obra"
   ]
  },
  {
   "cell_type": "code",
   "execution_count": null,
   "metadata": {},
   "outputs": [],
   "source": [
    "graf=obras_cleaned.loc[:,['etapa','tipo', 'monto_contrato','comuna', 'barrio','mano_obra']]\n",
    "\n",
    "sns.pairplot(data=graf)\n",
    "plt.show()\n",
    "\n",
    "# los valores string no me van a traer nada.. tendría que convertirlos en dummies"
   ]
  },
  {
   "cell_type": "markdown",
   "metadata": {},
   "source": [
    "### Pre processing y aplicación de modelos de clasificación (Alt.2)"
   ]
  },
  {
   "cell_type": "code",
   "execution_count": null,
   "metadata": {},
   "outputs": [],
   "source": [
    "# Nuestro target\n",
    "y=obras_cleaned.iloc[:,15]\n",
    "print(y)"
   ]
  },
  {
   "cell_type": "code",
   "execution_count": null,
   "metadata": {},
   "outputs": [],
   "source": [
    "# Nuestras features\n",
    "x=obras_cleaned.iloc[:,7:9:1]\n",
    "print(x)\n",
    "type(x)"
   ]
  },
  {
   "cell_type": "code",
   "execution_count": null,
   "metadata": {},
   "outputs": [],
   "source": [
    "from sklearn import preprocessing\n",
    "from sklearn.preprocessing import StandardScaler\n",
    "from sklearn.model_selection import train_test_split\n",
    "from sklearn.metrics import accuracy_score\n",
    "from sklearn.metrics import classification_report\n",
    "from sklearn.model_selection import cross_val_score\n",
    "from sklearn.metrics import roc_curve, auc\n",
    "from sklearn import metrics\n",
    "from sklearn.model_selection import GridSearchCV\n",
    "from sklearn.metrics import confusion_matrix\n",
    "# No sé que modelo va a servir, así que por las dudas importo todos:\n",
    "from sklearn.linear_model import LogisticRegression\n",
    "from sklearn.svm import SVC\n",
    "from sklearn import svm\n",
    "from sklearn.neighbors import KNeighborsClassifier"
   ]
  },
  {
   "cell_type": "code",
   "execution_count": null,
   "metadata": {},
   "outputs": [],
   "source": [
    "# Vamos a agregar un encoder al target o variable objetivo\n",
    "le= preprocessing.LabelEncoder()\n",
    "y= le.fit_transform(y)\n",
    "obras_cleaned['Encoded']=y"
   ]
  },
  {
   "cell_type": "code",
   "execution_count": null,
   "metadata": {},
   "outputs": [],
   "source": [
    "x_train,x_test,y_train,y_test=train_test_split(x,y, test_size=0.2, random_state=2)"
   ]
  },
  {
   "cell_type": "code",
   "execution_count": null,
   "metadata": {},
   "outputs": [],
   "source": [
    "# Estandarizar el set de entrenamiento\n",
    "\n",
    "scaler=preprocessing.StandardScaler().fit(x_train)"
   ]
  },
  {
   "cell_type": "code",
   "execution_count": null,
   "metadata": {},
   "outputs": [],
   "source": [
    "x_train_scaled=scaler.transform(x_train)\n",
    "x_test_scaled=scaler.transform(x_test)"
   ]
  },
  {
   "cell_type": "markdown",
   "metadata": {},
   "source": [
    "#### Entrenamos con KNN"
   ]
  },
  {
   "cell_type": "code",
   "execution_count": null,
   "metadata": {},
   "outputs": [],
   "source": [
    "parameters={'n_neighbors': [15, 16, 17, 18, 19, 20, 21, 22, 23]}\n",
    "knn=KNeighborsClassifier()\n",
    "clasif=GridSearchCV(knn, param_grid=parameters, refit=True, cv=5)\n",
    "clasif.fit(x_train_scaled,y_train)"
   ]
  },
  {
   "cell_type": "code",
   "execution_count": null,
   "metadata": {},
   "outputs": [],
   "source": [
    "clasif.best_params_"
   ]
  },
  {
   "cell_type": "code",
   "execution_count": null,
   "metadata": {},
   "outputs": [],
   "source": [
    "predic=clasif.predict(x_test_scaled)"
   ]
  },
  {
   "cell_type": "code",
   "execution_count": null,
   "metadata": {},
   "outputs": [],
   "source": [
    "print(accuracy_score(y_test,predic))"
   ]
  },
  {
   "cell_type": "markdown",
   "metadata": {},
   "source": [
    "#### Entrenamos con LR"
   ]
  },
  {
   "cell_type": "code",
   "execution_count": null,
   "metadata": {},
   "outputs": [],
   "source": [
    "parameters={'C': [ 2, 3, 4, 4.1, 4.2, 4.3,4.4, 4.5, 4.8, 5, 5.2, 5.5, 5.9,  6, 7, 8, 9, 10, 100]}\n",
    "lr_model=LogisticRegression (random_state=8, solver='lbfgs')\n",
    "clasif1=GridSearchCV(lr_model, param_grid=parameters, refit=True, cv=5)\n",
    "clasif1.fit(x_train_scaled, y_train)"
   ]
  },
  {
   "cell_type": "code",
   "execution_count": null,
   "metadata": {},
   "outputs": [],
   "source": [
    "clasif1.best_params_"
   ]
  },
  {
   "cell_type": "code",
   "execution_count": null,
   "metadata": {},
   "outputs": [],
   "source": [
    "predic1=clasif1.predict(x_test_scaled)\n",
    "print(accuracy_score(y_test,predic1))"
   ]
  },
  {
   "cell_type": "markdown",
   "metadata": {},
   "source": [
    "#### Entrenamos con SVM"
   ]
  },
  {
   "cell_type": "code",
   "execution_count": null,
   "metadata": {},
   "outputs": [],
   "source": [
    "parameters={'kernel':('linear','rbf'),\n",
    "            'C':[0.3, 0.4, 0.5, 0.6, 0.62, 0.65, 0.68, 0.7, 0.8, 0.9],\n",
    "            'gamma':[  5.5, 5.8, 6,6.1, 6.2, 6.3,6.4,6.5, 6.8]}\n",
    "svc=svm.SVC(probability=True)\n",
    "clasif2=GridSearchCV(svc, param_grid=parameters, refit=True, cv=5)\n",
    "clasif2.fit(x_train_scaled,y_train)"
   ]
  },
  {
   "cell_type": "code",
   "execution_count": null,
   "metadata": {},
   "outputs": [],
   "source": [
    "clasif2.best_params_"
   ]
  },
  {
   "cell_type": "code",
   "execution_count": null,
   "metadata": {},
   "outputs": [],
   "source": [
    "predic2=clasif2.predict(x_test_scaled)\n",
    "print(accuracy_score(y_test,predic2))"
   ]
  },
  {
   "cell_type": "code",
   "execution_count": null,
   "metadata": {},
   "outputs": [],
   "source": [
    "print(accuracy_score(y_test,predic),\n",
    "     accuracy_score(y_test,predic1),\n",
    "     accuracy_score(y_test,predic2))"
   ]
  },
  {
   "cell_type": "code",
   "execution_count": null,
   "metadata": {},
   "outputs": [],
   "source": []
  },
  {
   "cell_type": "code",
   "execution_count": null,
   "metadata": {},
   "outputs": [],
   "source": []
  },
  {
   "cell_type": "code",
   "execution_count": null,
   "metadata": {},
   "outputs": [],
   "source": []
  },
  {
   "cell_type": "code",
   "execution_count": null,
   "metadata": {},
   "outputs": [],
   "source": []
  },
  {
   "cell_type": "code",
   "execution_count": null,
   "metadata": {},
   "outputs": [],
   "source": []
  }
 ],
 "metadata": {
  "kernelspec": {
   "display_name": "Python 3",
   "language": "python",
   "name": "python3"
  },
  "language_info": {
   "codemirror_mode": {
    "name": "ipython",
    "version": 3
   },
   "file_extension": ".py",
   "mimetype": "text/x-python",
   "name": "python",
   "nbconvert_exporter": "python",
   "pygments_lexer": "ipython3",
   "version": "3.8.3"
  },
  "widgets": {
   "application/vnd.jupyter.widget-state+json": {
    "state": {},
    "version_major": 2,
    "version_minor": 0
   }
  }
 },
 "nbformat": 4,
 "nbformat_minor": 4
}
