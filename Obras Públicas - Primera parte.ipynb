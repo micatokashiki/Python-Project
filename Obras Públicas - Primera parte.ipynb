{
 "cells": [
  {
   "cell_type": "markdown",
   "metadata": {},
   "source": [
    "# Práctica inicial \n",
    "## TP integrador - Primera parte\n",
    "### EDA inicial - Obras Públicas (Dataset Provincia Bs. As)\n",
    "#### Grupo_08 - Septiembre 2020"
   ]
  },
  {
   "cell_type": "code",
   "execution_count": null,
   "metadata": {},
   "outputs": [],
   "source": [
    "# importamos las librerías necesarias para trabajar.\n",
    "import numpy as np\n",
    "import pandas as pd\n",
    "import matplotlib.pyplot as plt\n",
    "import seaborn as sns"
   ]
  },
  {
   "cell_type": "code",
   "execution_count": null,
   "metadata": {},
   "outputs": [],
   "source": [
    "#Una vez que descargamos el dataset procedemos a leerlo\n",
    "obras = pd.read_csv('C:/Users/Mica/Google Drive/Quinto año/Cs de datos/Práctica/observatorio-de-obras-urbanas.csv')"
   ]
  },
  {
   "cell_type": "code",
   "execution_count": null,
   "metadata": {},
   "outputs": [],
   "source": [
    "print(f'Shape: {np.shape(obras)}')\n",
    "obras.head()"
   ]
  },
  {
   "cell_type": "code",
   "execution_count": null,
   "metadata": {},
   "outputs": [],
   "source": [
    "columnas = obras.columns\n",
    "columnas"
   ]
  },
  {
   "cell_type": "code",
   "execution_count": null,
   "metadata": {
    "scrolled": true
   },
   "outputs": [],
   "source": [
    "col_nulls = obras.isnull().any()\n",
    "col_nulls"
   ]
  },
  {
   "cell_type": "code",
   "execution_count": null,
   "metadata": {},
   "outputs": [],
   "source": [
    "tipos_obras = len(obras['tipo'].unique()) # Cantidad de valores unicos \n",
    "print(f'En total hay {tipos_obras} tipos de obras.\"\\r\\n')\n",
    "print(\"\\n\", obras['tipo'].unique())"
   ]
  },
  {
   "cell_type": "code",
   "execution_count": null,
   "metadata": {},
   "outputs": [],
   "source": [
    "etapas= len(obras['etapa'].unique()) # Cantidad de valores unicos \n",
    "print(f'En total hay {etapas} etapas de obras.\"\\r\\n')\n",
    "print(\"\\n\", obras['etapa'].unique())"
   ]
  },
  {
   "cell_type": "code",
   "execution_count": null,
   "metadata": {},
   "outputs": [],
   "source": [
    "fecha= len(obras['fecha_inicio'].unique()) # Cantidad de valores unicos \n",
    "print(f'En total hay {fecha} etapas de obras.\"\\r\\n')\n",
    "print(\"\\n\", obras['fecha_inicio'].unique())"
   ]
  },
  {
   "cell_type": "code",
   "execution_count": null,
   "metadata": {},
   "outputs": [],
   "source": [
    "plazo_meses=len(obras['plazo_meses'].unique()) # Cantidad de valores unicos \n",
    "print(f'En total hay {plazo_meses} etapas de obras.\"\\r\\n')\n",
    "print(\"\\n\", obras['plazo_meses'].unique())"
   ]
  },
  {
   "cell_type": "code",
   "execution_count": null,
   "metadata": {},
   "outputs": [],
   "source": [
    "barrio=len(obras['barrio'].unique()) # Cantidad de valores unicos \n",
    "print(f'En total hay {barrio} barrios.\"\\r\\n')\n",
    "print(\"\\n\", obras['barrio'].unique())"
   ]
  },
  {
   "cell_type": "code",
   "execution_count": null,
   "metadata": {},
   "outputs": [],
   "source": [
    "ax = sns.countplot(x='tipo', data=obras)\n",
    "ax.set_xticklabels(ax.get_xticklabels(), rotation=40, ha=\"right\")\n",
    "plt.title(\"Hola\")\n",
    "plt.show()"
   ]
  },
  {
   "cell_type": "code",
   "execution_count": null,
   "metadata": {},
   "outputs": [],
   "source": [
    "ax = sns.countplot(x='etapa', data=obras)\n",
    "ax.set_xticklabels(ax.get_xticklabels(), rotation=40, ha=\"right\")\n",
    "plt.title(\"Hola\")\n",
    "plt.show()"
   ]
  },
  {
   "cell_type": "code",
   "execution_count": null,
   "metadata": {},
   "outputs": [],
   "source": [
    "ax = sns.countplot(x='comuna', data=obras)\n",
    "ax.set_xticklabels(ax.get_xticklabels(), rotation=90, ha=\"right\")\n",
    "plt.title(\"Hola\")\n",
    "plt.show()"
   ]
  },
  {
   "cell_type": "code",
   "execution_count": null,
   "metadata": {},
   "outputs": [],
   "source": []
  }
 ],
 "metadata": {
  "kernelspec": {
   "display_name": "Python 3",
   "language": "python",
   "name": "python3"
  },
  "language_info": {
   "codemirror_mode": {
    "name": "ipython",
    "version": 3
   },
   "file_extension": ".py",
   "mimetype": "text/x-python",
   "name": "python",
   "nbconvert_exporter": "python",
   "pygments_lexer": "ipython3",
   "version": "3.8.3"
  },
  "widgets": {
   "application/vnd.jupyter.widget-state+json": {
    "state": {},
    "version_major": 2,
    "version_minor": 0
   }
  }
 },
 "nbformat": 4,
 "nbformat_minor": 4
}
