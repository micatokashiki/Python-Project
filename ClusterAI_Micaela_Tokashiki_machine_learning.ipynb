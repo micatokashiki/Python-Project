{
 "cells": [
  {
   "cell_type": "markdown",
   "metadata": {},
   "source": [
    " # ClusterAI - 2020\n",
    "## TP integrador - Primera parte\n",
    "### Pre Processing y ML - Obras Públicas\n",
    "#### Grupo_08, 2020 2C"
   ]
  },
  {
   "cell_type": "code",
   "execution_count": 1,
   "metadata": {},
   "outputs": [],
   "source": [
    "# importamos las librerías necesarias para trabajar.\n",
    "import numpy as np\n",
    "import pandas as pd\n",
    "import matplotlib.pyplot as plt\n",
    "import seaborn as sns"
   ]
  },
  {
   "cell_type": "code",
   "execution_count": 2,
   "metadata": {},
   "outputs": [],
   "source": [
    "#Una vez que descargamos el dataset procedemos a leer los 3 excels generados\n",
    "obras_meses = pd.read_excel('obras_en_meses.xlsx')\n",
    "obras_años = pd.read_excel('obras_publicas.xlsx')\n",
    "obras_trim = pd.read_excel('obras_en_trimestres.xlsx')"
   ]
  },
  {
   "cell_type": "markdown",
   "metadata": {},
   "source": [
    "## Análisis en meses\n",
    "\n",
    "Asignaremos como valores NaN a las obras que se encuentren en ejecución o en licitación. De esta forma será más fácil eliminarlas luego. Nos quedamos únicamente con aquellas que hayan sido finalizadas y tengamos el dato del plazo en meses de duración de la obra."
   ]
  },
  {
   "cell_type": "code",
   "execution_count": 3,
   "metadata": {},
   "outputs": [],
   "source": [
    "obras_meses['etapa'].replace('En ejecución',np.nan,inplace=True)\n",
    "obras_meses['etapa'].replace('En licitación',np.nan,inplace=True)"
   ]
  },
  {
   "cell_type": "code",
   "execution_count": 4,
   "metadata": {},
   "outputs": [
    {
     "name": "stdout",
     "output_type": "stream",
     "text": [
      "Filas:883\n"
     ]
    }
   ],
   "source": [
    "obras_meses.dropna(subset=['etapa'],how='any',inplace=True,axis='index')\n",
    "filas=np.shape(obras_meses)[0]\n",
    "print(f'Filas:{filas}')"
   ]
  },
  {
   "cell_type": "markdown",
   "metadata": {},
   "source": [
    "# Objetivo del Proyecto:\n",
    "Predicción en función de la comuna, el tipo de obra a realizar y el monto del contrato, el tiempo de realización de la misma"
   ]
  },
  {
   "cell_type": "markdown",
   "metadata": {},
   "source": [
    "## TARGET"
   ]
  },
  {
   "cell_type": "code",
   "execution_count": 5,
   "metadata": {},
   "outputs": [
    {
     "data": {
      "text/plain": [
       "0      29\n",
       "1      16\n",
       "2      22\n",
       "3      28\n",
       "4      12\n",
       "       ..\n",
       "929     2\n",
       "930     1\n",
       "931     1\n",
       "932     1\n",
       "933     1\n",
       "Name: plazo_meses, Length: 883, dtype: int64"
      ]
     },
     "execution_count": 5,
     "metadata": {},
     "output_type": "execute_result"
    }
   ],
   "source": [
    "# Definimos primero nuestro target, al cual lo guardaremos en una variable y\n",
    "\n",
    "y = obras_meses.iloc[:,3]\n",
    "y"
   ]
  },
  {
   "cell_type": "markdown",
   "metadata": {},
   "source": [
    "## FEATURES"
   ]
  },
  {
   "cell_type": "code",
   "execution_count": 6,
   "metadata": {},
   "outputs": [
    {
     "data": {
      "text/html": [
       "<div>\n",
       "<style scoped>\n",
       "    .dataframe tbody tr th:only-of-type {\n",
       "        vertical-align: middle;\n",
       "    }\n",
       "\n",
       "    .dataframe tbody tr th {\n",
       "        vertical-align: top;\n",
       "    }\n",
       "\n",
       "    .dataframe thead th {\n",
       "        text-align: right;\n",
       "    }\n",
       "</style>\n",
       "<table border=\"1\" class=\"dataframe\">\n",
       "  <thead>\n",
       "    <tr style=\"text-align: right;\">\n",
       "      <th></th>\n",
       "      <th>Unnamed: 0</th>\n",
       "      <th>etapa</th>\n",
       "      <th>tipo</th>\n",
       "      <th>plazo_meses</th>\n",
       "      <th>monto_miles</th>\n",
       "      <th>comuna</th>\n",
       "      <th>Arquitectura</th>\n",
       "      <th>Escuelas</th>\n",
       "      <th>Espacio Público</th>\n",
       "      <th>Hidráulica e Infraestructura</th>\n",
       "      <th>Salud</th>\n",
       "      <th>Transporte</th>\n",
       "      <th>Vivienda</th>\n",
       "    </tr>\n",
       "  </thead>\n",
       "  <tbody>\n",
       "    <tr>\n",
       "      <th>0</th>\n",
       "      <td>0</td>\n",
       "      <td>Finalizada</td>\n",
       "      <td>Escuelas</td>\n",
       "      <td>29</td>\n",
       "      <td>67065.700</td>\n",
       "      <td>12</td>\n",
       "      <td>0</td>\n",
       "      <td>1</td>\n",
       "      <td>0</td>\n",
       "      <td>0</td>\n",
       "      <td>0</td>\n",
       "      <td>0</td>\n",
       "      <td>0</td>\n",
       "    </tr>\n",
       "    <tr>\n",
       "      <th>1</th>\n",
       "      <td>1</td>\n",
       "      <td>Finalizada</td>\n",
       "      <td>Espacio Público</td>\n",
       "      <td>16</td>\n",
       "      <td>9950.017</td>\n",
       "      <td>12</td>\n",
       "      <td>0</td>\n",
       "      <td>0</td>\n",
       "      <td>1</td>\n",
       "      <td>0</td>\n",
       "      <td>0</td>\n",
       "      <td>0</td>\n",
       "      <td>0</td>\n",
       "    </tr>\n",
       "    <tr>\n",
       "      <th>2</th>\n",
       "      <td>2</td>\n",
       "      <td>Finalizada</td>\n",
       "      <td>Espacio Público</td>\n",
       "      <td>22</td>\n",
       "      <td>36942.632</td>\n",
       "      <td>1</td>\n",
       "      <td>0</td>\n",
       "      <td>0</td>\n",
       "      <td>1</td>\n",
       "      <td>0</td>\n",
       "      <td>0</td>\n",
       "      <td>0</td>\n",
       "      <td>0</td>\n",
       "    </tr>\n",
       "    <tr>\n",
       "      <th>3</th>\n",
       "      <td>3</td>\n",
       "      <td>Finalizada</td>\n",
       "      <td>Espacio Público</td>\n",
       "      <td>28</td>\n",
       "      <td>26938.294</td>\n",
       "      <td>1</td>\n",
       "      <td>0</td>\n",
       "      <td>0</td>\n",
       "      <td>1</td>\n",
       "      <td>0</td>\n",
       "      <td>0</td>\n",
       "      <td>0</td>\n",
       "      <td>0</td>\n",
       "    </tr>\n",
       "    <tr>\n",
       "      <th>4</th>\n",
       "      <td>4</td>\n",
       "      <td>Finalizada</td>\n",
       "      <td>Vivienda</td>\n",
       "      <td>12</td>\n",
       "      <td>6990.315</td>\n",
       "      <td>8</td>\n",
       "      <td>0</td>\n",
       "      <td>0</td>\n",
       "      <td>0</td>\n",
       "      <td>0</td>\n",
       "      <td>0</td>\n",
       "      <td>0</td>\n",
       "      <td>1</td>\n",
       "    </tr>\n",
       "    <tr>\n",
       "      <th>...</th>\n",
       "      <td>...</td>\n",
       "      <td>...</td>\n",
       "      <td>...</td>\n",
       "      <td>...</td>\n",
       "      <td>...</td>\n",
       "      <td>...</td>\n",
       "      <td>...</td>\n",
       "      <td>...</td>\n",
       "      <td>...</td>\n",
       "      <td>...</td>\n",
       "      <td>...</td>\n",
       "      <td>...</td>\n",
       "      <td>...</td>\n",
       "    </tr>\n",
       "    <tr>\n",
       "      <th>929</th>\n",
       "      <td>1111</td>\n",
       "      <td>Finalizada</td>\n",
       "      <td>Espacio Público</td>\n",
       "      <td>2</td>\n",
       "      <td>2325.368</td>\n",
       "      <td>8</td>\n",
       "      <td>0</td>\n",
       "      <td>0</td>\n",
       "      <td>1</td>\n",
       "      <td>0</td>\n",
       "      <td>0</td>\n",
       "      <td>0</td>\n",
       "      <td>0</td>\n",
       "    </tr>\n",
       "    <tr>\n",
       "      <th>930</th>\n",
       "      <td>1112</td>\n",
       "      <td>Finalizada</td>\n",
       "      <td>Espacio Público</td>\n",
       "      <td>1</td>\n",
       "      <td>1984.627</td>\n",
       "      <td>8</td>\n",
       "      <td>0</td>\n",
       "      <td>0</td>\n",
       "      <td>1</td>\n",
       "      <td>0</td>\n",
       "      <td>0</td>\n",
       "      <td>0</td>\n",
       "      <td>0</td>\n",
       "    </tr>\n",
       "    <tr>\n",
       "      <th>931</th>\n",
       "      <td>1114</td>\n",
       "      <td>Finalizada</td>\n",
       "      <td>Espacio Público</td>\n",
       "      <td>1</td>\n",
       "      <td>6557.067</td>\n",
       "      <td>9</td>\n",
       "      <td>0</td>\n",
       "      <td>0</td>\n",
       "      <td>1</td>\n",
       "      <td>0</td>\n",
       "      <td>0</td>\n",
       "      <td>0</td>\n",
       "      <td>0</td>\n",
       "    </tr>\n",
       "    <tr>\n",
       "      <th>932</th>\n",
       "      <td>1115</td>\n",
       "      <td>Finalizada</td>\n",
       "      <td>Espacio Público</td>\n",
       "      <td>1</td>\n",
       "      <td>22279.428</td>\n",
       "      <td>15</td>\n",
       "      <td>0</td>\n",
       "      <td>0</td>\n",
       "      <td>1</td>\n",
       "      <td>0</td>\n",
       "      <td>0</td>\n",
       "      <td>0</td>\n",
       "      <td>0</td>\n",
       "    </tr>\n",
       "    <tr>\n",
       "      <th>933</th>\n",
       "      <td>1116</td>\n",
       "      <td>Finalizada</td>\n",
       "      <td>Espacio Público</td>\n",
       "      <td>1</td>\n",
       "      <td>14024.377</td>\n",
       "      <td>11</td>\n",
       "      <td>0</td>\n",
       "      <td>0</td>\n",
       "      <td>1</td>\n",
       "      <td>0</td>\n",
       "      <td>0</td>\n",
       "      <td>0</td>\n",
       "      <td>0</td>\n",
       "    </tr>\n",
       "  </tbody>\n",
       "</table>\n",
       "<p>883 rows × 13 columns</p>\n",
       "</div>"
      ],
      "text/plain": [
       "     Unnamed: 0       etapa             tipo  plazo_meses  monto_miles  \\\n",
       "0             0  Finalizada         Escuelas           29    67065.700   \n",
       "1             1  Finalizada  Espacio Público           16     9950.017   \n",
       "2             2  Finalizada  Espacio Público           22    36942.632   \n",
       "3             3  Finalizada  Espacio Público           28    26938.294   \n",
       "4             4  Finalizada         Vivienda           12     6990.315   \n",
       "..          ...         ...              ...          ...          ...   \n",
       "929        1111  Finalizada  Espacio Público            2     2325.368   \n",
       "930        1112  Finalizada  Espacio Público            1     1984.627   \n",
       "931        1114  Finalizada  Espacio Público            1     6557.067   \n",
       "932        1115  Finalizada  Espacio Público            1    22279.428   \n",
       "933        1116  Finalizada  Espacio Público            1    14024.377   \n",
       "\n",
       "     comuna  Arquitectura  Escuelas  Espacio Público  \\\n",
       "0        12             0         1                0   \n",
       "1        12             0         0                1   \n",
       "2         1             0         0                1   \n",
       "3         1             0         0                1   \n",
       "4         8             0         0                0   \n",
       "..      ...           ...       ...              ...   \n",
       "929       8             0         0                1   \n",
       "930       8             0         0                1   \n",
       "931       9             0         0                1   \n",
       "932      15             0         0                1   \n",
       "933      11             0         0                1   \n",
       "\n",
       "     Hidráulica e Infraestructura  Salud  Transporte  Vivienda  \n",
       "0                               0      0           0         0  \n",
       "1                               0      0           0         0  \n",
       "2                               0      0           0         0  \n",
       "3                               0      0           0         0  \n",
       "4                               0      0           0         1  \n",
       "..                            ...    ...         ...       ...  \n",
       "929                             0      0           0         0  \n",
       "930                             0      0           0         0  \n",
       "931                             0      0           0         0  \n",
       "932                             0      0           0         0  \n",
       "933                             0      0           0         0  \n",
       "\n",
       "[883 rows x 13 columns]"
      ]
     },
     "execution_count": 6,
     "metadata": {},
     "output_type": "execute_result"
    }
   ],
   "source": [
    "# El tipo de obra viene dada en formato string, utilizaremos dummies para transformarlas\n",
    "\n",
    "tipo_obra = pd.get_dummies(obras_meses.tipo)\n",
    "obras_meses = obras_meses.join(tipo_obra)\n",
    "obras_meses"
   ]
  },
  {
   "cell_type": "code",
   "execution_count": 7,
   "metadata": {},
   "outputs": [
    {
     "data": {
      "text/html": [
       "<div>\n",
       "<style scoped>\n",
       "    .dataframe tbody tr th:only-of-type {\n",
       "        vertical-align: middle;\n",
       "    }\n",
       "\n",
       "    .dataframe tbody tr th {\n",
       "        vertical-align: top;\n",
       "    }\n",
       "\n",
       "    .dataframe thead th {\n",
       "        text-align: right;\n",
       "    }\n",
       "</style>\n",
       "<table border=\"1\" class=\"dataframe\">\n",
       "  <thead>\n",
       "    <tr style=\"text-align: right;\">\n",
       "      <th></th>\n",
       "      <th>monto_miles</th>\n",
       "      <th>comuna</th>\n",
       "      <th>Arquitectura</th>\n",
       "      <th>Escuelas</th>\n",
       "      <th>Espacio Público</th>\n",
       "      <th>Hidráulica e Infraestructura</th>\n",
       "      <th>Salud</th>\n",
       "      <th>Transporte</th>\n",
       "      <th>Vivienda</th>\n",
       "    </tr>\n",
       "  </thead>\n",
       "  <tbody>\n",
       "    <tr>\n",
       "      <th>0</th>\n",
       "      <td>67065.700</td>\n",
       "      <td>12</td>\n",
       "      <td>0</td>\n",
       "      <td>1</td>\n",
       "      <td>0</td>\n",
       "      <td>0</td>\n",
       "      <td>0</td>\n",
       "      <td>0</td>\n",
       "      <td>0</td>\n",
       "    </tr>\n",
       "    <tr>\n",
       "      <th>1</th>\n",
       "      <td>9950.017</td>\n",
       "      <td>12</td>\n",
       "      <td>0</td>\n",
       "      <td>0</td>\n",
       "      <td>1</td>\n",
       "      <td>0</td>\n",
       "      <td>0</td>\n",
       "      <td>0</td>\n",
       "      <td>0</td>\n",
       "    </tr>\n",
       "    <tr>\n",
       "      <th>2</th>\n",
       "      <td>36942.632</td>\n",
       "      <td>1</td>\n",
       "      <td>0</td>\n",
       "      <td>0</td>\n",
       "      <td>1</td>\n",
       "      <td>0</td>\n",
       "      <td>0</td>\n",
       "      <td>0</td>\n",
       "      <td>0</td>\n",
       "    </tr>\n",
       "    <tr>\n",
       "      <th>3</th>\n",
       "      <td>26938.294</td>\n",
       "      <td>1</td>\n",
       "      <td>0</td>\n",
       "      <td>0</td>\n",
       "      <td>1</td>\n",
       "      <td>0</td>\n",
       "      <td>0</td>\n",
       "      <td>0</td>\n",
       "      <td>0</td>\n",
       "    </tr>\n",
       "    <tr>\n",
       "      <th>4</th>\n",
       "      <td>6990.315</td>\n",
       "      <td>8</td>\n",
       "      <td>0</td>\n",
       "      <td>0</td>\n",
       "      <td>0</td>\n",
       "      <td>0</td>\n",
       "      <td>0</td>\n",
       "      <td>0</td>\n",
       "      <td>1</td>\n",
       "    </tr>\n",
       "    <tr>\n",
       "      <th>...</th>\n",
       "      <td>...</td>\n",
       "      <td>...</td>\n",
       "      <td>...</td>\n",
       "      <td>...</td>\n",
       "      <td>...</td>\n",
       "      <td>...</td>\n",
       "      <td>...</td>\n",
       "      <td>...</td>\n",
       "      <td>...</td>\n",
       "    </tr>\n",
       "    <tr>\n",
       "      <th>929</th>\n",
       "      <td>2325.368</td>\n",
       "      <td>8</td>\n",
       "      <td>0</td>\n",
       "      <td>0</td>\n",
       "      <td>1</td>\n",
       "      <td>0</td>\n",
       "      <td>0</td>\n",
       "      <td>0</td>\n",
       "      <td>0</td>\n",
       "    </tr>\n",
       "    <tr>\n",
       "      <th>930</th>\n",
       "      <td>1984.627</td>\n",
       "      <td>8</td>\n",
       "      <td>0</td>\n",
       "      <td>0</td>\n",
       "      <td>1</td>\n",
       "      <td>0</td>\n",
       "      <td>0</td>\n",
       "      <td>0</td>\n",
       "      <td>0</td>\n",
       "    </tr>\n",
       "    <tr>\n",
       "      <th>931</th>\n",
       "      <td>6557.067</td>\n",
       "      <td>9</td>\n",
       "      <td>0</td>\n",
       "      <td>0</td>\n",
       "      <td>1</td>\n",
       "      <td>0</td>\n",
       "      <td>0</td>\n",
       "      <td>0</td>\n",
       "      <td>0</td>\n",
       "    </tr>\n",
       "    <tr>\n",
       "      <th>932</th>\n",
       "      <td>22279.428</td>\n",
       "      <td>15</td>\n",
       "      <td>0</td>\n",
       "      <td>0</td>\n",
       "      <td>1</td>\n",
       "      <td>0</td>\n",
       "      <td>0</td>\n",
       "      <td>0</td>\n",
       "      <td>0</td>\n",
       "    </tr>\n",
       "    <tr>\n",
       "      <th>933</th>\n",
       "      <td>14024.377</td>\n",
       "      <td>11</td>\n",
       "      <td>0</td>\n",
       "      <td>0</td>\n",
       "      <td>1</td>\n",
       "      <td>0</td>\n",
       "      <td>0</td>\n",
       "      <td>0</td>\n",
       "      <td>0</td>\n",
       "    </tr>\n",
       "  </tbody>\n",
       "</table>\n",
       "<p>883 rows × 9 columns</p>\n",
       "</div>"
      ],
      "text/plain": [
       "     monto_miles  comuna  Arquitectura  Escuelas  Espacio Público  \\\n",
       "0      67065.700      12             0         1                0   \n",
       "1       9950.017      12             0         0                1   \n",
       "2      36942.632       1             0         0                1   \n",
       "3      26938.294       1             0         0                1   \n",
       "4       6990.315       8             0         0                0   \n",
       "..           ...     ...           ...       ...              ...   \n",
       "929     2325.368       8             0         0                1   \n",
       "930     1984.627       8             0         0                1   \n",
       "931     6557.067       9             0         0                1   \n",
       "932    22279.428      15             0         0                1   \n",
       "933    14024.377      11             0         0                1   \n",
       "\n",
       "     Hidráulica e Infraestructura  Salud  Transporte  Vivienda  \n",
       "0                               0      0           0         0  \n",
       "1                               0      0           0         0  \n",
       "2                               0      0           0         0  \n",
       "3                               0      0           0         0  \n",
       "4                               0      0           0         1  \n",
       "..                            ...    ...         ...       ...  \n",
       "929                             0      0           0         0  \n",
       "930                             0      0           0         0  \n",
       "931                             0      0           0         0  \n",
       "932                             0      0           0         0  \n",
       "933                             0      0           0         0  \n",
       "\n",
       "[883 rows x 9 columns]"
      ]
     },
     "execution_count": 7,
     "metadata": {},
     "output_type": "execute_result"
    }
   ],
   "source": [
    "# Guardamos en x todas las features excepto el plazo en meses.\n",
    "\n",
    "x = obras_meses.iloc[:,4:]\n",
    "x"
   ]
  },
  {
   "cell_type": "code",
   "execution_count": 8,
   "metadata": {},
   "outputs": [
    {
     "data": {
      "text/plain": [
       "2     91\n",
       "3     91\n",
       "1     87\n",
       "4     71\n",
       "6     62\n",
       "5     53\n",
       "7     50\n",
       "12    39\n",
       "10    39\n",
       "8     28\n",
       "9     26\n",
       "18    24\n",
       "16    22\n",
       "17    21\n",
       "13    20\n",
       "15    20\n",
       "11    18\n",
       "14    16\n",
       "20    14\n",
       "19    13\n",
       "21    12\n",
       "23     7\n",
       "27     7\n",
       "26     6\n",
       "24     5\n",
       "28     5\n",
       "29     5\n",
       "22     5\n",
       "30     3\n",
       "31     3\n",
       "37     3\n",
       "33     2\n",
       "42     2\n",
       "32     2\n",
       "55     1\n",
       "52     1\n",
       "46     1\n",
       "45     1\n",
       "57     1\n",
       "40     1\n",
       "38     1\n",
       "35     1\n",
       "34     1\n",
       "25     1\n",
       "86     1\n",
       "Name: plazo_meses, dtype: int64"
      ]
     },
     "execution_count": 8,
     "metadata": {},
     "output_type": "execute_result"
    }
   ],
   "source": [
    "obras_meses['plazo_meses'].value_counts()"
   ]
  },
  {
   "cell_type": "code",
   "execution_count": 9,
   "metadata": {},
   "outputs": [
    {
     "data": {
      "text/plain": [
       "(883,)"
      ]
     },
     "execution_count": 9,
     "metadata": {},
     "output_type": "execute_result"
    }
   ],
   "source": [
    "y.shape"
   ]
  },
  {
   "cell_type": "code",
   "execution_count": 10,
   "metadata": {},
   "outputs": [
    {
     "data": {
      "text/plain": [
       "(883, 9)"
      ]
     },
     "execution_count": 10,
     "metadata": {},
     "output_type": "execute_result"
    }
   ],
   "source": [
    "x.shape"
   ]
  },
  {
   "cell_type": "markdown",
   "metadata": {},
   "source": [
    "## PRE PROCESAMIENTO"
   ]
  },
  {
   "cell_type": "code",
   "execution_count": 11,
   "metadata": {},
   "outputs": [],
   "source": [
    "# Importamos las librerías necesarias\n",
    "\n",
    "from sklearn.preprocessing import StandardScaler\n",
    "from sklearn.model_selection import train_test_split\n",
    "from sklearn.metrics import accuracy_score\n",
    "from sklearn.metrics import classification_report\n",
    "from sklearn.model_selection import cross_val_score\n",
    "from sklearn import metrics\n",
    "from sklearn.model_selection import GridSearchCV\n",
    "from sklearn.svm import SVC\n",
    "from sklearn import svm\n",
    "from sklearn.neighbors import KNeighborsClassifier\n",
    "from sklearn.ensemble import RandomForestClassifier\n",
    "from sklearn.utils import class_weight\n",
    "from sklearn.linear_model import LogisticRegression"
   ]
  },
  {
   "cell_type": "code",
   "execution_count": 12,
   "metadata": {},
   "outputs": [
    {
     "name": "stdout",
     "output_type": "stream",
     "text": [
      "El tamaño del \"X\" de entrenamiento es: (264, 9)\n",
      "Se corresponde con el \"Y\" de entrenamiento (264,)\n"
     ]
    }
   ],
   "source": [
    "# Separamos el data set en train y test\n",
    "xtrain,xtest,ytrain,ytest=train_test_split(x,y, test_size=0.7, random_state=8)\n",
    "print('El tamaño del \"X\" de entrenamiento es: ' + str(xtrain.shape))\n",
    "print('Se corresponde con el \"Y\" de entrenamiento ' + str(ytrain.shape))"
   ]
  },
  {
   "cell_type": "code",
   "execution_count": 13,
   "metadata": {},
   "outputs": [],
   "source": [
    "from sklearn import preprocessing\n",
    "\n",
    "scaler = preprocessing.StandardScaler().fit(xtrain)"
   ]
  },
  {
   "cell_type": "code",
   "execution_count": 14,
   "metadata": {},
   "outputs": [],
   "source": [
    "xtrain_scaled = scaler.transform (xtrain)\n",
    "xtest_scaled = scaler.transform (xtest)"
   ]
  },
  {
   "cell_type": "code",
   "execution_count": 15,
   "metadata": {},
   "outputs": [
    {
     "data": {
      "text/plain": [
       "(264, 9)"
      ]
     },
     "execution_count": 15,
     "metadata": {},
     "output_type": "execute_result"
    }
   ],
   "source": [
    "xtrain_scaled.shape"
   ]
  },
  {
   "cell_type": "markdown",
   "metadata": {},
   "source": [
    "## ML\n",
    "\n",
    "Se utilizarán distintos modelos, con distintos hiperparámetros para obtener aquel que mejor logre clasificar nuestro objetivo."
   ]
  },
  {
   "cell_type": "markdown",
   "metadata": {},
   "source": [
    "\n",
    "### Support Vector Classifier"
   ]
  },
  {
   "cell_type": "code",
   "execution_count": 16,
   "metadata": {},
   "outputs": [
    {
     "name": "stderr",
     "output_type": "stream",
     "text": [
      "D:\\Anaconda\\lib\\site-packages\\sklearn\\model_selection\\_split.py:670: UserWarning: The least populated class in y has only 1 members, which is less than n_splits=5.\n",
      "  warnings.warn((\"The least populated class in y has only %d\"\n"
     ]
    },
    {
     "data": {
      "text/plain": [
       "GridSearchCV(cv=5, estimator=SVC(class_weight='balanced', probability=True),\n",
       "             param_grid={'C': [0.001, 0.1, 1, 5, 10, 100],\n",
       "                         'gamma': [0.1, 1, 5, 10],\n",
       "                         'kernel': ('linear', 'rbf')})"
      ]
     },
     "execution_count": 16,
     "metadata": {},
     "output_type": "execute_result"
    }
   ],
   "source": [
    "# Definimos el clasificador\n",
    "\n",
    "svc = SVC(probability=True, class_weight='balanced')\n",
    "\n",
    "param_svc={'kernel':('linear','rbf'),\n",
    "           'C':[0.001, 0.1, 1, 5, 10, 100],\n",
    "           'gamma':[0.1, 1, 5, 10]}\n",
    "\n",
    "gs_svc=GridSearchCV(svc, param_grid=param_svc, refit=True,cv=5)\n",
    "gs_svc.fit(xtrain_scaled,ytrain)"
   ]
  },
  {
   "cell_type": "code",
   "execution_count": 17,
   "metadata": {},
   "outputs": [
    {
     "name": "stdout",
     "output_type": "stream",
     "text": [
      "Los mejores parámetros son:  {'C': 100, 'gamma': 5, 'kernel': 'rbf'}\n",
      "El score obtenido fue:  0.11357039187227866\n"
     ]
    }
   ],
   "source": [
    "print ('Los mejores parámetros son: ',  gs_svc.best_params_)\n",
    "print ('El score obtenido fue: ', gs_svc.best_score_)"
   ]
  },
  {
   "cell_type": "code",
   "execution_count": 18,
   "metadata": {},
   "outputs": [
    {
     "name": "stdout",
     "output_type": "stream",
     "text": [
      "El accuracy obtenido fue de 0.09 \n"
     ]
    }
   ],
   "source": [
    "ypred_svc=gs_svc.predict(xtest_scaled)\n",
    "score_svc=accuracy_score(ytest,ypred_svc)\n",
    "print('El accuracy obtenido fue de %0.2f ' %(accuracy_score(ytest,ypred_svc)))"
   ]
  },
  {
   "cell_type": "code",
   "execution_count": 19,
   "metadata": {},
   "outputs": [],
   "source": [
    "# Vamos a guardar los resultados y comparar al final\n",
    "\n",
    "rdos = pd.DataFrame(columns=['Clasificador', 'Accuracy'])"
   ]
  },
  {
   "cell_type": "code",
   "execution_count": 20,
   "metadata": {},
   "outputs": [],
   "source": [
    "rdos = rdos.append({'Clasificador':'SVC en meses',\n",
    "                   'Accuracy': score_svc}, ignore_index=True)"
   ]
  },
  {
   "cell_type": "markdown",
   "metadata": {},
   "source": [
    "### KNN Classifier"
   ]
  },
  {
   "cell_type": "code",
   "execution_count": 21,
   "metadata": {},
   "outputs": [
    {
     "name": "stderr",
     "output_type": "stream",
     "text": [
      "D:\\Anaconda\\lib\\site-packages\\sklearn\\model_selection\\_split.py:670: UserWarning: The least populated class in y has only 1 members, which is less than n_splits=5.\n",
      "  warnings.warn((\"The least populated class in y has only %d\"\n"
     ]
    },
    {
     "data": {
      "text/plain": [
       "GridSearchCV(cv=5, estimator=KNeighborsClassifier(),\n",
       "             param_grid={'n_neighbors': [1, 2, 5, 10, 15, 20, 50, 100]})"
      ]
     },
     "execution_count": 21,
     "metadata": {},
     "output_type": "execute_result"
    }
   ],
   "source": [
    "knn = KNeighborsClassifier()\n",
    "\n",
    "param_knn = {'n_neighbors': [1,2,5,10,15,20,50,100]}\n",
    "\n",
    "gs_knn = GridSearchCV(knn, param_grid=param_knn,refit=True, cv=5)\n",
    "gs_knn.fit(xtrain_scaled,ytrain)"
   ]
  },
  {
   "cell_type": "code",
   "execution_count": 22,
   "metadata": {},
   "outputs": [
    {
     "name": "stdout",
     "output_type": "stream",
     "text": [
      "Los mejores parámetros son:  {'n_neighbors': 5}\n",
      "El score obtenido fue:  0.1741654571843251\n",
      "El accuracy obtenido fue de 0.13 \n"
     ]
    }
   ],
   "source": [
    "print ('Los mejores parámetros son: ', gs_knn.best_params_)\n",
    "print ('El score obtenido fue: ', gs_knn.best_score_)\n",
    "ypred_knn=gs_knn.predict(xtest_scaled)\n",
    "score_knn=accuracy_score(ytest,ypred_knn)\n",
    "print('El accuracy obtenido fue de %0.2f ' %(accuracy_score(ytest,ypred_knn)))"
   ]
  },
  {
   "cell_type": "code",
   "execution_count": 23,
   "metadata": {},
   "outputs": [],
   "source": [
    "rdos = rdos.append({'Clasificador':'KNN en meses',\n",
    "                    'Accuracy': score_knn}, ignore_index=True)"
   ]
  },
  {
   "cell_type": "code",
   "execution_count": 24,
   "metadata": {},
   "outputs": [],
   "source": [
    "# Vamos a ver cómo varía el accuracy en función de los distintos K\n",
    "\n",
    "iteraciones_knn = 50\n",
    "acc_knn = np.zeros(iteraciones_knn)"
   ]
  },
  {
   "cell_type": "code",
   "execution_count": 25,
   "metadata": {},
   "outputs": [],
   "source": [
    "for r in range(0,iteraciones_knn):\n",
    "   \n",
    "    neigh = KNeighborsClassifier(n_neighbors=r+1)\n",
    "    neigh.fit(xtrain_scaled,ytrain)\n",
    "    ypred_knn = neigh.predict(xtest_scaled)\n",
    "    acc_knn[r] = accuracy_score(ytest, ypred_knn)"
   ]
  },
  {
   "cell_type": "code",
   "execution_count": 27,
   "metadata": {},
   "outputs": [
    {
     "data": {
      "image/png": "[encoded data removed]",
      "text/plain": [
       "<Figure size 432x288 with 1 Axes>"
      ]
     },
     "metadata": {},
     "output_type": "display_data"
    }
   ],
   "source": [
    "plt.plot(acc_knn)\n",
    "plt.xlabel(\"valor de K\")\n",
    "plt.ylabel(\"Variación de accuracy utilizando distintos K)\")\n",
    "sns.set_style('darkgrid')\n",
    "plt.show()"
   ]
  },
  {
   "cell_type": "markdown",
   "metadata": {},
   "source": [
    "Como vimos del gráfico anterior, a mayor K, el accuracy disminuye. Con lo cual, conservamos el obtenido con cross validation previamente"
   ]
  },
  {
   "cell_type": "markdown",
   "metadata": {},
   "source": [
    "### Random Forest Classifier"
   ]
  },
  {
   "cell_type": "code",
   "execution_count": 28,
   "metadata": {},
   "outputs": [
    {
     "name": "stderr",
     "output_type": "stream",
     "text": [
      "D:\\Anaconda\\lib\\site-packages\\sklearn\\model_selection\\_split.py:670: UserWarning: The least populated class in y has only 1 members, which is less than n_splits=5.\n",
      "  warnings.warn((\"The least populated class in y has only %d\"\n"
     ]
    },
    {
     "data": {
      "text/plain": [
       "GridSearchCV(cv=5, estimator=RandomForestClassifier(),\n",
       "             param_grid={'n_estimators': [1, 2, 5, 10, 15, 20, 25, 50, 75,\n",
       "                                          100]})"
      ]
     },
     "execution_count": 28,
     "metadata": {},
     "output_type": "execute_result"
    }
   ],
   "source": [
    "rfr = RandomForestClassifier()\n",
    "\n",
    "param_rfr = {'n_estimators':[1,2,5,10,15,20,25,50,75,100]}\n",
    "\n",
    "gs_rfr = GridSearchCV(rfr, param_grid=param_rfr, cv=5)\n",
    "gs_rfr.fit(xtrain_scaled,ytrain)"
   ]
  },
  {
   "cell_type": "code",
   "execution_count": 29,
   "metadata": {},
   "outputs": [
    {
     "name": "stdout",
     "output_type": "stream",
     "text": [
      "Los mejores parámetros son:  {'n_estimators': 10}\n",
      "El score obtenido fue:  0.17452830188679244\n",
      "El accuracy obtenido fue de 0.15 \n"
     ]
    }
   ],
   "source": [
    "print ('Los mejores parámetros son: ', gs_rfr.best_params_)\n",
    "print ('El score obtenido fue: ', gs_rfr.best_score_)\n",
    "ypred_rfr=gs_rfr.predict(xtest_scaled)\n",
    "score_rfr=accuracy_score(ytest,ypred_rfr)\n",
    "print('El accuracy obtenido fue de %0.2f ' %(accuracy_score(ytest,ypred_rfr)))"
   ]
  },
  {
   "cell_type": "code",
   "execution_count": 30,
   "metadata": {},
   "outputs": [],
   "source": [
    "rdos = rdos.append({'Clasificador':'Random Forest en meses',\n",
    "                   'Accuracy': score_rfr}, ignore_index=True)"
   ]
  },
  {
   "cell_type": "code",
   "execution_count": 31,
   "metadata": {},
   "outputs": [
    {
     "data": {
      "text/html": [
       "<div>\n",
       "<style scoped>\n",
       "    .dataframe tbody tr th:only-of-type {\n",
       "        vertical-align: middle;\n",
       "    }\n",
       "\n",
       "    .dataframe tbody tr th {\n",
       "        vertical-align: top;\n",
       "    }\n",
       "\n",
       "    .dataframe thead th {\n",
       "        text-align: right;\n",
       "    }\n",
       "</style>\n",
       "<table border=\"1\" class=\"dataframe\">\n",
       "  <thead>\n",
       "    <tr style=\"text-align: right;\">\n",
       "      <th></th>\n",
       "      <th>Clasificador</th>\n",
       "      <th>Accuracy</th>\n",
       "    </tr>\n",
       "  </thead>\n",
       "  <tbody>\n",
       "    <tr>\n",
       "      <th>0</th>\n",
       "      <td>SVC en meses</td>\n",
       "      <td>0.090468</td>\n",
       "    </tr>\n",
       "    <tr>\n",
       "      <th>1</th>\n",
       "      <td>KNN en meses</td>\n",
       "      <td>0.134087</td>\n",
       "    </tr>\n",
       "    <tr>\n",
       "      <th>2</th>\n",
       "      <td>Random Forest en meses</td>\n",
       "      <td>0.150242</td>\n",
       "    </tr>\n",
       "  </tbody>\n",
       "</table>\n",
       "</div>"
      ],
      "text/plain": [
       "             Clasificador  Accuracy\n",
       "0            SVC en meses  0.090468\n",
       "1            KNN en meses  0.134087\n",
       "2  Random Forest en meses  0.150242"
      ]
     },
     "execution_count": 31,
     "metadata": {},
     "output_type": "execute_result"
    }
   ],
   "source": [
    "rdos"
   ]
  },
  {
   "cell_type": "markdown",
   "metadata": {},
   "source": [
    "### Logistic Regression "
   ]
  },
  {
   "cell_type": "code",
   "execution_count": 32,
   "metadata": {},
   "outputs": [
    {
     "name": "stderr",
     "output_type": "stream",
     "text": [
      "D:\\Anaconda\\lib\\site-packages\\sklearn\\model_selection\\_split.py:670: UserWarning: The least populated class in y has only 1 members, which is less than n_splits=5.\n",
      "  warnings.warn((\"The least populated class in y has only %d\"\n",
      "D:\\Anaconda\\lib\\site-packages\\sklearn\\linear_model\\_logistic.py:762: ConvergenceWarning: lbfgs failed to converge (status=1):\n",
      "STOP: TOTAL NO. of ITERATIONS REACHED LIMIT.\n",
      "\n",
      "Increase the number of iterations (max_iter) or scale the data as shown in:\n",
      "    https://scikit-learn.org/stable/modules/preprocessing.html\n",
      "Please also refer to the documentation for alternative solver options:\n",
      "    https://scikit-learn.org/stable/modules/linear_model.html#logistic-regression\n",
      "  n_iter_i = _check_optimize_result(\n",
      "D:\\Anaconda\\lib\\site-packages\\sklearn\\linear_model\\_logistic.py:762: ConvergenceWarning: lbfgs failed to converge (status=1):\n",
      "STOP: TOTAL NO. of ITERATIONS REACHED LIMIT.\n",
      "\n",
      "Increase the number of iterations (max_iter) or scale the data as shown in:\n",
      "    https://scikit-learn.org/stable/modules/preprocessing.html\n",
      "Please also refer to the documentation for alternative solver options:\n",
      "    https://scikit-learn.org/stable/modules/linear_model.html#logistic-regression\n",
      "  n_iter_i = _check_optimize_result(\n",
      "D:\\Anaconda\\lib\\site-packages\\sklearn\\linear_model\\_logistic.py:762: ConvergenceWarning: lbfgs failed to converge (status=1):\n",
      "STOP: TOTAL NO. of ITERATIONS REACHED LIMIT.\n",
      "\n",
      "Increase the number of iterations (max_iter) or scale the data as shown in:\n",
      "    https://scikit-learn.org/stable/modules/preprocessing.html\n",
      "Please also refer to the documentation for alternative solver options:\n",
      "    https://scikit-learn.org/stable/modules/linear_model.html#logistic-regression\n",
      "  n_iter_i = _check_optimize_result(\n",
      "D:\\Anaconda\\lib\\site-packages\\sklearn\\linear_model\\_logistic.py:762: ConvergenceWarning: lbfgs failed to converge (status=1):\n",
      "STOP: TOTAL NO. of ITERATIONS REACHED LIMIT.\n",
      "\n",
      "Increase the number of iterations (max_iter) or scale the data as shown in:\n",
      "    https://scikit-learn.org/stable/modules/preprocessing.html\n",
      "Please also refer to the documentation for alternative solver options:\n",
      "    https://scikit-learn.org/stable/modules/linear_model.html#logistic-regression\n",
      "  n_iter_i = _check_optimize_result(\n",
      "D:\\Anaconda\\lib\\site-packages\\sklearn\\linear_model\\_logistic.py:762: ConvergenceWarning: lbfgs failed to converge (status=1):\n",
      "STOP: TOTAL NO. of ITERATIONS REACHED LIMIT.\n",
      "\n",
      "Increase the number of iterations (max_iter) or scale the data as shown in:\n",
      "    https://scikit-learn.org/stable/modules/preprocessing.html\n",
      "Please also refer to the documentation for alternative solver options:\n",
      "    https://scikit-learn.org/stable/modules/linear_model.html#logistic-regression\n",
      "  n_iter_i = _check_optimize_result(\n",
      "D:\\Anaconda\\lib\\site-packages\\sklearn\\linear_model\\_logistic.py:762: ConvergenceWarning: lbfgs failed to converge (status=1):\n",
      "STOP: TOTAL NO. of ITERATIONS REACHED LIMIT.\n",
      "\n",
      "Increase the number of iterations (max_iter) or scale the data as shown in:\n",
      "    https://scikit-learn.org/stable/modules/preprocessing.html\n",
      "Please also refer to the documentation for alternative solver options:\n",
      "    https://scikit-learn.org/stable/modules/linear_model.html#logistic-regression\n",
      "  n_iter_i = _check_optimize_result(\n",
      "D:\\Anaconda\\lib\\site-packages\\sklearn\\linear_model\\_logistic.py:762: ConvergenceWarning: lbfgs failed to converge (status=1):\n",
      "STOP: TOTAL NO. of ITERATIONS REACHED LIMIT.\n",
      "\n",
      "Increase the number of iterations (max_iter) or scale the data as shown in:\n",
      "    https://scikit-learn.org/stable/modules/preprocessing.html\n",
      "Please also refer to the documentation for alternative solver options:\n",
      "    https://scikit-learn.org/stable/modules/linear_model.html#logistic-regression\n",
      "  n_iter_i = _check_optimize_result(\n",
      "D:\\Anaconda\\lib\\site-packages\\sklearn\\linear_model\\_logistic.py:762: ConvergenceWarning: lbfgs failed to converge (status=1):\n",
      "STOP: TOTAL NO. of ITERATIONS REACHED LIMIT.\n",
      "\n",
      "Increase the number of iterations (max_iter) or scale the data as shown in:\n",
      "    https://scikit-learn.org/stable/modules/preprocessing.html\n",
      "Please also refer to the documentation for alternative solver options:\n",
      "    https://scikit-learn.org/stable/modules/linear_model.html#logistic-regression\n",
      "  n_iter_i = _check_optimize_result(\n",
      "D:\\Anaconda\\lib\\site-packages\\sklearn\\linear_model\\_logistic.py:762: ConvergenceWarning: lbfgs failed to converge (status=1):\n",
      "STOP: TOTAL NO. of ITERATIONS REACHED LIMIT.\n",
      "\n",
      "Increase the number of iterations (max_iter) or scale the data as shown in:\n",
      "    https://scikit-learn.org/stable/modules/preprocessing.html\n",
      "Please also refer to the documentation for alternative solver options:\n",
      "    https://scikit-learn.org/stable/modules/linear_model.html#logistic-regression\n",
      "  n_iter_i = _check_optimize_result(\n",
      "D:\\Anaconda\\lib\\site-packages\\sklearn\\linear_model\\_logistic.py:762: ConvergenceWarning: lbfgs failed to converge (status=1):\n",
      "STOP: TOTAL NO. of ITERATIONS REACHED LIMIT.\n",
      "\n",
      "Increase the number of iterations (max_iter) or scale the data as shown in:\n",
      "    https://scikit-learn.org/stable/modules/preprocessing.html\n",
      "Please also refer to the documentation for alternative solver options:\n",
      "    https://scikit-learn.org/stable/modules/linear_model.html#logistic-regression\n",
      "  n_iter_i = _check_optimize_result(\n",
      "D:\\Anaconda\\lib\\site-packages\\sklearn\\linear_model\\_logistic.py:762: ConvergenceWarning: lbfgs failed to converge (status=1):\n",
      "STOP: TOTAL NO. of ITERATIONS REACHED LIMIT.\n",
      "\n",
      "Increase the number of iterations (max_iter) or scale the data as shown in:\n",
      "    https://scikit-learn.org/stable/modules/preprocessing.html\n",
      "Please also refer to the documentation for alternative solver options:\n",
      "    https://scikit-learn.org/stable/modules/linear_model.html#logistic-regression\n",
      "  n_iter_i = _check_optimize_result(\n",
      "D:\\Anaconda\\lib\\site-packages\\sklearn\\linear_model\\_logistic.py:762: ConvergenceWarning: lbfgs failed to converge (status=1):\n",
      "STOP: TOTAL NO. of ITERATIONS REACHED LIMIT.\n",
      "\n",
      "Increase the number of iterations (max_iter) or scale the data as shown in:\n",
      "    https://scikit-learn.org/stable/modules/preprocessing.html\n",
      "Please also refer to the documentation for alternative solver options:\n",
      "    https://scikit-learn.org/stable/modules/linear_model.html#logistic-regression\n",
      "  n_iter_i = _check_optimize_result(\n",
      "D:\\Anaconda\\lib\\site-packages\\sklearn\\linear_model\\_logistic.py:762: ConvergenceWarning: lbfgs failed to converge (status=1):\n",
      "STOP: TOTAL NO. of ITERATIONS REACHED LIMIT.\n",
      "\n",
      "Increase the number of iterations (max_iter) or scale the data as shown in:\n",
      "    https://scikit-learn.org/stable/modules/preprocessing.html\n",
      "Please also refer to the documentation for alternative solver options:\n",
      "    https://scikit-learn.org/stable/modules/linear_model.html#logistic-regression\n",
      "  n_iter_i = _check_optimize_result(\n",
      "D:\\Anaconda\\lib\\site-packages\\sklearn\\linear_model\\_logistic.py:762: ConvergenceWarning: lbfgs failed to converge (status=1):\n",
      "STOP: TOTAL NO. of ITERATIONS REACHED LIMIT.\n",
      "\n",
      "Increase the number of iterations (max_iter) or scale the data as shown in:\n",
      "    https://scikit-learn.org/stable/modules/preprocessing.html\n",
      "Please also refer to the documentation for alternative solver options:\n",
      "    https://scikit-learn.org/stable/modules/linear_model.html#logistic-regression\n",
      "  n_iter_i = _check_optimize_result(\n",
      "D:\\Anaconda\\lib\\site-packages\\sklearn\\linear_model\\_logistic.py:762: ConvergenceWarning: lbfgs failed to converge (status=1):\n",
      "STOP: TOTAL NO. of ITERATIONS REACHED LIMIT.\n",
      "\n",
      "Increase the number of iterations (max_iter) or scale the data as shown in:\n",
      "    https://scikit-learn.org/stable/modules/preprocessing.html\n",
      "Please also refer to the documentation for alternative solver options:\n",
      "    https://scikit-learn.org/stable/modules/linear_model.html#logistic-regression\n",
      "  n_iter_i = _check_optimize_result(\n",
      "D:\\Anaconda\\lib\\site-packages\\sklearn\\linear_model\\_logistic.py:762: ConvergenceWarning: lbfgs failed to converge (status=1):\n",
      "STOP: TOTAL NO. of ITERATIONS REACHED LIMIT.\n",
      "\n",
      "Increase the number of iterations (max_iter) or scale the data as shown in:\n",
      "    https://scikit-learn.org/stable/modules/preprocessing.html\n",
      "Please also refer to the documentation for alternative solver options:\n",
      "    https://scikit-learn.org/stable/modules/linear_model.html#logistic-regression\n",
      "  n_iter_i = _check_optimize_result(\n",
      "D:\\Anaconda\\lib\\site-packages\\sklearn\\linear_model\\_logistic.py:762: ConvergenceWarning: lbfgs failed to converge (status=1):\n",
      "STOP: TOTAL NO. of ITERATIONS REACHED LIMIT.\n",
      "\n",
      "Increase the number of iterations (max_iter) or scale the data as shown in:\n",
      "    https://scikit-learn.org/stable/modules/preprocessing.html\n",
      "Please also refer to the documentation for alternative solver options:\n",
      "    https://scikit-learn.org/stable/modules/linear_model.html#logistic-regression\n",
      "  n_iter_i = _check_optimize_result(\n",
      "D:\\Anaconda\\lib\\site-packages\\sklearn\\linear_model\\_logistic.py:762: ConvergenceWarning: lbfgs failed to converge (status=1):\n",
      "STOP: TOTAL NO. of ITERATIONS REACHED LIMIT.\n",
      "\n",
      "Increase the number of iterations (max_iter) or scale the data as shown in:\n",
      "    https://scikit-learn.org/stable/modules/preprocessing.html\n",
      "Please also refer to the documentation for alternative solver options:\n",
      "    https://scikit-learn.org/stable/modules/linear_model.html#logistic-regression\n",
      "  n_iter_i = _check_optimize_result(\n"
     ]
    },
    {
     "name": "stderr",
     "output_type": "stream",
     "text": [
      "D:\\Anaconda\\lib\\site-packages\\sklearn\\linear_model\\_logistic.py:762: ConvergenceWarning: lbfgs failed to converge (status=1):\n",
      "STOP: TOTAL NO. of ITERATIONS REACHED LIMIT.\n",
      "\n",
      "Increase the number of iterations (max_iter) or scale the data as shown in:\n",
      "    https://scikit-learn.org/stable/modules/preprocessing.html\n",
      "Please also refer to the documentation for alternative solver options:\n",
      "    https://scikit-learn.org/stable/modules/linear_model.html#logistic-regression\n",
      "  n_iter_i = _check_optimize_result(\n",
      "D:\\Anaconda\\lib\\site-packages\\sklearn\\linear_model\\_logistic.py:762: ConvergenceWarning: lbfgs failed to converge (status=1):\n",
      "STOP: TOTAL NO. of ITERATIONS REACHED LIMIT.\n",
      "\n",
      "Increase the number of iterations (max_iter) or scale the data as shown in:\n",
      "    https://scikit-learn.org/stable/modules/preprocessing.html\n",
      "Please also refer to the documentation for alternative solver options:\n",
      "    https://scikit-learn.org/stable/modules/linear_model.html#logistic-regression\n",
      "  n_iter_i = _check_optimize_result(\n",
      "D:\\Anaconda\\lib\\site-packages\\sklearn\\linear_model\\_logistic.py:762: ConvergenceWarning: lbfgs failed to converge (status=1):\n",
      "STOP: TOTAL NO. of ITERATIONS REACHED LIMIT.\n",
      "\n",
      "Increase the number of iterations (max_iter) or scale the data as shown in:\n",
      "    https://scikit-learn.org/stable/modules/preprocessing.html\n",
      "Please also refer to the documentation for alternative solver options:\n",
      "    https://scikit-learn.org/stable/modules/linear_model.html#logistic-regression\n",
      "  n_iter_i = _check_optimize_result(\n",
      "D:\\Anaconda\\lib\\site-packages\\sklearn\\linear_model\\_logistic.py:762: ConvergenceWarning: lbfgs failed to converge (status=1):\n",
      "STOP: TOTAL NO. of ITERATIONS REACHED LIMIT.\n",
      "\n",
      "Increase the number of iterations (max_iter) or scale the data as shown in:\n",
      "    https://scikit-learn.org/stable/modules/preprocessing.html\n",
      "Please also refer to the documentation for alternative solver options:\n",
      "    https://scikit-learn.org/stable/modules/linear_model.html#logistic-regression\n",
      "  n_iter_i = _check_optimize_result(\n",
      "D:\\Anaconda\\lib\\site-packages\\sklearn\\linear_model\\_logistic.py:762: ConvergenceWarning: lbfgs failed to converge (status=1):\n",
      "STOP: TOTAL NO. of ITERATIONS REACHED LIMIT.\n",
      "\n",
      "Increase the number of iterations (max_iter) or scale the data as shown in:\n",
      "    https://scikit-learn.org/stable/modules/preprocessing.html\n",
      "Please also refer to the documentation for alternative solver options:\n",
      "    https://scikit-learn.org/stable/modules/linear_model.html#logistic-regression\n",
      "  n_iter_i = _check_optimize_result(\n",
      "D:\\Anaconda\\lib\\site-packages\\sklearn\\linear_model\\_logistic.py:762: ConvergenceWarning: lbfgs failed to converge (status=1):\n",
      "STOP: TOTAL NO. of ITERATIONS REACHED LIMIT.\n",
      "\n",
      "Increase the number of iterations (max_iter) or scale the data as shown in:\n",
      "    https://scikit-learn.org/stable/modules/preprocessing.html\n",
      "Please also refer to the documentation for alternative solver options:\n",
      "    https://scikit-learn.org/stable/modules/linear_model.html#logistic-regression\n",
      "  n_iter_i = _check_optimize_result(\n",
      "D:\\Anaconda\\lib\\site-packages\\sklearn\\linear_model\\_logistic.py:762: ConvergenceWarning: lbfgs failed to converge (status=1):\n",
      "STOP: TOTAL NO. of ITERATIONS REACHED LIMIT.\n",
      "\n",
      "Increase the number of iterations (max_iter) or scale the data as shown in:\n",
      "    https://scikit-learn.org/stable/modules/preprocessing.html\n",
      "Please also refer to the documentation for alternative solver options:\n",
      "    https://scikit-learn.org/stable/modules/linear_model.html#logistic-regression\n",
      "  n_iter_i = _check_optimize_result(\n",
      "D:\\Anaconda\\lib\\site-packages\\sklearn\\linear_model\\_logistic.py:762: ConvergenceWarning: lbfgs failed to converge (status=1):\n",
      "STOP: TOTAL NO. of ITERATIONS REACHED LIMIT.\n",
      "\n",
      "Increase the number of iterations (max_iter) or scale the data as shown in:\n",
      "    https://scikit-learn.org/stable/modules/preprocessing.html\n",
      "Please also refer to the documentation for alternative solver options:\n",
      "    https://scikit-learn.org/stable/modules/linear_model.html#logistic-regression\n",
      "  n_iter_i = _check_optimize_result(\n",
      "D:\\Anaconda\\lib\\site-packages\\sklearn\\linear_model\\_logistic.py:762: ConvergenceWarning: lbfgs failed to converge (status=1):\n",
      "STOP: TOTAL NO. of ITERATIONS REACHED LIMIT.\n",
      "\n",
      "Increase the number of iterations (max_iter) or scale the data as shown in:\n",
      "    https://scikit-learn.org/stable/modules/preprocessing.html\n",
      "Please also refer to the documentation for alternative solver options:\n",
      "    https://scikit-learn.org/stable/modules/linear_model.html#logistic-regression\n",
      "  n_iter_i = _check_optimize_result(\n",
      "D:\\Anaconda\\lib\\site-packages\\sklearn\\linear_model\\_logistic.py:762: ConvergenceWarning: lbfgs failed to converge (status=1):\n",
      "STOP: TOTAL NO. of ITERATIONS REACHED LIMIT.\n",
      "\n",
      "Increase the number of iterations (max_iter) or scale the data as shown in:\n",
      "    https://scikit-learn.org/stable/modules/preprocessing.html\n",
      "Please also refer to the documentation for alternative solver options:\n",
      "    https://scikit-learn.org/stable/modules/linear_model.html#logistic-regression\n",
      "  n_iter_i = _check_optimize_result(\n",
      "D:\\Anaconda\\lib\\site-packages\\sklearn\\linear_model\\_logistic.py:762: ConvergenceWarning: lbfgs failed to converge (status=1):\n",
      "STOP: TOTAL NO. of ITERATIONS REACHED LIMIT.\n",
      "\n",
      "Increase the number of iterations (max_iter) or scale the data as shown in:\n",
      "    https://scikit-learn.org/stable/modules/preprocessing.html\n",
      "Please also refer to the documentation for alternative solver options:\n",
      "    https://scikit-learn.org/stable/modules/linear_model.html#logistic-regression\n",
      "  n_iter_i = _check_optimize_result(\n",
      "D:\\Anaconda\\lib\\site-packages\\sklearn\\linear_model\\_logistic.py:762: ConvergenceWarning: lbfgs failed to converge (status=1):\n",
      "STOP: TOTAL NO. of ITERATIONS REACHED LIMIT.\n",
      "\n",
      "Increase the number of iterations (max_iter) or scale the data as shown in:\n",
      "    https://scikit-learn.org/stable/modules/preprocessing.html\n",
      "Please also refer to the documentation for alternative solver options:\n",
      "    https://scikit-learn.org/stable/modules/linear_model.html#logistic-regression\n",
      "  n_iter_i = _check_optimize_result(\n",
      "D:\\Anaconda\\lib\\site-packages\\sklearn\\linear_model\\_logistic.py:762: ConvergenceWarning: lbfgs failed to converge (status=1):\n",
      "STOP: TOTAL NO. of ITERATIONS REACHED LIMIT.\n",
      "\n",
      "Increase the number of iterations (max_iter) or scale the data as shown in:\n",
      "    https://scikit-learn.org/stable/modules/preprocessing.html\n",
      "Please also refer to the documentation for alternative solver options:\n",
      "    https://scikit-learn.org/stable/modules/linear_model.html#logistic-regression\n",
      "  n_iter_i = _check_optimize_result(\n",
      "D:\\Anaconda\\lib\\site-packages\\sklearn\\linear_model\\_logistic.py:762: ConvergenceWarning: lbfgs failed to converge (status=1):\n",
      "STOP: TOTAL NO. of ITERATIONS REACHED LIMIT.\n",
      "\n",
      "Increase the number of iterations (max_iter) or scale the data as shown in:\n",
      "    https://scikit-learn.org/stable/modules/preprocessing.html\n",
      "Please also refer to the documentation for alternative solver options:\n",
      "    https://scikit-learn.org/stable/modules/linear_model.html#logistic-regression\n",
      "  n_iter_i = _check_optimize_result(\n"
     ]
    },
    {
     "data": {
      "text/plain": [
       "GridSearchCV(cv=5, estimator=LogisticRegression(),\n",
       "             param_grid={'C': [1, 5, 10, 50, 70, 100, 150]})"
      ]
     },
     "execution_count": 32,
     "metadata": {},
     "output_type": "execute_result"
    }
   ],
   "source": [
    "lr = LogisticRegression()\n",
    "\n",
    "param_lr = {'C': [1, 5, 10, 50, 70, 100, 150]}\n",
    "\n",
    "gs_lr = GridSearchCV(lr, param_grid=param_lr, cv=5)\n",
    "gs_lr.fit(xtrain_scaled,ytrain)"
   ]
  },
  {
   "cell_type": "code",
   "execution_count": 33,
   "metadata": {},
   "outputs": [
    {
     "name": "stdout",
     "output_type": "stream",
     "text": [
      "Los mejores parámetros son:  {'C': 150}\n",
      "El score obtenido fue:  0.17060957910014513\n",
      "El accuracy obtenido fue de 0.11 \n"
     ]
    }
   ],
   "source": [
    "print ('Los mejores parámetros son: ', gs_lr.best_params_)\n",
    "print ('El score obtenido fue: ', gs_lr.best_score_)\n",
    "ypred_lr=gs_lr.predict(xtest_scaled)\n",
    "score_lr=accuracy_score(ytest,ypred_lr)\n",
    "print('El accuracy obtenido fue de %0.2f ' %(accuracy_score(ytest,ypred_lr)))"
   ]
  },
  {
   "cell_type": "code",
   "execution_count": 34,
   "metadata": {},
   "outputs": [],
   "source": [
    "rdos = rdos.append({'Clasificador':'LR en meses',\n",
    "                   'Accuracy': score_lr}, ignore_index=True)"
   ]
  },
  {
   "cell_type": "code",
   "execution_count": 35,
   "metadata": {},
   "outputs": [
    {
     "data": {
      "text/html": [
       "<div>\n",
       "<style scoped>\n",
       "    .dataframe tbody tr th:only-of-type {\n",
       "        vertical-align: middle;\n",
       "    }\n",
       "\n",
       "    .dataframe tbody tr th {\n",
       "        vertical-align: top;\n",
       "    }\n",
       "\n",
       "    .dataframe thead th {\n",
       "        text-align: right;\n",
       "    }\n",
       "</style>\n",
       "<table border=\"1\" class=\"dataframe\">\n",
       "  <thead>\n",
       "    <tr style=\"text-align: right;\">\n",
       "      <th></th>\n",
       "      <th>Clasificador</th>\n",
       "      <th>Accuracy</th>\n",
       "    </tr>\n",
       "  </thead>\n",
       "  <tbody>\n",
       "    <tr>\n",
       "      <th>0</th>\n",
       "      <td>SVC en meses</td>\n",
       "      <td>0.090468</td>\n",
       "    </tr>\n",
       "    <tr>\n",
       "      <th>1</th>\n",
       "      <td>KNN en meses</td>\n",
       "      <td>0.134087</td>\n",
       "    </tr>\n",
       "    <tr>\n",
       "      <th>2</th>\n",
       "      <td>Random Forest en meses</td>\n",
       "      <td>0.150242</td>\n",
       "    </tr>\n",
       "    <tr>\n",
       "      <th>3</th>\n",
       "      <td>LR en meses</td>\n",
       "      <td>0.108239</td>\n",
       "    </tr>\n",
       "  </tbody>\n",
       "</table>\n",
       "</div>"
      ],
      "text/plain": [
       "             Clasificador  Accuracy\n",
       "0            SVC en meses  0.090468\n",
       "1            KNN en meses  0.134087\n",
       "2  Random Forest en meses  0.150242\n",
       "3             LR en meses  0.108239"
      ]
     },
     "execution_count": 35,
     "metadata": {},
     "output_type": "execute_result"
    }
   ],
   "source": [
    "rdos"
   ]
  },
  {
   "cell_type": "markdown",
   "metadata": {
    "hide_input": true
   },
   "source": [
    "## Resultados / Visualización"
   ]
  },
  {
   "cell_type": "code",
   "execution_count": 36,
   "metadata": {
    "hide_input": true
   },
   "outputs": [],
   "source": [
    "from sklearn.metrics import plot_confusion_matrix"
   ]
  },
  {
   "cell_type": "code",
   "execution_count": 37,
   "metadata": {
    "hide_input": true
   },
   "outputs": [
    {
     "data": {
      "text/plain": [
       "<sklearn.metrics._plot.confusion_matrix.ConfusionMatrixDisplay at 0x170f22422b0>"
      ]
     },
     "execution_count": 37,
     "metadata": {},
     "output_type": "execute_result"
    },
    {
     "data": {
      "image/png": "[encoded data removed]",
      "text/plain": [
       "<Figure size 864x864 with 2 Axes>"
      ]
     },
     "metadata": {},
     "output_type": "display_data"
    }
   ],
   "source": [
    "# Visualizamos la matriz de confusión para el mejor accuracy score (en este caso random forest)\n",
    "\n",
    "fig, ax = plt.subplots(figsize=(12, 12))\n",
    "plot_confusion_matrix(gs_rfr, xtest_scaled, ytest,\n",
    "                            cmap=plt.cm.pink_r,\n",
    "                            xticks_rotation=45, ax=ax)\n"
   ]
  },
  {
   "cell_type": "code",
   "execution_count": 38,
   "metadata": {
    "scrolled": true
   },
   "outputs": [
    {
     "name": "stdout",
     "output_type": "stream",
     "text": [
      "              precision    recall  f1-score   support\n",
      "\n",
      "           1       0.34      0.43      0.38        63\n",
      "           2       0.23      0.31      0.27        61\n",
      "           3       0.18      0.18      0.18        67\n",
      "           4       0.06      0.04      0.05        51\n",
      "           5       0.13      0.26      0.17        35\n",
      "           6       0.12      0.04      0.06        53\n",
      "           7       0.05      0.06      0.05        34\n",
      "           8       0.10      0.11      0.10        18\n",
      "           9       0.09      0.05      0.06        20\n",
      "          10       0.14      0.19      0.16        27\n",
      "          11       0.00      0.00      0.00        11\n",
      "          12       0.08      0.08      0.08        24\n",
      "          13       0.00      0.00      0.00        11\n",
      "          14       0.13      0.25      0.17        12\n",
      "          15       0.00      0.00      0.00        14\n",
      "          16       0.27      0.21      0.24        14\n",
      "          17       0.25      0.14      0.18        14\n",
      "          18       0.14      0.06      0.08        18\n",
      "          19       0.00      0.00      0.00        10\n",
      "          20       0.14      0.09      0.11        11\n",
      "          21       0.00      0.00      0.00         9\n",
      "          22       0.00      0.00      0.00         2\n",
      "          23       0.00      0.00      0.00         5\n",
      "          24       0.00      0.00      0.00         4\n",
      "          25       0.00      0.00      0.00         0\n",
      "          26       0.00      0.00      0.00         4\n",
      "          27       0.00      0.00      0.00         5\n",
      "          28       0.00      0.00      0.00         4\n",
      "          29       0.00      0.00      0.00         4\n",
      "          30       0.00      0.00      0.00         2\n",
      "          31       0.00      0.00      0.00         1\n",
      "          32       0.00      0.00      0.00         1\n",
      "          33       0.00      0.00      0.00         2\n",
      "          34       0.00      0.00      0.00         0\n",
      "          37       0.00      0.00      0.00         2\n",
      "          38       0.00      0.00      0.00         1\n",
      "          40       0.00      0.00      0.00         0\n",
      "          42       0.00      0.00      0.00         1\n",
      "          45       0.00      0.00      0.00         1\n",
      "          46       0.00      0.00      0.00         1\n",
      "          52       0.00      0.00      0.00         1\n",
      "          55       0.00      0.00      0.00         0\n",
      "          57       0.00      0.00      0.00         1\n",
      "\n",
      "    accuracy                           0.15       619\n",
      "   macro avg       0.06      0.06      0.05       619\n",
      "weighted avg       0.14      0.15      0.14       619\n",
      "\n"
     ]
    },
    {
     "name": "stderr",
     "output_type": "stream",
     "text": [
      "D:\\Anaconda\\lib\\site-packages\\sklearn\\metrics\\_classification.py:1221: UndefinedMetricWarning: Precision and F-score are ill-defined and being set to 0.0 in labels with no predicted samples. Use `zero_division` parameter to control this behavior.\n",
      "  _warn_prf(average, modifier, msg_start, len(result))\n",
      "D:\\Anaconda\\lib\\site-packages\\sklearn\\metrics\\_classification.py:1221: UndefinedMetricWarning: Recall and F-score are ill-defined and being set to 0.0 in labels with no true samples. Use `zero_division` parameter to control this behavior.\n",
      "  _warn_prf(average, modifier, msg_start, len(result))\n"
     ]
    }
   ],
   "source": [
    "print(classification_report(ytest, ypred_rfr))"
   ]
  },
  {
   "cell_type": "markdown",
   "metadata": {},
   "source": [
    "### Conclusiones / Observaciones\n",
    "\n",
    "Por cómo definimos este modelo, estamos buscando que clasifique entre +30 clases distintas, de las cuales en algunos casos solo tiene 1 sample para aprender, esto provoca que posea un accuracy muy bajo. De aquellas muestras con más samples podemos ver que en la matriz de confusión poseen el valor de true positives más elevado.\n",
    "\n",
    "## Análisis en años"
   ]
  },
  {
   "cell_type": "code",
   "execution_count": 39,
   "metadata": {},
   "outputs": [],
   "source": [
    "obras_años['etapa'].replace('En ejecución',np.nan,inplace=True)\n",
    "obras_años['etapa'].replace('En licitación',np.nan,inplace=True)"
   ]
  },
  {
   "cell_type": "code",
   "execution_count": 40,
   "metadata": {},
   "outputs": [
    {
     "name": "stdout",
     "output_type": "stream",
     "text": [
      "Filas:883\n"
     ]
    }
   ],
   "source": [
    "obras_años.dropna(subset=['etapa'],how='any',inplace=True,axis='index')\n",
    "filas=np.shape(obras_años)[0]\n",
    "print(f'Filas:{filas}')"
   ]
  },
  {
   "cell_type": "markdown",
   "metadata": {},
   "source": [
    "## Target"
   ]
  },
  {
   "cell_type": "code",
   "execution_count": 41,
   "metadata": {},
   "outputs": [
    {
     "name": "stdout",
     "output_type": "stream",
     "text": [
      "\n",
      " ['De 2 a 3 años' 'De 1 a 2 años' 'Menos de 1 año' 'Más de 3 años']\n"
     ]
    }
   ],
   "source": [
    "target = obras_años['plazo_años'].unique()\n",
    "print(\"\\n\", obras_años['plazo_años'].unique())"
   ]
  },
  {
   "cell_type": "code",
   "execution_count": 42,
   "metadata": {},
   "outputs": [
    {
     "data": {
      "text/plain": [
       "0       De 2 a 3 años\n",
       "1       De 1 a 2 años\n",
       "2       De 1 a 2 años\n",
       "3       De 2 a 3 años\n",
       "4      Menos de 1 año\n",
       "            ...      \n",
       "929    Menos de 1 año\n",
       "930    Menos de 1 año\n",
       "931    Menos de 1 año\n",
       "932    Menos de 1 año\n",
       "933    Menos de 1 año\n",
       "Name: plazo_años, Length: 883, dtype: object"
      ]
     },
     "execution_count": 42,
     "metadata": {},
     "output_type": "execute_result"
    }
   ],
   "source": [
    "# Definimos primero nuestro target, al cual lo guardaremos en una variable y\n",
    "\n",
    "y_años = obras_años.iloc[:,3]\n",
    "y_años"
   ]
  },
  {
   "cell_type": "code",
   "execution_count": 43,
   "metadata": {},
   "outputs": [],
   "source": [
    "# Al ser una variable categórica la vamos a transformar\n",
    "\n",
    "le_años = preprocessing.LabelEncoder()\n",
    "y_años = le_años.fit_transform(y_años)\n",
    "obras_años['Encoded'] = y_años"
   ]
  },
  {
   "cell_type": "code",
   "execution_count": 44,
   "metadata": {
    "scrolled": true
   },
   "outputs": [
    {
     "data": {
      "text/html": [
       "<div>\n",
       "<style scoped>\n",
       "    .dataframe tbody tr th:only-of-type {\n",
       "        vertical-align: middle;\n",
       "    }\n",
       "\n",
       "    .dataframe tbody tr th {\n",
       "        vertical-align: top;\n",
       "    }\n",
       "\n",
       "    .dataframe thead th {\n",
       "        text-align: right;\n",
       "    }\n",
       "</style>\n",
       "<table border=\"1\" class=\"dataframe\">\n",
       "  <thead>\n",
       "    <tr style=\"text-align: right;\">\n",
       "      <th></th>\n",
       "      <th>Unnamed: 0</th>\n",
       "      <th>etapa</th>\n",
       "      <th>tipo</th>\n",
       "      <th>plazo_años</th>\n",
       "      <th>monto_miles</th>\n",
       "      <th>comuna</th>\n",
       "      <th>Encoded</th>\n",
       "      <th>Arquitectura</th>\n",
       "      <th>Escuelas</th>\n",
       "      <th>Espacio Público</th>\n",
       "      <th>Hidráulica e Infraestructura</th>\n",
       "      <th>Salud</th>\n",
       "      <th>Transporte</th>\n",
       "      <th>Vivienda</th>\n",
       "    </tr>\n",
       "  </thead>\n",
       "  <tbody>\n",
       "    <tr>\n",
       "      <th>0</th>\n",
       "      <td>0</td>\n",
       "      <td>Finalizada</td>\n",
       "      <td>Escuelas</td>\n",
       "      <td>De 2 a 3 años</td>\n",
       "      <td>67065.700</td>\n",
       "      <td>12</td>\n",
       "      <td>1</td>\n",
       "      <td>0</td>\n",
       "      <td>1</td>\n",
       "      <td>0</td>\n",
       "      <td>0</td>\n",
       "      <td>0</td>\n",
       "      <td>0</td>\n",
       "      <td>0</td>\n",
       "    </tr>\n",
       "    <tr>\n",
       "      <th>1</th>\n",
       "      <td>1</td>\n",
       "      <td>Finalizada</td>\n",
       "      <td>Espacio Público</td>\n",
       "      <td>De 1 a 2 años</td>\n",
       "      <td>9950.017</td>\n",
       "      <td>12</td>\n",
       "      <td>0</td>\n",
       "      <td>0</td>\n",
       "      <td>0</td>\n",
       "      <td>1</td>\n",
       "      <td>0</td>\n",
       "      <td>0</td>\n",
       "      <td>0</td>\n",
       "      <td>0</td>\n",
       "    </tr>\n",
       "    <tr>\n",
       "      <th>2</th>\n",
       "      <td>2</td>\n",
       "      <td>Finalizada</td>\n",
       "      <td>Espacio Público</td>\n",
       "      <td>De 1 a 2 años</td>\n",
       "      <td>36942.632</td>\n",
       "      <td>1</td>\n",
       "      <td>0</td>\n",
       "      <td>0</td>\n",
       "      <td>0</td>\n",
       "      <td>1</td>\n",
       "      <td>0</td>\n",
       "      <td>0</td>\n",
       "      <td>0</td>\n",
       "      <td>0</td>\n",
       "    </tr>\n",
       "    <tr>\n",
       "      <th>3</th>\n",
       "      <td>3</td>\n",
       "      <td>Finalizada</td>\n",
       "      <td>Espacio Público</td>\n",
       "      <td>De 2 a 3 años</td>\n",
       "      <td>26938.294</td>\n",
       "      <td>1</td>\n",
       "      <td>1</td>\n",
       "      <td>0</td>\n",
       "      <td>0</td>\n",
       "      <td>1</td>\n",
       "      <td>0</td>\n",
       "      <td>0</td>\n",
       "      <td>0</td>\n",
       "      <td>0</td>\n",
       "    </tr>\n",
       "    <tr>\n",
       "      <th>4</th>\n",
       "      <td>4</td>\n",
       "      <td>Finalizada</td>\n",
       "      <td>Vivienda</td>\n",
       "      <td>Menos de 1 año</td>\n",
       "      <td>6990.315</td>\n",
       "      <td>8</td>\n",
       "      <td>2</td>\n",
       "      <td>0</td>\n",
       "      <td>0</td>\n",
       "      <td>0</td>\n",
       "      <td>0</td>\n",
       "      <td>0</td>\n",
       "      <td>0</td>\n",
       "      <td>1</td>\n",
       "    </tr>\n",
       "    <tr>\n",
       "      <th>...</th>\n",
       "      <td>...</td>\n",
       "      <td>...</td>\n",
       "      <td>...</td>\n",
       "      <td>...</td>\n",
       "      <td>...</td>\n",
       "      <td>...</td>\n",
       "      <td>...</td>\n",
       "      <td>...</td>\n",
       "      <td>...</td>\n",
       "      <td>...</td>\n",
       "      <td>...</td>\n",
       "      <td>...</td>\n",
       "      <td>...</td>\n",
       "      <td>...</td>\n",
       "    </tr>\n",
       "    <tr>\n",
       "      <th>929</th>\n",
       "      <td>1111</td>\n",
       "      <td>Finalizada</td>\n",
       "      <td>Espacio Público</td>\n",
       "      <td>Menos de 1 año</td>\n",
       "      <td>2325.368</td>\n",
       "      <td>8</td>\n",
       "      <td>2</td>\n",
       "      <td>0</td>\n",
       "      <td>0</td>\n",
       "      <td>1</td>\n",
       "      <td>0</td>\n",
       "      <td>0</td>\n",
       "      <td>0</td>\n",
       "      <td>0</td>\n",
       "    </tr>\n",
       "    <tr>\n",
       "      <th>930</th>\n",
       "      <td>1112</td>\n",
       "      <td>Finalizada</td>\n",
       "      <td>Espacio Público</td>\n",
       "      <td>Menos de 1 año</td>\n",
       "      <td>1984.627</td>\n",
       "      <td>8</td>\n",
       "      <td>2</td>\n",
       "      <td>0</td>\n",
       "      <td>0</td>\n",
       "      <td>1</td>\n",
       "      <td>0</td>\n",
       "      <td>0</td>\n",
       "      <td>0</td>\n",
       "      <td>0</td>\n",
       "    </tr>\n",
       "    <tr>\n",
       "      <th>931</th>\n",
       "      <td>1114</td>\n",
       "      <td>Finalizada</td>\n",
       "      <td>Espacio Público</td>\n",
       "      <td>Menos de 1 año</td>\n",
       "      <td>6557.067</td>\n",
       "      <td>9</td>\n",
       "      <td>2</td>\n",
       "      <td>0</td>\n",
       "      <td>0</td>\n",
       "      <td>1</td>\n",
       "      <td>0</td>\n",
       "      <td>0</td>\n",
       "      <td>0</td>\n",
       "      <td>0</td>\n",
       "    </tr>\n",
       "    <tr>\n",
       "      <th>932</th>\n",
       "      <td>1115</td>\n",
       "      <td>Finalizada</td>\n",
       "      <td>Espacio Público</td>\n",
       "      <td>Menos de 1 año</td>\n",
       "      <td>22279.428</td>\n",
       "      <td>15</td>\n",
       "      <td>2</td>\n",
       "      <td>0</td>\n",
       "      <td>0</td>\n",
       "      <td>1</td>\n",
       "      <td>0</td>\n",
       "      <td>0</td>\n",
       "      <td>0</td>\n",
       "      <td>0</td>\n",
       "    </tr>\n",
       "    <tr>\n",
       "      <th>933</th>\n",
       "      <td>1116</td>\n",
       "      <td>Finalizada</td>\n",
       "      <td>Espacio Público</td>\n",
       "      <td>Menos de 1 año</td>\n",
       "      <td>14024.377</td>\n",
       "      <td>11</td>\n",
       "      <td>2</td>\n",
       "      <td>0</td>\n",
       "      <td>0</td>\n",
       "      <td>1</td>\n",
       "      <td>0</td>\n",
       "      <td>0</td>\n",
       "      <td>0</td>\n",
       "      <td>0</td>\n",
       "    </tr>\n",
       "  </tbody>\n",
       "</table>\n",
       "<p>883 rows × 14 columns</p>\n",
       "</div>"
      ],
      "text/plain": [
       "     Unnamed: 0       etapa             tipo      plazo_años  monto_miles  \\\n",
       "0             0  Finalizada         Escuelas   De 2 a 3 años    67065.700   \n",
       "1             1  Finalizada  Espacio Público   De 1 a 2 años     9950.017   \n",
       "2             2  Finalizada  Espacio Público   De 1 a 2 años    36942.632   \n",
       "3             3  Finalizada  Espacio Público   De 2 a 3 años    26938.294   \n",
       "4             4  Finalizada         Vivienda  Menos de 1 año     6990.315   \n",
       "..          ...         ...              ...             ...          ...   \n",
       "929        1111  Finalizada  Espacio Público  Menos de 1 año     2325.368   \n",
       "930        1112  Finalizada  Espacio Público  Menos de 1 año     1984.627   \n",
       "931        1114  Finalizada  Espacio Público  Menos de 1 año     6557.067   \n",
       "932        1115  Finalizada  Espacio Público  Menos de 1 año    22279.428   \n",
       "933        1116  Finalizada  Espacio Público  Menos de 1 año    14024.377   \n",
       "\n",
       "     comuna  Encoded  Arquitectura  Escuelas  Espacio Público  \\\n",
       "0        12        1             0         1                0   \n",
       "1        12        0             0         0                1   \n",
       "2         1        0             0         0                1   \n",
       "3         1        1             0         0                1   \n",
       "4         8        2             0         0                0   \n",
       "..      ...      ...           ...       ...              ...   \n",
       "929       8        2             0         0                1   \n",
       "930       8        2             0         0                1   \n",
       "931       9        2             0         0                1   \n",
       "932      15        2             0         0                1   \n",
       "933      11        2             0         0                1   \n",
       "\n",
       "     Hidráulica e Infraestructura  Salud  Transporte  Vivienda  \n",
       "0                               0      0           0         0  \n",
       "1                               0      0           0         0  \n",
       "2                               0      0           0         0  \n",
       "3                               0      0           0         0  \n",
       "4                               0      0           0         1  \n",
       "..                            ...    ...         ...       ...  \n",
       "929                             0      0           0         0  \n",
       "930                             0      0           0         0  \n",
       "931                             0      0           0         0  \n",
       "932                             0      0           0         0  \n",
       "933                             0      0           0         0  \n",
       "\n",
       "[883 rows x 14 columns]"
      ]
     },
     "execution_count": 44,
     "metadata": {},
     "output_type": "execute_result"
    }
   ],
   "source": [
    "tipo_obra = pd.get_dummies(obras_años.tipo)\n",
    "obras_años = obras_años.join(tipo_obra)\n",
    "obras_años"
   ]
  },
  {
   "cell_type": "markdown",
   "metadata": {},
   "source": [
    "## Features"
   ]
  },
  {
   "cell_type": "code",
   "execution_count": 45,
   "metadata": {},
   "outputs": [
    {
     "data": {
      "text/html": [
       "<div>\n",
       "<style scoped>\n",
       "    .dataframe tbody tr th:only-of-type {\n",
       "        vertical-align: middle;\n",
       "    }\n",
       "\n",
       "    .dataframe tbody tr th {\n",
       "        vertical-align: top;\n",
       "    }\n",
       "\n",
       "    .dataframe thead th {\n",
       "        text-align: right;\n",
       "    }\n",
       "</style>\n",
       "<table border=\"1\" class=\"dataframe\">\n",
       "  <thead>\n",
       "    <tr style=\"text-align: right;\">\n",
       "      <th></th>\n",
       "      <th>monto_miles</th>\n",
       "      <th>comuna</th>\n",
       "      <th>Encoded</th>\n",
       "      <th>Arquitectura</th>\n",
       "      <th>Escuelas</th>\n",
       "      <th>Espacio Público</th>\n",
       "      <th>Hidráulica e Infraestructura</th>\n",
       "      <th>Salud</th>\n",
       "      <th>Transporte</th>\n",
       "      <th>Vivienda</th>\n",
       "    </tr>\n",
       "  </thead>\n",
       "  <tbody>\n",
       "    <tr>\n",
       "      <th>0</th>\n",
       "      <td>67065.700</td>\n",
       "      <td>12</td>\n",
       "      <td>1</td>\n",
       "      <td>0</td>\n",
       "      <td>1</td>\n",
       "      <td>0</td>\n",
       "      <td>0</td>\n",
       "      <td>0</td>\n",
       "      <td>0</td>\n",
       "      <td>0</td>\n",
       "    </tr>\n",
       "    <tr>\n",
       "      <th>1</th>\n",
       "      <td>9950.017</td>\n",
       "      <td>12</td>\n",
       "      <td>0</td>\n",
       "      <td>0</td>\n",
       "      <td>0</td>\n",
       "      <td>1</td>\n",
       "      <td>0</td>\n",
       "      <td>0</td>\n",
       "      <td>0</td>\n",
       "      <td>0</td>\n",
       "    </tr>\n",
       "    <tr>\n",
       "      <th>2</th>\n",
       "      <td>36942.632</td>\n",
       "      <td>1</td>\n",
       "      <td>0</td>\n",
       "      <td>0</td>\n",
       "      <td>0</td>\n",
       "      <td>1</td>\n",
       "      <td>0</td>\n",
       "      <td>0</td>\n",
       "      <td>0</td>\n",
       "      <td>0</td>\n",
       "    </tr>\n",
       "    <tr>\n",
       "      <th>3</th>\n",
       "      <td>26938.294</td>\n",
       "      <td>1</td>\n",
       "      <td>1</td>\n",
       "      <td>0</td>\n",
       "      <td>0</td>\n",
       "      <td>1</td>\n",
       "      <td>0</td>\n",
       "      <td>0</td>\n",
       "      <td>0</td>\n",
       "      <td>0</td>\n",
       "    </tr>\n",
       "    <tr>\n",
       "      <th>4</th>\n",
       "      <td>6990.315</td>\n",
       "      <td>8</td>\n",
       "      <td>2</td>\n",
       "      <td>0</td>\n",
       "      <td>0</td>\n",
       "      <td>0</td>\n",
       "      <td>0</td>\n",
       "      <td>0</td>\n",
       "      <td>0</td>\n",
       "      <td>1</td>\n",
       "    </tr>\n",
       "    <tr>\n",
       "      <th>...</th>\n",
       "      <td>...</td>\n",
       "      <td>...</td>\n",
       "      <td>...</td>\n",
       "      <td>...</td>\n",
       "      <td>...</td>\n",
       "      <td>...</td>\n",
       "      <td>...</td>\n",
       "      <td>...</td>\n",
       "      <td>...</td>\n",
       "      <td>...</td>\n",
       "    </tr>\n",
       "    <tr>\n",
       "      <th>929</th>\n",
       "      <td>2325.368</td>\n",
       "      <td>8</td>\n",
       "      <td>2</td>\n",
       "      <td>0</td>\n",
       "      <td>0</td>\n",
       "      <td>1</td>\n",
       "      <td>0</td>\n",
       "      <td>0</td>\n",
       "      <td>0</td>\n",
       "      <td>0</td>\n",
       "    </tr>\n",
       "    <tr>\n",
       "      <th>930</th>\n",
       "      <td>1984.627</td>\n",
       "      <td>8</td>\n",
       "      <td>2</td>\n",
       "      <td>0</td>\n",
       "      <td>0</td>\n",
       "      <td>1</td>\n",
       "      <td>0</td>\n",
       "      <td>0</td>\n",
       "      <td>0</td>\n",
       "      <td>0</td>\n",
       "    </tr>\n",
       "    <tr>\n",
       "      <th>931</th>\n",
       "      <td>6557.067</td>\n",
       "      <td>9</td>\n",
       "      <td>2</td>\n",
       "      <td>0</td>\n",
       "      <td>0</td>\n",
       "      <td>1</td>\n",
       "      <td>0</td>\n",
       "      <td>0</td>\n",
       "      <td>0</td>\n",
       "      <td>0</td>\n",
       "    </tr>\n",
       "    <tr>\n",
       "      <th>932</th>\n",
       "      <td>22279.428</td>\n",
       "      <td>15</td>\n",
       "      <td>2</td>\n",
       "      <td>0</td>\n",
       "      <td>0</td>\n",
       "      <td>1</td>\n",
       "      <td>0</td>\n",
       "      <td>0</td>\n",
       "      <td>0</td>\n",
       "      <td>0</td>\n",
       "    </tr>\n",
       "    <tr>\n",
       "      <th>933</th>\n",
       "      <td>14024.377</td>\n",
       "      <td>11</td>\n",
       "      <td>2</td>\n",
       "      <td>0</td>\n",
       "      <td>0</td>\n",
       "      <td>1</td>\n",
       "      <td>0</td>\n",
       "      <td>0</td>\n",
       "      <td>0</td>\n",
       "      <td>0</td>\n",
       "    </tr>\n",
       "  </tbody>\n",
       "</table>\n",
       "<p>883 rows × 10 columns</p>\n",
       "</div>"
      ],
      "text/plain": [
       "     monto_miles  comuna  Encoded  Arquitectura  Escuelas  Espacio Público  \\\n",
       "0      67065.700      12        1             0         1                0   \n",
       "1       9950.017      12        0             0         0                1   \n",
       "2      36942.632       1        0             0         0                1   \n",
       "3      26938.294       1        1             0         0                1   \n",
       "4       6990.315       8        2             0         0                0   \n",
       "..           ...     ...      ...           ...       ...              ...   \n",
       "929     2325.368       8        2             0         0                1   \n",
       "930     1984.627       8        2             0         0                1   \n",
       "931     6557.067       9        2             0         0                1   \n",
       "932    22279.428      15        2             0         0                1   \n",
       "933    14024.377      11        2             0         0                1   \n",
       "\n",
       "     Hidráulica e Infraestructura  Salud  Transporte  Vivienda  \n",
       "0                               0      0           0         0  \n",
       "1                               0      0           0         0  \n",
       "2                               0      0           0         0  \n",
       "3                               0      0           0         0  \n",
       "4                               0      0           0         1  \n",
       "..                            ...    ...         ...       ...  \n",
       "929                             0      0           0         0  \n",
       "930                             0      0           0         0  \n",
       "931                             0      0           0         0  \n",
       "932                             0      0           0         0  \n",
       "933                             0      0           0         0  \n",
       "\n",
       "[883 rows x 10 columns]"
      ]
     },
     "execution_count": 45,
     "metadata": {},
     "output_type": "execute_result"
    }
   ],
   "source": [
    "x_años = obras_años.iloc[:,4:]\n",
    "x_años"
   ]
  },
  {
   "cell_type": "code",
   "execution_count": 46,
   "metadata": {},
   "outputs": [
    {
     "data": {
      "text/html": [
       "<div>\n",
       "<style scoped>\n",
       "    .dataframe tbody tr th:only-of-type {\n",
       "        vertical-align: middle;\n",
       "    }\n",
       "\n",
       "    .dataframe tbody tr th {\n",
       "        vertical-align: top;\n",
       "    }\n",
       "\n",
       "    .dataframe thead th {\n",
       "        text-align: right;\n",
       "    }\n",
       "</style>\n",
       "<table border=\"1\" class=\"dataframe\">\n",
       "  <thead>\n",
       "    <tr style=\"text-align: right;\">\n",
       "      <th></th>\n",
       "      <th>monto_miles</th>\n",
       "      <th>comuna</th>\n",
       "      <th>Arquitectura</th>\n",
       "      <th>Escuelas</th>\n",
       "      <th>Espacio Público</th>\n",
       "      <th>Hidráulica e Infraestructura</th>\n",
       "      <th>Salud</th>\n",
       "      <th>Transporte</th>\n",
       "      <th>Vivienda</th>\n",
       "    </tr>\n",
       "  </thead>\n",
       "  <tbody>\n",
       "    <tr>\n",
       "      <th>0</th>\n",
       "      <td>67065.700</td>\n",
       "      <td>12</td>\n",
       "      <td>0</td>\n",
       "      <td>1</td>\n",
       "      <td>0</td>\n",
       "      <td>0</td>\n",
       "      <td>0</td>\n",
       "      <td>0</td>\n",
       "      <td>0</td>\n",
       "    </tr>\n",
       "    <tr>\n",
       "      <th>1</th>\n",
       "      <td>9950.017</td>\n",
       "      <td>12</td>\n",
       "      <td>0</td>\n",
       "      <td>0</td>\n",
       "      <td>1</td>\n",
       "      <td>0</td>\n",
       "      <td>0</td>\n",
       "      <td>0</td>\n",
       "      <td>0</td>\n",
       "    </tr>\n",
       "    <tr>\n",
       "      <th>2</th>\n",
       "      <td>36942.632</td>\n",
       "      <td>1</td>\n",
       "      <td>0</td>\n",
       "      <td>0</td>\n",
       "      <td>1</td>\n",
       "      <td>0</td>\n",
       "      <td>0</td>\n",
       "      <td>0</td>\n",
       "      <td>0</td>\n",
       "    </tr>\n",
       "    <tr>\n",
       "      <th>3</th>\n",
       "      <td>26938.294</td>\n",
       "      <td>1</td>\n",
       "      <td>0</td>\n",
       "      <td>0</td>\n",
       "      <td>1</td>\n",
       "      <td>0</td>\n",
       "      <td>0</td>\n",
       "      <td>0</td>\n",
       "      <td>0</td>\n",
       "    </tr>\n",
       "    <tr>\n",
       "      <th>4</th>\n",
       "      <td>6990.315</td>\n",
       "      <td>8</td>\n",
       "      <td>0</td>\n",
       "      <td>0</td>\n",
       "      <td>0</td>\n",
       "      <td>0</td>\n",
       "      <td>0</td>\n",
       "      <td>0</td>\n",
       "      <td>1</td>\n",
       "    </tr>\n",
       "    <tr>\n",
       "      <th>...</th>\n",
       "      <td>...</td>\n",
       "      <td>...</td>\n",
       "      <td>...</td>\n",
       "      <td>...</td>\n",
       "      <td>...</td>\n",
       "      <td>...</td>\n",
       "      <td>...</td>\n",
       "      <td>...</td>\n",
       "      <td>...</td>\n",
       "    </tr>\n",
       "    <tr>\n",
       "      <th>929</th>\n",
       "      <td>2325.368</td>\n",
       "      <td>8</td>\n",
       "      <td>0</td>\n",
       "      <td>0</td>\n",
       "      <td>1</td>\n",
       "      <td>0</td>\n",
       "      <td>0</td>\n",
       "      <td>0</td>\n",
       "      <td>0</td>\n",
       "    </tr>\n",
       "    <tr>\n",
       "      <th>930</th>\n",
       "      <td>1984.627</td>\n",
       "      <td>8</td>\n",
       "      <td>0</td>\n",
       "      <td>0</td>\n",
       "      <td>1</td>\n",
       "      <td>0</td>\n",
       "      <td>0</td>\n",
       "      <td>0</td>\n",
       "      <td>0</td>\n",
       "    </tr>\n",
       "    <tr>\n",
       "      <th>931</th>\n",
       "      <td>6557.067</td>\n",
       "      <td>9</td>\n",
       "      <td>0</td>\n",
       "      <td>0</td>\n",
       "      <td>1</td>\n",
       "      <td>0</td>\n",
       "      <td>0</td>\n",
       "      <td>0</td>\n",
       "      <td>0</td>\n",
       "    </tr>\n",
       "    <tr>\n",
       "      <th>932</th>\n",
       "      <td>22279.428</td>\n",
       "      <td>15</td>\n",
       "      <td>0</td>\n",
       "      <td>0</td>\n",
       "      <td>1</td>\n",
       "      <td>0</td>\n",
       "      <td>0</td>\n",
       "      <td>0</td>\n",
       "      <td>0</td>\n",
       "    </tr>\n",
       "    <tr>\n",
       "      <th>933</th>\n",
       "      <td>14024.377</td>\n",
       "      <td>11</td>\n",
       "      <td>0</td>\n",
       "      <td>0</td>\n",
       "      <td>1</td>\n",
       "      <td>0</td>\n",
       "      <td>0</td>\n",
       "      <td>0</td>\n",
       "      <td>0</td>\n",
       "    </tr>\n",
       "  </tbody>\n",
       "</table>\n",
       "<p>883 rows × 9 columns</p>\n",
       "</div>"
      ],
      "text/plain": [
       "     monto_miles  comuna  Arquitectura  Escuelas  Espacio Público  \\\n",
       "0      67065.700      12             0         1                0   \n",
       "1       9950.017      12             0         0                1   \n",
       "2      36942.632       1             0         0                1   \n",
       "3      26938.294       1             0         0                1   \n",
       "4       6990.315       8             0         0                0   \n",
       "..           ...     ...           ...       ...              ...   \n",
       "929     2325.368       8             0         0                1   \n",
       "930     1984.627       8             0         0                1   \n",
       "931     6557.067       9             0         0                1   \n",
       "932    22279.428      15             0         0                1   \n",
       "933    14024.377      11             0         0                1   \n",
       "\n",
       "     Hidráulica e Infraestructura  Salud  Transporte  Vivienda  \n",
       "0                               0      0           0         0  \n",
       "1                               0      0           0         0  \n",
       "2                               0      0           0         0  \n",
       "3                               0      0           0         0  \n",
       "4                               0      0           0         1  \n",
       "..                            ...    ...         ...       ...  \n",
       "929                             0      0           0         0  \n",
       "930                             0      0           0         0  \n",
       "931                             0      0           0         0  \n",
       "932                             0      0           0         0  \n",
       "933                             0      0           0         0  \n",
       "\n",
       "[883 rows x 9 columns]"
      ]
     },
     "execution_count": 46,
     "metadata": {},
     "output_type": "execute_result"
    }
   ],
   "source": [
    "# Recordamos que Encoded es el dummie generado para nuestro target (sacamos por exclusión)\n",
    "x_años = x_años.drop(['Encoded'],axis=1)\n",
    "x_años"
   ]
  },
  {
   "cell_type": "code",
   "execution_count": 47,
   "metadata": {},
   "outputs": [
    {
     "data": {
      "text/plain": [
       "2    655\n",
       "0    179\n",
       "1     36\n",
       "3     13\n",
       "Name: Encoded, dtype: int64"
      ]
     },
     "execution_count": 47,
     "metadata": {},
     "output_type": "execute_result"
    }
   ],
   "source": [
    "obras_años['Encoded'].value_counts()"
   ]
  },
  {
   "cell_type": "markdown",
   "metadata": {},
   "source": [
    "Al encontrarnos frente a un Imbalanced dataset multi-class classification problem (Clasificación multi clase de un dataset no balanceado), se utilizará la técnica de aumentar las samples de las clases menores, a fin de balancear el dataset."
   ]
  },
  {
   "cell_type": "code",
   "execution_count": 48,
   "metadata": {},
   "outputs": [
    {
     "data": {
      "text/plain": [
       "2    655\n",
       "3    200\n",
       "1    200\n",
       "0    200\n",
       "Name: Encoded, dtype: int64"
      ]
     },
     "execution_count": 48,
     "metadata": {},
     "output_type": "execute_result"
    }
   ],
   "source": [
    "from sklearn.utils import resample\n",
    "\n",
    "# Primero separamos las clases\n",
    "\n",
    "obras_majority1 = obras_años[obras_años.Encoded==2]\n",
    "obras_majority2 = obras_años[obras_años.Encoded==0]\n",
    "obras_minority1 = obras_años[obras_años.Encoded==1]\n",
    "obras_minority2 = obras_años[obras_años.Encoded==3]\n",
    "\n",
    "# Generamos samples para que las 4 clases tengan el mismo peso\n",
    "\n",
    "obras_majority2_upsampled = resample(obras_majority2, replace=True, n_samples=200, random_state=8)\n",
    "obras_minority1_upsampled = resample(obras_minority1, replace=True, n_samples=200, random_state=8)\n",
    "obras_minority2_upsampled = resample(obras_minority2, replace=True, n_samples=200, random_state=8)\n",
    "\n",
    "# Combinamos todas las clases y contamos los valores\n",
    "\n",
    "obras_upsampled = pd.concat([obras_majority1,obras_majority2_upsampled,obras_minority1_upsampled,obras_minority2_upsampled])\n",
    "\n",
    "obras_upsampled['Encoded'].value_counts()"
   ]
  },
  {
   "cell_type": "code",
   "execution_count": 49,
   "metadata": {},
   "outputs": [
    {
     "data": {
      "text/plain": [
       "(1255, 14)"
      ]
     },
     "execution_count": 49,
     "metadata": {},
     "output_type": "execute_result"
    }
   ],
   "source": [
    "obras_upsampled.shape"
   ]
  },
  {
   "cell_type": "code",
   "execution_count": 50,
   "metadata": {},
   "outputs": [
    {
     "data": {
      "text/html": [
       "<div>\n",
       "<style scoped>\n",
       "    .dataframe tbody tr th:only-of-type {\n",
       "        vertical-align: middle;\n",
       "    }\n",
       "\n",
       "    .dataframe tbody tr th {\n",
       "        vertical-align: top;\n",
       "    }\n",
       "\n",
       "    .dataframe thead th {\n",
       "        text-align: right;\n",
       "    }\n",
       "</style>\n",
       "<table border=\"1\" class=\"dataframe\">\n",
       "  <thead>\n",
       "    <tr style=\"text-align: right;\">\n",
       "      <th></th>\n",
       "      <th>Unnamed: 0</th>\n",
       "      <th>etapa</th>\n",
       "      <th>tipo</th>\n",
       "      <th>plazo_años</th>\n",
       "      <th>monto_miles</th>\n",
       "      <th>comuna</th>\n",
       "      <th>Encoded</th>\n",
       "      <th>Arquitectura</th>\n",
       "      <th>Escuelas</th>\n",
       "      <th>Espacio Público</th>\n",
       "      <th>Hidráulica e Infraestructura</th>\n",
       "      <th>Salud</th>\n",
       "      <th>Transporte</th>\n",
       "      <th>Vivienda</th>\n",
       "    </tr>\n",
       "  </thead>\n",
       "  <tbody>\n",
       "    <tr>\n",
       "      <th>179</th>\n",
       "      <td>190</td>\n",
       "      <td>Finalizada</td>\n",
       "      <td>Salud</td>\n",
       "      <td>Más de 3 años</td>\n",
       "      <td>8108.578</td>\n",
       "      <td>4</td>\n",
       "      <td>3</td>\n",
       "      <td>0</td>\n",
       "      <td>0</td>\n",
       "      <td>0</td>\n",
       "      <td>0</td>\n",
       "      <td>1</td>\n",
       "      <td>0</td>\n",
       "      <td>0</td>\n",
       "    </tr>\n",
       "    <tr>\n",
       "      <th>566</th>\n",
       "      <td>679</td>\n",
       "      <td>Finalizada</td>\n",
       "      <td>Escuelas</td>\n",
       "      <td>Más de 3 años</td>\n",
       "      <td>4374.885</td>\n",
       "      <td>15</td>\n",
       "      <td>3</td>\n",
       "      <td>0</td>\n",
       "      <td>1</td>\n",
       "      <td>0</td>\n",
       "      <td>0</td>\n",
       "      <td>0</td>\n",
       "      <td>0</td>\n",
       "      <td>0</td>\n",
       "    </tr>\n",
       "    <tr>\n",
       "      <th>737</th>\n",
       "      <td>876</td>\n",
       "      <td>Finalizada</td>\n",
       "      <td>Transporte</td>\n",
       "      <td>Más de 3 años</td>\n",
       "      <td>2227000.000</td>\n",
       "      <td>2</td>\n",
       "      <td>3</td>\n",
       "      <td>0</td>\n",
       "      <td>0</td>\n",
       "      <td>0</td>\n",
       "      <td>0</td>\n",
       "      <td>0</td>\n",
       "      <td>1</td>\n",
       "      <td>0</td>\n",
       "    </tr>\n",
       "    <tr>\n",
       "      <th>566</th>\n",
       "      <td>679</td>\n",
       "      <td>Finalizada</td>\n",
       "      <td>Escuelas</td>\n",
       "      <td>Más de 3 años</td>\n",
       "      <td>4374.885</td>\n",
       "      <td>15</td>\n",
       "      <td>3</td>\n",
       "      <td>0</td>\n",
       "      <td>1</td>\n",
       "      <td>0</td>\n",
       "      <td>0</td>\n",
       "      <td>0</td>\n",
       "      <td>0</td>\n",
       "      <td>0</td>\n",
       "    </tr>\n",
       "    <tr>\n",
       "      <th>391</th>\n",
       "      <td>458</td>\n",
       "      <td>Finalizada</td>\n",
       "      <td>Escuelas</td>\n",
       "      <td>Más de 3 años</td>\n",
       "      <td>26452.092</td>\n",
       "      <td>11</td>\n",
       "      <td>3</td>\n",
       "      <td>0</td>\n",
       "      <td>1</td>\n",
       "      <td>0</td>\n",
       "      <td>0</td>\n",
       "      <td>0</td>\n",
       "      <td>0</td>\n",
       "      <td>0</td>\n",
       "    </tr>\n",
       "  </tbody>\n",
       "</table>\n",
       "</div>"
      ],
      "text/plain": [
       "     Unnamed: 0       etapa        tipo     plazo_años  monto_miles  comuna  \\\n",
       "179         190  Finalizada       Salud  Más de 3 años     8108.578       4   \n",
       "566         679  Finalizada    Escuelas  Más de 3 años     4374.885      15   \n",
       "737         876  Finalizada  Transporte  Más de 3 años  2227000.000       2   \n",
       "566         679  Finalizada    Escuelas  Más de 3 años     4374.885      15   \n",
       "391         458  Finalizada    Escuelas  Más de 3 años    26452.092      11   \n",
       "\n",
       "     Encoded  Arquitectura  Escuelas  Espacio Público  \\\n",
       "179        3             0         0                0   \n",
       "566        3             0         1                0   \n",
       "737        3             0         0                0   \n",
       "566        3             0         1                0   \n",
       "391        3             0         1                0   \n",
       "\n",
       "     Hidráulica e Infraestructura  Salud  Transporte  Vivienda  \n",
       "179                             0      1           0         0  \n",
       "566                             0      0           0         0  \n",
       "737                             0      0           1         0  \n",
       "566                             0      0           0         0  \n",
       "391                             0      0           0         0  "
      ]
     },
     "execution_count": 50,
     "metadata": {},
     "output_type": "execute_result"
    }
   ],
   "source": [
    "obras_upsampled.tail()"
   ]
  },
  {
   "cell_type": "code",
   "execution_count": 51,
   "metadata": {},
   "outputs": [],
   "source": [
    "y_años = obras_upsampled.iloc[:,3]\n",
    "le_años = preprocessing.LabelEncoder()\n",
    "y_años = le_años.fit_transform(y_años)\n",
    "obras_upsampled['Encoded'] = y_años"
   ]
  },
  {
   "cell_type": "code",
   "execution_count": 52,
   "metadata": {},
   "outputs": [],
   "source": [
    "x_años = obras_upsampled.iloc[:,4:]\n",
    "x_años = x_años.drop(['Encoded'],axis=1)"
   ]
  },
  {
   "cell_type": "code",
   "execution_count": 53,
   "metadata": {},
   "outputs": [
    {
     "data": {
      "text/plain": [
       "(1255,)"
      ]
     },
     "execution_count": 53,
     "metadata": {},
     "output_type": "execute_result"
    }
   ],
   "source": [
    "y_años.shape"
   ]
  },
  {
   "cell_type": "code",
   "execution_count": 54,
   "metadata": {},
   "outputs": [
    {
     "data": {
      "text/plain": [
       "(1255, 9)"
      ]
     },
     "execution_count": 54,
     "metadata": {},
     "output_type": "execute_result"
    }
   ],
   "source": [
    "x_años.shape"
   ]
  },
  {
   "cell_type": "code",
   "execution_count": 55,
   "metadata": {},
   "outputs": [
    {
     "name": "stdout",
     "output_type": "stream",
     "text": [
      "El tamaño del \"X\" de entrenamiento es: (376, 9)\n",
      "Se corresponde con el \"Y\" de entrenamiento (376,)\n"
     ]
    }
   ],
   "source": [
    "# Separamos el data set en train y test\n",
    "xtrain_años,xtest_años,ytrain_años,ytest_años=train_test_split(x_años,y_años, test_size=0.7, random_state=8)\n",
    "print('El tamaño del \"X\" de entrenamiento es: ' + str(xtrain_años.shape))\n",
    "print('Se corresponde con el \"Y\" de entrenamiento ' + str(ytrain_años.shape))"
   ]
  },
  {
   "cell_type": "code",
   "execution_count": 56,
   "metadata": {},
   "outputs": [],
   "source": [
    "scaler_años = preprocessing.StandardScaler().fit(xtrain_años)"
   ]
  },
  {
   "cell_type": "code",
   "execution_count": 57,
   "metadata": {},
   "outputs": [],
   "source": [
    "xtrain_scaled_años = scaler_años.transform (xtrain_años)\n",
    "xtest_scaled_años = scaler_años.transform (xtest_años)"
   ]
  },
  {
   "cell_type": "markdown",
   "metadata": {},
   "source": [
    "## ML\n",
    "\n",
    "Se utilizarán distintos modelos, con distintos hiperparámetros para obtener aquel que mejor logre clasificar nuestro objetivo."
   ]
  },
  {
   "cell_type": "markdown",
   "metadata": {},
   "source": [
    "### Support Vector Classifier"
   ]
  },
  {
   "cell_type": "code",
   "execution_count": 58,
   "metadata": {},
   "outputs": [
    {
     "data": {
      "text/plain": [
       "GridSearchCV(cv=5, estimator=SVC(class_weight='balanced', probability=True),\n",
       "             param_grid={'C': [0.001, 0.1, 1, 5, 10, 100],\n",
       "                         'gamma': [0.1, 1, 5, 10, 20],\n",
       "                         'kernel': ('linear', 'rbf')})"
      ]
     },
     "execution_count": 58,
     "metadata": {},
     "output_type": "execute_result"
    }
   ],
   "source": [
    "# Definimos el clasificador\n",
    "\n",
    "svc_años = SVC(probability=True, class_weight='balanced')\n",
    "\n",
    "param_svc_años ={'kernel':('linear','rbf'),\n",
    "                'C':[0.001, 0.1, 1, 5, 10, 100],\n",
    "                'gamma':[0.1, 1, 5, 10, 20]}\n",
    "\n",
    "gs_svc_años=GridSearchCV(svc_años, param_grid=param_svc_años, refit=True,cv=5)\n",
    "gs_svc_años.fit(xtrain_scaled_años,ytrain_años)\n"
   ]
  },
  {
   "cell_type": "code",
   "execution_count": 59,
   "metadata": {},
   "outputs": [
    {
     "name": "stdout",
     "output_type": "stream",
     "text": [
      "Los mejores parámetros son:  {'C': 100, 'gamma': 10, 'kernel': 'rbf'}\n",
      "El score obtenido fue:  0.7527719298245614\n"
     ]
    }
   ],
   "source": [
    "print ('Los mejores parámetros son: ',  gs_svc_años.best_params_)\n",
    "print ('El score obtenido fue: ', gs_svc_años.best_score_)"
   ]
  },
  {
   "cell_type": "code",
   "execution_count": 60,
   "metadata": {},
   "outputs": [
    {
     "name": "stdout",
     "output_type": "stream",
     "text": [
      "El accuracy obtenido fue de 0.71 \n"
     ]
    }
   ],
   "source": [
    "ypred_svc_años=gs_svc_años.predict(xtest_scaled_años)\n",
    "score_svc_años=accuracy_score(ytest_años,ypred_svc_años)\n",
    "print('El accuracy obtenido fue de %0.2f ' %(accuracy_score(ytest_años,ypred_svc_años)))"
   ]
  },
  {
   "cell_type": "code",
   "execution_count": 61,
   "metadata": {},
   "outputs": [],
   "source": [
    "# Vamos a guardar los resultados y comparar al final\n",
    "\n",
    "rdos_año = pd.DataFrame(columns=['Clasificador', 'Accuracy'])"
   ]
  },
  {
   "cell_type": "code",
   "execution_count": 62,
   "metadata": {},
   "outputs": [],
   "source": [
    "rdos_año = rdos_año.append({'Clasificador':'SVC en años',\n",
    "                   'Accuracy': score_svc_años}, ignore_index=True)"
   ]
  },
  {
   "cell_type": "markdown",
   "metadata": {},
   "source": [
    "## KNN Classifier"
   ]
  },
  {
   "cell_type": "code",
   "execution_count": 63,
   "metadata": {},
   "outputs": [
    {
     "data": {
      "text/plain": [
       "GridSearchCV(cv=5, estimator=KNeighborsClassifier(),\n",
       "             param_grid={'n_neighbors': [1, 2, 5, 10, 15, 20, 50, 100, 150]})"
      ]
     },
     "execution_count": 63,
     "metadata": {},
     "output_type": "execute_result"
    }
   ],
   "source": [
    "knn_años = KNeighborsClassifier()\n",
    "\n",
    "param_knn_años = {'n_neighbors': [1,2,5,10,15,20,50,100,150]}\n",
    "\n",
    "gs_knn_años = GridSearchCV(knn_años, param_grid=param_knn_años,refit=True, cv=5)\n",
    "gs_knn_años.fit(xtrain_scaled_años,ytrain_años)"
   ]
  },
  {
   "cell_type": "code",
   "execution_count": 64,
   "metadata": {},
   "outputs": [
    {
     "name": "stdout",
     "output_type": "stream",
     "text": [
      "Los mejores parámetros son:  {'n_neighbors': 1}\n",
      "El score obtenido fue:  0.8087368421052632\n",
      "El accuracy obtenido fue de 0.80 \n"
     ]
    }
   ],
   "source": [
    "print ('Los mejores parámetros son: ', gs_knn_años.best_params_)\n",
    "print ('El score obtenido fue: ', gs_knn_años.best_score_)\n",
    "ypred_knn_años = gs_knn_años.predict(xtest_scaled_años)\n",
    "score_knn_años = accuracy_score(ytest_años,ypred_knn_años)\n",
    "print('El accuracy obtenido fue de %0.2f ' %(accuracy_score(ytest_años,ypred_knn_años)))"
   ]
  },
  {
   "cell_type": "code",
   "execution_count": 65,
   "metadata": {},
   "outputs": [],
   "source": [
    "rdos_año = rdos_año.append({'Clasificador':'KNN en años',\n",
    "                    'Accuracy': score_knn_años}, ignore_index=True)"
   ]
  },
  {
   "cell_type": "code",
   "execution_count": 66,
   "metadata": {},
   "outputs": [],
   "source": [
    "# Vamos a ver cómo varía el accuracy en función de los distintos K\n",
    "\n",
    "iteraciones_knn = 50\n",
    "acc_knn = np.zeros(iteraciones_knn)"
   ]
  },
  {
   "cell_type": "code",
   "execution_count": 67,
   "metadata": {},
   "outputs": [],
   "source": [
    "for r in range(0,iteraciones_knn):\n",
    "   \n",
    "    neigh = KNeighborsClassifier(n_neighbors=r+1)\n",
    "    neigh.fit(xtrain_scaled_años,ytrain_años)\n",
    "    ypred_knn_años = neigh.predict(xtest_scaled_años)\n",
    "    acc_knn[r] = accuracy_score(ytest_años, ypred_knn_años)"
   ]
  },
  {
   "cell_type": "code",
   "execution_count": 68,
   "metadata": {},
   "outputs": [
    {
     "data": {
      "image/png": "[encoded data removed]",
      "text/plain": [
       "<Figure size 432x288 with 1 Axes>"
      ]
     },
     "metadata": {},
     "output_type": "display_data"
    }
   ],
   "source": [
    "plt.plot(acc_knn)\n",
    "plt.xlabel(\"valor de K\")\n",
    "plt.ylabel(\"Variación de accuracy utilizando distintos K)\")\n",
    "sns.set_style('darkgrid')\n",
    "plt.show()"
   ]
  },
  {
   "cell_type": "markdown",
   "metadata": {},
   "source": [
    "## Random Forest Classifier"
   ]
  },
  {
   "cell_type": "code",
   "execution_count": 69,
   "metadata": {},
   "outputs": [
    {
     "data": {
      "text/plain": [
       "GridSearchCV(cv=5, estimator=RandomForestClassifier(),\n",
       "             param_grid={'n_estimators': [15, 20, 25, 50, 75, 100]})"
      ]
     },
     "execution_count": 69,
     "metadata": {},
     "output_type": "execute_result"
    }
   ],
   "source": [
    "rfr_años = RandomForestClassifier()\n",
    "\n",
    "param_rfr_años = {'n_estimators':[15,20,25,50,75,100]}\n",
    "\n",
    "gs_rfr_años = GridSearchCV(rfr_años, param_grid=param_rfr_años, cv=5)\n",
    "gs_rfr_años.fit(xtrain_scaled_años,ytrain_años)"
   ]
  },
  {
   "cell_type": "code",
   "execution_count": 70,
   "metadata": {},
   "outputs": [
    {
     "name": "stdout",
     "output_type": "stream",
     "text": [
      "Los mejores parámetros son:  {'n_estimators': 50}\n",
      "El score obtenido fue:  0.8272631578947369\n",
      "El accuracy obtenido fue de 0.85 \n"
     ]
    }
   ],
   "source": [
    "print ('Los mejores parámetros son: ', gs_rfr_años.best_params_)\n",
    "print ('El score obtenido fue: ', gs_rfr_años.best_score_)\n",
    "ypred_rfr_años = gs_rfr_años.predict(xtest_scaled_años)\n",
    "score_rfr_años = accuracy_score(ytest_años,ypred_rfr_años)\n",
    "print('El accuracy obtenido fue de %0.2f ' %(accuracy_score(ytest_años,ypred_rfr_años)))"
   ]
  },
  {
   "cell_type": "code",
   "execution_count": 71,
   "metadata": {},
   "outputs": [],
   "source": [
    "rdos_año = rdos_año.append({'Clasificador':'Random Forest en años',\n",
    "                   'Accuracy': score_rfr_años}, ignore_index=True)"
   ]
  },
  {
   "cell_type": "markdown",
   "metadata": {},
   "source": [
    "## Logistic Regression"
   ]
  },
  {
   "cell_type": "code",
   "execution_count": 72,
   "metadata": {},
   "outputs": [
    {
     "data": {
      "text/plain": [
       "GridSearchCV(cv=5, estimator=LogisticRegression(),\n",
       "             param_grid={'C': [70, 100, 150, 175]})"
      ]
     },
     "execution_count": 72,
     "metadata": {},
     "output_type": "execute_result"
    }
   ],
   "source": [
    "lr_años = LogisticRegression()\n",
    "\n",
    "param_lr_años = {'C': [70, 100, 150, 175]}\n",
    "\n",
    "gs_lr_años = GridSearchCV(lr_años, param_grid=param_lr_años, cv=5)\n",
    "gs_lr_años.fit(xtrain_scaled_años,ytrain_años)"
   ]
  },
  {
   "cell_type": "code",
   "execution_count": 73,
   "metadata": {},
   "outputs": [
    {
     "name": "stdout",
     "output_type": "stream",
     "text": [
      "Los mejores parámetros son:  {'C': 100}\n",
      "El score obtenido fue:  0.6409473684210527\n",
      "El accuracy obtenido fue de 0.64 \n"
     ]
    }
   ],
   "source": [
    "print ('Los mejores parámetros son: ', gs_lr_años.best_params_)\n",
    "print ('El score obtenido fue: ', gs_lr_años.best_score_)\n",
    "ypred_lr_años = gs_lr_años.predict(xtest_scaled_años)\n",
    "score_lr_años = accuracy_score(ytest_años,ypred_lr_años)\n",
    "print('El accuracy obtenido fue de %0.2f ' %(accuracy_score(ytest_años,ypred_lr_años)))"
   ]
  },
  {
   "cell_type": "code",
   "execution_count": 74,
   "metadata": {},
   "outputs": [],
   "source": [
    "rdos_año = rdos_año.append({'Clasificador':'LR en años',\n",
    "                   'Accuracy': score_lr_años}, ignore_index=True)"
   ]
  },
  {
   "cell_type": "code",
   "execution_count": 75,
   "metadata": {},
   "outputs": [
    {
     "data": {
      "text/html": [
       "<div>\n",
       "<style scoped>\n",
       "    .dataframe tbody tr th:only-of-type {\n",
       "        vertical-align: middle;\n",
       "    }\n",
       "\n",
       "    .dataframe tbody tr th {\n",
       "        vertical-align: top;\n",
       "    }\n",
       "\n",
       "    .dataframe thead th {\n",
       "        text-align: right;\n",
       "    }\n",
       "</style>\n",
       "<table border=\"1\" class=\"dataframe\">\n",
       "  <thead>\n",
       "    <tr style=\"text-align: right;\">\n",
       "      <th></th>\n",
       "      <th>Clasificador</th>\n",
       "      <th>Accuracy</th>\n",
       "    </tr>\n",
       "  </thead>\n",
       "  <tbody>\n",
       "    <tr>\n",
       "      <th>0</th>\n",
       "      <td>SVC en años</td>\n",
       "      <td>0.712173</td>\n",
       "    </tr>\n",
       "    <tr>\n",
       "      <th>1</th>\n",
       "      <td>KNN en años</td>\n",
       "      <td>0.800910</td>\n",
       "    </tr>\n",
       "    <tr>\n",
       "      <th>2</th>\n",
       "      <td>Random Forest en años</td>\n",
       "      <td>0.847554</td>\n",
       "    </tr>\n",
       "    <tr>\n",
       "      <th>3</th>\n",
       "      <td>LR en años</td>\n",
       "      <td>0.635950</td>\n",
       "    </tr>\n",
       "  </tbody>\n",
       "</table>\n",
       "</div>"
      ],
      "text/plain": [
       "            Clasificador  Accuracy\n",
       "0            SVC en años  0.712173\n",
       "1            KNN en años  0.800910\n",
       "2  Random Forest en años  0.847554\n",
       "3             LR en años  0.635950"
      ]
     },
     "execution_count": 75,
     "metadata": {},
     "output_type": "execute_result"
    }
   ],
   "source": [
    "rdos_año"
   ]
  },
  {
   "cell_type": "markdown",
   "metadata": {},
   "source": [
    "## Resultados / Visualización"
   ]
  },
  {
   "cell_type": "code",
   "execution_count": 79,
   "metadata": {},
   "outputs": [],
   "source": [
    "from sklearn.metrics import confusion_matrix"
   ]
  },
  {
   "cell_type": "code",
   "execution_count": 94,
   "metadata": {},
   "outputs": [
    {
     "data": {
      "image/png": "[encoded data removed]",
      "text/plain": [
       "<Figure size 720x720 with 2 Axes>"
      ]
     },
     "metadata": {},
     "output_type": "display_data"
    }
   ],
   "source": [
    "cm = confusion_matrix(ytest_años,ypred_rfr_años)\n",
    "labels = obras_años['plazo_años'].unique()\n",
    "df_cm = pd.DataFrame(cm, index=[i for i in labels], columns=[i for i in labels])\n",
    "plt.figure(figsize=(10,10))\n",
    "sns.heatmap(df_cm, annot=True, cmap='pink_r',fmt='')\n",
    "plt.show()"
   ]
  },
  {
   "cell_type": "code",
   "execution_count": 83,
   "metadata": {},
   "outputs": [
    {
     "name": "stdout",
     "output_type": "stream",
     "text": [
      "              precision    recall  f1-score   support\n",
      "\n",
      "           0       0.63      0.53      0.57       136\n",
      "           1       0.91      0.90      0.90       143\n",
      "           2       0.86      0.88      0.87       457\n",
      "           3       0.90      1.00      0.95       143\n",
      "\n",
      "    accuracy                           0.85       879\n",
      "   macro avg       0.83      0.83      0.82       879\n",
      "weighted avg       0.84      0.85      0.84       879\n",
      "\n"
     ]
    }
   ],
   "source": [
    "print(classification_report(ytest_años, ypred_rfr_años))"
   ]
  },
  {
   "cell_type": "markdown",
   "metadata": {},
   "source": [
    "## Conclusiones / Observaciones\n",
    "\n",
    "En este caso, decidimos realizar bandas de clasificación mucho más amplias (duración 1 año), y el resultado luego de realizar el resample como fue explicado en el Notebook de ML por trimestres, nos arroja valores mucho más altos de accuracy, sin embargo, esta sustancial mejora implica que nuestra clasificación sea imprecisa dado que estamos clasificando con un horizonte temporal muy amplio. \n",
    "Ej: Una obra que sea realizada en 2 meses, será clasificada como que llevará \"Menos de un año\" lo cual es correcto, pero para una información más precisa, la mejor opción es el modelo de ML por trimestres, que en el ejemplo mencionado anteriormente clasificará como \"Hasta 3 meses\""
   ]
  },
  {
   "cell_type": "markdown",
   "metadata": {},
   "source": [
    "## Análisis en trimestres"
   ]
  },
  {
   "cell_type": "code",
   "execution_count": 95,
   "metadata": {},
   "outputs": [],
   "source": [
    "obras_trim['etapa'].replace('En ejecución',np.nan,inplace=True)\n",
    "obras_trim['etapa'].replace('En licitación',np.nan,inplace=True)"
   ]
  },
  {
   "cell_type": "code",
   "execution_count": 96,
   "metadata": {},
   "outputs": [
    {
     "name": "stdout",
     "output_type": "stream",
     "text": [
      "Filas:883\n"
     ]
    }
   ],
   "source": [
    "obras_trim.dropna(subset=['etapa'],how='any',inplace=True,axis='index')\n",
    "filas=np.shape(obras_trim)[0]\n",
    "print(f'Filas:{filas}')"
   ]
  },
  {
   "cell_type": "markdown",
   "metadata": {},
   "source": [
    "## Target"
   ]
  },
  {
   "cell_type": "code",
   "execution_count": 97,
   "metadata": {},
   "outputs": [
    {
     "name": "stdout",
     "output_type": "stream",
     "text": [
      "\n",
      " ['Más de 2 años' 'Entre 1 y 2 años' 'Entre 9 meses y 1 año'\n",
      " 'Hasta 3 meses' 'Entre 3 y 6 meses' 'Entre 7 y 9 meses']\n"
     ]
    }
   ],
   "source": [
    "target = obras_trim['plazo_trimestres'].unique()\n",
    "print(\"\\n\", obras_trim['plazo_trimestres'].unique())"
   ]
  },
  {
   "cell_type": "code",
   "execution_count": 98,
   "metadata": {},
   "outputs": [
    {
     "data": {
      "text/plain": [
       "0              Más de 2 años\n",
       "1           Entre 1 y 2 años\n",
       "2           Entre 1 y 2 años\n",
       "3              Más de 2 años\n",
       "4      Entre 9 meses y 1 año\n",
       "               ...          \n",
       "929            Hasta 3 meses\n",
       "930            Hasta 3 meses\n",
       "931            Hasta 3 meses\n",
       "932            Hasta 3 meses\n",
       "933            Hasta 3 meses\n",
       "Name: plazo_trimestres, Length: 883, dtype: object"
      ]
     },
     "execution_count": 98,
     "metadata": {},
     "output_type": "execute_result"
    }
   ],
   "source": [
    "# Definimos primero nuestro target, al cual lo guardaremos en una variable y\n",
    "\n",
    "y_target_trim = obras_trim.iloc[:,3]\n",
    "y_target_trim"
   ]
  },
  {
   "cell_type": "code",
   "execution_count": 99,
   "metadata": {},
   "outputs": [],
   "source": [
    "le_trim = preprocessing.LabelEncoder()\n",
    "y_trim = le_trim.fit_transform(y_target_trim)\n",
    "obras_trim['Encoded'] = y_trim"
   ]
  },
  {
   "cell_type": "code",
   "execution_count": 100,
   "metadata": {},
   "outputs": [
    {
     "data": {
      "text/html": [
       "<div>\n",
       "<style scoped>\n",
       "    .dataframe tbody tr th:only-of-type {\n",
       "        vertical-align: middle;\n",
       "    }\n",
       "\n",
       "    .dataframe tbody tr th {\n",
       "        vertical-align: top;\n",
       "    }\n",
       "\n",
       "    .dataframe thead th {\n",
       "        text-align: right;\n",
       "    }\n",
       "</style>\n",
       "<table border=\"1\" class=\"dataframe\">\n",
       "  <thead>\n",
       "    <tr style=\"text-align: right;\">\n",
       "      <th></th>\n",
       "      <th>Unnamed: 0</th>\n",
       "      <th>etapa</th>\n",
       "      <th>tipo</th>\n",
       "      <th>plazo_trimestres</th>\n",
       "      <th>monto_miles</th>\n",
       "      <th>comuna</th>\n",
       "      <th>Encoded</th>\n",
       "    </tr>\n",
       "  </thead>\n",
       "  <tbody>\n",
       "    <tr>\n",
       "      <th>0</th>\n",
       "      <td>0</td>\n",
       "      <td>Finalizada</td>\n",
       "      <td>Escuelas</td>\n",
       "      <td>Más de 2 años</td>\n",
       "      <td>67065.700</td>\n",
       "      <td>12</td>\n",
       "      <td>5</td>\n",
       "    </tr>\n",
       "    <tr>\n",
       "      <th>1</th>\n",
       "      <td>1</td>\n",
       "      <td>Finalizada</td>\n",
       "      <td>Espacio Público</td>\n",
       "      <td>Entre 1 y 2 años</td>\n",
       "      <td>9950.017</td>\n",
       "      <td>12</td>\n",
       "      <td>0</td>\n",
       "    </tr>\n",
       "    <tr>\n",
       "      <th>2</th>\n",
       "      <td>2</td>\n",
       "      <td>Finalizada</td>\n",
       "      <td>Espacio Público</td>\n",
       "      <td>Entre 1 y 2 años</td>\n",
       "      <td>36942.632</td>\n",
       "      <td>1</td>\n",
       "      <td>0</td>\n",
       "    </tr>\n",
       "    <tr>\n",
       "      <th>3</th>\n",
       "      <td>3</td>\n",
       "      <td>Finalizada</td>\n",
       "      <td>Espacio Público</td>\n",
       "      <td>Más de 2 años</td>\n",
       "      <td>26938.294</td>\n",
       "      <td>1</td>\n",
       "      <td>5</td>\n",
       "    </tr>\n",
       "    <tr>\n",
       "      <th>4</th>\n",
       "      <td>4</td>\n",
       "      <td>Finalizada</td>\n",
       "      <td>Vivienda</td>\n",
       "      <td>Entre 9 meses y 1 año</td>\n",
       "      <td>6990.315</td>\n",
       "      <td>8</td>\n",
       "      <td>3</td>\n",
       "    </tr>\n",
       "  </tbody>\n",
       "</table>\n",
       "</div>"
      ],
      "text/plain": [
       "   Unnamed: 0       etapa             tipo       plazo_trimestres  \\\n",
       "0           0  Finalizada         Escuelas          Más de 2 años   \n",
       "1           1  Finalizada  Espacio Público       Entre 1 y 2 años   \n",
       "2           2  Finalizada  Espacio Público       Entre 1 y 2 años   \n",
       "3           3  Finalizada  Espacio Público          Más de 2 años   \n",
       "4           4  Finalizada         Vivienda  Entre 9 meses y 1 año   \n",
       "\n",
       "   monto_miles  comuna  Encoded  \n",
       "0    67065.700      12        5  \n",
       "1     9950.017      12        0  \n",
       "2    36942.632       1        0  \n",
       "3    26938.294       1        5  \n",
       "4     6990.315       8        3  "
      ]
     },
     "execution_count": 100,
     "metadata": {},
     "output_type": "execute_result"
    }
   ],
   "source": [
    "obras_trim.head()"
   ]
  },
  {
   "cell_type": "code",
   "execution_count": 101,
   "metadata": {},
   "outputs": [
    {
     "name": "stdout",
     "output_type": "stream",
     "text": [
      "En total hay 6 plazos posibles de obras.\"\r\n",
      "\n",
      "\n",
      " [5 0 3 4 1 2]\n"
     ]
    }
   ],
   "source": [
    "target = len(obras_trim['Encoded'].unique()) \n",
    "print(f'En total hay {target} plazos posibles de obras.\"\\r\\n')\n",
    "print(\"\\n\", obras_trim['Encoded'].unique())"
   ]
  },
  {
   "cell_type": "code",
   "execution_count": 102,
   "metadata": {},
   "outputs": [
    {
     "data": {
      "text/plain": [
       "0      5\n",
       "1      0\n",
       "2      0\n",
       "3      5\n",
       "4      3\n",
       "      ..\n",
       "929    4\n",
       "930    4\n",
       "931    4\n",
       "932    4\n",
       "933    4\n",
       "Name: Encoded, Length: 883, dtype: int32"
      ]
     },
     "execution_count": 102,
     "metadata": {},
     "output_type": "execute_result"
    }
   ],
   "source": [
    "y_trim = obras_trim.iloc[:,6]\n",
    "y_trim"
   ]
  },
  {
   "cell_type": "markdown",
   "metadata": {},
   "source": [
    "## Features"
   ]
  },
  {
   "cell_type": "code",
   "execution_count": 103,
   "metadata": {},
   "outputs": [
    {
     "data": {
      "text/html": [
       "<div>\n",
       "<style scoped>\n",
       "    .dataframe tbody tr th:only-of-type {\n",
       "        vertical-align: middle;\n",
       "    }\n",
       "\n",
       "    .dataframe tbody tr th {\n",
       "        vertical-align: top;\n",
       "    }\n",
       "\n",
       "    .dataframe thead th {\n",
       "        text-align: right;\n",
       "    }\n",
       "</style>\n",
       "<table border=\"1\" class=\"dataframe\">\n",
       "  <thead>\n",
       "    <tr style=\"text-align: right;\">\n",
       "      <th></th>\n",
       "      <th>Unnamed: 0</th>\n",
       "      <th>etapa</th>\n",
       "      <th>tipo</th>\n",
       "      <th>plazo_trimestres</th>\n",
       "      <th>monto_miles</th>\n",
       "      <th>comuna</th>\n",
       "      <th>Encoded</th>\n",
       "      <th>Arquitectura</th>\n",
       "      <th>Escuelas</th>\n",
       "      <th>Espacio Público</th>\n",
       "      <th>Hidráulica e Infraestructura</th>\n",
       "      <th>Salud</th>\n",
       "      <th>Transporte</th>\n",
       "      <th>Vivienda</th>\n",
       "    </tr>\n",
       "  </thead>\n",
       "  <tbody>\n",
       "    <tr>\n",
       "      <th>0</th>\n",
       "      <td>0</td>\n",
       "      <td>Finalizada</td>\n",
       "      <td>Escuelas</td>\n",
       "      <td>Más de 2 años</td>\n",
       "      <td>67065.700</td>\n",
       "      <td>12</td>\n",
       "      <td>5</td>\n",
       "      <td>0</td>\n",
       "      <td>1</td>\n",
       "      <td>0</td>\n",
       "      <td>0</td>\n",
       "      <td>0</td>\n",
       "      <td>0</td>\n",
       "      <td>0</td>\n",
       "    </tr>\n",
       "    <tr>\n",
       "      <th>1</th>\n",
       "      <td>1</td>\n",
       "      <td>Finalizada</td>\n",
       "      <td>Espacio Público</td>\n",
       "      <td>Entre 1 y 2 años</td>\n",
       "      <td>9950.017</td>\n",
       "      <td>12</td>\n",
       "      <td>0</td>\n",
       "      <td>0</td>\n",
       "      <td>0</td>\n",
       "      <td>1</td>\n",
       "      <td>0</td>\n",
       "      <td>0</td>\n",
       "      <td>0</td>\n",
       "      <td>0</td>\n",
       "    </tr>\n",
       "    <tr>\n",
       "      <th>2</th>\n",
       "      <td>2</td>\n",
       "      <td>Finalizada</td>\n",
       "      <td>Espacio Público</td>\n",
       "      <td>Entre 1 y 2 años</td>\n",
       "      <td>36942.632</td>\n",
       "      <td>1</td>\n",
       "      <td>0</td>\n",
       "      <td>0</td>\n",
       "      <td>0</td>\n",
       "      <td>1</td>\n",
       "      <td>0</td>\n",
       "      <td>0</td>\n",
       "      <td>0</td>\n",
       "      <td>0</td>\n",
       "    </tr>\n",
       "    <tr>\n",
       "      <th>3</th>\n",
       "      <td>3</td>\n",
       "      <td>Finalizada</td>\n",
       "      <td>Espacio Público</td>\n",
       "      <td>Más de 2 años</td>\n",
       "      <td>26938.294</td>\n",
       "      <td>1</td>\n",
       "      <td>5</td>\n",
       "      <td>0</td>\n",
       "      <td>0</td>\n",
       "      <td>1</td>\n",
       "      <td>0</td>\n",
       "      <td>0</td>\n",
       "      <td>0</td>\n",
       "      <td>0</td>\n",
       "    </tr>\n",
       "    <tr>\n",
       "      <th>4</th>\n",
       "      <td>4</td>\n",
       "      <td>Finalizada</td>\n",
       "      <td>Vivienda</td>\n",
       "      <td>Entre 9 meses y 1 año</td>\n",
       "      <td>6990.315</td>\n",
       "      <td>8</td>\n",
       "      <td>3</td>\n",
       "      <td>0</td>\n",
       "      <td>0</td>\n",
       "      <td>0</td>\n",
       "      <td>0</td>\n",
       "      <td>0</td>\n",
       "      <td>0</td>\n",
       "      <td>1</td>\n",
       "    </tr>\n",
       "    <tr>\n",
       "      <th>...</th>\n",
       "      <td>...</td>\n",
       "      <td>...</td>\n",
       "      <td>...</td>\n",
       "      <td>...</td>\n",
       "      <td>...</td>\n",
       "      <td>...</td>\n",
       "      <td>...</td>\n",
       "      <td>...</td>\n",
       "      <td>...</td>\n",
       "      <td>...</td>\n",
       "      <td>...</td>\n",
       "      <td>...</td>\n",
       "      <td>...</td>\n",
       "      <td>...</td>\n",
       "    </tr>\n",
       "    <tr>\n",
       "      <th>929</th>\n",
       "      <td>1111</td>\n",
       "      <td>Finalizada</td>\n",
       "      <td>Espacio Público</td>\n",
       "      <td>Hasta 3 meses</td>\n",
       "      <td>2325.368</td>\n",
       "      <td>8</td>\n",
       "      <td>4</td>\n",
       "      <td>0</td>\n",
       "      <td>0</td>\n",
       "      <td>1</td>\n",
       "      <td>0</td>\n",
       "      <td>0</td>\n",
       "      <td>0</td>\n",
       "      <td>0</td>\n",
       "    </tr>\n",
       "    <tr>\n",
       "      <th>930</th>\n",
       "      <td>1112</td>\n",
       "      <td>Finalizada</td>\n",
       "      <td>Espacio Público</td>\n",
       "      <td>Hasta 3 meses</td>\n",
       "      <td>1984.627</td>\n",
       "      <td>8</td>\n",
       "      <td>4</td>\n",
       "      <td>0</td>\n",
       "      <td>0</td>\n",
       "      <td>1</td>\n",
       "      <td>0</td>\n",
       "      <td>0</td>\n",
       "      <td>0</td>\n",
       "      <td>0</td>\n",
       "    </tr>\n",
       "    <tr>\n",
       "      <th>931</th>\n",
       "      <td>1114</td>\n",
       "      <td>Finalizada</td>\n",
       "      <td>Espacio Público</td>\n",
       "      <td>Hasta 3 meses</td>\n",
       "      <td>6557.067</td>\n",
       "      <td>9</td>\n",
       "      <td>4</td>\n",
       "      <td>0</td>\n",
       "      <td>0</td>\n",
       "      <td>1</td>\n",
       "      <td>0</td>\n",
       "      <td>0</td>\n",
       "      <td>0</td>\n",
       "      <td>0</td>\n",
       "    </tr>\n",
       "    <tr>\n",
       "      <th>932</th>\n",
       "      <td>1115</td>\n",
       "      <td>Finalizada</td>\n",
       "      <td>Espacio Público</td>\n",
       "      <td>Hasta 3 meses</td>\n",
       "      <td>22279.428</td>\n",
       "      <td>15</td>\n",
       "      <td>4</td>\n",
       "      <td>0</td>\n",
       "      <td>0</td>\n",
       "      <td>1</td>\n",
       "      <td>0</td>\n",
       "      <td>0</td>\n",
       "      <td>0</td>\n",
       "      <td>0</td>\n",
       "    </tr>\n",
       "    <tr>\n",
       "      <th>933</th>\n",
       "      <td>1116</td>\n",
       "      <td>Finalizada</td>\n",
       "      <td>Espacio Público</td>\n",
       "      <td>Hasta 3 meses</td>\n",
       "      <td>14024.377</td>\n",
       "      <td>11</td>\n",
       "      <td>4</td>\n",
       "      <td>0</td>\n",
       "      <td>0</td>\n",
       "      <td>1</td>\n",
       "      <td>0</td>\n",
       "      <td>0</td>\n",
       "      <td>0</td>\n",
       "      <td>0</td>\n",
       "    </tr>\n",
       "  </tbody>\n",
       "</table>\n",
       "<p>883 rows × 14 columns</p>\n",
       "</div>"
      ],
      "text/plain": [
       "     Unnamed: 0       etapa             tipo       plazo_trimestres  \\\n",
       "0             0  Finalizada         Escuelas          Más de 2 años   \n",
       "1             1  Finalizada  Espacio Público       Entre 1 y 2 años   \n",
       "2             2  Finalizada  Espacio Público       Entre 1 y 2 años   \n",
       "3             3  Finalizada  Espacio Público          Más de 2 años   \n",
       "4             4  Finalizada         Vivienda  Entre 9 meses y 1 año   \n",
       "..          ...         ...              ...                    ...   \n",
       "929        1111  Finalizada  Espacio Público          Hasta 3 meses   \n",
       "930        1112  Finalizada  Espacio Público          Hasta 3 meses   \n",
       "931        1114  Finalizada  Espacio Público          Hasta 3 meses   \n",
       "932        1115  Finalizada  Espacio Público          Hasta 3 meses   \n",
       "933        1116  Finalizada  Espacio Público          Hasta 3 meses   \n",
       "\n",
       "     monto_miles  comuna  Encoded  Arquitectura  Escuelas  Espacio Público  \\\n",
       "0      67065.700      12        5             0         1                0   \n",
       "1       9950.017      12        0             0         0                1   \n",
       "2      36942.632       1        0             0         0                1   \n",
       "3      26938.294       1        5             0         0                1   \n",
       "4       6990.315       8        3             0         0                0   \n",
       "..           ...     ...      ...           ...       ...              ...   \n",
       "929     2325.368       8        4             0         0                1   \n",
       "930     1984.627       8        4             0         0                1   \n",
       "931     6557.067       9        4             0         0                1   \n",
       "932    22279.428      15        4             0         0                1   \n",
       "933    14024.377      11        4             0         0                1   \n",
       "\n",
       "     Hidráulica e Infraestructura  Salud  Transporte  Vivienda  \n",
       "0                               0      0           0         0  \n",
       "1                               0      0           0         0  \n",
       "2                               0      0           0         0  \n",
       "3                               0      0           0         0  \n",
       "4                               0      0           0         1  \n",
       "..                            ...    ...         ...       ...  \n",
       "929                             0      0           0         0  \n",
       "930                             0      0           0         0  \n",
       "931                             0      0           0         0  \n",
       "932                             0      0           0         0  \n",
       "933                             0      0           0         0  \n",
       "\n",
       "[883 rows x 14 columns]"
      ]
     },
     "execution_count": 103,
     "metadata": {},
     "output_type": "execute_result"
    }
   ],
   "source": [
    "tipo_obra = pd.get_dummies(obras_trim.tipo)\n",
    "obras_trim = obras_trim.join(tipo_obra)\n",
    "obras_trim"
   ]
  },
  {
   "cell_type": "code",
   "execution_count": 104,
   "metadata": {},
   "outputs": [
    {
     "data": {
      "text/html": [
       "<div>\n",
       "<style scoped>\n",
       "    .dataframe tbody tr th:only-of-type {\n",
       "        vertical-align: middle;\n",
       "    }\n",
       "\n",
       "    .dataframe tbody tr th {\n",
       "        vertical-align: top;\n",
       "    }\n",
       "\n",
       "    .dataframe thead th {\n",
       "        text-align: right;\n",
       "    }\n",
       "</style>\n",
       "<table border=\"1\" class=\"dataframe\">\n",
       "  <thead>\n",
       "    <tr style=\"text-align: right;\">\n",
       "      <th></th>\n",
       "      <th>monto_miles</th>\n",
       "      <th>comuna</th>\n",
       "      <th>Encoded</th>\n",
       "      <th>Arquitectura</th>\n",
       "      <th>Escuelas</th>\n",
       "      <th>Espacio Público</th>\n",
       "      <th>Hidráulica e Infraestructura</th>\n",
       "      <th>Salud</th>\n",
       "      <th>Transporte</th>\n",
       "      <th>Vivienda</th>\n",
       "    </tr>\n",
       "  </thead>\n",
       "  <tbody>\n",
       "    <tr>\n",
       "      <th>0</th>\n",
       "      <td>67065.700</td>\n",
       "      <td>12</td>\n",
       "      <td>5</td>\n",
       "      <td>0</td>\n",
       "      <td>1</td>\n",
       "      <td>0</td>\n",
       "      <td>0</td>\n",
       "      <td>0</td>\n",
       "      <td>0</td>\n",
       "      <td>0</td>\n",
       "    </tr>\n",
       "    <tr>\n",
       "      <th>1</th>\n",
       "      <td>9950.017</td>\n",
       "      <td>12</td>\n",
       "      <td>0</td>\n",
       "      <td>0</td>\n",
       "      <td>0</td>\n",
       "      <td>1</td>\n",
       "      <td>0</td>\n",
       "      <td>0</td>\n",
       "      <td>0</td>\n",
       "      <td>0</td>\n",
       "    </tr>\n",
       "    <tr>\n",
       "      <th>2</th>\n",
       "      <td>36942.632</td>\n",
       "      <td>1</td>\n",
       "      <td>0</td>\n",
       "      <td>0</td>\n",
       "      <td>0</td>\n",
       "      <td>1</td>\n",
       "      <td>0</td>\n",
       "      <td>0</td>\n",
       "      <td>0</td>\n",
       "      <td>0</td>\n",
       "    </tr>\n",
       "    <tr>\n",
       "      <th>3</th>\n",
       "      <td>26938.294</td>\n",
       "      <td>1</td>\n",
       "      <td>5</td>\n",
       "      <td>0</td>\n",
       "      <td>0</td>\n",
       "      <td>1</td>\n",
       "      <td>0</td>\n",
       "      <td>0</td>\n",
       "      <td>0</td>\n",
       "      <td>0</td>\n",
       "    </tr>\n",
       "    <tr>\n",
       "      <th>4</th>\n",
       "      <td>6990.315</td>\n",
       "      <td>8</td>\n",
       "      <td>3</td>\n",
       "      <td>0</td>\n",
       "      <td>0</td>\n",
       "      <td>0</td>\n",
       "      <td>0</td>\n",
       "      <td>0</td>\n",
       "      <td>0</td>\n",
       "      <td>1</td>\n",
       "    </tr>\n",
       "    <tr>\n",
       "      <th>...</th>\n",
       "      <td>...</td>\n",
       "      <td>...</td>\n",
       "      <td>...</td>\n",
       "      <td>...</td>\n",
       "      <td>...</td>\n",
       "      <td>...</td>\n",
       "      <td>...</td>\n",
       "      <td>...</td>\n",
       "      <td>...</td>\n",
       "      <td>...</td>\n",
       "    </tr>\n",
       "    <tr>\n",
       "      <th>929</th>\n",
       "      <td>2325.368</td>\n",
       "      <td>8</td>\n",
       "      <td>4</td>\n",
       "      <td>0</td>\n",
       "      <td>0</td>\n",
       "      <td>1</td>\n",
       "      <td>0</td>\n",
       "      <td>0</td>\n",
       "      <td>0</td>\n",
       "      <td>0</td>\n",
       "    </tr>\n",
       "    <tr>\n",
       "      <th>930</th>\n",
       "      <td>1984.627</td>\n",
       "      <td>8</td>\n",
       "      <td>4</td>\n",
       "      <td>0</td>\n",
       "      <td>0</td>\n",
       "      <td>1</td>\n",
       "      <td>0</td>\n",
       "      <td>0</td>\n",
       "      <td>0</td>\n",
       "      <td>0</td>\n",
       "    </tr>\n",
       "    <tr>\n",
       "      <th>931</th>\n",
       "      <td>6557.067</td>\n",
       "      <td>9</td>\n",
       "      <td>4</td>\n",
       "      <td>0</td>\n",
       "      <td>0</td>\n",
       "      <td>1</td>\n",
       "      <td>0</td>\n",
       "      <td>0</td>\n",
       "      <td>0</td>\n",
       "      <td>0</td>\n",
       "    </tr>\n",
       "    <tr>\n",
       "      <th>932</th>\n",
       "      <td>22279.428</td>\n",
       "      <td>15</td>\n",
       "      <td>4</td>\n",
       "      <td>0</td>\n",
       "      <td>0</td>\n",
       "      <td>1</td>\n",
       "      <td>0</td>\n",
       "      <td>0</td>\n",
       "      <td>0</td>\n",
       "      <td>0</td>\n",
       "    </tr>\n",
       "    <tr>\n",
       "      <th>933</th>\n",
       "      <td>14024.377</td>\n",
       "      <td>11</td>\n",
       "      <td>4</td>\n",
       "      <td>0</td>\n",
       "      <td>0</td>\n",
       "      <td>1</td>\n",
       "      <td>0</td>\n",
       "      <td>0</td>\n",
       "      <td>0</td>\n",
       "      <td>0</td>\n",
       "    </tr>\n",
       "  </tbody>\n",
       "</table>\n",
       "<p>883 rows × 10 columns</p>\n",
       "</div>"
      ],
      "text/plain": [
       "     monto_miles  comuna  Encoded  Arquitectura  Escuelas  Espacio Público  \\\n",
       "0      67065.700      12        5             0         1                0   \n",
       "1       9950.017      12        0             0         0                1   \n",
       "2      36942.632       1        0             0         0                1   \n",
       "3      26938.294       1        5             0         0                1   \n",
       "4       6990.315       8        3             0         0                0   \n",
       "..           ...     ...      ...           ...       ...              ...   \n",
       "929     2325.368       8        4             0         0                1   \n",
       "930     1984.627       8        4             0         0                1   \n",
       "931     6557.067       9        4             0         0                1   \n",
       "932    22279.428      15        4             0         0                1   \n",
       "933    14024.377      11        4             0         0                1   \n",
       "\n",
       "     Hidráulica e Infraestructura  Salud  Transporte  Vivienda  \n",
       "0                               0      0           0         0  \n",
       "1                               0      0           0         0  \n",
       "2                               0      0           0         0  \n",
       "3                               0      0           0         0  \n",
       "4                               0      0           0         1  \n",
       "..                            ...    ...         ...       ...  \n",
       "929                             0      0           0         0  \n",
       "930                             0      0           0         0  \n",
       "931                             0      0           0         0  \n",
       "932                             0      0           0         0  \n",
       "933                             0      0           0         0  \n",
       "\n",
       "[883 rows x 10 columns]"
      ]
     },
     "execution_count": 104,
     "metadata": {},
     "output_type": "execute_result"
    }
   ],
   "source": [
    "x_trim = obras_trim.iloc[:,4:]\n",
    "x_trim"
   ]
  },
  {
   "cell_type": "code",
   "execution_count": 105,
   "metadata": {},
   "outputs": [
    {
     "data": {
      "text/html": [
       "<div>\n",
       "<style scoped>\n",
       "    .dataframe tbody tr th:only-of-type {\n",
       "        vertical-align: middle;\n",
       "    }\n",
       "\n",
       "    .dataframe tbody tr th {\n",
       "        vertical-align: top;\n",
       "    }\n",
       "\n",
       "    .dataframe thead th {\n",
       "        text-align: right;\n",
       "    }\n",
       "</style>\n",
       "<table border=\"1\" class=\"dataframe\">\n",
       "  <thead>\n",
       "    <tr style=\"text-align: right;\">\n",
       "      <th></th>\n",
       "      <th>monto_miles</th>\n",
       "      <th>comuna</th>\n",
       "      <th>Arquitectura</th>\n",
       "      <th>Escuelas</th>\n",
       "      <th>Espacio Público</th>\n",
       "      <th>Hidráulica e Infraestructura</th>\n",
       "      <th>Salud</th>\n",
       "      <th>Transporte</th>\n",
       "      <th>Vivienda</th>\n",
       "    </tr>\n",
       "  </thead>\n",
       "  <tbody>\n",
       "    <tr>\n",
       "      <th>0</th>\n",
       "      <td>67065.700</td>\n",
       "      <td>12</td>\n",
       "      <td>0</td>\n",
       "      <td>1</td>\n",
       "      <td>0</td>\n",
       "      <td>0</td>\n",
       "      <td>0</td>\n",
       "      <td>0</td>\n",
       "      <td>0</td>\n",
       "    </tr>\n",
       "    <tr>\n",
       "      <th>1</th>\n",
       "      <td>9950.017</td>\n",
       "      <td>12</td>\n",
       "      <td>0</td>\n",
       "      <td>0</td>\n",
       "      <td>1</td>\n",
       "      <td>0</td>\n",
       "      <td>0</td>\n",
       "      <td>0</td>\n",
       "      <td>0</td>\n",
       "    </tr>\n",
       "    <tr>\n",
       "      <th>2</th>\n",
       "      <td>36942.632</td>\n",
       "      <td>1</td>\n",
       "      <td>0</td>\n",
       "      <td>0</td>\n",
       "      <td>1</td>\n",
       "      <td>0</td>\n",
       "      <td>0</td>\n",
       "      <td>0</td>\n",
       "      <td>0</td>\n",
       "    </tr>\n",
       "    <tr>\n",
       "      <th>3</th>\n",
       "      <td>26938.294</td>\n",
       "      <td>1</td>\n",
       "      <td>0</td>\n",
       "      <td>0</td>\n",
       "      <td>1</td>\n",
       "      <td>0</td>\n",
       "      <td>0</td>\n",
       "      <td>0</td>\n",
       "      <td>0</td>\n",
       "    </tr>\n",
       "    <tr>\n",
       "      <th>4</th>\n",
       "      <td>6990.315</td>\n",
       "      <td>8</td>\n",
       "      <td>0</td>\n",
       "      <td>0</td>\n",
       "      <td>0</td>\n",
       "      <td>0</td>\n",
       "      <td>0</td>\n",
       "      <td>0</td>\n",
       "      <td>1</td>\n",
       "    </tr>\n",
       "    <tr>\n",
       "      <th>...</th>\n",
       "      <td>...</td>\n",
       "      <td>...</td>\n",
       "      <td>...</td>\n",
       "      <td>...</td>\n",
       "      <td>...</td>\n",
       "      <td>...</td>\n",
       "      <td>...</td>\n",
       "      <td>...</td>\n",
       "      <td>...</td>\n",
       "    </tr>\n",
       "    <tr>\n",
       "      <th>929</th>\n",
       "      <td>2325.368</td>\n",
       "      <td>8</td>\n",
       "      <td>0</td>\n",
       "      <td>0</td>\n",
       "      <td>1</td>\n",
       "      <td>0</td>\n",
       "      <td>0</td>\n",
       "      <td>0</td>\n",
       "      <td>0</td>\n",
       "    </tr>\n",
       "    <tr>\n",
       "      <th>930</th>\n",
       "      <td>1984.627</td>\n",
       "      <td>8</td>\n",
       "      <td>0</td>\n",
       "      <td>0</td>\n",
       "      <td>1</td>\n",
       "      <td>0</td>\n",
       "      <td>0</td>\n",
       "      <td>0</td>\n",
       "      <td>0</td>\n",
       "    </tr>\n",
       "    <tr>\n",
       "      <th>931</th>\n",
       "      <td>6557.067</td>\n",
       "      <td>9</td>\n",
       "      <td>0</td>\n",
       "      <td>0</td>\n",
       "      <td>1</td>\n",
       "      <td>0</td>\n",
       "      <td>0</td>\n",
       "      <td>0</td>\n",
       "      <td>0</td>\n",
       "    </tr>\n",
       "    <tr>\n",
       "      <th>932</th>\n",
       "      <td>22279.428</td>\n",
       "      <td>15</td>\n",
       "      <td>0</td>\n",
       "      <td>0</td>\n",
       "      <td>1</td>\n",
       "      <td>0</td>\n",
       "      <td>0</td>\n",
       "      <td>0</td>\n",
       "      <td>0</td>\n",
       "    </tr>\n",
       "    <tr>\n",
       "      <th>933</th>\n",
       "      <td>14024.377</td>\n",
       "      <td>11</td>\n",
       "      <td>0</td>\n",
       "      <td>0</td>\n",
       "      <td>1</td>\n",
       "      <td>0</td>\n",
       "      <td>0</td>\n",
       "      <td>0</td>\n",
       "      <td>0</td>\n",
       "    </tr>\n",
       "  </tbody>\n",
       "</table>\n",
       "<p>883 rows × 9 columns</p>\n",
       "</div>"
      ],
      "text/plain": [
       "     monto_miles  comuna  Arquitectura  Escuelas  Espacio Público  \\\n",
       "0      67065.700      12             0         1                0   \n",
       "1       9950.017      12             0         0                1   \n",
       "2      36942.632       1             0         0                1   \n",
       "3      26938.294       1             0         0                1   \n",
       "4       6990.315       8             0         0                0   \n",
       "..           ...     ...           ...       ...              ...   \n",
       "929     2325.368       8             0         0                1   \n",
       "930     1984.627       8             0         0                1   \n",
       "931     6557.067       9             0         0                1   \n",
       "932    22279.428      15             0         0                1   \n",
       "933    14024.377      11             0         0                1   \n",
       "\n",
       "     Hidráulica e Infraestructura  Salud  Transporte  Vivienda  \n",
       "0                               0      0           0         0  \n",
       "1                               0      0           0         0  \n",
       "2                               0      0           0         0  \n",
       "3                               0      0           0         0  \n",
       "4                               0      0           0         1  \n",
       "..                            ...    ...         ...       ...  \n",
       "929                             0      0           0         0  \n",
       "930                             0      0           0         0  \n",
       "931                             0      0           0         0  \n",
       "932                             0      0           0         0  \n",
       "933                             0      0           0         0  \n",
       "\n",
       "[883 rows x 9 columns]"
      ]
     },
     "execution_count": 105,
     "metadata": {},
     "output_type": "execute_result"
    }
   ],
   "source": [
    "# Recordamos que Encoded es el dummie generado para nuestro target (sacamos por exclusión)\n",
    "x_trim = x_trim.drop(['Encoded'],axis=1)\n",
    "x_trim"
   ]
  },
  {
   "cell_type": "code",
   "execution_count": 106,
   "metadata": {},
   "outputs": [
    {
     "data": {
      "text/plain": [
       "Hasta 3 meses            269\n",
       "Entre 3 y 6 meses        186\n",
       "Entre 1 y 2 años         179\n",
       "Entre 7 y 9 meses        104\n",
       "Entre 9 meses y 1 año     96\n",
       "Más de 2 años             49\n",
       "Name: plazo_trimestres, dtype: int64"
      ]
     },
     "execution_count": 106,
     "metadata": {},
     "output_type": "execute_result"
    }
   ],
   "source": [
    "obras_trim['plazo_trimestres'].value_counts()"
   ]
  },
  {
   "cell_type": "code",
   "execution_count": 107,
   "metadata": {},
   "outputs": [
    {
     "name": "stdout",
     "output_type": "stream",
     "text": [
      "El tamaño del \"X\" de entrenamiento es: (176, 9)\n",
      "Se corresponde con el \"Y\" de entrenamiento (176,)\n"
     ]
    }
   ],
   "source": [
    "# Analizaremos primero el dataset sin realizar el resample\n",
    "# Separamos el data set en train y test\n",
    "\n",
    "xtrain_trim,xtest_trim,ytrain_trim,ytest_trim=train_test_split(x_trim,y_trim, test_size=0.8, random_state=8)\n",
    "print('El tamaño del \"X\" de entrenamiento es: ' + str(xtrain_trim.shape))\n",
    "print('Se corresponde con el \"Y\" de entrenamiento ' + str(ytrain_trim.shape))"
   ]
  },
  {
   "cell_type": "code",
   "execution_count": 108,
   "metadata": {},
   "outputs": [],
   "source": [
    "from sklearn import preprocessing\n",
    "\n",
    "scaler_trim = preprocessing.StandardScaler().fit(xtrain_trim)"
   ]
  },
  {
   "cell_type": "code",
   "execution_count": 109,
   "metadata": {},
   "outputs": [],
   "source": [
    "xtrain_scaled_trim = scaler_trim.transform (xtrain_trim)\n",
    "xtest_scaled_trim = scaler_trim.transform (xtest_trim)"
   ]
  },
  {
   "cell_type": "markdown",
   "metadata": {},
   "source": [
    "## ML\n",
    "Se utilizarán distintos modelos, con distintos hiperparámetros para obtener aquel que mejor logre clasificar nuestro objetivo."
   ]
  },
  {
   "cell_type": "markdown",
   "metadata": {},
   "source": [
    "## Support Vector Classifier"
   ]
  },
  {
   "cell_type": "code",
   "execution_count": 110,
   "metadata": {},
   "outputs": [
    {
     "data": {
      "text/plain": [
       "GridSearchCV(cv=5, estimator=SVC(class_weight='balanced', probability=True),\n",
       "             param_grid={'C': [0.1, 1, 5, 10, 100], 'gamma': [0.1, 1, 5, 10],\n",
       "                         'kernel': ('linear', 'rbf')})"
      ]
     },
     "execution_count": 110,
     "metadata": {},
     "output_type": "execute_result"
    }
   ],
   "source": [
    "# Definimos el clasificador\n",
    "\n",
    "svc_trim = SVC(probability=True, class_weight='balanced')\n",
    "\n",
    "param_svc_trim={'kernel':('linear','rbf'),\n",
    "           'C':[0.1, 1, 5, 10, 100],\n",
    "           'gamma':[0.1, 1, 5, 10]}\n",
    "\n",
    "gs_svc_trim = GridSearchCV(svc_trim, param_grid=param_svc_trim, refit=True,cv=5)\n",
    "gs_svc_trim.fit(xtrain_scaled_trim,ytrain_trim)"
   ]
  },
  {
   "cell_type": "code",
   "execution_count": 111,
   "metadata": {},
   "outputs": [
    {
     "name": "stdout",
     "output_type": "stream",
     "text": [
      "Los mejores parámetros son:  {'C': 100, 'gamma': 10, 'kernel': 'rbf'}\n",
      "El score obtenido fue:  0.3295238095238095\n"
     ]
    }
   ],
   "source": [
    "print ('Los mejores parámetros son: ',  gs_svc_trim.best_params_)\n",
    "print ('El score obtenido fue: ', gs_svc_trim.best_score_)"
   ]
  },
  {
   "cell_type": "code",
   "execution_count": 112,
   "metadata": {},
   "outputs": [
    {
     "name": "stdout",
     "output_type": "stream",
     "text": [
      "El accuracy obtenido fue de 0.32 \n"
     ]
    }
   ],
   "source": [
    "ypred_svc_trim = gs_svc_trim.predict(xtest_scaled_trim)\n",
    "score_svc_trim = accuracy_score(ytest_trim,ypred_svc_trim)\n",
    "print('El accuracy obtenido fue de %0.2f ' %(accuracy_score(ytest_trim,ypred_svc_trim)))"
   ]
  },
  {
   "cell_type": "code",
   "execution_count": 113,
   "metadata": {},
   "outputs": [],
   "source": [
    "# Vamos a guardar los resultados y comparar al final\n",
    "\n",
    "rdos_trim = pd.DataFrame(columns=['Clasificador', 'Accuracy'])"
   ]
  },
  {
   "cell_type": "code",
   "execution_count": 114,
   "metadata": {},
   "outputs": [],
   "source": [
    "rdos_trim = rdos_trim.append({'Clasificador':'SVC en trim, sin resample',\n",
    "                   'Accuracy': score_svc_trim}, ignore_index=True)"
   ]
  },
  {
   "cell_type": "markdown",
   "metadata": {},
   "source": [
    "## KNN Classifier"
   ]
  },
  {
   "cell_type": "code",
   "execution_count": 115,
   "metadata": {},
   "outputs": [
    {
     "data": {
      "text/plain": [
       "GridSearchCV(cv=5, estimator=KNeighborsClassifier(),\n",
       "             param_grid={'n_neighbors': [1, 5, 10, 15, 20, 50, 100]})"
      ]
     },
     "execution_count": 115,
     "metadata": {},
     "output_type": "execute_result"
    }
   ],
   "source": [
    "knn_trim = KNeighborsClassifier()\n",
    "\n",
    "param_knn_trim = {'n_neighbors': [1,5,10,15,20,50,100]}\n",
    "\n",
    "gs_knn_trim = GridSearchCV(knn_trim, param_grid=param_knn_trim,refit=True, cv=5)\n",
    "gs_knn_trim.fit(xtrain_scaled_trim,ytrain_trim)"
   ]
  },
  {
   "cell_type": "code",
   "execution_count": 116,
   "metadata": {},
   "outputs": [
    {
     "name": "stdout",
     "output_type": "stream",
     "text": [
      "Los mejores parámetros son:  {'n_neighbors': 1}\n",
      "El score obtenido fue:  0.36936507936507934\n",
      "El accuracy obtenido fue de 0.34 \n"
     ]
    }
   ],
   "source": [
    "print ('Los mejores parámetros son: ', gs_knn_trim.best_params_)\n",
    "print ('El score obtenido fue: ', gs_knn_trim.best_score_)\n",
    "ypred_knn_trim = gs_knn_trim.predict(xtest_scaled_trim)\n",
    "score_knn_trim = accuracy_score(ytest_trim,ypred_knn_trim)\n",
    "print('El accuracy obtenido fue de %0.2f ' %(accuracy_score(ytest_trim,ypred_knn_trim)))"
   ]
  },
  {
   "cell_type": "code",
   "execution_count": 117,
   "metadata": {},
   "outputs": [],
   "source": [
    "rdos_trim = rdos_trim.append({'Clasificador':'KNN en trim, sin resample',\n",
    "                    'Accuracy': score_knn_trim}, ignore_index=True)"
   ]
  },
  {
   "cell_type": "markdown",
   "metadata": {},
   "source": [
    "## Random Forest Classifier"
   ]
  },
  {
   "cell_type": "code",
   "execution_count": 118,
   "metadata": {},
   "outputs": [
    {
     "data": {
      "text/plain": [
       "GridSearchCV(cv=5, estimator=RandomForestClassifier(),\n",
       "             param_grid={'n_estimators': [1, 10, 15, 20, 25, 50, 75, 100]})"
      ]
     },
     "execution_count": 118,
     "metadata": {},
     "output_type": "execute_result"
    }
   ],
   "source": [
    "rfr_trim = RandomForestClassifier()\n",
    "\n",
    "param_rfr_trim = {'n_estimators':[1,10,15,20,25,50,75,100]}\n",
    "\n",
    "gs_rfr_trim = GridSearchCV(rfr_trim, param_grid=param_rfr_trim, cv=5)\n",
    "gs_rfr_trim.fit(xtrain_scaled_trim,ytrain_trim)"
   ]
  },
  {
   "cell_type": "code",
   "execution_count": 119,
   "metadata": {},
   "outputs": [
    {
     "name": "stdout",
     "output_type": "stream",
     "text": [
      "Los mejores parámetros son:  {'n_estimators': 20}\n",
      "El score obtenido fue:  0.4093650793650793\n",
      "El accuracy obtenido fue de 0.36 \n"
     ]
    }
   ],
   "source": [
    "print ('Los mejores parámetros son: ', gs_rfr_trim.best_params_)\n",
    "print ('El score obtenido fue: ', gs_rfr_trim.best_score_)\n",
    "ypred_rfr_trim = gs_rfr_trim.predict(xtest_scaled_trim)\n",
    "score_rfr_trim = accuracy_score(ytest_trim,ypred_rfr_trim)\n",
    "print('El accuracy obtenido fue de %0.2f ' %(accuracy_score(ytest_trim,ypred_rfr_trim)))"
   ]
  },
  {
   "cell_type": "code",
   "execution_count": 120,
   "metadata": {},
   "outputs": [],
   "source": [
    "rdos_trim = rdos_trim.append({'Clasificador':'Random Forest en trim, sin resample',\n",
    "                   'Accuracy': score_rfr_trim}, ignore_index=True)"
   ]
  },
  {
   "cell_type": "markdown",
   "metadata": {},
   "source": [
    "## Logistic Regression"
   ]
  },
  {
   "cell_type": "code",
   "execution_count": 121,
   "metadata": {},
   "outputs": [
    {
     "name": "stderr",
     "output_type": "stream",
     "text": [
      "D:\\Anaconda\\lib\\site-packages\\sklearn\\linear_model\\_logistic.py:762: ConvergenceWarning: lbfgs failed to converge (status=1):\n",
      "STOP: TOTAL NO. of ITERATIONS REACHED LIMIT.\n",
      "\n",
      "Increase the number of iterations (max_iter) or scale the data as shown in:\n",
      "    https://scikit-learn.org/stable/modules/preprocessing.html\n",
      "Please also refer to the documentation for alternative solver options:\n",
      "    https://scikit-learn.org/stable/modules/linear_model.html#logistic-regression\n",
      "  n_iter_i = _check_optimize_result(\n",
      "D:\\Anaconda\\lib\\site-packages\\sklearn\\linear_model\\_logistic.py:762: ConvergenceWarning: lbfgs failed to converge (status=1):\n",
      "STOP: TOTAL NO. of ITERATIONS REACHED LIMIT.\n",
      "\n",
      "Increase the number of iterations (max_iter) or scale the data as shown in:\n",
      "    https://scikit-learn.org/stable/modules/preprocessing.html\n",
      "Please also refer to the documentation for alternative solver options:\n",
      "    https://scikit-learn.org/stable/modules/linear_model.html#logistic-regression\n",
      "  n_iter_i = _check_optimize_result(\n",
      "D:\\Anaconda\\lib\\site-packages\\sklearn\\linear_model\\_logistic.py:762: ConvergenceWarning: lbfgs failed to converge (status=1):\n",
      "STOP: TOTAL NO. of ITERATIONS REACHED LIMIT.\n",
      "\n",
      "Increase the number of iterations (max_iter) or scale the data as shown in:\n",
      "    https://scikit-learn.org/stable/modules/preprocessing.html\n",
      "Please also refer to the documentation for alternative solver options:\n",
      "    https://scikit-learn.org/stable/modules/linear_model.html#logistic-regression\n",
      "  n_iter_i = _check_optimize_result(\n",
      "D:\\Anaconda\\lib\\site-packages\\sklearn\\linear_model\\_logistic.py:762: ConvergenceWarning: lbfgs failed to converge (status=1):\n",
      "STOP: TOTAL NO. of ITERATIONS REACHED LIMIT.\n",
      "\n",
      "Increase the number of iterations (max_iter) or scale the data as shown in:\n",
      "    https://scikit-learn.org/stable/modules/preprocessing.html\n",
      "Please also refer to the documentation for alternative solver options:\n",
      "    https://scikit-learn.org/stable/modules/linear_model.html#logistic-regression\n",
      "  n_iter_i = _check_optimize_result(\n",
      "D:\\Anaconda\\lib\\site-packages\\sklearn\\linear_model\\_logistic.py:762: ConvergenceWarning: lbfgs failed to converge (status=1):\n",
      "STOP: TOTAL NO. of ITERATIONS REACHED LIMIT.\n",
      "\n",
      "Increase the number of iterations (max_iter) or scale the data as shown in:\n",
      "    https://scikit-learn.org/stable/modules/preprocessing.html\n",
      "Please also refer to the documentation for alternative solver options:\n",
      "    https://scikit-learn.org/stable/modules/linear_model.html#logistic-regression\n",
      "  n_iter_i = _check_optimize_result(\n",
      "D:\\Anaconda\\lib\\site-packages\\sklearn\\linear_model\\_logistic.py:762: ConvergenceWarning: lbfgs failed to converge (status=1):\n",
      "STOP: TOTAL NO. of ITERATIONS REACHED LIMIT.\n",
      "\n",
      "Increase the number of iterations (max_iter) or scale the data as shown in:\n",
      "    https://scikit-learn.org/stable/modules/preprocessing.html\n",
      "Please also refer to the documentation for alternative solver options:\n",
      "    https://scikit-learn.org/stable/modules/linear_model.html#logistic-regression\n",
      "  n_iter_i = _check_optimize_result(\n",
      "D:\\Anaconda\\lib\\site-packages\\sklearn\\linear_model\\_logistic.py:762: ConvergenceWarning: lbfgs failed to converge (status=1):\n",
      "STOP: TOTAL NO. of ITERATIONS REACHED LIMIT.\n",
      "\n",
      "Increase the number of iterations (max_iter) or scale the data as shown in:\n",
      "    https://scikit-learn.org/stable/modules/preprocessing.html\n",
      "Please also refer to the documentation for alternative solver options:\n",
      "    https://scikit-learn.org/stable/modules/linear_model.html#logistic-regression\n",
      "  n_iter_i = _check_optimize_result(\n",
      "D:\\Anaconda\\lib\\site-packages\\sklearn\\linear_model\\_logistic.py:762: ConvergenceWarning: lbfgs failed to converge (status=1):\n",
      "STOP: TOTAL NO. of ITERATIONS REACHED LIMIT.\n",
      "\n",
      "Increase the number of iterations (max_iter) or scale the data as shown in:\n",
      "    https://scikit-learn.org/stable/modules/preprocessing.html\n",
      "Please also refer to the documentation for alternative solver options:\n",
      "    https://scikit-learn.org/stable/modules/linear_model.html#logistic-regression\n",
      "  n_iter_i = _check_optimize_result(\n",
      "D:\\Anaconda\\lib\\site-packages\\sklearn\\linear_model\\_logistic.py:762: ConvergenceWarning: lbfgs failed to converge (status=1):\n",
      "STOP: TOTAL NO. of ITERATIONS REACHED LIMIT.\n",
      "\n",
      "Increase the number of iterations (max_iter) or scale the data as shown in:\n",
      "    https://scikit-learn.org/stable/modules/preprocessing.html\n",
      "Please also refer to the documentation for alternative solver options:\n",
      "    https://scikit-learn.org/stable/modules/linear_model.html#logistic-regression\n",
      "  n_iter_i = _check_optimize_result(\n",
      "D:\\Anaconda\\lib\\site-packages\\sklearn\\linear_model\\_logistic.py:762: ConvergenceWarning: lbfgs failed to converge (status=1):\n",
      "STOP: TOTAL NO. of ITERATIONS REACHED LIMIT.\n",
      "\n",
      "Increase the number of iterations (max_iter) or scale the data as shown in:\n",
      "    https://scikit-learn.org/stable/modules/preprocessing.html\n",
      "Please also refer to the documentation for alternative solver options:\n",
      "    https://scikit-learn.org/stable/modules/linear_model.html#logistic-regression\n",
      "  n_iter_i = _check_optimize_result(\n",
      "D:\\Anaconda\\lib\\site-packages\\sklearn\\linear_model\\_logistic.py:762: ConvergenceWarning: lbfgs failed to converge (status=1):\n",
      "STOP: TOTAL NO. of ITERATIONS REACHED LIMIT.\n",
      "\n",
      "Increase the number of iterations (max_iter) or scale the data as shown in:\n",
      "    https://scikit-learn.org/stable/modules/preprocessing.html\n",
      "Please also refer to the documentation for alternative solver options:\n",
      "    https://scikit-learn.org/stable/modules/linear_model.html#logistic-regression\n",
      "  n_iter_i = _check_optimize_result(\n",
      "D:\\Anaconda\\lib\\site-packages\\sklearn\\linear_model\\_logistic.py:762: ConvergenceWarning: lbfgs failed to converge (status=1):\n",
      "STOP: TOTAL NO. of ITERATIONS REACHED LIMIT.\n",
      "\n",
      "Increase the number of iterations (max_iter) or scale the data as shown in:\n",
      "    https://scikit-learn.org/stable/modules/preprocessing.html\n",
      "Please also refer to the documentation for alternative solver options:\n",
      "    https://scikit-learn.org/stable/modules/linear_model.html#logistic-regression\n",
      "  n_iter_i = _check_optimize_result(\n",
      "D:\\Anaconda\\lib\\site-packages\\sklearn\\linear_model\\_logistic.py:762: ConvergenceWarning: lbfgs failed to converge (status=1):\n",
      "STOP: TOTAL NO. of ITERATIONS REACHED LIMIT.\n",
      "\n",
      "Increase the number of iterations (max_iter) or scale the data as shown in:\n",
      "    https://scikit-learn.org/stable/modules/preprocessing.html\n",
      "Please also refer to the documentation for alternative solver options:\n",
      "    https://scikit-learn.org/stable/modules/linear_model.html#logistic-regression\n",
      "  n_iter_i = _check_optimize_result(\n",
      "D:\\Anaconda\\lib\\site-packages\\sklearn\\linear_model\\_logistic.py:762: ConvergenceWarning: lbfgs failed to converge (status=1):\n",
      "STOP: TOTAL NO. of ITERATIONS REACHED LIMIT.\n",
      "\n",
      "Increase the number of iterations (max_iter) or scale the data as shown in:\n",
      "    https://scikit-learn.org/stable/modules/preprocessing.html\n",
      "Please also refer to the documentation for alternative solver options:\n",
      "    https://scikit-learn.org/stable/modules/linear_model.html#logistic-regression\n",
      "  n_iter_i = _check_optimize_result(\n"
     ]
    },
    {
     "data": {
      "text/plain": [
       "GridSearchCV(cv=5, estimator=LogisticRegression(),\n",
       "             param_grid={'C': [1, 5, 10, 50, 70, 100]})"
      ]
     },
     "execution_count": 121,
     "metadata": {},
     "output_type": "execute_result"
    }
   ],
   "source": [
    "lr_trim = LogisticRegression()\n",
    "\n",
    "param_lr_trim = {'C': [1, 5, 10, 50, 70, 100]}\n",
    "\n",
    "gs_lr_trim = GridSearchCV(lr_trim, param_grid=param_lr_trim, cv=5)\n",
    "gs_lr_trim.fit(xtrain_scaled_trim,ytrain_trim)"
   ]
  },
  {
   "cell_type": "code",
   "execution_count": 122,
   "metadata": {},
   "outputs": [
    {
     "name": "stdout",
     "output_type": "stream",
     "text": [
      "Los mejores parámetros son:  {'C': 10}\n",
      "El score obtenido fue:  0.42666666666666664\n",
      "El accuracy obtenido fue de 0.38 \n"
     ]
    }
   ],
   "source": [
    "print ('Los mejores parámetros son: ', gs_lr_trim.best_params_)\n",
    "print ('El score obtenido fue: ', gs_lr_trim.best_score_)\n",
    "ypred_lr_trim = gs_lr_trim.predict(xtest_scaled_trim)\n",
    "score_lr_trim = accuracy_score(ytest_trim,ypred_lr_trim)\n",
    "print('El accuracy obtenido fue de %0.2f ' %(accuracy_score(ytest_trim,ypred_lr_trim)))"
   ]
  },
  {
   "cell_type": "code",
   "execution_count": 123,
   "metadata": {},
   "outputs": [],
   "source": [
    "rdos_trim = rdos_trim.append({'Clasificador':'LR en trim, sin resample',\n",
    "                   'Accuracy': score_lr_trim}, ignore_index=True)"
   ]
  },
  {
   "cell_type": "markdown",
   "metadata": {},
   "source": [
    "## Resample dataset en trimestres"
   ]
  },
  {
   "cell_type": "code",
   "execution_count": 124,
   "metadata": {},
   "outputs": [
    {
     "data": {
      "text/plain": [
       "Hasta 3 meses            269\n",
       "Entre 3 y 6 meses        186\n",
       "Entre 1 y 2 años         179\n",
       "Entre 7 y 9 meses        104\n",
       "Entre 9 meses y 1 año     96\n",
       "Más de 2 años             49\n",
       "Name: plazo_trimestres, dtype: int64"
      ]
     },
     "execution_count": 124,
     "metadata": {},
     "output_type": "execute_result"
    }
   ],
   "source": [
    "obras_trim['plazo_trimestres'].value_counts()"
   ]
  },
  {
   "cell_type": "code",
   "execution_count": 125,
   "metadata": {},
   "outputs": [
    {
     "data": {
      "text/plain": [
       "4    269\n",
       "1    186\n",
       "0    179\n",
       "2    104\n",
       "3     96\n",
       "5     49\n",
       "Name: Encoded, dtype: int64"
      ]
     },
     "execution_count": 125,
     "metadata": {},
     "output_type": "execute_result"
    }
   ],
   "source": [
    "obras_trim['Encoded'].value_counts()"
   ]
  },
  {
   "cell_type": "code",
   "execution_count": 126,
   "metadata": {},
   "outputs": [
    {
     "data": {
      "text/plain": [
       "4    269\n",
       "5    190\n",
       "3    190\n",
       "2    190\n",
       "1    190\n",
       "0    190\n",
       "Name: Encoded, dtype: int64"
      ]
     },
     "execution_count": 126,
     "metadata": {},
     "output_type": "execute_result"
    }
   ],
   "source": [
    "from sklearn.utils import resample\n",
    "\n",
    "# Primero separamos las clases\n",
    "\n",
    "obras1 = obras_trim[obras_trim.Encoded==4]\n",
    "obras2 = obras_trim[obras_trim.Encoded==1]\n",
    "obras3 = obras_trim[obras_trim.Encoded==0]\n",
    "obras4 = obras_trim[obras_trim.Encoded==2]\n",
    "obras5 = obras_trim[obras_trim.Encoded==3]\n",
    "obras6 = obras_trim[obras_trim.Encoded==5]\n",
    "\n",
    "# Generamos samples para que las 4 clases tengan el mismo peso\n",
    "\n",
    "obras1_upsampled = resample(obras1, replace=True, n_samples=269, random_state=8)\n",
    "obras2_upsampled = resample(obras2, replace=True, n_samples=190, random_state=8)\n",
    "obras3_upsampled = resample(obras3, replace=True, n_samples=190, random_state=8)\n",
    "obras4_upsampled = resample(obras4, replace=True, n_samples=190, random_state=8)\n",
    "obras5_upsampled = resample(obras5, replace=True, n_samples=190, random_state=8)\n",
    "obras6_upsampled = resample(obras6, replace=True, n_samples=190, random_state=8)\n",
    "\n",
    "# Combinamos todas las clases y contamos los valores\n",
    "\n",
    "obras_upsampled = pd.concat([obras1_upsampled,obras2_upsampled,obras3_upsampled,obras4_upsampled,obras5_upsampled,obras6_upsampled])\n",
    "\n",
    "obras_upsampled['Encoded'].value_counts()"
   ]
  },
  {
   "cell_type": "code",
   "execution_count": 127,
   "metadata": {},
   "outputs": [],
   "source": [
    "y_trim2 = obras_upsampled.iloc[:,3]\n",
    "le_trim2 = preprocessing.LabelEncoder()\n",
    "y_trim2 = le_trim2.fit_transform(y_trim2)\n",
    "obras_upsampled['Encoded'] = y_trim2"
   ]
  },
  {
   "cell_type": "code",
   "execution_count": 128,
   "metadata": {},
   "outputs": [],
   "source": [
    "x_trim2 = obras_upsampled.iloc[:,4:]\n",
    "x_trim2 = x_trim2.drop(['Encoded'],axis=1)"
   ]
  },
  {
   "cell_type": "code",
   "execution_count": 129,
   "metadata": {},
   "outputs": [
    {
     "name": "stdout",
     "output_type": "stream",
     "text": [
      "El tamaño del \"X\" de entrenamiento es: (853, 9)\n",
      "Se corresponde con el \"Y\" de entrenamiento (853,)\n"
     ]
    }
   ],
   "source": [
    "# Separamos el data set en train y test\n",
    "xtrain_trim2,xtest_trim2,ytrain_trim2,ytest_trim2=train_test_split(x_trim2,y_trim2, test_size=0.3, random_state=8)\n",
    "print('El tamaño del \"X\" de entrenamiento es: ' + str(xtrain_trim2.shape))\n",
    "print('Se corresponde con el \"Y\" de entrenamiento ' + str(ytrain_trim2.shape))"
   ]
  },
  {
   "cell_type": "code",
   "execution_count": 130,
   "metadata": {},
   "outputs": [],
   "source": [
    "from sklearn import preprocessing\n",
    "\n",
    "scaler_trim2 = preprocessing.StandardScaler().fit(xtrain_trim2)"
   ]
  },
  {
   "cell_type": "code",
   "execution_count": 131,
   "metadata": {},
   "outputs": [],
   "source": [
    "xtrain_scaled_trim2 = scaler_trim2.transform (xtrain_trim2)\n",
    "xtest_scaled_trim2 = scaler_trim2.transform (xtest_trim2)"
   ]
  },
  {
   "cell_type": "markdown",
   "metadata": {},
   "source": [
    "## ML\n",
    "Se utilizarán distintos modelos, con distintos hiperparámetros para obtener aquel que mejor logre clasificar nuestro objetivo."
   ]
  },
  {
   "cell_type": "markdown",
   "metadata": {},
   "source": [
    "## Support Vector Classifier"
   ]
  },
  {
   "cell_type": "code",
   "execution_count": 132,
   "metadata": {},
   "outputs": [
    {
     "data": {
      "text/plain": [
       "GridSearchCV(cv=5, estimator=SVC(class_weight='balanced', probability=True),\n",
       "             param_grid={'C': [0.1, 1, 5, 10, 50], 'gamma': [0.1, 1, 5, 10],\n",
       "                         'kernel': ('linear', 'rbf')})"
      ]
     },
     "execution_count": 132,
     "metadata": {},
     "output_type": "execute_result"
    }
   ],
   "source": [
    "# Definimos el clasificador\n",
    "\n",
    "svc_trim2 = SVC(probability=True, class_weight='balanced')\n",
    "\n",
    "param_svc_trim2={'kernel':('linear','rbf'),\n",
    "           'C':[ 0.1, 1, 5, 10, 50],\n",
    "           'gamma':[0.1, 1, 5, 10]}\n",
    "\n",
    "gs_svc_trim2 = GridSearchCV(svc_trim2, param_grid=param_svc_trim2, refit=True,cv=5)\n",
    "gs_svc_trim2.fit(xtrain_scaled_trim2,ytrain_trim2)"
   ]
  },
  {
   "cell_type": "code",
   "execution_count": 133,
   "metadata": {},
   "outputs": [
    {
     "name": "stdout",
     "output_type": "stream",
     "text": [
      "Los mejores parámetros son:  {'C': 50, 'gamma': 10, 'kernel': 'rbf'}\n",
      "El score obtenido fue:  0.5684898520811833\n"
     ]
    }
   ],
   "source": [
    "print ('Los mejores parámetros son: ',  gs_svc_trim2.best_params_)\n",
    "print ('El score obtenido fue: ', gs_svc_trim2.best_score_)"
   ]
  },
  {
   "cell_type": "code",
   "execution_count": 134,
   "metadata": {},
   "outputs": [
    {
     "name": "stdout",
     "output_type": "stream",
     "text": [
      "El accuracy obtenido fue de 0.61 \n"
     ]
    }
   ],
   "source": [
    "ypred_svc_trim2 = gs_svc_trim2.predict(xtest_scaled_trim2)\n",
    "score_svc_trim2 = accuracy_score(ytest_trim2,ypred_svc_trim2)\n",
    "print('El accuracy obtenido fue de %0.2f ' %(accuracy_score(ytest_trim2,ypred_svc_trim2)))"
   ]
  },
  {
   "cell_type": "code",
   "execution_count": 135,
   "metadata": {},
   "outputs": [],
   "source": [
    "rdos_trim = rdos_trim.append({'Clasificador':'SVC en trim, con resample',\n",
    "                   'Accuracy': score_svc_trim2}, ignore_index=True)"
   ]
  },
  {
   "cell_type": "markdown",
   "metadata": {},
   "source": [
    "## KNN Classifier"
   ]
  },
  {
   "cell_type": "code",
   "execution_count": 136,
   "metadata": {},
   "outputs": [
    {
     "data": {
      "text/plain": [
       "GridSearchCV(cv=5, estimator=KNeighborsClassifier(),\n",
       "             param_grid={'n_neighbors': [1, 2, 5, 10, 15, 20, 50, 100, 150]})"
      ]
     },
     "execution_count": 136,
     "metadata": {},
     "output_type": "execute_result"
    }
   ],
   "source": [
    "knn_trim2 = KNeighborsClassifier()\n",
    "\n",
    "param_knn_trim2 = {'n_neighbors': [1,2,5,10,15,20,50,100,150]}\n",
    "\n",
    "gs_knn_trim2 = GridSearchCV(knn_trim2, param_grid=param_knn_trim2,refit=True, cv=5)\n",
    "gs_knn_trim2.fit(xtrain_scaled_trim2,ytrain_trim2)"
   ]
  },
  {
   "cell_type": "code",
   "execution_count": 137,
   "metadata": {},
   "outputs": [
    {
     "name": "stdout",
     "output_type": "stream",
     "text": [
      "Los mejores parámetros son:  {'n_neighbors': 1}\n",
      "El score obtenido fue:  0.7256346749226006\n",
      "El accuracy obtenido fue de 0.81 \n"
     ]
    }
   ],
   "source": [
    "print ('Los mejores parámetros son: ', gs_knn_trim2.best_params_)\n",
    "print ('El score obtenido fue: ', gs_knn_trim2.best_score_)\n",
    "ypred_knn_trim2 = gs_knn_trim2.predict(xtest_scaled_trim2)\n",
    "score_knn_trim2 = accuracy_score(ytest_trim2,ypred_knn_trim2)\n",
    "print('El accuracy obtenido fue de %0.2f ' %(accuracy_score(ytest_trim2,ypred_knn_trim2)))"
   ]
  },
  {
   "cell_type": "code",
   "execution_count": 138,
   "metadata": {},
   "outputs": [],
   "source": [
    "rdos_trim = rdos_trim.append({'Clasificador':'KNN en trim, con resample',\n",
    "                    'Accuracy': score_knn_trim2}, ignore_index=True)"
   ]
  },
  {
   "cell_type": "markdown",
   "metadata": {},
   "source": [
    "## Random Forest Classifier"
   ]
  },
  {
   "cell_type": "code",
   "execution_count": 139,
   "metadata": {},
   "outputs": [
    {
     "data": {
      "text/plain": [
       "GridSearchCV(cv=5, estimator=RandomForestClassifier(),\n",
       "             param_grid={'n_estimators': [1, 2, 5, 10, 15, 20, 25, 50, 75,\n",
       "                                          100]})"
      ]
     },
     "execution_count": 139,
     "metadata": {},
     "output_type": "execute_result"
    }
   ],
   "source": [
    "rfr_trim2 = RandomForestClassifier()\n",
    "\n",
    "param_rfr_trim2 = {'n_estimators':[1,2,5,10,15,20,25,50,75,100]}\n",
    "\n",
    "gs_rfr_trim2 = GridSearchCV(rfr_trim2, param_grid=param_rfr_trim2, cv=5)\n",
    "gs_rfr_trim2.fit(xtrain_scaled_trim2,ytrain_trim2)"
   ]
  },
  {
   "cell_type": "code",
   "execution_count": 140,
   "metadata": {},
   "outputs": [
    {
     "name": "stdout",
     "output_type": "stream",
     "text": [
      "Los mejores parámetros son:  {'n_estimators': 100}\n",
      "El score obtenido fue:  0.7350395596835225\n",
      "El accuracy obtenido fue de 0.80 \n"
     ]
    }
   ],
   "source": [
    "print ('Los mejores parámetros son: ', gs_rfr_trim2.best_params_)\n",
    "print ('El score obtenido fue: ', gs_rfr_trim2.best_score_)\n",
    "ypred_rfr_trim2 = gs_rfr_trim2.predict(xtest_scaled_trim2)\n",
    "score_rfr_trim2 = accuracy_score(ytest_trim2,ypred_rfr_trim2)\n",
    "print('El accuracy obtenido fue de %0.2f ' %(accuracy_score(ytest_trim2,ypred_rfr_trim2)))"
   ]
  },
  {
   "cell_type": "code",
   "execution_count": 141,
   "metadata": {},
   "outputs": [],
   "source": [
    "rdos_trim = rdos_trim.append({'Clasificador':'Random Forest en trim, con resample',\n",
    "                    'Accuracy': score_rfr_trim2}, ignore_index=True)"
   ]
  },
  {
   "cell_type": "markdown",
   "metadata": {},
   "source": [
    "## Logistic Regression"
   ]
  },
  {
   "cell_type": "code",
   "execution_count": 142,
   "metadata": {},
   "outputs": [
    {
     "name": "stderr",
     "output_type": "stream",
     "text": [
      "D:\\Anaconda\\lib\\site-packages\\sklearn\\linear_model\\_logistic.py:762: ConvergenceWarning: lbfgs failed to converge (status=1):\n",
      "STOP: TOTAL NO. of ITERATIONS REACHED LIMIT.\n",
      "\n",
      "Increase the number of iterations (max_iter) or scale the data as shown in:\n",
      "    https://scikit-learn.org/stable/modules/preprocessing.html\n",
      "Please also refer to the documentation for alternative solver options:\n",
      "    https://scikit-learn.org/stable/modules/linear_model.html#logistic-regression\n",
      "  n_iter_i = _check_optimize_result(\n",
      "D:\\Anaconda\\lib\\site-packages\\sklearn\\linear_model\\_logistic.py:762: ConvergenceWarning: lbfgs failed to converge (status=1):\n",
      "STOP: TOTAL NO. of ITERATIONS REACHED LIMIT.\n",
      "\n",
      "Increase the number of iterations (max_iter) or scale the data as shown in:\n",
      "    https://scikit-learn.org/stable/modules/preprocessing.html\n",
      "Please also refer to the documentation for alternative solver options:\n",
      "    https://scikit-learn.org/stable/modules/linear_model.html#logistic-regression\n",
      "  n_iter_i = _check_optimize_result(\n",
      "D:\\Anaconda\\lib\\site-packages\\sklearn\\linear_model\\_logistic.py:762: ConvergenceWarning: lbfgs failed to converge (status=1):\n",
      "STOP: TOTAL NO. of ITERATIONS REACHED LIMIT.\n",
      "\n",
      "Increase the number of iterations (max_iter) or scale the data as shown in:\n",
      "    https://scikit-learn.org/stable/modules/preprocessing.html\n",
      "Please also refer to the documentation for alternative solver options:\n",
      "    https://scikit-learn.org/stable/modules/linear_model.html#logistic-regression\n",
      "  n_iter_i = _check_optimize_result(\n",
      "D:\\Anaconda\\lib\\site-packages\\sklearn\\linear_model\\_logistic.py:762: ConvergenceWarning: lbfgs failed to converge (status=1):\n",
      "STOP: TOTAL NO. of ITERATIONS REACHED LIMIT.\n",
      "\n",
      "Increase the number of iterations (max_iter) or scale the data as shown in:\n",
      "    https://scikit-learn.org/stable/modules/preprocessing.html\n",
      "Please also refer to the documentation for alternative solver options:\n",
      "    https://scikit-learn.org/stable/modules/linear_model.html#logistic-regression\n",
      "  n_iter_i = _check_optimize_result(\n",
      "D:\\Anaconda\\lib\\site-packages\\sklearn\\linear_model\\_logistic.py:762: ConvergenceWarning: lbfgs failed to converge (status=1):\n",
      "STOP: TOTAL NO. of ITERATIONS REACHED LIMIT.\n",
      "\n",
      "Increase the number of iterations (max_iter) or scale the data as shown in:\n",
      "    https://scikit-learn.org/stable/modules/preprocessing.html\n",
      "Please also refer to the documentation for alternative solver options:\n",
      "    https://scikit-learn.org/stable/modules/linear_model.html#logistic-regression\n",
      "  n_iter_i = _check_optimize_result(\n",
      "D:\\Anaconda\\lib\\site-packages\\sklearn\\linear_model\\_logistic.py:762: ConvergenceWarning: lbfgs failed to converge (status=1):\n",
      "STOP: TOTAL NO. of ITERATIONS REACHED LIMIT.\n",
      "\n",
      "Increase the number of iterations (max_iter) or scale the data as shown in:\n",
      "    https://scikit-learn.org/stable/modules/preprocessing.html\n",
      "Please also refer to the documentation for alternative solver options:\n",
      "    https://scikit-learn.org/stable/modules/linear_model.html#logistic-regression\n",
      "  n_iter_i = _check_optimize_result(\n",
      "D:\\Anaconda\\lib\\site-packages\\sklearn\\linear_model\\_logistic.py:762: ConvergenceWarning: lbfgs failed to converge (status=1):\n",
      "STOP: TOTAL NO. of ITERATIONS REACHED LIMIT.\n",
      "\n",
      "Increase the number of iterations (max_iter) or scale the data as shown in:\n",
      "    https://scikit-learn.org/stable/modules/preprocessing.html\n",
      "Please also refer to the documentation for alternative solver options:\n",
      "    https://scikit-learn.org/stable/modules/linear_model.html#logistic-regression\n",
      "  n_iter_i = _check_optimize_result(\n",
      "D:\\Anaconda\\lib\\site-packages\\sklearn\\linear_model\\_logistic.py:762: ConvergenceWarning: lbfgs failed to converge (status=1):\n",
      "STOP: TOTAL NO. of ITERATIONS REACHED LIMIT.\n",
      "\n",
      "Increase the number of iterations (max_iter) or scale the data as shown in:\n",
      "    https://scikit-learn.org/stable/modules/preprocessing.html\n",
      "Please also refer to the documentation for alternative solver options:\n",
      "    https://scikit-learn.org/stable/modules/linear_model.html#logistic-regression\n",
      "  n_iter_i = _check_optimize_result(\n",
      "D:\\Anaconda\\lib\\site-packages\\sklearn\\linear_model\\_logistic.py:762: ConvergenceWarning: lbfgs failed to converge (status=1):\n",
      "STOP: TOTAL NO. of ITERATIONS REACHED LIMIT.\n",
      "\n",
      "Increase the number of iterations (max_iter) or scale the data as shown in:\n",
      "    https://scikit-learn.org/stable/modules/preprocessing.html\n",
      "Please also refer to the documentation for alternative solver options:\n",
      "    https://scikit-learn.org/stable/modules/linear_model.html#logistic-regression\n",
      "  n_iter_i = _check_optimize_result(\n",
      "D:\\Anaconda\\lib\\site-packages\\sklearn\\linear_model\\_logistic.py:762: ConvergenceWarning: lbfgs failed to converge (status=1):\n",
      "STOP: TOTAL NO. of ITERATIONS REACHED LIMIT.\n",
      "\n",
      "Increase the number of iterations (max_iter) or scale the data as shown in:\n",
      "    https://scikit-learn.org/stable/modules/preprocessing.html\n",
      "Please also refer to the documentation for alternative solver options:\n",
      "    https://scikit-learn.org/stable/modules/linear_model.html#logistic-regression\n",
      "  n_iter_i = _check_optimize_result(\n",
      "D:\\Anaconda\\lib\\site-packages\\sklearn\\linear_model\\_logistic.py:762: ConvergenceWarning: lbfgs failed to converge (status=1):\n",
      "STOP: TOTAL NO. of ITERATIONS REACHED LIMIT.\n",
      "\n",
      "Increase the number of iterations (max_iter) or scale the data as shown in:\n",
      "    https://scikit-learn.org/stable/modules/preprocessing.html\n",
      "Please also refer to the documentation for alternative solver options:\n",
      "    https://scikit-learn.org/stable/modules/linear_model.html#logistic-regression\n",
      "  n_iter_i = _check_optimize_result(\n",
      "D:\\Anaconda\\lib\\site-packages\\sklearn\\linear_model\\_logistic.py:762: ConvergenceWarning: lbfgs failed to converge (status=1):\n",
      "STOP: TOTAL NO. of ITERATIONS REACHED LIMIT.\n",
      "\n",
      "Increase the number of iterations (max_iter) or scale the data as shown in:\n",
      "    https://scikit-learn.org/stable/modules/preprocessing.html\n",
      "Please also refer to the documentation for alternative solver options:\n",
      "    https://scikit-learn.org/stable/modules/linear_model.html#logistic-regression\n",
      "  n_iter_i = _check_optimize_result(\n",
      "D:\\Anaconda\\lib\\site-packages\\sklearn\\linear_model\\_logistic.py:762: ConvergenceWarning: lbfgs failed to converge (status=1):\n",
      "STOP: TOTAL NO. of ITERATIONS REACHED LIMIT.\n",
      "\n",
      "Increase the number of iterations (max_iter) or scale the data as shown in:\n",
      "    https://scikit-learn.org/stable/modules/preprocessing.html\n",
      "Please also refer to the documentation for alternative solver options:\n",
      "    https://scikit-learn.org/stable/modules/linear_model.html#logistic-regression\n",
      "  n_iter_i = _check_optimize_result(\n",
      "D:\\Anaconda\\lib\\site-packages\\sklearn\\linear_model\\_logistic.py:762: ConvergenceWarning: lbfgs failed to converge (status=1):\n",
      "STOP: TOTAL NO. of ITERATIONS REACHED LIMIT.\n",
      "\n",
      "Increase the number of iterations (max_iter) or scale the data as shown in:\n",
      "    https://scikit-learn.org/stable/modules/preprocessing.html\n",
      "Please also refer to the documentation for alternative solver options:\n",
      "    https://scikit-learn.org/stable/modules/linear_model.html#logistic-regression\n",
      "  n_iter_i = _check_optimize_result(\n",
      "D:\\Anaconda\\lib\\site-packages\\sklearn\\linear_model\\_logistic.py:762: ConvergenceWarning: lbfgs failed to converge (status=1):\n",
      "STOP: TOTAL NO. of ITERATIONS REACHED LIMIT.\n",
      "\n",
      "Increase the number of iterations (max_iter) or scale the data as shown in:\n",
      "    https://scikit-learn.org/stable/modules/preprocessing.html\n",
      "Please also refer to the documentation for alternative solver options:\n",
      "    https://scikit-learn.org/stable/modules/linear_model.html#logistic-regression\n",
      "  n_iter_i = _check_optimize_result(\n",
      "D:\\Anaconda\\lib\\site-packages\\sklearn\\linear_model\\_logistic.py:762: ConvergenceWarning: lbfgs failed to converge (status=1):\n",
      "STOP: TOTAL NO. of ITERATIONS REACHED LIMIT.\n",
      "\n",
      "Increase the number of iterations (max_iter) or scale the data as shown in:\n",
      "    https://scikit-learn.org/stable/modules/preprocessing.html\n",
      "Please also refer to the documentation for alternative solver options:\n",
      "    https://scikit-learn.org/stable/modules/linear_model.html#logistic-regression\n",
      "  n_iter_i = _check_optimize_result(\n",
      "D:\\Anaconda\\lib\\site-packages\\sklearn\\linear_model\\_logistic.py:762: ConvergenceWarning: lbfgs failed to converge (status=1):\n",
      "STOP: TOTAL NO. of ITERATIONS REACHED LIMIT.\n",
      "\n",
      "Increase the number of iterations (max_iter) or scale the data as shown in:\n",
      "    https://scikit-learn.org/stable/modules/preprocessing.html\n",
      "Please also refer to the documentation for alternative solver options:\n",
      "    https://scikit-learn.org/stable/modules/linear_model.html#logistic-regression\n",
      "  n_iter_i = _check_optimize_result(\n",
      "D:\\Anaconda\\lib\\site-packages\\sklearn\\linear_model\\_logistic.py:762: ConvergenceWarning: lbfgs failed to converge (status=1):\n",
      "STOP: TOTAL NO. of ITERATIONS REACHED LIMIT.\n",
      "\n",
      "Increase the number of iterations (max_iter) or scale the data as shown in:\n",
      "    https://scikit-learn.org/stable/modules/preprocessing.html\n",
      "Please also refer to the documentation for alternative solver options:\n",
      "    https://scikit-learn.org/stable/modules/linear_model.html#logistic-regression\n",
      "  n_iter_i = _check_optimize_result(\n"
     ]
    },
    {
     "name": "stderr",
     "output_type": "stream",
     "text": [
      "D:\\Anaconda\\lib\\site-packages\\sklearn\\linear_model\\_logistic.py:762: ConvergenceWarning: lbfgs failed to converge (status=1):\n",
      "STOP: TOTAL NO. of ITERATIONS REACHED LIMIT.\n",
      "\n",
      "Increase the number of iterations (max_iter) or scale the data as shown in:\n",
      "    https://scikit-learn.org/stable/modules/preprocessing.html\n",
      "Please also refer to the documentation for alternative solver options:\n",
      "    https://scikit-learn.org/stable/modules/linear_model.html#logistic-regression\n",
      "  n_iter_i = _check_optimize_result(\n",
      "D:\\Anaconda\\lib\\site-packages\\sklearn\\linear_model\\_logistic.py:762: ConvergenceWarning: lbfgs failed to converge (status=1):\n",
      "STOP: TOTAL NO. of ITERATIONS REACHED LIMIT.\n",
      "\n",
      "Increase the number of iterations (max_iter) or scale the data as shown in:\n",
      "    https://scikit-learn.org/stable/modules/preprocessing.html\n",
      "Please also refer to the documentation for alternative solver options:\n",
      "    https://scikit-learn.org/stable/modules/linear_model.html#logistic-regression\n",
      "  n_iter_i = _check_optimize_result(\n",
      "D:\\Anaconda\\lib\\site-packages\\sklearn\\linear_model\\_logistic.py:762: ConvergenceWarning: lbfgs failed to converge (status=1):\n",
      "STOP: TOTAL NO. of ITERATIONS REACHED LIMIT.\n",
      "\n",
      "Increase the number of iterations (max_iter) or scale the data as shown in:\n",
      "    https://scikit-learn.org/stable/modules/preprocessing.html\n",
      "Please also refer to the documentation for alternative solver options:\n",
      "    https://scikit-learn.org/stable/modules/linear_model.html#logistic-regression\n",
      "  n_iter_i = _check_optimize_result(\n",
      "D:\\Anaconda\\lib\\site-packages\\sklearn\\linear_model\\_logistic.py:762: ConvergenceWarning: lbfgs failed to converge (status=1):\n",
      "STOP: TOTAL NO. of ITERATIONS REACHED LIMIT.\n",
      "\n",
      "Increase the number of iterations (max_iter) or scale the data as shown in:\n",
      "    https://scikit-learn.org/stable/modules/preprocessing.html\n",
      "Please also refer to the documentation for alternative solver options:\n",
      "    https://scikit-learn.org/stable/modules/linear_model.html#logistic-regression\n",
      "  n_iter_i = _check_optimize_result(\n",
      "D:\\Anaconda\\lib\\site-packages\\sklearn\\linear_model\\_logistic.py:762: ConvergenceWarning: lbfgs failed to converge (status=1):\n",
      "STOP: TOTAL NO. of ITERATIONS REACHED LIMIT.\n",
      "\n",
      "Increase the number of iterations (max_iter) or scale the data as shown in:\n",
      "    https://scikit-learn.org/stable/modules/preprocessing.html\n",
      "Please also refer to the documentation for alternative solver options:\n",
      "    https://scikit-learn.org/stable/modules/linear_model.html#logistic-regression\n",
      "  n_iter_i = _check_optimize_result(\n",
      "D:\\Anaconda\\lib\\site-packages\\sklearn\\linear_model\\_logistic.py:762: ConvergenceWarning: lbfgs failed to converge (status=1):\n",
      "STOP: TOTAL NO. of ITERATIONS REACHED LIMIT.\n",
      "\n",
      "Increase the number of iterations (max_iter) or scale the data as shown in:\n",
      "    https://scikit-learn.org/stable/modules/preprocessing.html\n",
      "Please also refer to the documentation for alternative solver options:\n",
      "    https://scikit-learn.org/stable/modules/linear_model.html#logistic-regression\n",
      "  n_iter_i = _check_optimize_result(\n",
      "D:\\Anaconda\\lib\\site-packages\\sklearn\\linear_model\\_logistic.py:762: ConvergenceWarning: lbfgs failed to converge (status=1):\n",
      "STOP: TOTAL NO. of ITERATIONS REACHED LIMIT.\n",
      "\n",
      "Increase the number of iterations (max_iter) or scale the data as shown in:\n",
      "    https://scikit-learn.org/stable/modules/preprocessing.html\n",
      "Please also refer to the documentation for alternative solver options:\n",
      "    https://scikit-learn.org/stable/modules/linear_model.html#logistic-regression\n",
      "  n_iter_i = _check_optimize_result(\n"
     ]
    },
    {
     "data": {
      "text/plain": [
       "GridSearchCV(cv=5, estimator=LogisticRegression(),\n",
       "             param_grid={'C': [1, 5, 10, 50, 70, 100, 150]})"
      ]
     },
     "execution_count": 142,
     "metadata": {},
     "output_type": "execute_result"
    }
   ],
   "source": [
    "lr_trim2 = LogisticRegression()\n",
    "\n",
    "param_lr_trim2 = {'C': [1, 5, 10, 50, 70, 100, 150]}\n",
    "\n",
    "gs_lr_trim2 = GridSearchCV(lr_trim2, param_grid=param_lr_trim2, cv=5)\n",
    "gs_lr_trim2.fit(xtrain_scaled_trim2,ytrain_trim2)"
   ]
  },
  {
   "cell_type": "code",
   "execution_count": 143,
   "metadata": {},
   "outputs": [
    {
     "name": "stdout",
     "output_type": "stream",
     "text": [
      "Los mejores parámetros son:  {'C': 50}\n",
      "El score obtenido fue:  0.36338493292053664\n",
      "El accuracy obtenido fue de 0.39 \n"
     ]
    }
   ],
   "source": [
    "print ('Los mejores parámetros son: ', gs_lr_trim2.best_params_)\n",
    "print ('El score obtenido fue: ', gs_lr_trim2.best_score_)\n",
    "ypred_lr_trim2 = gs_lr_trim2.predict(xtest_scaled_trim2)\n",
    "score_lr_trim2 = accuracy_score(ytest_trim2,ypred_lr_trim2)\n",
    "print('El accuracy obtenido fue de %0.2f ' %(accuracy_score(ytest_trim2,ypred_lr_trim2)))"
   ]
  },
  {
   "cell_type": "code",
   "execution_count": 144,
   "metadata": {},
   "outputs": [],
   "source": [
    "rdo_trims = rdos_trim.append({'Clasificador':'LR en trim, con resample',\n",
    "                   'Accuracy': score_lr_trim2}, ignore_index=True)"
   ]
  },
  {
   "cell_type": "code",
   "execution_count": 145,
   "metadata": {},
   "outputs": [
    {
     "data": {
      "text/html": [
       "<div>\n",
       "<style scoped>\n",
       "    .dataframe tbody tr th:only-of-type {\n",
       "        vertical-align: middle;\n",
       "    }\n",
       "\n",
       "    .dataframe tbody tr th {\n",
       "        vertical-align: top;\n",
       "    }\n",
       "\n",
       "    .dataframe thead th {\n",
       "        text-align: right;\n",
       "    }\n",
       "</style>\n",
       "<table border=\"1\" class=\"dataframe\">\n",
       "  <thead>\n",
       "    <tr style=\"text-align: right;\">\n",
       "      <th></th>\n",
       "      <th>Clasificador</th>\n",
       "      <th>Accuracy</th>\n",
       "    </tr>\n",
       "  </thead>\n",
       "  <tbody>\n",
       "    <tr>\n",
       "      <th>0</th>\n",
       "      <td>SVC en trim, sin resample</td>\n",
       "      <td>0.321075</td>\n",
       "    </tr>\n",
       "    <tr>\n",
       "      <th>1</th>\n",
       "      <td>KNN en trim, sin resample</td>\n",
       "      <td>0.340877</td>\n",
       "    </tr>\n",
       "    <tr>\n",
       "      <th>2</th>\n",
       "      <td>Random Forest en trim, sin resample</td>\n",
       "      <td>0.356436</td>\n",
       "    </tr>\n",
       "    <tr>\n",
       "      <th>3</th>\n",
       "      <td>LR en trim, sin resample</td>\n",
       "      <td>0.384724</td>\n",
       "    </tr>\n",
       "    <tr>\n",
       "      <th>4</th>\n",
       "      <td>SVC en trim, con resample</td>\n",
       "      <td>0.609290</td>\n",
       "    </tr>\n",
       "    <tr>\n",
       "      <th>5</th>\n",
       "      <td>KNN en trim, con resample</td>\n",
       "      <td>0.806011</td>\n",
       "    </tr>\n",
       "    <tr>\n",
       "      <th>6</th>\n",
       "      <td>Random Forest en trim, con resample</td>\n",
       "      <td>0.797814</td>\n",
       "    </tr>\n",
       "  </tbody>\n",
       "</table>\n",
       "</div>"
      ],
      "text/plain": [
       "                          Clasificador  Accuracy\n",
       "0            SVC en trim, sin resample  0.321075\n",
       "1            KNN en trim, sin resample  0.340877\n",
       "2  Random Forest en trim, sin resample  0.356436\n",
       "3             LR en trim, sin resample  0.384724\n",
       "4            SVC en trim, con resample  0.609290\n",
       "5            KNN en trim, con resample  0.806011\n",
       "6  Random Forest en trim, con resample  0.797814"
      ]
     },
     "execution_count": 145,
     "metadata": {},
     "output_type": "execute_result"
    }
   ],
   "source": [
    "rdos_trim"
   ]
  },
  {
   "cell_type": "markdown",
   "metadata": {},
   "source": [
    "## Resultados / visualización"
   ]
  },
  {
   "cell_type": "code",
   "execution_count": 146,
   "metadata": {},
   "outputs": [
    {
     "data": {
      "image/png": "[encoded data removed]",
      "text/plain": [
       "<Figure size 720x720 with 2 Axes>"
      ]
     },
     "metadata": {},
     "output_type": "display_data"
    }
   ],
   "source": [
    "cm_trim = confusion_matrix(ytest_trim2,ypred_knn_trim2)\n",
    "labels_trim = obras_trim['plazo_trimestres'].unique()\n",
    "df_cm_trim = pd.DataFrame(cm_trim, index=[i for i in labels_trim], columns=[i for i in labels_trim])\n",
    "plt.figure(figsize=(10,10))\n",
    "sns.heatmap(df_cm_trim, annot=True, cmap='pink_r',fmt='')\n",
    "plt.show()"
   ]
  },
  {
   "cell_type": "code",
   "execution_count": 147,
   "metadata": {},
   "outputs": [
    {
     "name": "stdout",
     "output_type": "stream",
     "text": [
      "              precision    recall  f1-score   support\n",
      "\n",
      "           0       0.85      0.85      0.85        60\n",
      "           1       0.74      0.70      0.72        60\n",
      "           2       0.79      0.80      0.80        56\n",
      "           3       0.75      0.77      0.76        57\n",
      "           4       0.81      0.77      0.79        86\n",
      "           5       0.90      1.00      0.95        47\n",
      "\n",
      "    accuracy                           0.81       366\n",
      "   macro avg       0.81      0.82      0.81       366\n",
      "weighted avg       0.80      0.81      0.80       366\n",
      "\n"
     ]
    }
   ],
   "source": [
    "print(classification_report(ytest_trim2, ypred_knn_trim2))"
   ]
  },
  {
   "cell_type": "markdown",
   "metadata": {},
   "source": [
    "## Conclusiones / Observaciones\n",
    "\n",
    "Definiendo el modelo en períodos más grandes de tiempo, vemos cómo mejora el resultado del clasificador en comparación a realizarlo por meses. Sin embargo, el accuracy continúa siendo bajo, esto probablemente sea porque el set se encuentra desbalanceado. \n",
    "En la segunda parte, cuando se realiza el resample para agregar muestras y que todos posean la misma cantidad dentro del dataset podemos observar cómo mejora el accuracy. Esta mejora se ve atada a un mayor costo computacional ya que el tiempo de entrenamiento y testeo resulta mayor (por el mayor número de muestras)"
   ]
  }
 ],
 "metadata": {
  "hide_input": false,
  "kernelspec": {
   "display_name": "Python 3",
   "language": "python",
   "name": "python3"
  },
  "language_info": {
   "codemirror_mode": {
    "name": "ipython",
    "version": 3
   },
   "file_extension": ".py",
   "mimetype": "text/x-python",
   "name": "python",
   "nbconvert_exporter": "python",
   "pygments_lexer": "ipython3",
   "version": "3.8.3"
  },
  "toc": {
   "base_numbering": 1,
   "nav_menu": {},
   "number_sections": false,
   "sideBar": true,
   "skip_h1_title": false,
   "title_cell": "Table of Contents",
   "title_sidebar": "Contents",
   "toc_cell": false,
   "toc_position": {
    "height": "calc(100% - 180px)",
    "left": "10px",
    "top": "150px",
    "width": "165px"
   },
   "toc_section_display": true,
   "toc_window_display": false
  },
  "widgets": {
   "application/vnd.jupyter.widget-state+json": {
    "state": {},
    "version_major": 2,
    "version_minor": 0
   }
  }
 },
 "nbformat": 4,
 "nbformat_minor": 4
}
