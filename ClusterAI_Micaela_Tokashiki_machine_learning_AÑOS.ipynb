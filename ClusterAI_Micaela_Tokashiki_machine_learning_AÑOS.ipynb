{
 "cells": [
  {
   "cell_type": "markdown",
   "metadata": {
    "id": "J3QyVMOnAyD5"
   },
   "source": [
    " # ClusterAI - 2020\n",
    "## TP integrador - Primera parte\n",
    "### Pre Processing y ML - Obras Públicas\n",
    "#### Grupo_08 - Septiembre 2020"
   ]
  },
  {
   "cell_type": "code",
   "execution_count": 1,
   "metadata": {
    "executionInfo": {
     "elapsed": 2112,
     "status": "ok",
     "timestamp": 1604237650002,
     "user": {
      "displayName": "Mica Tokashiki",
      "photoUrl": "https://lh3.googleusercontent.com/a-/AOh14GgXzvYldZrG4ZHd6P0HwhlgjX36yHKFxiqqf3EPAUA=s64",
      "userId": "04896477175743528636"
     },
     "user_tz": 180
    },
    "id": "eeQkpUZdAyD6"
   },
   "outputs": [],
   "source": [
    "# importamos las librerías necesarias para trabajar.\n",
    "import numpy as np\n",
    "import pandas as pd\n",
    "import matplotlib.pyplot as plt\n",
    "import seaborn as sns"
   ]
  },
  {
   "cell_type": "code",
   "execution_count": 2,
   "metadata": {
    "colab": {
     "base_uri": "https://localhost:8080/",
     "height": 337
    },
    "executionInfo": {
     "elapsed": 1540,
     "status": "error",
     "timestamp": 1604237652685,
     "user": {
      "displayName": "Mica Tokashiki",
      "photoUrl": "https://lh3.googleusercontent.com/a-/AOh14GgXzvYldZrG4ZHd6P0HwhlgjX36yHKFxiqqf3EPAUA=s64",
      "userId": "04896477175743528636"
     },
     "user_tz": 180
    },
    "id": "RP5cTsdOAyEA",
    "outputId": "921eeb12-c43c-4a31-aa3b-a6484d7e9a12"
   },
   "outputs": [],
   "source": [
    "#Una vez que descargamos el dataset procedemos a leerlo\n",
    "obras = pd.read_excel('obras_publicas.xlsx')"
   ]
  },
  {
   "cell_type": "code",
   "execution_count": 3,
   "metadata": {
    "id": "W5ZiUYipAyEE",
    "outputId": "ae063d31-c2b2-4c84-aaca-6bacccefe2a1"
   },
   "outputs": [
    {
     "data": {
      "text/html": [
       "<div>\n",
       "<style scoped>\n",
       "    .dataframe tbody tr th:only-of-type {\n",
       "        vertical-align: middle;\n",
       "    }\n",
       "\n",
       "    .dataframe tbody tr th {\n",
       "        vertical-align: top;\n",
       "    }\n",
       "\n",
       "    .dataframe thead th {\n",
       "        text-align: right;\n",
       "    }\n",
       "</style>\n",
       "<table border=\"1\" class=\"dataframe\">\n",
       "  <thead>\n",
       "    <tr style=\"text-align: right;\">\n",
       "      <th></th>\n",
       "      <th>Unnamed: 0</th>\n",
       "      <th>etapa</th>\n",
       "      <th>tipo</th>\n",
       "      <th>plazo_años</th>\n",
       "      <th>monto_miles</th>\n",
       "      <th>comuna</th>\n",
       "    </tr>\n",
       "  </thead>\n",
       "  <tbody>\n",
       "    <tr>\n",
       "      <th>0</th>\n",
       "      <td>0</td>\n",
       "      <td>Finalizada</td>\n",
       "      <td>Escuelas</td>\n",
       "      <td>De 2 a 3 años</td>\n",
       "      <td>67065.700</td>\n",
       "      <td>12</td>\n",
       "    </tr>\n",
       "    <tr>\n",
       "      <th>1</th>\n",
       "      <td>1</td>\n",
       "      <td>Finalizada</td>\n",
       "      <td>Espacio Público</td>\n",
       "      <td>De 1 a 2 años</td>\n",
       "      <td>9950.017</td>\n",
       "      <td>12</td>\n",
       "    </tr>\n",
       "    <tr>\n",
       "      <th>2</th>\n",
       "      <td>2</td>\n",
       "      <td>Finalizada</td>\n",
       "      <td>Espacio Público</td>\n",
       "      <td>De 1 a 2 años</td>\n",
       "      <td>36942.632</td>\n",
       "      <td>1</td>\n",
       "    </tr>\n",
       "    <tr>\n",
       "      <th>3</th>\n",
       "      <td>3</td>\n",
       "      <td>Finalizada</td>\n",
       "      <td>Espacio Público</td>\n",
       "      <td>De 2 a 3 años</td>\n",
       "      <td>26938.294</td>\n",
       "      <td>1</td>\n",
       "    </tr>\n",
       "    <tr>\n",
       "      <th>4</th>\n",
       "      <td>4</td>\n",
       "      <td>Finalizada</td>\n",
       "      <td>Vivienda</td>\n",
       "      <td>Menos de 1 año</td>\n",
       "      <td>6990.315</td>\n",
       "      <td>8</td>\n",
       "    </tr>\n",
       "  </tbody>\n",
       "</table>\n",
       "</div>"
      ],
      "text/plain": [
       "   Unnamed: 0       etapa             tipo      plazo_años  monto_miles  \\\n",
       "0           0  Finalizada         Escuelas   De 2 a 3 años    67065.700   \n",
       "1           1  Finalizada  Espacio Público   De 1 a 2 años     9950.017   \n",
       "2           2  Finalizada  Espacio Público   De 1 a 2 años    36942.632   \n",
       "3           3  Finalizada  Espacio Público   De 2 a 3 años    26938.294   \n",
       "4           4  Finalizada         Vivienda  Menos de 1 año     6990.315   \n",
       "\n",
       "   comuna  \n",
       "0      12  \n",
       "1      12  \n",
       "2       1  \n",
       "3       1  \n",
       "4       8  "
      ]
     },
     "execution_count": 3,
     "metadata": {},
     "output_type": "execute_result"
    }
   ],
   "source": [
    "obras.head()"
   ]
  },
  {
   "cell_type": "code",
   "execution_count": 4,
   "metadata": {
    "id": "F3mnRt50AyEK"
   },
   "outputs": [],
   "source": [
    "obras['etapa'].replace('En ejecución',np.nan,inplace=True)\n",
    "obras['etapa'].replace('En licitación',np.nan,inplace=True)"
   ]
  },
  {
   "cell_type": "code",
   "execution_count": 5,
   "metadata": {
    "id": "G8rDoyABAyEO",
    "outputId": "b29795cc-5050-41df-dd64-dd172ee4ac34"
   },
   "outputs": [
    {
     "name": "stdout",
     "output_type": "stream",
     "text": [
      "Filas:883\n"
     ]
    }
   ],
   "source": [
    "obras.dropna(subset=['etapa'],how='any',inplace=True,axis='index')\n",
    "filas=np.shape(obras)[0]\n",
    "print(f'Filas:{filas}')"
   ]
  },
  {
   "cell_type": "markdown",
   "metadata": {
    "id": "gz7Pra2MAyES"
   },
   "source": [
    "# Objetivo del Proyecto:\n",
    "Predicción en función de la comuna, el tipo de obra a realizar y el monto del contrato, el tiempo de realización de la misma"
   ]
  },
  {
   "cell_type": "markdown",
   "metadata": {
    "id": "WgPK5AvCAyES"
   },
   "source": [
    "## TARGET"
   ]
  },
  {
   "cell_type": "code",
   "execution_count": 6,
   "metadata": {},
   "outputs": [
    {
     "name": "stdout",
     "output_type": "stream",
     "text": [
      "\n",
      " ['De 2 a 3 años' 'De 1 a 2 años' 'Menos de 1 año' 'Más de 3 años']\n"
     ]
    }
   ],
   "source": [
    "target = obras['plazo_años'].unique()\n",
    "print(\"\\n\", obras['plazo_años'].unique())"
   ]
  },
  {
   "cell_type": "code",
   "execution_count": 7,
   "metadata": {
    "id": "N7L2hK4WAyET",
    "outputId": "528b4bb2-65be-4c61-f8dd-ef7afc8d264a"
   },
   "outputs": [
    {
     "data": {
      "text/plain": [
       "0       De 2 a 3 años\n",
       "1       De 1 a 2 años\n",
       "2       De 1 a 2 años\n",
       "3       De 2 a 3 años\n",
       "4      Menos de 1 año\n",
       "            ...      \n",
       "929    Menos de 1 año\n",
       "930    Menos de 1 año\n",
       "931    Menos de 1 año\n",
       "932    Menos de 1 año\n",
       "933    Menos de 1 año\n",
       "Name: plazo_años, Length: 883, dtype: object"
      ]
     },
     "execution_count": 7,
     "metadata": {},
     "output_type": "execute_result"
    }
   ],
   "source": [
    "# Definimos primero nuestro target, al cual lo guardaremos en una variable y\n",
    "\n",
    "y = obras.iloc[:,3]\n",
    "y"
   ]
  },
  {
   "cell_type": "code",
   "execution_count": 8,
   "metadata": {
    "id": "QtnzewBgAyEW"
   },
   "outputs": [],
   "source": [
    "# Al ser una variable categórica la vamos a transformar\n",
    "\n",
    "from sklearn import preprocessing\n",
    "\n",
    "le = preprocessing.LabelEncoder()\n",
    "y = le.fit_transform(y)\n",
    "obras['Encoded'] = y"
   ]
  },
  {
   "cell_type": "markdown",
   "metadata": {
    "id": "UtJkewC4AyEc"
   },
   "source": [
    "## FEATURES"
   ]
  },
  {
   "cell_type": "code",
   "execution_count": 9,
   "metadata": {
    "id": "eVfW90WuAyEc",
    "outputId": "b253d1fa-0175-49cf-acee-691ac37a3cf5"
   },
   "outputs": [
    {
     "data": {
      "text/html": [
       "<div>\n",
       "<style scoped>\n",
       "    .dataframe tbody tr th:only-of-type {\n",
       "        vertical-align: middle;\n",
       "    }\n",
       "\n",
       "    .dataframe tbody tr th {\n",
       "        vertical-align: top;\n",
       "    }\n",
       "\n",
       "    .dataframe thead th {\n",
       "        text-align: right;\n",
       "    }\n",
       "</style>\n",
       "<table border=\"1\" class=\"dataframe\">\n",
       "  <thead>\n",
       "    <tr style=\"text-align: right;\">\n",
       "      <th></th>\n",
       "      <th>Unnamed: 0</th>\n",
       "      <th>etapa</th>\n",
       "      <th>tipo</th>\n",
       "      <th>plazo_años</th>\n",
       "      <th>monto_miles</th>\n",
       "      <th>comuna</th>\n",
       "      <th>Encoded</th>\n",
       "      <th>Arquitectura</th>\n",
       "      <th>Escuelas</th>\n",
       "      <th>Espacio Público</th>\n",
       "      <th>Hidráulica e Infraestructura</th>\n",
       "      <th>Salud</th>\n",
       "      <th>Transporte</th>\n",
       "      <th>Vivienda</th>\n",
       "    </tr>\n",
       "  </thead>\n",
       "  <tbody>\n",
       "    <tr>\n",
       "      <th>0</th>\n",
       "      <td>0</td>\n",
       "      <td>Finalizada</td>\n",
       "      <td>Escuelas</td>\n",
       "      <td>De 2 a 3 años</td>\n",
       "      <td>67065.700</td>\n",
       "      <td>12</td>\n",
       "      <td>1</td>\n",
       "      <td>0</td>\n",
       "      <td>1</td>\n",
       "      <td>0</td>\n",
       "      <td>0</td>\n",
       "      <td>0</td>\n",
       "      <td>0</td>\n",
       "      <td>0</td>\n",
       "    </tr>\n",
       "    <tr>\n",
       "      <th>1</th>\n",
       "      <td>1</td>\n",
       "      <td>Finalizada</td>\n",
       "      <td>Espacio Público</td>\n",
       "      <td>De 1 a 2 años</td>\n",
       "      <td>9950.017</td>\n",
       "      <td>12</td>\n",
       "      <td>0</td>\n",
       "      <td>0</td>\n",
       "      <td>0</td>\n",
       "      <td>1</td>\n",
       "      <td>0</td>\n",
       "      <td>0</td>\n",
       "      <td>0</td>\n",
       "      <td>0</td>\n",
       "    </tr>\n",
       "    <tr>\n",
       "      <th>2</th>\n",
       "      <td>2</td>\n",
       "      <td>Finalizada</td>\n",
       "      <td>Espacio Público</td>\n",
       "      <td>De 1 a 2 años</td>\n",
       "      <td>36942.632</td>\n",
       "      <td>1</td>\n",
       "      <td>0</td>\n",
       "      <td>0</td>\n",
       "      <td>0</td>\n",
       "      <td>1</td>\n",
       "      <td>0</td>\n",
       "      <td>0</td>\n",
       "      <td>0</td>\n",
       "      <td>0</td>\n",
       "    </tr>\n",
       "    <tr>\n",
       "      <th>3</th>\n",
       "      <td>3</td>\n",
       "      <td>Finalizada</td>\n",
       "      <td>Espacio Público</td>\n",
       "      <td>De 2 a 3 años</td>\n",
       "      <td>26938.294</td>\n",
       "      <td>1</td>\n",
       "      <td>1</td>\n",
       "      <td>0</td>\n",
       "      <td>0</td>\n",
       "      <td>1</td>\n",
       "      <td>0</td>\n",
       "      <td>0</td>\n",
       "      <td>0</td>\n",
       "      <td>0</td>\n",
       "    </tr>\n",
       "    <tr>\n",
       "      <th>4</th>\n",
       "      <td>4</td>\n",
       "      <td>Finalizada</td>\n",
       "      <td>Vivienda</td>\n",
       "      <td>Menos de 1 año</td>\n",
       "      <td>6990.315</td>\n",
       "      <td>8</td>\n",
       "      <td>2</td>\n",
       "      <td>0</td>\n",
       "      <td>0</td>\n",
       "      <td>0</td>\n",
       "      <td>0</td>\n",
       "      <td>0</td>\n",
       "      <td>0</td>\n",
       "      <td>1</td>\n",
       "    </tr>\n",
       "    <tr>\n",
       "      <th>...</th>\n",
       "      <td>...</td>\n",
       "      <td>...</td>\n",
       "      <td>...</td>\n",
       "      <td>...</td>\n",
       "      <td>...</td>\n",
       "      <td>...</td>\n",
       "      <td>...</td>\n",
       "      <td>...</td>\n",
       "      <td>...</td>\n",
       "      <td>...</td>\n",
       "      <td>...</td>\n",
       "      <td>...</td>\n",
       "      <td>...</td>\n",
       "      <td>...</td>\n",
       "    </tr>\n",
       "    <tr>\n",
       "      <th>929</th>\n",
       "      <td>1111</td>\n",
       "      <td>Finalizada</td>\n",
       "      <td>Espacio Público</td>\n",
       "      <td>Menos de 1 año</td>\n",
       "      <td>2325.368</td>\n",
       "      <td>8</td>\n",
       "      <td>2</td>\n",
       "      <td>0</td>\n",
       "      <td>0</td>\n",
       "      <td>1</td>\n",
       "      <td>0</td>\n",
       "      <td>0</td>\n",
       "      <td>0</td>\n",
       "      <td>0</td>\n",
       "    </tr>\n",
       "    <tr>\n",
       "      <th>930</th>\n",
       "      <td>1112</td>\n",
       "      <td>Finalizada</td>\n",
       "      <td>Espacio Público</td>\n",
       "      <td>Menos de 1 año</td>\n",
       "      <td>1984.627</td>\n",
       "      <td>8</td>\n",
       "      <td>2</td>\n",
       "      <td>0</td>\n",
       "      <td>0</td>\n",
       "      <td>1</td>\n",
       "      <td>0</td>\n",
       "      <td>0</td>\n",
       "      <td>0</td>\n",
       "      <td>0</td>\n",
       "    </tr>\n",
       "    <tr>\n",
       "      <th>931</th>\n",
       "      <td>1114</td>\n",
       "      <td>Finalizada</td>\n",
       "      <td>Espacio Público</td>\n",
       "      <td>Menos de 1 año</td>\n",
       "      <td>6557.067</td>\n",
       "      <td>9</td>\n",
       "      <td>2</td>\n",
       "      <td>0</td>\n",
       "      <td>0</td>\n",
       "      <td>1</td>\n",
       "      <td>0</td>\n",
       "      <td>0</td>\n",
       "      <td>0</td>\n",
       "      <td>0</td>\n",
       "    </tr>\n",
       "    <tr>\n",
       "      <th>932</th>\n",
       "      <td>1115</td>\n",
       "      <td>Finalizada</td>\n",
       "      <td>Espacio Público</td>\n",
       "      <td>Menos de 1 año</td>\n",
       "      <td>22279.428</td>\n",
       "      <td>15</td>\n",
       "      <td>2</td>\n",
       "      <td>0</td>\n",
       "      <td>0</td>\n",
       "      <td>1</td>\n",
       "      <td>0</td>\n",
       "      <td>0</td>\n",
       "      <td>0</td>\n",
       "      <td>0</td>\n",
       "    </tr>\n",
       "    <tr>\n",
       "      <th>933</th>\n",
       "      <td>1116</td>\n",
       "      <td>Finalizada</td>\n",
       "      <td>Espacio Público</td>\n",
       "      <td>Menos de 1 año</td>\n",
       "      <td>14024.377</td>\n",
       "      <td>11</td>\n",
       "      <td>2</td>\n",
       "      <td>0</td>\n",
       "      <td>0</td>\n",
       "      <td>1</td>\n",
       "      <td>0</td>\n",
       "      <td>0</td>\n",
       "      <td>0</td>\n",
       "      <td>0</td>\n",
       "    </tr>\n",
       "  </tbody>\n",
       "</table>\n",
       "<p>883 rows × 14 columns</p>\n",
       "</div>"
      ],
      "text/plain": [
       "     Unnamed: 0       etapa             tipo      plazo_años  monto_miles  \\\n",
       "0             0  Finalizada         Escuelas   De 2 a 3 años    67065.700   \n",
       "1             1  Finalizada  Espacio Público   De 1 a 2 años     9950.017   \n",
       "2             2  Finalizada  Espacio Público   De 1 a 2 años    36942.632   \n",
       "3             3  Finalizada  Espacio Público   De 2 a 3 años    26938.294   \n",
       "4             4  Finalizada         Vivienda  Menos de 1 año     6990.315   \n",
       "..          ...         ...              ...             ...          ...   \n",
       "929        1111  Finalizada  Espacio Público  Menos de 1 año     2325.368   \n",
       "930        1112  Finalizada  Espacio Público  Menos de 1 año     1984.627   \n",
       "931        1114  Finalizada  Espacio Público  Menos de 1 año     6557.067   \n",
       "932        1115  Finalizada  Espacio Público  Menos de 1 año    22279.428   \n",
       "933        1116  Finalizada  Espacio Público  Menos de 1 año    14024.377   \n",
       "\n",
       "     comuna  Encoded  Arquitectura  Escuelas  Espacio Público  \\\n",
       "0        12        1             0         1                0   \n",
       "1        12        0             0         0                1   \n",
       "2         1        0             0         0                1   \n",
       "3         1        1             0         0                1   \n",
       "4         8        2             0         0                0   \n",
       "..      ...      ...           ...       ...              ...   \n",
       "929       8        2             0         0                1   \n",
       "930       8        2             0         0                1   \n",
       "931       9        2             0         0                1   \n",
       "932      15        2             0         0                1   \n",
       "933      11        2             0         0                1   \n",
       "\n",
       "     Hidráulica e Infraestructura  Salud  Transporte  Vivienda  \n",
       "0                               0      0           0         0  \n",
       "1                               0      0           0         0  \n",
       "2                               0      0           0         0  \n",
       "3                               0      0           0         0  \n",
       "4                               0      0           0         1  \n",
       "..                            ...    ...         ...       ...  \n",
       "929                             0      0           0         0  \n",
       "930                             0      0           0         0  \n",
       "931                             0      0           0         0  \n",
       "932                             0      0           0         0  \n",
       "933                             0      0           0         0  \n",
       "\n",
       "[883 rows x 14 columns]"
      ]
     },
     "execution_count": 9,
     "metadata": {},
     "output_type": "execute_result"
    }
   ],
   "source": [
    "tipo_obra = pd.get_dummies(obras.tipo)\n",
    "obras = obras.join(tipo_obra)\n",
    "obras"
   ]
  },
  {
   "cell_type": "code",
   "execution_count": 10,
   "metadata": {
    "id": "TdblB1ntAyEg",
    "outputId": "4e068a73-da72-4ebe-cb33-675068d635da"
   },
   "outputs": [
    {
     "data": {
      "text/html": [
       "<div>\n",
       "<style scoped>\n",
       "    .dataframe tbody tr th:only-of-type {\n",
       "        vertical-align: middle;\n",
       "    }\n",
       "\n",
       "    .dataframe tbody tr th {\n",
       "        vertical-align: top;\n",
       "    }\n",
       "\n",
       "    .dataframe thead th {\n",
       "        text-align: right;\n",
       "    }\n",
       "</style>\n",
       "<table border=\"1\" class=\"dataframe\">\n",
       "  <thead>\n",
       "    <tr style=\"text-align: right;\">\n",
       "      <th></th>\n",
       "      <th>monto_miles</th>\n",
       "      <th>comuna</th>\n",
       "      <th>Encoded</th>\n",
       "      <th>Arquitectura</th>\n",
       "      <th>Escuelas</th>\n",
       "      <th>Espacio Público</th>\n",
       "      <th>Hidráulica e Infraestructura</th>\n",
       "      <th>Salud</th>\n",
       "      <th>Transporte</th>\n",
       "      <th>Vivienda</th>\n",
       "    </tr>\n",
       "  </thead>\n",
       "  <tbody>\n",
       "    <tr>\n",
       "      <th>0</th>\n",
       "      <td>67065.700</td>\n",
       "      <td>12</td>\n",
       "      <td>1</td>\n",
       "      <td>0</td>\n",
       "      <td>1</td>\n",
       "      <td>0</td>\n",
       "      <td>0</td>\n",
       "      <td>0</td>\n",
       "      <td>0</td>\n",
       "      <td>0</td>\n",
       "    </tr>\n",
       "    <tr>\n",
       "      <th>1</th>\n",
       "      <td>9950.017</td>\n",
       "      <td>12</td>\n",
       "      <td>0</td>\n",
       "      <td>0</td>\n",
       "      <td>0</td>\n",
       "      <td>1</td>\n",
       "      <td>0</td>\n",
       "      <td>0</td>\n",
       "      <td>0</td>\n",
       "      <td>0</td>\n",
       "    </tr>\n",
       "    <tr>\n",
       "      <th>2</th>\n",
       "      <td>36942.632</td>\n",
       "      <td>1</td>\n",
       "      <td>0</td>\n",
       "      <td>0</td>\n",
       "      <td>0</td>\n",
       "      <td>1</td>\n",
       "      <td>0</td>\n",
       "      <td>0</td>\n",
       "      <td>0</td>\n",
       "      <td>0</td>\n",
       "    </tr>\n",
       "    <tr>\n",
       "      <th>3</th>\n",
       "      <td>26938.294</td>\n",
       "      <td>1</td>\n",
       "      <td>1</td>\n",
       "      <td>0</td>\n",
       "      <td>0</td>\n",
       "      <td>1</td>\n",
       "      <td>0</td>\n",
       "      <td>0</td>\n",
       "      <td>0</td>\n",
       "      <td>0</td>\n",
       "    </tr>\n",
       "    <tr>\n",
       "      <th>4</th>\n",
       "      <td>6990.315</td>\n",
       "      <td>8</td>\n",
       "      <td>2</td>\n",
       "      <td>0</td>\n",
       "      <td>0</td>\n",
       "      <td>0</td>\n",
       "      <td>0</td>\n",
       "      <td>0</td>\n",
       "      <td>0</td>\n",
       "      <td>1</td>\n",
       "    </tr>\n",
       "    <tr>\n",
       "      <th>...</th>\n",
       "      <td>...</td>\n",
       "      <td>...</td>\n",
       "      <td>...</td>\n",
       "      <td>...</td>\n",
       "      <td>...</td>\n",
       "      <td>...</td>\n",
       "      <td>...</td>\n",
       "      <td>...</td>\n",
       "      <td>...</td>\n",
       "      <td>...</td>\n",
       "    </tr>\n",
       "    <tr>\n",
       "      <th>929</th>\n",
       "      <td>2325.368</td>\n",
       "      <td>8</td>\n",
       "      <td>2</td>\n",
       "      <td>0</td>\n",
       "      <td>0</td>\n",
       "      <td>1</td>\n",
       "      <td>0</td>\n",
       "      <td>0</td>\n",
       "      <td>0</td>\n",
       "      <td>0</td>\n",
       "    </tr>\n",
       "    <tr>\n",
       "      <th>930</th>\n",
       "      <td>1984.627</td>\n",
       "      <td>8</td>\n",
       "      <td>2</td>\n",
       "      <td>0</td>\n",
       "      <td>0</td>\n",
       "      <td>1</td>\n",
       "      <td>0</td>\n",
       "      <td>0</td>\n",
       "      <td>0</td>\n",
       "      <td>0</td>\n",
       "    </tr>\n",
       "    <tr>\n",
       "      <th>931</th>\n",
       "      <td>6557.067</td>\n",
       "      <td>9</td>\n",
       "      <td>2</td>\n",
       "      <td>0</td>\n",
       "      <td>0</td>\n",
       "      <td>1</td>\n",
       "      <td>0</td>\n",
       "      <td>0</td>\n",
       "      <td>0</td>\n",
       "      <td>0</td>\n",
       "    </tr>\n",
       "    <tr>\n",
       "      <th>932</th>\n",
       "      <td>22279.428</td>\n",
       "      <td>15</td>\n",
       "      <td>2</td>\n",
       "      <td>0</td>\n",
       "      <td>0</td>\n",
       "      <td>1</td>\n",
       "      <td>0</td>\n",
       "      <td>0</td>\n",
       "      <td>0</td>\n",
       "      <td>0</td>\n",
       "    </tr>\n",
       "    <tr>\n",
       "      <th>933</th>\n",
       "      <td>14024.377</td>\n",
       "      <td>11</td>\n",
       "      <td>2</td>\n",
       "      <td>0</td>\n",
       "      <td>0</td>\n",
       "      <td>1</td>\n",
       "      <td>0</td>\n",
       "      <td>0</td>\n",
       "      <td>0</td>\n",
       "      <td>0</td>\n",
       "    </tr>\n",
       "  </tbody>\n",
       "</table>\n",
       "<p>883 rows × 10 columns</p>\n",
       "</div>"
      ],
      "text/plain": [
       "     monto_miles  comuna  Encoded  Arquitectura  Escuelas  Espacio Público  \\\n",
       "0      67065.700      12        1             0         1                0   \n",
       "1       9950.017      12        0             0         0                1   \n",
       "2      36942.632       1        0             0         0                1   \n",
       "3      26938.294       1        1             0         0                1   \n",
       "4       6990.315       8        2             0         0                0   \n",
       "..           ...     ...      ...           ...       ...              ...   \n",
       "929     2325.368       8        2             0         0                1   \n",
       "930     1984.627       8        2             0         0                1   \n",
       "931     6557.067       9        2             0         0                1   \n",
       "932    22279.428      15        2             0         0                1   \n",
       "933    14024.377      11        2             0         0                1   \n",
       "\n",
       "     Hidráulica e Infraestructura  Salud  Transporte  Vivienda  \n",
       "0                               0      0           0         0  \n",
       "1                               0      0           0         0  \n",
       "2                               0      0           0         0  \n",
       "3                               0      0           0         0  \n",
       "4                               0      0           0         1  \n",
       "..                            ...    ...         ...       ...  \n",
       "929                             0      0           0         0  \n",
       "930                             0      0           0         0  \n",
       "931                             0      0           0         0  \n",
       "932                             0      0           0         0  \n",
       "933                             0      0           0         0  \n",
       "\n",
       "[883 rows x 10 columns]"
      ]
     },
     "execution_count": 10,
     "metadata": {},
     "output_type": "execute_result"
    }
   ],
   "source": [
    "x = obras.iloc[:,4:]\n",
    "x"
   ]
  },
  {
   "cell_type": "code",
   "execution_count": 11,
   "metadata": {
    "id": "5rwtS9wCAyEj",
    "outputId": "1342ed4f-29a0-41ae-c2a3-f59367c7452f",
    "scrolled": true
   },
   "outputs": [
    {
     "data": {
      "text/html": [
       "<div>\n",
       "<style scoped>\n",
       "    .dataframe tbody tr th:only-of-type {\n",
       "        vertical-align: middle;\n",
       "    }\n",
       "\n",
       "    .dataframe tbody tr th {\n",
       "        vertical-align: top;\n",
       "    }\n",
       "\n",
       "    .dataframe thead th {\n",
       "        text-align: right;\n",
       "    }\n",
       "</style>\n",
       "<table border=\"1\" class=\"dataframe\">\n",
       "  <thead>\n",
       "    <tr style=\"text-align: right;\">\n",
       "      <th></th>\n",
       "      <th>monto_miles</th>\n",
       "      <th>comuna</th>\n",
       "      <th>Arquitectura</th>\n",
       "      <th>Escuelas</th>\n",
       "      <th>Espacio Público</th>\n",
       "      <th>Hidráulica e Infraestructura</th>\n",
       "      <th>Salud</th>\n",
       "      <th>Transporte</th>\n",
       "      <th>Vivienda</th>\n",
       "    </tr>\n",
       "  </thead>\n",
       "  <tbody>\n",
       "    <tr>\n",
       "      <th>0</th>\n",
       "      <td>67065.700</td>\n",
       "      <td>12</td>\n",
       "      <td>0</td>\n",
       "      <td>1</td>\n",
       "      <td>0</td>\n",
       "      <td>0</td>\n",
       "      <td>0</td>\n",
       "      <td>0</td>\n",
       "      <td>0</td>\n",
       "    </tr>\n",
       "    <tr>\n",
       "      <th>1</th>\n",
       "      <td>9950.017</td>\n",
       "      <td>12</td>\n",
       "      <td>0</td>\n",
       "      <td>0</td>\n",
       "      <td>1</td>\n",
       "      <td>0</td>\n",
       "      <td>0</td>\n",
       "      <td>0</td>\n",
       "      <td>0</td>\n",
       "    </tr>\n",
       "    <tr>\n",
       "      <th>2</th>\n",
       "      <td>36942.632</td>\n",
       "      <td>1</td>\n",
       "      <td>0</td>\n",
       "      <td>0</td>\n",
       "      <td>1</td>\n",
       "      <td>0</td>\n",
       "      <td>0</td>\n",
       "      <td>0</td>\n",
       "      <td>0</td>\n",
       "    </tr>\n",
       "    <tr>\n",
       "      <th>3</th>\n",
       "      <td>26938.294</td>\n",
       "      <td>1</td>\n",
       "      <td>0</td>\n",
       "      <td>0</td>\n",
       "      <td>1</td>\n",
       "      <td>0</td>\n",
       "      <td>0</td>\n",
       "      <td>0</td>\n",
       "      <td>0</td>\n",
       "    </tr>\n",
       "    <tr>\n",
       "      <th>4</th>\n",
       "      <td>6990.315</td>\n",
       "      <td>8</td>\n",
       "      <td>0</td>\n",
       "      <td>0</td>\n",
       "      <td>0</td>\n",
       "      <td>0</td>\n",
       "      <td>0</td>\n",
       "      <td>0</td>\n",
       "      <td>1</td>\n",
       "    </tr>\n",
       "    <tr>\n",
       "      <th>...</th>\n",
       "      <td>...</td>\n",
       "      <td>...</td>\n",
       "      <td>...</td>\n",
       "      <td>...</td>\n",
       "      <td>...</td>\n",
       "      <td>...</td>\n",
       "      <td>...</td>\n",
       "      <td>...</td>\n",
       "      <td>...</td>\n",
       "    </tr>\n",
       "    <tr>\n",
       "      <th>929</th>\n",
       "      <td>2325.368</td>\n",
       "      <td>8</td>\n",
       "      <td>0</td>\n",
       "      <td>0</td>\n",
       "      <td>1</td>\n",
       "      <td>0</td>\n",
       "      <td>0</td>\n",
       "      <td>0</td>\n",
       "      <td>0</td>\n",
       "    </tr>\n",
       "    <tr>\n",
       "      <th>930</th>\n",
       "      <td>1984.627</td>\n",
       "      <td>8</td>\n",
       "      <td>0</td>\n",
       "      <td>0</td>\n",
       "      <td>1</td>\n",
       "      <td>0</td>\n",
       "      <td>0</td>\n",
       "      <td>0</td>\n",
       "      <td>0</td>\n",
       "    </tr>\n",
       "    <tr>\n",
       "      <th>931</th>\n",
       "      <td>6557.067</td>\n",
       "      <td>9</td>\n",
       "      <td>0</td>\n",
       "      <td>0</td>\n",
       "      <td>1</td>\n",
       "      <td>0</td>\n",
       "      <td>0</td>\n",
       "      <td>0</td>\n",
       "      <td>0</td>\n",
       "    </tr>\n",
       "    <tr>\n",
       "      <th>932</th>\n",
       "      <td>22279.428</td>\n",
       "      <td>15</td>\n",
       "      <td>0</td>\n",
       "      <td>0</td>\n",
       "      <td>1</td>\n",
       "      <td>0</td>\n",
       "      <td>0</td>\n",
       "      <td>0</td>\n",
       "      <td>0</td>\n",
       "    </tr>\n",
       "    <tr>\n",
       "      <th>933</th>\n",
       "      <td>14024.377</td>\n",
       "      <td>11</td>\n",
       "      <td>0</td>\n",
       "      <td>0</td>\n",
       "      <td>1</td>\n",
       "      <td>0</td>\n",
       "      <td>0</td>\n",
       "      <td>0</td>\n",
       "      <td>0</td>\n",
       "    </tr>\n",
       "  </tbody>\n",
       "</table>\n",
       "<p>883 rows × 9 columns</p>\n",
       "</div>"
      ],
      "text/plain": [
       "     monto_miles  comuna  Arquitectura  Escuelas  Espacio Público  \\\n",
       "0      67065.700      12             0         1                0   \n",
       "1       9950.017      12             0         0                1   \n",
       "2      36942.632       1             0         0                1   \n",
       "3      26938.294       1             0         0                1   \n",
       "4       6990.315       8             0         0                0   \n",
       "..           ...     ...           ...       ...              ...   \n",
       "929     2325.368       8             0         0                1   \n",
       "930     1984.627       8             0         0                1   \n",
       "931     6557.067       9             0         0                1   \n",
       "932    22279.428      15             0         0                1   \n",
       "933    14024.377      11             0         0                1   \n",
       "\n",
       "     Hidráulica e Infraestructura  Salud  Transporte  Vivienda  \n",
       "0                               0      0           0         0  \n",
       "1                               0      0           0         0  \n",
       "2                               0      0           0         0  \n",
       "3                               0      0           0         0  \n",
       "4                               0      0           0         1  \n",
       "..                            ...    ...         ...       ...  \n",
       "929                             0      0           0         0  \n",
       "930                             0      0           0         0  \n",
       "931                             0      0           0         0  \n",
       "932                             0      0           0         0  \n",
       "933                             0      0           0         0  \n",
       "\n",
       "[883 rows x 9 columns]"
      ]
     },
     "execution_count": 11,
     "metadata": {},
     "output_type": "execute_result"
    }
   ],
   "source": [
    "# Recordamos que Encoded es el dummie generado para nuestro target (sacamos por exclusión)\n",
    "x = x.drop(['Encoded'],axis=1)\n",
    "x"
   ]
  },
  {
   "cell_type": "code",
   "execution_count": 12,
   "metadata": {
    "id": "KoIELo0qAyEn",
    "outputId": "7aafcfb9-02d0-4e74-e1e6-1f7682c9dbbe"
   },
   "outputs": [
    {
     "data": {
      "text/plain": [
       "2    655\n",
       "0    179\n",
       "1     36\n",
       "3     13\n",
       "Name: Encoded, dtype: int64"
      ]
     },
     "execution_count": 12,
     "metadata": {},
     "output_type": "execute_result"
    }
   ],
   "source": [
    "obras['Encoded'].value_counts()"
   ]
  },
  {
   "cell_type": "code",
   "execution_count": 13,
   "metadata": {
    "scrolled": true
   },
   "outputs": [
    {
     "data": {
      "text/plain": [
       "(883,)"
      ]
     },
     "execution_count": 13,
     "metadata": {},
     "output_type": "execute_result"
    }
   ],
   "source": [
    "y.shape"
   ]
  },
  {
   "cell_type": "code",
   "execution_count": 14,
   "metadata": {},
   "outputs": [
    {
     "data": {
      "text/plain": [
       "(883, 9)"
      ]
     },
     "execution_count": 14,
     "metadata": {},
     "output_type": "execute_result"
    }
   ],
   "source": [
    "x.shape"
   ]
  },
  {
   "cell_type": "markdown",
   "metadata": {
    "id": "DP4M44YyAyEq"
   },
   "source": [
    "Al encontrarnos frente a un Imbalanced dataset multi-class classification problem (Clasificación multi clase de un dataset no balanceado), se utilizará la técnica de aumentar las samples de las clases menores, a fin de balancear el dataset."
   ]
  },
  {
   "cell_type": "code",
   "execution_count": 15,
   "metadata": {
    "id": "Im_96MfNAyEr",
    "outputId": "aca2a55a-3b78-45c1-924d-e92628303d74"
   },
   "outputs": [
    {
     "data": {
      "text/plain": [
       "3    655\n",
       "1    655\n",
       "2    655\n",
       "0    655\n",
       "Name: Encoded, dtype: int64"
      ]
     },
     "execution_count": 15,
     "metadata": {},
     "output_type": "execute_result"
    }
   ],
   "source": [
    "from sklearn.utils import resample\n",
    "\n",
    "# Primero separamos las clases\n",
    "\n",
    "obras_majority1 = obras[obras.Encoded==2]\n",
    "obras_majority2 = obras[obras.Encoded==0]\n",
    "obras_minority1 = obras[obras.Encoded==1]\n",
    "obras_minority2 = obras[obras.Encoded==3]\n",
    "\n",
    "# Generamos samples para que las 4 clases tengan el mismo peso\n",
    "\n",
    "obras_majority2_upsampled = resample(obras_majority2, replace=True, n_samples=655, random_state=8)\n",
    "obras_minority1_upsampled = resample(obras_minority1, replace=True, n_samples=655, random_state=8)\n",
    "obras_minority2_upsampled = resample(obras_minority2, replace=True, n_samples=655, random_state=8)\n",
    "\n",
    "# Combinamos todas las clases y contamos los valores\n",
    "\n",
    "obras_upsampled = pd.concat([obras_majority1,obras_majority2_upsampled,obras_minority1_upsampled,obras_minority2_upsampled])\n",
    "\n",
    "obras_upsampled['Encoded'].value_counts()"
   ]
  },
  {
   "cell_type": "code",
   "execution_count": 16,
   "metadata": {
    "id": "_Dpo0BwVAyEz",
    "outputId": "63447ec3-73aa-435a-f558-fa208d21893b"
   },
   "outputs": [
    {
     "data": {
      "text/plain": [
       "(2620, 14)"
      ]
     },
     "execution_count": 16,
     "metadata": {},
     "output_type": "execute_result"
    }
   ],
   "source": [
    "obras_upsampled.shape"
   ]
  },
  {
   "cell_type": "code",
   "execution_count": 17,
   "metadata": {
    "id": "rdTqIE10AyE2",
    "outputId": "dba0858f-7398-480e-f850-7c4bdd903eeb"
   },
   "outputs": [
    {
     "data": {
      "text/html": [
       "<div>\n",
       "<style scoped>\n",
       "    .dataframe tbody tr th:only-of-type {\n",
       "        vertical-align: middle;\n",
       "    }\n",
       "\n",
       "    .dataframe tbody tr th {\n",
       "        vertical-align: top;\n",
       "    }\n",
       "\n",
       "    .dataframe thead th {\n",
       "        text-align: right;\n",
       "    }\n",
       "</style>\n",
       "<table border=\"1\" class=\"dataframe\">\n",
       "  <thead>\n",
       "    <tr style=\"text-align: right;\">\n",
       "      <th></th>\n",
       "      <th>Unnamed: 0</th>\n",
       "      <th>etapa</th>\n",
       "      <th>tipo</th>\n",
       "      <th>plazo_años</th>\n",
       "      <th>monto_miles</th>\n",
       "      <th>comuna</th>\n",
       "      <th>Encoded</th>\n",
       "      <th>Arquitectura</th>\n",
       "      <th>Escuelas</th>\n",
       "      <th>Espacio Público</th>\n",
       "      <th>Hidráulica e Infraestructura</th>\n",
       "      <th>Salud</th>\n",
       "      <th>Transporte</th>\n",
       "      <th>Vivienda</th>\n",
       "    </tr>\n",
       "  </thead>\n",
       "  <tbody>\n",
       "    <tr>\n",
       "      <th>566</th>\n",
       "      <td>679</td>\n",
       "      <td>Finalizada</td>\n",
       "      <td>Escuelas</td>\n",
       "      <td>Más de 3 años</td>\n",
       "      <td>4374.885</td>\n",
       "      <td>15</td>\n",
       "      <td>3</td>\n",
       "      <td>0</td>\n",
       "      <td>1</td>\n",
       "      <td>0</td>\n",
       "      <td>0</td>\n",
       "      <td>0</td>\n",
       "      <td>0</td>\n",
       "      <td>0</td>\n",
       "    </tr>\n",
       "    <tr>\n",
       "      <th>39</th>\n",
       "      <td>39</td>\n",
       "      <td>Finalizada</td>\n",
       "      <td>Arquitectura</td>\n",
       "      <td>Más de 3 años</td>\n",
       "      <td>103608.164</td>\n",
       "      <td>8</td>\n",
       "      <td>3</td>\n",
       "      <td>1</td>\n",
       "      <td>0</td>\n",
       "      <td>0</td>\n",
       "      <td>0</td>\n",
       "      <td>0</td>\n",
       "      <td>0</td>\n",
       "      <td>0</td>\n",
       "    </tr>\n",
       "    <tr>\n",
       "      <th>362</th>\n",
       "      <td>424</td>\n",
       "      <td>Finalizada</td>\n",
       "      <td>Escuelas</td>\n",
       "      <td>Más de 3 años</td>\n",
       "      <td>6499.921</td>\n",
       "      <td>4</td>\n",
       "      <td>3</td>\n",
       "      <td>0</td>\n",
       "      <td>1</td>\n",
       "      <td>0</td>\n",
       "      <td>0</td>\n",
       "      <td>0</td>\n",
       "      <td>0</td>\n",
       "      <td>0</td>\n",
       "    </tr>\n",
       "    <tr>\n",
       "      <th>56</th>\n",
       "      <td>56</td>\n",
       "      <td>Finalizada</td>\n",
       "      <td>Hidráulica e Infraestructura</td>\n",
       "      <td>Más de 3 años</td>\n",
       "      <td>145125.053</td>\n",
       "      <td>4</td>\n",
       "      <td>3</td>\n",
       "      <td>0</td>\n",
       "      <td>0</td>\n",
       "      <td>0</td>\n",
       "      <td>1</td>\n",
       "      <td>0</td>\n",
       "      <td>0</td>\n",
       "      <td>0</td>\n",
       "    </tr>\n",
       "    <tr>\n",
       "      <th>147</th>\n",
       "      <td>152</td>\n",
       "      <td>Finalizada</td>\n",
       "      <td>Salud</td>\n",
       "      <td>Más de 3 años</td>\n",
       "      <td>105154.463</td>\n",
       "      <td>9</td>\n",
       "      <td>3</td>\n",
       "      <td>0</td>\n",
       "      <td>0</td>\n",
       "      <td>0</td>\n",
       "      <td>0</td>\n",
       "      <td>1</td>\n",
       "      <td>0</td>\n",
       "      <td>0</td>\n",
       "    </tr>\n",
       "  </tbody>\n",
       "</table>\n",
       "</div>"
      ],
      "text/plain": [
       "     Unnamed: 0       etapa                          tipo     plazo_años  \\\n",
       "566         679  Finalizada                      Escuelas  Más de 3 años   \n",
       "39           39  Finalizada                  Arquitectura  Más de 3 años   \n",
       "362         424  Finalizada                      Escuelas  Más de 3 años   \n",
       "56           56  Finalizada  Hidráulica e Infraestructura  Más de 3 años   \n",
       "147         152  Finalizada                         Salud  Más de 3 años   \n",
       "\n",
       "     monto_miles  comuna  Encoded  Arquitectura  Escuelas  Espacio Público  \\\n",
       "566     4374.885      15        3             0         1                0   \n",
       "39    103608.164       8        3             1         0                0   \n",
       "362     6499.921       4        3             0         1                0   \n",
       "56    145125.053       4        3             0         0                0   \n",
       "147   105154.463       9        3             0         0                0   \n",
       "\n",
       "     Hidráulica e Infraestructura  Salud  Transporte  Vivienda  \n",
       "566                             0      0           0         0  \n",
       "39                              0      0           0         0  \n",
       "362                             0      0           0         0  \n",
       "56                              1      0           0         0  \n",
       "147                             0      1           0         0  "
      ]
     },
     "execution_count": 17,
     "metadata": {},
     "output_type": "execute_result"
    }
   ],
   "source": [
    "obras_upsampled.tail()"
   ]
  },
  {
   "cell_type": "code",
   "execution_count": 18,
   "metadata": {
    "id": "ZQQ__WF4AyE5"
   },
   "outputs": [],
   "source": [
    "y = obras_upsampled.iloc[:,3]\n",
    "le = preprocessing.LabelEncoder()\n",
    "y = le.fit_transform(y)\n",
    "obras_upsampled['Encoded'] = y"
   ]
  },
  {
   "cell_type": "code",
   "execution_count": 19,
   "metadata": {
    "id": "x9NoGsZKAyE8",
    "outputId": "e0be9194-3747-4004-d4f5-050a738c64af"
   },
   "outputs": [
    {
     "data": {
      "text/plain": [
       "(2620,)"
      ]
     },
     "execution_count": 19,
     "metadata": {},
     "output_type": "execute_result"
    }
   ],
   "source": [
    "y.shape"
   ]
  },
  {
   "cell_type": "code",
   "execution_count": 20,
   "metadata": {
    "id": "y82Tdt3uAyFA"
   },
   "outputs": [],
   "source": [
    "#tipo_obras_upsampled = pd.get_dummies(obras_upsampled.tipo)\n",
    "#obras_upsampled = obras_upsampled.join(tipo_obras_upsampled)\n",
    "x = obras_upsampled.iloc[:,4:]\n",
    "x = x.drop(['Encoded'],axis=1)"
   ]
  },
  {
   "cell_type": "code",
   "execution_count": 21,
   "metadata": {
    "id": "VF7iyBPGAyFE",
    "outputId": "66528e1b-89ec-479c-e9a5-49cb433ef267"
   },
   "outputs": [
    {
     "data": {
      "text/plain": [
       "(2620, 9)"
      ]
     },
     "execution_count": 21,
     "metadata": {},
     "output_type": "execute_result"
    }
   ],
   "source": [
    "x.shape"
   ]
  },
  {
   "cell_type": "markdown",
   "metadata": {
    "id": "s7ZX9aVzAyFH"
   },
   "source": [
    "## PRE PROCESAMIENTO"
   ]
  },
  {
   "cell_type": "code",
   "execution_count": 22,
   "metadata": {
    "id": "Z0U4BpubAyFH"
   },
   "outputs": [],
   "source": [
    "# Importamos las librerías necesarias\n",
    "\n",
    "from sklearn.preprocessing import StandardScaler\n",
    "from sklearn.model_selection import train_test_split\n",
    "from sklearn.metrics import accuracy_score\n",
    "from sklearn.metrics import classification_report\n",
    "from sklearn.model_selection import cross_val_score\n",
    "from sklearn.metrics import roc_curve, auc\n",
    "from sklearn import metrics\n",
    "from sklearn.model_selection import GridSearchCV\n",
    "from sklearn.metrics import confusion_matrix\n",
    "from sklearn.svm import SVC\n",
    "from sklearn import svm\n",
    "from sklearn.neighbors import KNeighborsClassifier\n",
    "from sklearn.ensemble import RandomForestClassifier\n",
    "from sklearn.naive_bayes import GaussianNB\n",
    "from sklearn.metrics import r2_score, mean_squared_error, mean_absolute_error\n",
    "from sklearn.decomposition import PCA, KernelPCA\n",
    "from sklearn import decomposition\n",
    "from sklearn.utils import class_weight\n",
    "from sklearn.linear_model import LogisticRegression\n",
    "from sklearn.multiclass import OneVsRestClassifier, OneVsOneClassifier"
   ]
  },
  {
   "cell_type": "code",
   "execution_count": 23,
   "metadata": {
    "id": "FDfDo0VWAyFM",
    "outputId": "aa75e781-a694-499e-bcf9-3a43f7acfe58"
   },
   "outputs": [
    {
     "name": "stdout",
     "output_type": "stream",
     "text": [
      "El tamaño del \"X\" de entrenamiento es: (1834, 9)\n",
      "Se corresponde con el \"Y\" de entrenamiento (1834,)\n"
     ]
    }
   ],
   "source": [
    "# Separamos el data set en train y test\n",
    "xtrain,xtest,ytrain,ytest=train_test_split(x,y, test_size=0.3, random_state=8)\n",
    "print('El tamaño del \"X\" de entrenamiento es: ' + str(xtrain.shape))\n",
    "print('Se corresponde con el \"Y\" de entrenamiento ' + str(ytrain.shape))"
   ]
  },
  {
   "cell_type": "code",
   "execution_count": 24,
   "metadata": {
    "id": "DhJSdTwbAyFQ"
   },
   "outputs": [],
   "source": [
    "scaler = preprocessing.StandardScaler().fit(xtrain)\n"
   ]
  },
  {
   "cell_type": "code",
   "execution_count": 25,
   "metadata": {
    "id": "ftLkjLuiAyFT"
   },
   "outputs": [],
   "source": [
    "xtrain_scaled = scaler.transform (xtrain)\n",
    "xtest_scaled = scaler.transform (xtest)"
   ]
  },
  {
   "cell_type": "code",
   "execution_count": 26,
   "metadata": {
    "id": "l8mcTommAyFY",
    "outputId": "676f1802-102b-4b89-cd9e-57b2a3bcb6f1"
   },
   "outputs": [
    {
     "data": {
      "text/plain": [
       "(1834, 9)"
      ]
     },
     "execution_count": 26,
     "metadata": {},
     "output_type": "execute_result"
    }
   ],
   "source": [
    "xtrain_scaled.shape"
   ]
  },
  {
   "cell_type": "markdown",
   "metadata": {
    "id": "NpYsktjyAyFs"
   },
   "source": [
    "## ML\n",
    "\n",
    "Se utilizarán distintos modelos, con distintos hiperparámetros para obtener aquel que mejor logre clasificar nuestro objetivo."
   ]
  },
  {
   "cell_type": "markdown",
   "metadata": {
    "id": "u4i6O4pMAyF1"
   },
   "source": [
    "\n",
    "### Support Vector Classifier"
   ]
  },
  {
   "cell_type": "code",
   "execution_count": 27,
   "metadata": {
    "id": "UlMRUjxfAyGL",
    "outputId": "f20d4ee7-5809-46f3-e053-2eca5db124db"
   },
   "outputs": [
    {
     "data": {
      "text/plain": [
       "GridSearchCV(cv=5, estimator=SVC(class_weight='balanced', probability=True),\n",
       "             param_grid={'C': [0.001, 0.1, 1, 5, 10, 100],\n",
       "                         'gamma': [0.1, 1, 5, 10],\n",
       "                         'kernel': ('linear', 'rbf')})"
      ]
     },
     "execution_count": 27,
     "metadata": {},
     "output_type": "execute_result"
    }
   ],
   "source": [
    "# Definimos el clasificador\n",
    "\n",
    "svc = SVC(probability=True, class_weight='balanced')\n",
    "\n",
    "param_svc={'kernel':('linear','rbf'),\n",
    "           'C':[0.001, 0.1, 1, 5, 10, 100],\n",
    "           'gamma':[0.1, 1, 5, 10]}\n",
    "\n",
    "gs_svc=GridSearchCV(svc, param_grid=param_svc, refit=True,cv=5)\n",
    "gs_svc.fit(xtrain_scaled,ytrain)"
   ]
  },
  {
   "cell_type": "code",
   "execution_count": 28,
   "metadata": {
    "id": "xBcTiwGPAyGY",
    "outputId": "f8f38824-831e-435c-9ebb-50b0118d4381"
   },
   "outputs": [
    {
     "name": "stdout",
     "output_type": "stream",
     "text": [
      "Los mejores parámetros son:  {'C': 100, 'gamma': 10, 'kernel': 'rbf'}\n",
      "El score obtenido fue:  0.8249787823290303\n"
     ]
    }
   ],
   "source": [
    "print ('Los mejores parámetros son: ',  gs_svc.best_params_)\n",
    "print ('El score obtenido fue: ', gs_svc.best_score_)"
   ]
  },
  {
   "cell_type": "code",
   "execution_count": 29,
   "metadata": {
    "id": "rNsa3TW1AyGe",
    "outputId": "b5bc11b1-2296-4702-e1cf-aebb05d79b0e"
   },
   "outputs": [
    {
     "name": "stdout",
     "output_type": "stream",
     "text": [
      "El accuracy obtenido fue de 0.82 \n"
     ]
    }
   ],
   "source": [
    "ypred_svc=gs_svc.predict(xtest_scaled)\n",
    "score_svc=accuracy_score(ytest,ypred_svc)\n",
    "print('El accuracy obtenido fue de %0.2f ' %(accuracy_score(ytest,ypred_svc)))"
   ]
  },
  {
   "cell_type": "code",
   "execution_count": 30,
   "metadata": {
    "id": "RumFcu0IAyGn"
   },
   "outputs": [],
   "source": [
    "# Vamos a guardar los resultados y comparar al final\n",
    "\n",
    "rdos = pd.DataFrame(columns=['Clasificador', 'Accuracy'])"
   ]
  },
  {
   "cell_type": "code",
   "execution_count": 31,
   "metadata": {
    "id": "8h0yKJqAAyGu"
   },
   "outputs": [],
   "source": [
    "rdos = rdos.append({'Clasificador':'SVC',\n",
    "                   'Accuracy': score_svc}, ignore_index=True)"
   ]
  },
  {
   "cell_type": "code",
   "execution_count": 32,
   "metadata": {
    "id": "o8EW3v9-AyG2",
    "outputId": "eeff88de-2fe0-4a31-a7ca-eba80d429dc9"
   },
   "outputs": [
    {
     "name": "stdout",
     "output_type": "stream",
     "text": [
      "              precision    recall  f1-score   support\n",
      "\n",
      "           0       0.73      0.74      0.74       200\n",
      "           1       0.86      0.89      0.87       187\n",
      "           2       0.76      0.67      0.71       204\n",
      "           3       0.92      1.00      0.96       195\n",
      "\n",
      "    accuracy                           0.82       786\n",
      "   macro avg       0.82      0.82      0.82       786\n",
      "weighted avg       0.82      0.82      0.82       786\n",
      "\n"
     ]
    }
   ],
   "source": [
    "print(classification_report(ytest, ypred_svc))"
   ]
  },
  {
   "cell_type": "markdown",
   "metadata": {
    "id": "k57U7bFKAyHC"
   },
   "source": [
    "### KNN Classifier"
   ]
  },
  {
   "cell_type": "code",
   "execution_count": 33,
   "metadata": {
    "id": "jDDv6dCHAyHF",
    "outputId": "3e5b06d9-4b4e-4782-c221-377d4f1cb61a"
   },
   "outputs": [
    {
     "data": {
      "text/plain": [
       "GridSearchCV(cv=5, estimator=KNeighborsClassifier(),\n",
       "             param_grid={'n_neighbors': [1, 2, 5, 10, 15, 20, 50, 100, 150]})"
      ]
     },
     "execution_count": 33,
     "metadata": {},
     "output_type": "execute_result"
    }
   ],
   "source": [
    "knn = KNeighborsClassifier()\n",
    "\n",
    "param_knn = {'n_neighbors': [1,2,5,10,15,20,50,100,150]}\n",
    "\n",
    "gs_knn = GridSearchCV(knn, param_grid=param_knn,refit=True, cv=5)\n",
    "gs_knn.fit(xtrain_scaled,ytrain)"
   ]
  },
  {
   "cell_type": "code",
   "execution_count": 34,
   "metadata": {
    "id": "oHHUWnHBAyHO",
    "outputId": "93297c42-789e-40f9-831d-5752510360f7"
   },
   "outputs": [
    {
     "name": "stdout",
     "output_type": "stream",
     "text": [
      "Los mejores parámetros son:  {'n_neighbors': 1}\n",
      "El score obtenido fue:  0.9263888268489152\n",
      "El accuracy obtenido fue de 0.95 \n"
     ]
    }
   ],
   "source": [
    "print ('Los mejores parámetros son: ', gs_knn.best_params_)\n",
    "print ('El score obtenido fue: ', gs_knn.best_score_)\n",
    "ypred_knn=gs_knn.predict(xtest_scaled)\n",
    "score_knn=accuracy_score(ytest,ypred_knn)\n",
    "print('El accuracy obtenido fue de %0.2f ' %(accuracy_score(ytest,ypred_knn)))"
   ]
  },
  {
   "cell_type": "code",
   "execution_count": 35,
   "metadata": {
    "id": "zMhOvixWAyHV"
   },
   "outputs": [],
   "source": [
    "rdos = rdos.append({'Clasificador':'KNN',\n",
    "                    'Accuracy': score_knn}, ignore_index=True)"
   ]
  },
  {
   "cell_type": "code",
   "execution_count": 36,
   "metadata": {
    "id": "mrlV2aNdAyHb"
   },
   "outputs": [],
   "source": [
    "# Vamos a ver cómo varía el accuracy en función de los distintos K\n",
    "\n",
    "iteraciones_knn = 50\n",
    "acc_knn = np.zeros(iteraciones_knn)"
   ]
  },
  {
   "cell_type": "code",
   "execution_count": 37,
   "metadata": {
    "id": "mb6p_hHPAyHg"
   },
   "outputs": [],
   "source": [
    "for r in range(0,iteraciones_knn):\n",
    "   \n",
    "    neigh = KNeighborsClassifier(n_neighbors=r+1)\n",
    "    neigh.fit(xtrain_scaled,ytrain)\n",
    "    ypred_knn = neigh.predict(xtest_scaled)\n",
    "    acc_knn[r] = accuracy_score(ytest, ypred_knn)"
   ]
  },
  {
   "cell_type": "code",
   "execution_count": 59,
   "metadata": {
    "id": "O61N-t4QAyHl",
    "outputId": "d8bbd303-c84c-41de-c432-c9c6907c47a6"
   },
   "outputs": [
    {
     "data": {
      "image/png": "[encoded data removed]",
      "text/plain": [
       "<Figure size 432x288 with 1 Axes>"
      ]
     },
     "metadata": {},
     "output_type": "display_data"
    }
   ],
   "source": [
    "plt.plot(acc_knn)\n",
    "plt.xlabel(\"valor de K\")\n",
    "plt.ylabel(\"Variación de accuracy utilizando distintos K)\")\n",
    "sns.set_style('darkgrid')\n",
    "plt.show()"
   ]
  },
  {
   "cell_type": "code",
   "execution_count": 39,
   "metadata": {
    "id": "zAELNDoJAyHt",
    "outputId": "1130450e-14e6-402f-c76d-61183bcfdbdc"
   },
   "outputs": [
    {
     "data": {
      "text/html": [
       "<div>\n",
       "<style scoped>\n",
       "    .dataframe tbody tr th:only-of-type {\n",
       "        vertical-align: middle;\n",
       "    }\n",
       "\n",
       "    .dataframe tbody tr th {\n",
       "        vertical-align: top;\n",
       "    }\n",
       "\n",
       "    .dataframe thead th {\n",
       "        text-align: right;\n",
       "    }\n",
       "</style>\n",
       "<table border=\"1\" class=\"dataframe\">\n",
       "  <thead>\n",
       "    <tr style=\"text-align: right;\">\n",
       "      <th></th>\n",
       "      <th>Clasificador</th>\n",
       "      <th>Accuracy</th>\n",
       "    </tr>\n",
       "  </thead>\n",
       "  <tbody>\n",
       "    <tr>\n",
       "      <th>0</th>\n",
       "      <td>SVC</td>\n",
       "      <td>0.820611</td>\n",
       "    </tr>\n",
       "    <tr>\n",
       "      <th>1</th>\n",
       "      <td>KNN</td>\n",
       "      <td>0.946565</td>\n",
       "    </tr>\n",
       "  </tbody>\n",
       "</table>\n",
       "</div>"
      ],
      "text/plain": [
       "  Clasificador  Accuracy\n",
       "0          SVC  0.820611\n",
       "1          KNN  0.946565"
      ]
     },
     "execution_count": 39,
     "metadata": {},
     "output_type": "execute_result"
    }
   ],
   "source": [
    "# Como vimos del gráfico anterior, a mayor K, el accuracy disminuye. \n",
    "\n",
    "rdos"
   ]
  },
  {
   "cell_type": "markdown",
   "metadata": {
    "id": "Vke-6-RXAyHy"
   },
   "source": [
    "### Random Forest Classifier"
   ]
  },
  {
   "cell_type": "code",
   "execution_count": 40,
   "metadata": {
    "id": "vfSEPqTlAyH0",
    "outputId": "6cf4f148-3e9a-435f-ddec-92422fb61dfb"
   },
   "outputs": [
    {
     "data": {
      "text/plain": [
       "GridSearchCV(cv=5, estimator=RandomForestClassifier(),\n",
       "             param_grid={'n_estimators': [1, 2, 5, 10, 15, 20, 25, 50, 75,\n",
       "                                          100]})"
      ]
     },
     "execution_count": 40,
     "metadata": {},
     "output_type": "execute_result"
    }
   ],
   "source": [
    "rfr = RandomForestClassifier()\n",
    "\n",
    "param_rfr = {'n_estimators':[1,2,5,10,15,20,25,50,75,100]}\n",
    "\n",
    "gs_rfr = GridSearchCV(rfr, param_grid=param_rfr, cv=5)\n",
    "gs_rfr.fit(xtrain_scaled,ytrain)"
   ]
  },
  {
   "cell_type": "code",
   "execution_count": 41,
   "metadata": {
    "id": "5K7s6nKvAyH8",
    "outputId": "6ffcc3a2-411a-410b-e8ba-aa2c8c09738f"
   },
   "outputs": [
    {
     "name": "stdout",
     "output_type": "stream",
     "text": [
      "Los mejores parámetros son:  {'n_estimators': 50}\n",
      "El score obtenido fue:  0.9383868614225518\n",
      "El accuracy obtenido fue de 0.95 \n"
     ]
    }
   ],
   "source": [
    "print ('Los mejores parámetros son: ', gs_rfr.best_params_)\n",
    "print ('El score obtenido fue: ', gs_rfr.best_score_)\n",
    "ypred_rfr=gs_rfr.predict(xtest_scaled)\n",
    "score_rfr=accuracy_score(ytest,ypred_rfr)\n",
    "print('El accuracy obtenido fue de %0.2f ' %(accuracy_score(ytest,ypred_rfr)))"
   ]
  },
  {
   "cell_type": "code",
   "execution_count": 42,
   "metadata": {
    "id": "bxNCI4MPAyIB"
   },
   "outputs": [],
   "source": [
    "rdos = rdos.append({'Clasificador':'Random Forest',\n",
    "                   'Accuracy': score_rfr}, ignore_index=True)"
   ]
  },
  {
   "cell_type": "code",
   "execution_count": 43,
   "metadata": {
    "id": "hDDiVyNDAyIP",
    "outputId": "c219b448-5dfd-4740-9272-03c63d3b4458"
   },
   "outputs": [
    {
     "data": {
      "text/html": [
       "<div>\n",
       "<style scoped>\n",
       "    .dataframe tbody tr th:only-of-type {\n",
       "        vertical-align: middle;\n",
       "    }\n",
       "\n",
       "    .dataframe tbody tr th {\n",
       "        vertical-align: top;\n",
       "    }\n",
       "\n",
       "    .dataframe thead th {\n",
       "        text-align: right;\n",
       "    }\n",
       "</style>\n",
       "<table border=\"1\" class=\"dataframe\">\n",
       "  <thead>\n",
       "    <tr style=\"text-align: right;\">\n",
       "      <th></th>\n",
       "      <th>Clasificador</th>\n",
       "      <th>Accuracy</th>\n",
       "    </tr>\n",
       "  </thead>\n",
       "  <tbody>\n",
       "    <tr>\n",
       "      <th>0</th>\n",
       "      <td>SVC</td>\n",
       "      <td>0.820611</td>\n",
       "    </tr>\n",
       "    <tr>\n",
       "      <th>1</th>\n",
       "      <td>KNN</td>\n",
       "      <td>0.946565</td>\n",
       "    </tr>\n",
       "    <tr>\n",
       "      <th>2</th>\n",
       "      <td>Random Forest</td>\n",
       "      <td>0.949109</td>\n",
       "    </tr>\n",
       "  </tbody>\n",
       "</table>\n",
       "</div>"
      ],
      "text/plain": [
       "    Clasificador  Accuracy\n",
       "0            SVC  0.820611\n",
       "1            KNN  0.946565\n",
       "2  Random Forest  0.949109"
      ]
     },
     "execution_count": 43,
     "metadata": {},
     "output_type": "execute_result"
    }
   ],
   "source": [
    "rdos"
   ]
  },
  {
   "cell_type": "markdown",
   "metadata": {
    "id": "j95QoBaVAyIU"
   },
   "source": [
    "### Logistic Regression "
   ]
  },
  {
   "cell_type": "code",
   "execution_count": 44,
   "metadata": {
    "id": "VF0IFxRbAyIa",
    "outputId": "c3d05daa-7daa-42fe-eef2-77313beac7ad"
   },
   "outputs": [
    {
     "data": {
      "text/plain": [
       "GridSearchCV(cv=5, estimator=LogisticRegression(),\n",
       "             param_grid={'C': [1, 5, 10, 50, 70, 100, 150]})"
      ]
     },
     "execution_count": 44,
     "metadata": {},
     "output_type": "execute_result"
    }
   ],
   "source": [
    "lr = LogisticRegression()\n",
    "\n",
    "param_lr = {'C': [1, 5, 10, 50, 70, 100, 150]}\n",
    "\n",
    "gs_lr = GridSearchCV(lr, param_grid=param_lr, cv=5)\n",
    "gs_lr.fit(xtrain_scaled,ytrain)"
   ]
  },
  {
   "cell_type": "code",
   "execution_count": 45,
   "metadata": {
    "id": "9vZUd1DHAyIg",
    "outputId": "0884c1bb-c1e7-4659-b86c-f9a9db859421"
   },
   "outputs": [
    {
     "name": "stdout",
     "output_type": "stream",
     "text": [
      "Los mejores parámetros son:  {'C': 70}\n",
      "El score obtenido fue:  0.5136344009171989\n",
      "El accuracy obtenido fue de 0.54 \n"
     ]
    }
   ],
   "source": [
    "print ('Los mejores parámetros son: ', gs_lr.best_params_)\n",
    "print ('El score obtenido fue: ', gs_lr.best_score_)\n",
    "ypred_lr=gs_lr.predict(xtest_scaled)\n",
    "score_lr=accuracy_score(ytest,ypred_lr)\n",
    "print('El accuracy obtenido fue de %0.2f ' %(accuracy_score(ytest,ypred_lr)))"
   ]
  },
  {
   "cell_type": "code",
   "execution_count": 46,
   "metadata": {
    "id": "MiLWBZU2AyIp"
   },
   "outputs": [],
   "source": [
    "rdos = rdos.append({'Clasificador':'LR',\n",
    "                   'Accuracy': score_lr}, ignore_index=True)"
   ]
  },
  {
   "cell_type": "code",
   "execution_count": 47,
   "metadata": {
    "id": "PPrLu-4rAyI0",
    "outputId": "1f0227cd-6f84-4b10-9e71-8c2e79a01d53"
   },
   "outputs": [
    {
     "data": {
      "text/html": [
       "<div>\n",
       "<style scoped>\n",
       "    .dataframe tbody tr th:only-of-type {\n",
       "        vertical-align: middle;\n",
       "    }\n",
       "\n",
       "    .dataframe tbody tr th {\n",
       "        vertical-align: top;\n",
       "    }\n",
       "\n",
       "    .dataframe thead th {\n",
       "        text-align: right;\n",
       "    }\n",
       "</style>\n",
       "<table border=\"1\" class=\"dataframe\">\n",
       "  <thead>\n",
       "    <tr style=\"text-align: right;\">\n",
       "      <th></th>\n",
       "      <th>Clasificador</th>\n",
       "      <th>Accuracy</th>\n",
       "    </tr>\n",
       "  </thead>\n",
       "  <tbody>\n",
       "    <tr>\n",
       "      <th>0</th>\n",
       "      <td>SVC</td>\n",
       "      <td>0.820611</td>\n",
       "    </tr>\n",
       "    <tr>\n",
       "      <th>1</th>\n",
       "      <td>KNN</td>\n",
       "      <td>0.946565</td>\n",
       "    </tr>\n",
       "    <tr>\n",
       "      <th>2</th>\n",
       "      <td>Random Forest</td>\n",
       "      <td>0.949109</td>\n",
       "    </tr>\n",
       "    <tr>\n",
       "      <th>3</th>\n",
       "      <td>LR</td>\n",
       "      <td>0.535623</td>\n",
       "    </tr>\n",
       "  </tbody>\n",
       "</table>\n",
       "</div>"
      ],
      "text/plain": [
       "    Clasificador  Accuracy\n",
       "0            SVC  0.820611\n",
       "1            KNN  0.946565\n",
       "2  Random Forest  0.949109\n",
       "3             LR  0.535623"
      ]
     },
     "execution_count": 47,
     "metadata": {},
     "output_type": "execute_result"
    }
   ],
   "source": [
    "rdos"
   ]
  },
  {
   "cell_type": "markdown",
   "metadata": {
    "id": "_PlQ2BYqAyJC"
   },
   "source": [
    "### One Vs Rest Classifier (SVM)"
   ]
  },
  {
   "cell_type": "code",
   "execution_count": 48,
   "metadata": {
    "id": "bQwp2OWRAyJD",
    "outputId": "97953a45-7b15-4fc4-ce5a-0e0ed146c1c4"
   },
   "outputs": [
    {
     "data": {
      "text/plain": [
       "OneVsRestClassifier(estimator=SVC())"
      ]
     },
     "execution_count": 48,
     "metadata": {},
     "output_type": "execute_result"
    }
   ],
   "source": [
    "# Al ser un problema de clasificación multiclase, probamos con OVO y OVR\n",
    "\n",
    "ovr = OneVsRestClassifier(SVC())\n",
    "ovr.fit(xtrain_scaled,ytrain)"
   ]
  },
  {
   "cell_type": "code",
   "execution_count": 49,
   "metadata": {
    "id": "BOAlVZ3iAyJK"
   },
   "outputs": [],
   "source": [
    "ypred_ovr = ovr.predict(xtest_scaled)\n",
    "score_ovr = accuracy_score(ytest,ypred_ovr)\n",
    "\n",
    "rdos = rdos.append({'Clasificador':'OVR',\n",
    "                   'Accuracy': score_ovr}, ignore_index=True)"
   ]
  },
  {
   "cell_type": "code",
   "execution_count": 50,
   "metadata": {
    "id": "4A_2xpkFAyJO",
    "outputId": "7dcdf39b-02b6-4207-98e2-8ec88099ef42"
   },
   "outputs": [
    {
     "data": {
      "text/html": [
       "<div>\n",
       "<style scoped>\n",
       "    .dataframe tbody tr th:only-of-type {\n",
       "        vertical-align: middle;\n",
       "    }\n",
       "\n",
       "    .dataframe tbody tr th {\n",
       "        vertical-align: top;\n",
       "    }\n",
       "\n",
       "    .dataframe thead th {\n",
       "        text-align: right;\n",
       "    }\n",
       "</style>\n",
       "<table border=\"1\" class=\"dataframe\">\n",
       "  <thead>\n",
       "    <tr style=\"text-align: right;\">\n",
       "      <th></th>\n",
       "      <th>Clasificador</th>\n",
       "      <th>Accuracy</th>\n",
       "    </tr>\n",
       "  </thead>\n",
       "  <tbody>\n",
       "    <tr>\n",
       "      <th>0</th>\n",
       "      <td>SVC</td>\n",
       "      <td>0.820611</td>\n",
       "    </tr>\n",
       "    <tr>\n",
       "      <th>1</th>\n",
       "      <td>KNN</td>\n",
       "      <td>0.946565</td>\n",
       "    </tr>\n",
       "    <tr>\n",
       "      <th>2</th>\n",
       "      <td>Random Forest</td>\n",
       "      <td>0.949109</td>\n",
       "    </tr>\n",
       "    <tr>\n",
       "      <th>3</th>\n",
       "      <td>LR</td>\n",
       "      <td>0.535623</td>\n",
       "    </tr>\n",
       "    <tr>\n",
       "      <th>4</th>\n",
       "      <td>OVR</td>\n",
       "      <td>0.597964</td>\n",
       "    </tr>\n",
       "  </tbody>\n",
       "</table>\n",
       "</div>"
      ],
      "text/plain": [
       "    Clasificador  Accuracy\n",
       "0            SVC  0.820611\n",
       "1            KNN  0.946565\n",
       "2  Random Forest  0.949109\n",
       "3             LR  0.535623\n",
       "4            OVR  0.597964"
      ]
     },
     "execution_count": 50,
     "metadata": {},
     "output_type": "execute_result"
    }
   ],
   "source": [
    "rdos"
   ]
  },
  {
   "cell_type": "markdown",
   "metadata": {
    "id": "-hY_2QkzAyJV"
   },
   "source": [
    "### One Vs One Classifier (SVM)"
   ]
  },
  {
   "cell_type": "code",
   "execution_count": 51,
   "metadata": {
    "id": "ieDa23BFAyJW",
    "outputId": "047a3dcd-e086-4feb-b0b6-7ee21f9894f3"
   },
   "outputs": [
    {
     "data": {
      "text/plain": [
       "OneVsOneClassifier(estimator=SVC())"
      ]
     },
     "execution_count": 51,
     "metadata": {},
     "output_type": "execute_result"
    }
   ],
   "source": [
    "ovo = OneVsOneClassifier(SVC())\n",
    "ovo.fit(xtrain_scaled,ytrain)"
   ]
  },
  {
   "cell_type": "code",
   "execution_count": 52,
   "metadata": {
    "id": "UfEcDFCPAyJf",
    "outputId": "26d83924-50f8-41f7-d237-60d2eb6c6511"
   },
   "outputs": [
    {
     "data": {
      "text/plain": [
       "0.5534351145038168"
      ]
     },
     "execution_count": 52,
     "metadata": {},
     "output_type": "execute_result"
    }
   ],
   "source": [
    "ypred_ovo = ovo.predict(xtest_scaled)\n",
    "score_ovo = accuracy_score(ytest,ypred_ovo)\n",
    "score_ovo"
   ]
  },
  {
   "cell_type": "code",
   "execution_count": 53,
   "metadata": {
    "id": "fMeqjClMAyJj"
   },
   "outputs": [],
   "source": [
    "rdos = rdos.append({'Clasificador':'OVO',\n",
    "                   'Accuracy': score_ovo}, ignore_index=True)"
   ]
  },
  {
   "cell_type": "code",
   "execution_count": 54,
   "metadata": {
    "id": "1zvJ1yNxAyKh",
    "outputId": "2ec8818c-72cc-47d8-8064-ac2462877eca"
   },
   "outputs": [
    {
     "data": {
      "text/html": [
       "<div>\n",
       "<style scoped>\n",
       "    .dataframe tbody tr th:only-of-type {\n",
       "        vertical-align: middle;\n",
       "    }\n",
       "\n",
       "    .dataframe tbody tr th {\n",
       "        vertical-align: top;\n",
       "    }\n",
       "\n",
       "    .dataframe thead th {\n",
       "        text-align: right;\n",
       "    }\n",
       "</style>\n",
       "<table border=\"1\" class=\"dataframe\">\n",
       "  <thead>\n",
       "    <tr style=\"text-align: right;\">\n",
       "      <th></th>\n",
       "      <th>Clasificador</th>\n",
       "      <th>Accuracy</th>\n",
       "    </tr>\n",
       "  </thead>\n",
       "  <tbody>\n",
       "    <tr>\n",
       "      <th>0</th>\n",
       "      <td>SVC</td>\n",
       "      <td>0.820611</td>\n",
       "    </tr>\n",
       "    <tr>\n",
       "      <th>1</th>\n",
       "      <td>KNN</td>\n",
       "      <td>0.946565</td>\n",
       "    </tr>\n",
       "    <tr>\n",
       "      <th>2</th>\n",
       "      <td>Random Forest</td>\n",
       "      <td>0.949109</td>\n",
       "    </tr>\n",
       "    <tr>\n",
       "      <th>3</th>\n",
       "      <td>LR</td>\n",
       "      <td>0.535623</td>\n",
       "    </tr>\n",
       "    <tr>\n",
       "      <th>4</th>\n",
       "      <td>OVR</td>\n",
       "      <td>0.597964</td>\n",
       "    </tr>\n",
       "    <tr>\n",
       "      <th>5</th>\n",
       "      <td>OVO</td>\n",
       "      <td>0.553435</td>\n",
       "    </tr>\n",
       "  </tbody>\n",
       "</table>\n",
       "</div>"
      ],
      "text/plain": [
       "    Clasificador  Accuracy\n",
       "0            SVC  0.820611\n",
       "1            KNN  0.946565\n",
       "2  Random Forest  0.949109\n",
       "3             LR  0.535623\n",
       "4            OVR  0.597964\n",
       "5            OVO  0.553435"
      ]
     },
     "execution_count": 54,
     "metadata": {},
     "output_type": "execute_result"
    }
   ],
   "source": [
    "rdos"
   ]
  },
  {
   "cell_type": "markdown",
   "metadata": {
    "id": "jKKyn1JTAyKu"
   },
   "source": [
    "## Resultados / Visualización"
   ]
  },
  {
   "cell_type": "code",
   "execution_count": 55,
   "metadata": {
    "id": "7EQpztJdAyKv"
   },
   "outputs": [],
   "source": [
    "from sklearn.metrics import plot_confusion_matrix"
   ]
  },
  {
   "cell_type": "code",
   "execution_count": 57,
   "metadata": {
    "id": "PbY7yOmzAyK6",
    "outputId": "d2f33b6e-e640-4b42-b14d-7a5ffce96b0d"
   },
   "outputs": [
    {
     "data": {
      "image/png": "[encoded data removed]",
      "text/plain": [
       "<Figure size 720x720 with 2 Axes>"
      ]
     },
     "metadata": {},
     "output_type": "display_data"
    }
   ],
   "source": [
    "labels = obras['plazo_años'].unique()\n",
    "fig, ax = plt.subplots(figsize=(10, 10))\n",
    "disp = plot_confusion_matrix(gs_rfr, xtest_scaled, ytest,\n",
    "                            display_labels=labels,\n",
    "                            cmap=plt.cm.pink_r,\n",
    "                            xticks_rotation=45,\n",
    "                            ax=ax)"
   ]
  },
  {
   "cell_type": "code",
   "execution_count": 58,
   "metadata": {
    "id": "iP4g_hUgAyLA",
    "outputId": "d2385501-2596-4d85-b4a0-2042b270fc48"
   },
   "outputs": [
    {
     "name": "stdout",
     "output_type": "stream",
     "text": [
      "              precision    recall  f1-score   support\n",
      "\n",
      "           0       0.89      0.95      0.92       200\n",
      "           1       0.98      1.00      0.99       187\n",
      "           2       0.95      0.85      0.90       204\n",
      "           3       0.99      1.00      0.99       195\n",
      "\n",
      "    accuracy                           0.95       786\n",
      "   macro avg       0.95      0.95      0.95       786\n",
      "weighted avg       0.95      0.95      0.95       786\n",
      "\n"
     ]
    }
   ],
   "source": [
    "print(classification_report(ytest, ypred_rfr))"
   ]
  },
  {
   "cell_type": "markdown",
   "metadata": {
    "id": "EHytUKvuAyLK"
   },
   "source": [
    "## Conclusiones / Observaciones\n",
    "\n",
    "En este caso, decidimos realizar bandas de clasificación mucho más amplias (duración 1 año), y el resultado luego de realizar el resample como fue explicado en el Notebook de ML por trimestres, nos arroja valores mucho más altos de accuracy, sin embargo, esta sustancial mejora implica que nuestra clasificación sea imprecisa dado que estamos clasificando con un horizonte temporal muy amplio. \n",
    "Ej: Una obra que sea realizada en 2 meses, será clasificada como que llevará \"Menos de un año\" lo cual es correcto, pero para una información más precisa, la mejor opción es el modelo de ML por trimestres, que en el ejemplo mencionado anteriormente clasificará como \"Hasta 3 meses\""
   ]
  }
 ],
 "metadata": {
  "accelerator": "GPU",
  "colab": {
   "name": "ClusterAI_Micaela_Tokashiki_machine_learning_AÑOS.ipynb",
   "provenance": []
  },
  "hide_input": false,
  "kernelspec": {
   "display_name": "Python 3",
   "language": "python",
   "name": "python3"
  },
  "language_info": {
   "codemirror_mode": {
    "name": "ipython",
    "version": 3
   },
   "file_extension": ".py",
   "mimetype": "text/x-python",
   "name": "python",
   "nbconvert_exporter": "python",
   "pygments_lexer": "ipython3",
   "version": "3.8.3"
  },
  "toc": {
   "base_numbering": 1,
   "nav_menu": {},
   "number_sections": false,
   "sideBar": true,
   "skip_h1_title": false,
   "title_cell": "Table of Contents",
   "title_sidebar": "Contents",
   "toc_cell": false,
   "toc_position": {
    "height": "calc(100% - 180px)",
    "left": "10px",
    "top": "150px",
    "width": "165px"
   },
   "toc_section_display": true,
   "toc_window_display": false
  },
  "widgets": {
   "application/vnd.jupyter.widget-state+json": {
    "state": {},
    "version_major": 2,
    "version_minor": 0
   }
  }
 },
 "nbformat": 4,
 "nbformat_minor": 1
}
