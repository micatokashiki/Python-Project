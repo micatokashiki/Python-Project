{
 "cells": [
  {
   "cell_type": "markdown",
   "metadata": {},
   "source": [
    " # ClusterAI - 2020\n",
    "## TP integrador - Primera parte\n",
    "### EDA inicial - Obras Públicas (Dataset Provincia Bs. As)\n",
    "### Grupo_08 - 2020\n",
    "\n",
    "Para el desarrollo del presente código se utilizó el dataset del portal de Buenos Aires Data: https://data.buenosaires.gob.ar/dataset/ba-obras"
   ]
  },
  {
   "cell_type": "code",
   "execution_count": 1,
   "metadata": {},
   "outputs": [],
   "source": [
    "# importamos las librerías necesarias para trabajar.\n",
    "import numpy as np\n",
    "import pandas as pd\n",
    "import matplotlib.pyplot as plt\n",
    "import seaborn as sns"
   ]
  },
  {
   "cell_type": "code",
   "execution_count": 2,
   "metadata": {},
   "outputs": [],
   "source": [
    "#Una vez que descargamos el dataset procedemos a leerlo\n",
    "obras = pd.read_csv('observatorio-de-obras-urbanas.csv')"
   ]
  },
  {
   "cell_type": "code",
   "execution_count": 3,
   "metadata": {},
   "outputs": [
    {
     "name": "stdout",
     "output_type": "stream",
     "text": [
      "Tamaño del dataset: (1117, 36)\n"
     ]
    },
    {
     "data": {
      "text/html": [
       "<div>\n",
       "<style scoped>\n",
       "    .dataframe tbody tr th:only-of-type {\n",
       "        vertical-align: middle;\n",
       "    }\n",
       "\n",
       "    .dataframe tbody tr th {\n",
       "        vertical-align: top;\n",
       "    }\n",
       "\n",
       "    .dataframe thead th {\n",
       "        text-align: right;\n",
       "    }\n",
       "</style>\n",
       "<table border=\"1\" class=\"dataframe\">\n",
       "  <thead>\n",
       "    <tr style=\"text-align: right;\">\n",
       "      <th></th>\n",
       "      <th>id</th>\n",
       "      <th>entorno</th>\n",
       "      <th>nombre</th>\n",
       "      <th>etapa</th>\n",
       "      <th>tipo</th>\n",
       "      <th>area_responsable</th>\n",
       "      <th>descripcion</th>\n",
       "      <th>monto_contrato</th>\n",
       "      <th>comuna</th>\n",
       "      <th>barrio</th>\n",
       "      <th>...</th>\n",
       "      <th>beneficiarios</th>\n",
       "      <th>mano_obra</th>\n",
       "      <th>compromiso</th>\n",
       "      <th>destacada</th>\n",
       "      <th>ba_elige</th>\n",
       "      <th>link_interno</th>\n",
       "      <th>pliego_descarga</th>\n",
       "      <th>expediente-numero</th>\n",
       "      <th>estudio_ambiental_descarga</th>\n",
       "      <th>financiamiento</th>\n",
       "    </tr>\n",
       "  </thead>\n",
       "  <tbody>\n",
       "    <tr>\n",
       "      <th>0</th>\n",
       "      <td>1</td>\n",
       "      <td>Plan 54 escuelas</td>\n",
       "      <td>Escuela de Educación Primaria N.° 24 D.E. 15 «...</td>\n",
       "      <td>Finalizada</td>\n",
       "      <td>Escuelas</td>\n",
       "      <td>Ministerio de Educación</td>\n",
       "      <td>Primaria</td>\n",
       "      <td>67065700.0</td>\n",
       "      <td>12.0</td>\n",
       "      <td>Villa Urquiza</td>\n",
       "      <td>...</td>\n",
       "      <td>NaN</td>\n",
       "      <td>NaN</td>\n",
       "      <td>NaN</td>\n",
       "      <td>SI</td>\n",
       "      <td>NaN</td>\n",
       "      <td>https://www.buenosaires.gob.ar/baobras/54-escu...</td>\n",
       "      <td>https://buenosaires.gob.ar/areas/planeamiento_...</td>\n",
       "      <td>914412-MDUGC-2013</td>\n",
       "      <td>NaN</td>\n",
       "      <td>NaN</td>\n",
       "    </tr>\n",
       "    <tr>\n",
       "      <th>1</th>\n",
       "      <td>2</td>\n",
       "      <td>Donado Holmberg</td>\n",
       "      <td>Calle Holmberg: Nivelación en cruce</td>\n",
       "      <td>Finalizada</td>\n",
       "      <td>Espacio Público</td>\n",
       "      <td>Secretaría de Transporte y Obras Públicas</td>\n",
       "      <td>En el marco del proyecto urbano del Barrio Par...</td>\n",
       "      <td>9950017.0</td>\n",
       "      <td>12.0</td>\n",
       "      <td>Villa Urquiza</td>\n",
       "      <td>...</td>\n",
       "      <td>NaN</td>\n",
       "      <td>16.0</td>\n",
       "      <td>NaN</td>\n",
       "      <td>NaN</td>\n",
       "      <td>NaN</td>\n",
       "      <td>https://www.buenosaires.gob.ar/baobras/Donado-...</td>\n",
       "      <td>https://www.buenosaires.gov.ar/areas/planeamie...</td>\n",
       "      <td>5515928/2014</td>\n",
       "      <td>NaN</td>\n",
       "      <td>NaN</td>\n",
       "    </tr>\n",
       "    <tr>\n",
       "      <th>2</th>\n",
       "      <td>3</td>\n",
       "      <td>Área Ambiental Central</td>\n",
       "      <td>Área Ambiental Central: Calles Alsina Y Moreno</td>\n",
       "      <td>Finalizada</td>\n",
       "      <td>Espacio Público</td>\n",
       "      <td>Secretaría de Transporte y Obras Públicas</td>\n",
       "      <td>Se intervinieron los tramos comprendidos entre...</td>\n",
       "      <td>36942632.0</td>\n",
       "      <td>1.0</td>\n",
       "      <td>Montserrat</td>\n",
       "      <td>...</td>\n",
       "      <td>NaN</td>\n",
       "      <td>55.0</td>\n",
       "      <td>SI</td>\n",
       "      <td>NaN</td>\n",
       "      <td>NaN</td>\n",
       "      <td>https://www.buenosaires.gob.ar/baobras/area-am...</td>\n",
       "      <td>https://www.buenosaires.gov.ar/areas/planeamie...</td>\n",
       "      <td>NaN</td>\n",
       "      <td>NaN</td>\n",
       "      <td>NaN</td>\n",
       "    </tr>\n",
       "    <tr>\n",
       "      <th>3</th>\n",
       "      <td>4</td>\n",
       "      <td>Área Ambiental Central</td>\n",
       "      <td>Área Ambiental Central: Calle Esmeralda I</td>\n",
       "      <td>Finalizada</td>\n",
       "      <td>Espacio Público</td>\n",
       "      <td>Secretaría de Transporte y Obras Públicas</td>\n",
       "      <td>La obra incluyó el tramo ubicado entre la Av. ...</td>\n",
       "      <td>26938294.0</td>\n",
       "      <td>1.0</td>\n",
       "      <td>San Nicolás</td>\n",
       "      <td>...</td>\n",
       "      <td>NaN</td>\n",
       "      <td>59.0</td>\n",
       "      <td>SI</td>\n",
       "      <td>NaN</td>\n",
       "      <td>NaN</td>\n",
       "      <td>https://www.buenosaires.gob.ar/baobras/area-am...</td>\n",
       "      <td>https://www.buenosaires.gov.ar/areas/planeamie...</td>\n",
       "      <td>NaN</td>\n",
       "      <td>NaN</td>\n",
       "      <td>NaN</td>\n",
       "    </tr>\n",
       "    <tr>\n",
       "      <th>4</th>\n",
       "      <td>5</td>\n",
       "      <td>Villa Olímpica</td>\n",
       "      <td>Villa Olímpica: Demoliciones en el Parque de l...</td>\n",
       "      <td>Finalizada</td>\n",
       "      <td>Vivienda</td>\n",
       "      <td>Secretaría de Transporte y Obras Públicas</td>\n",
       "      <td>Se realizó las demoliciones de las construccio...</td>\n",
       "      <td>6990315.0</td>\n",
       "      <td>8.0</td>\n",
       "      <td>Villa Soldati</td>\n",
       "      <td>...</td>\n",
       "      <td>NaN</td>\n",
       "      <td>NaN</td>\n",
       "      <td>SI</td>\n",
       "      <td>NaN</td>\n",
       "      <td>NaN</td>\n",
       "      <td>https://www.buenosaires.gob.ar/baobras/villa-o...</td>\n",
       "      <td>https://www.buenosaires.gov.ar/areas/planeamie...</td>\n",
       "      <td>13793268/DGPUYA/2014</td>\n",
       "      <td>NaN</td>\n",
       "      <td>NaN</td>\n",
       "    </tr>\n",
       "  </tbody>\n",
       "</table>\n",
       "<p>5 rows × 36 columns</p>\n",
       "</div>"
      ],
      "text/plain": [
       "   id                 entorno  \\\n",
       "0   1        Plan 54 escuelas   \n",
       "1   2         Donado Holmberg   \n",
       "2   3  Área Ambiental Central   \n",
       "3   4  Área Ambiental Central   \n",
       "4   5          Villa Olímpica   \n",
       "\n",
       "                                              nombre       etapa  \\\n",
       "0  Escuela de Educación Primaria N.° 24 D.E. 15 «...  Finalizada   \n",
       "1                Calle Holmberg: Nivelación en cruce  Finalizada   \n",
       "2     Área Ambiental Central: Calles Alsina Y Moreno  Finalizada   \n",
       "3          Área Ambiental Central: Calle Esmeralda I  Finalizada   \n",
       "4  Villa Olímpica: Demoliciones en el Parque de l...  Finalizada   \n",
       "\n",
       "              tipo                           area_responsable  \\\n",
       "0         Escuelas                    Ministerio de Educación   \n",
       "1  Espacio Público  Secretaría de Transporte y Obras Públicas   \n",
       "2  Espacio Público  Secretaría de Transporte y Obras Públicas   \n",
       "3  Espacio Público  Secretaría de Transporte y Obras Públicas   \n",
       "4         Vivienda  Secretaría de Transporte y Obras Públicas   \n",
       "\n",
       "                                         descripcion  monto_contrato  comuna  \\\n",
       "0                                           Primaria      67065700.0    12.0   \n",
       "1  En el marco del proyecto urbano del Barrio Par...       9950017.0    12.0   \n",
       "2  Se intervinieron los tramos comprendidos entre...      36942632.0     1.0   \n",
       "3  La obra incluyó el tramo ubicado entre la Av. ...      26938294.0     1.0   \n",
       "4  Se realizó las demoliciones de las construccio...       6990315.0     8.0   \n",
       "\n",
       "          barrio  ... beneficiarios  mano_obra  compromiso destacada ba_elige  \\\n",
       "0  Villa Urquiza  ...           NaN        NaN         NaN        SI      NaN   \n",
       "1  Villa Urquiza  ...           NaN       16.0         NaN       NaN      NaN   \n",
       "2     Montserrat  ...           NaN       55.0          SI       NaN      NaN   \n",
       "3    San Nicolás  ...           NaN       59.0          SI       NaN      NaN   \n",
       "4  Villa Soldati  ...           NaN        NaN          SI       NaN      NaN   \n",
       "\n",
       "                                        link_interno  \\\n",
       "0  https://www.buenosaires.gob.ar/baobras/54-escu...   \n",
       "1  https://www.buenosaires.gob.ar/baobras/Donado-...   \n",
       "2  https://www.buenosaires.gob.ar/baobras/area-am...   \n",
       "3  https://www.buenosaires.gob.ar/baobras/area-am...   \n",
       "4  https://www.buenosaires.gob.ar/baobras/villa-o...   \n",
       "\n",
       "                                     pliego_descarga     expediente-numero  \\\n",
       "0  https://buenosaires.gob.ar/areas/planeamiento_...     914412-MDUGC-2013   \n",
       "1  https://www.buenosaires.gov.ar/areas/planeamie...          5515928/2014   \n",
       "2  https://www.buenosaires.gov.ar/areas/planeamie...                   NaN   \n",
       "3  https://www.buenosaires.gov.ar/areas/planeamie...                   NaN   \n",
       "4  https://www.buenosaires.gov.ar/areas/planeamie...  13793268/DGPUYA/2014   \n",
       "\n",
       "  estudio_ambiental_descarga financiamiento  \n",
       "0                        NaN            NaN  \n",
       "1                        NaN            NaN  \n",
       "2                        NaN            NaN  \n",
       "3                        NaN            NaN  \n",
       "4                        NaN            NaN  \n",
       "\n",
       "[5 rows x 36 columns]"
      ]
     },
     "execution_count": 3,
     "metadata": {},
     "output_type": "execute_result"
    }
   ],
   "source": [
    "# Como siempre vemos las dimensiones e imprimimos las primeras líneas\n",
    "print(f'Tamaño del dataset: {np.shape(obras)}')\n",
    "obras.head()"
   ]
  },
  {
   "cell_type": "markdown",
   "metadata": {},
   "source": [
    "## Objetivo del Proyecto:\n",
    "### Alt. 1: Predicción en función de la comuna, el tipo de obra a realizar y el monto del contrato, el tiempo de realización de la misma\n",
    "\n",
    "## EDA Inicial"
   ]
  },
  {
   "cell_type": "code",
   "execution_count": 4,
   "metadata": {},
   "outputs": [
    {
     "data": {
      "text/plain": [
       "Index(['id', 'entorno', 'nombre', 'etapa', 'tipo', 'area_responsable',\n",
       "       'descripcion', 'monto_contrato', 'comuna', 'barrio', 'direccion', 'lat',\n",
       "       'lng', 'fecha_inicio', 'fecha_fin_inicial', 'plazo_meses',\n",
       "       'porcentaje_avance', 'imagen_1', 'imagen_2', 'imagen_3', 'imagen_4',\n",
       "       'licitacion_oferta_empresa', 'licitacion_anio', 'contratacion_tipo',\n",
       "       'nro_contratacion', 'cuit_contratista', 'beneficiarios', 'mano_obra',\n",
       "       'compromiso', 'destacada', 'ba_elige', 'link_interno',\n",
       "       'pliego_descarga', 'expediente-numero', 'estudio_ambiental_descarga',\n",
       "       'financiamiento'],\n",
       "      dtype='object')"
      ]
     },
     "execution_count": 4,
     "metadata": {},
     "output_type": "execute_result"
    }
   ],
   "source": [
    "# Procedemos a visualizar correctamente todas las columnas del dataset y guardamos en una variable llamada columnas\n",
    "columnas = obras.columns\n",
    "columnas"
   ]
  },
  {
   "cell_type": "code",
   "execution_count": 5,
   "metadata": {
    "scrolled": true
   },
   "outputs": [
    {
     "data": {
      "text/plain": [
       "financiamiento                1111\n",
       "ba_elige                      1111\n",
       "destacada                     1084\n",
       "estudio_ambiental_descarga    1069\n",
       "beneficiarios                  922\n",
       "nro_contratacion               874\n",
       "expediente-numero              872\n",
       "mano_obra                      864\n",
       "imagen_4                       825\n",
       "compromiso                     800\n",
       "contratacion_tipo              778\n",
       "imagen_3                       664\n",
       "imagen_2                       451\n",
       "licitacion_anio                358\n",
       "pliego_descarga                346\n",
       "cuit_contratista               328\n",
       "plazo_meses                    100\n",
       "direccion                       99\n",
       "licitacion_oferta_empresa       72\n",
       "monto_contrato                  70\n",
       "fecha_inicio                    51\n",
       "imagen_1                        49\n",
       "descripcion                     38\n",
       "fecha_fin_inicial               30\n",
       "link_interno                    27\n",
       "lng                              9\n",
       "lat                              9\n",
       "comuna                           7\n",
       "barrio                           6\n",
       "entorno                          2\n",
       "porcentaje_avance                0\n",
       "area_responsable                 0\n",
       "tipo                             0\n",
       "etapa                            0\n",
       "nombre                           0\n",
       "id                               0\n",
       "dtype: int64"
      ]
     },
     "execution_count": 5,
     "metadata": {},
     "output_type": "execute_result"
    }
   ],
   "source": [
    "# Queremos conocer si alguna de las columnas posee valores nulos.\n",
    "# En caso de ser variables de interés, procederemos a explorarlas\n",
    "obras.isnull().sum().sort_values(ascending=False)"
   ]
  },
  {
   "cell_type": "code",
   "execution_count": 6,
   "metadata": {},
   "outputs": [
    {
     "data": {
      "text/html": [
       "<div>\n",
       "<style scoped>\n",
       "    .dataframe tbody tr th:only-of-type {\n",
       "        vertical-align: middle;\n",
       "    }\n",
       "\n",
       "    .dataframe tbody tr th {\n",
       "        vertical-align: top;\n",
       "    }\n",
       "\n",
       "    .dataframe thead th {\n",
       "        text-align: right;\n",
       "    }\n",
       "</style>\n",
       "<table border=\"1\" class=\"dataframe\">\n",
       "  <thead>\n",
       "    <tr style=\"text-align: right;\">\n",
       "      <th></th>\n",
       "      <th>Total</th>\n",
       "      <th>Percent</th>\n",
       "    </tr>\n",
       "  </thead>\n",
       "  <tbody>\n",
       "    <tr>\n",
       "      <th>financiamiento</th>\n",
       "      <td>1111</td>\n",
       "      <td>0.994628</td>\n",
       "    </tr>\n",
       "    <tr>\n",
       "      <th>ba_elige</th>\n",
       "      <td>1111</td>\n",
       "      <td>0.994628</td>\n",
       "    </tr>\n",
       "    <tr>\n",
       "      <th>destacada</th>\n",
       "      <td>1084</td>\n",
       "      <td>0.970457</td>\n",
       "    </tr>\n",
       "    <tr>\n",
       "      <th>estudio_ambiental_descarga</th>\n",
       "      <td>1069</td>\n",
       "      <td>0.957028</td>\n",
       "    </tr>\n",
       "    <tr>\n",
       "      <th>beneficiarios</th>\n",
       "      <td>922</td>\n",
       "      <td>0.825425</td>\n",
       "    </tr>\n",
       "    <tr>\n",
       "      <th>nro_contratacion</th>\n",
       "      <td>874</td>\n",
       "      <td>0.782453</td>\n",
       "    </tr>\n",
       "    <tr>\n",
       "      <th>expediente-numero</th>\n",
       "      <td>872</td>\n",
       "      <td>0.780662</td>\n",
       "    </tr>\n",
       "    <tr>\n",
       "      <th>mano_obra</th>\n",
       "      <td>864</td>\n",
       "      <td>0.773500</td>\n",
       "    </tr>\n",
       "    <tr>\n",
       "      <th>imagen_4</th>\n",
       "      <td>825</td>\n",
       "      <td>0.738585</td>\n",
       "    </tr>\n",
       "    <tr>\n",
       "      <th>compromiso</th>\n",
       "      <td>800</td>\n",
       "      <td>0.716204</td>\n",
       "    </tr>\n",
       "    <tr>\n",
       "      <th>contratacion_tipo</th>\n",
       "      <td>778</td>\n",
       "      <td>0.696509</td>\n",
       "    </tr>\n",
       "    <tr>\n",
       "      <th>imagen_3</th>\n",
       "      <td>664</td>\n",
       "      <td>0.594449</td>\n",
       "    </tr>\n",
       "    <tr>\n",
       "      <th>imagen_2</th>\n",
       "      <td>451</td>\n",
       "      <td>0.403760</td>\n",
       "    </tr>\n",
       "    <tr>\n",
       "      <th>licitacion_anio</th>\n",
       "      <td>358</td>\n",
       "      <td>0.320501</td>\n",
       "    </tr>\n",
       "    <tr>\n",
       "      <th>pliego_descarga</th>\n",
       "      <td>346</td>\n",
       "      <td>0.309758</td>\n",
       "    </tr>\n",
       "    <tr>\n",
       "      <th>cuit_contratista</th>\n",
       "      <td>328</td>\n",
       "      <td>0.293644</td>\n",
       "    </tr>\n",
       "    <tr>\n",
       "      <th>plazo_meses</th>\n",
       "      <td>100</td>\n",
       "      <td>0.089526</td>\n",
       "    </tr>\n",
       "    <tr>\n",
       "      <th>direccion</th>\n",
       "      <td>99</td>\n",
       "      <td>0.088630</td>\n",
       "    </tr>\n",
       "    <tr>\n",
       "      <th>licitacion_oferta_empresa</th>\n",
       "      <td>72</td>\n",
       "      <td>0.064458</td>\n",
       "    </tr>\n",
       "    <tr>\n",
       "      <th>monto_contrato</th>\n",
       "      <td>70</td>\n",
       "      <td>0.062668</td>\n",
       "    </tr>\n",
       "    <tr>\n",
       "      <th>fecha_inicio</th>\n",
       "      <td>51</td>\n",
       "      <td>0.045658</td>\n",
       "    </tr>\n",
       "    <tr>\n",
       "      <th>imagen_1</th>\n",
       "      <td>49</td>\n",
       "      <td>0.043868</td>\n",
       "    </tr>\n",
       "    <tr>\n",
       "      <th>descripcion</th>\n",
       "      <td>38</td>\n",
       "      <td>0.034020</td>\n",
       "    </tr>\n",
       "    <tr>\n",
       "      <th>fecha_fin_inicial</th>\n",
       "      <td>30</td>\n",
       "      <td>0.026858</td>\n",
       "    </tr>\n",
       "    <tr>\n",
       "      <th>link_interno</th>\n",
       "      <td>27</td>\n",
       "      <td>0.024172</td>\n",
       "    </tr>\n",
       "    <tr>\n",
       "      <th>lng</th>\n",
       "      <td>9</td>\n",
       "      <td>0.008057</td>\n",
       "    </tr>\n",
       "    <tr>\n",
       "      <th>lat</th>\n",
       "      <td>9</td>\n",
       "      <td>0.008057</td>\n",
       "    </tr>\n",
       "    <tr>\n",
       "      <th>comuna</th>\n",
       "      <td>7</td>\n",
       "      <td>0.006267</td>\n",
       "    </tr>\n",
       "    <tr>\n",
       "      <th>barrio</th>\n",
       "      <td>6</td>\n",
       "      <td>0.005372</td>\n",
       "    </tr>\n",
       "    <tr>\n",
       "      <th>entorno</th>\n",
       "      <td>2</td>\n",
       "      <td>0.001791</td>\n",
       "    </tr>\n",
       "    <tr>\n",
       "      <th>porcentaje_avance</th>\n",
       "      <td>0</td>\n",
       "      <td>0.000000</td>\n",
       "    </tr>\n",
       "    <tr>\n",
       "      <th>area_responsable</th>\n",
       "      <td>0</td>\n",
       "      <td>0.000000</td>\n",
       "    </tr>\n",
       "    <tr>\n",
       "      <th>tipo</th>\n",
       "      <td>0</td>\n",
       "      <td>0.000000</td>\n",
       "    </tr>\n",
       "    <tr>\n",
       "      <th>etapa</th>\n",
       "      <td>0</td>\n",
       "      <td>0.000000</td>\n",
       "    </tr>\n",
       "    <tr>\n",
       "      <th>nombre</th>\n",
       "      <td>0</td>\n",
       "      <td>0.000000</td>\n",
       "    </tr>\n",
       "    <tr>\n",
       "      <th>id</th>\n",
       "      <td>0</td>\n",
       "      <td>0.000000</td>\n",
       "    </tr>\n",
       "  </tbody>\n",
       "</table>\n",
       "</div>"
      ],
      "text/plain": [
       "                            Total   Percent\n",
       "financiamiento               1111  0.994628\n",
       "ba_elige                     1111  0.994628\n",
       "destacada                    1084  0.970457\n",
       "estudio_ambiental_descarga   1069  0.957028\n",
       "beneficiarios                 922  0.825425\n",
       "nro_contratacion              874  0.782453\n",
       "expediente-numero             872  0.780662\n",
       "mano_obra                     864  0.773500\n",
       "imagen_4                      825  0.738585\n",
       "compromiso                    800  0.716204\n",
       "contratacion_tipo             778  0.696509\n",
       "imagen_3                      664  0.594449\n",
       "imagen_2                      451  0.403760\n",
       "licitacion_anio               358  0.320501\n",
       "pliego_descarga               346  0.309758\n",
       "cuit_contratista              328  0.293644\n",
       "plazo_meses                   100  0.089526\n",
       "direccion                      99  0.088630\n",
       "licitacion_oferta_empresa      72  0.064458\n",
       "monto_contrato                 70  0.062668\n",
       "fecha_inicio                   51  0.045658\n",
       "imagen_1                       49  0.043868\n",
       "descripcion                    38  0.034020\n",
       "fecha_fin_inicial              30  0.026858\n",
       "link_interno                   27  0.024172\n",
       "lng                             9  0.008057\n",
       "lat                             9  0.008057\n",
       "comuna                          7  0.006267\n",
       "barrio                          6  0.005372\n",
       "entorno                         2  0.001791\n",
       "porcentaje_avance               0  0.000000\n",
       "area_responsable                0  0.000000\n",
       "tipo                            0  0.000000\n",
       "etapa                           0  0.000000\n",
       "nombre                          0  0.000000\n",
       "id                              0  0.000000"
      ]
     },
     "execution_count": 6,
     "metadata": {},
     "output_type": "execute_result"
    }
   ],
   "source": [
    "# Vemos cantidad y % de NaN por columna.\n",
    "# El dato de % nos va a servir a la hora de tomar la decisión de borrar o no filas con NaNs.\n",
    "total = obras.isnull().sum().sort_values(ascending=False)\n",
    "percent = (obras.isnull().sum()/obras.isnull().count()).sort_values(ascending=False)\n",
    "missing_data = pd.concat([total, percent], axis=1, keys=['Total', 'Percent'])\n",
    "missing_data"
   ]
  },
  {
   "cell_type": "markdown",
   "metadata": {},
   "source": [
    "## Variables de interés a analizar:\n",
    "- Etapa\n",
    "- Tipo\n",
    "- Monto del contrato\n",
    "- Barrio / Comuna\n",
    "- Plazo en meses"
   ]
  },
  {
   "cell_type": "markdown",
   "metadata": {},
   "source": [
    "### Etapa"
   ]
  },
  {
   "cell_type": "code",
   "execution_count": 7,
   "metadata": {},
   "outputs": [
    {
     "name": "stdout",
     "output_type": "stream",
     "text": [
      "En total hay 5 etapas de obras.\"\r\n",
      "\n",
      "\n",
      " ['Finalizada' 'En ejecución' 'En proyecto' 'En licitación' 'En Ejecución']\n"
     ]
    }
   ],
   "source": [
    "# En primer lugar, analizaremos la feature \"etapa\"\n",
    "# Comenzaremos analizando cómo vienen dados los valores, para ver si es necesario procesarlos\n",
    "\n",
    "etapas= len(obras['etapa'].unique()) \n",
    "print(f'En total hay {etapas} etapas de obras.\"\\r\\n')\n",
    "print(\"\\n\", obras['etapa'].unique())"
   ]
  },
  {
   "cell_type": "code",
   "execution_count": 8,
   "metadata": {},
   "outputs": [
    {
     "name": "stdout",
     "output_type": "stream",
     "text": [
      "['Finalizada' 'En ejecución' 'En licitación']\n"
     ]
    }
   ],
   "source": [
    "# Agruparemos en ejecución y en proyecto, ya que para el caso, pueden ser consideradas similares:\n",
    "\n",
    "def clean_row(row):\n",
    "    a= ['En ejecución','En proyecto','En Ejecución']\n",
    "    \n",
    "    if row.etapa in a:\n",
    "        return 'En ejecución'\n",
    "    return row.etapa\n",
    "\n",
    "def clean_df(obras):\n",
    "    obras_cleaned=obras.copy()\n",
    "    obras_cleaned['etapa']=obras_cleaned.apply(lambda row: \n",
    "                                                   clean_row(row),axis=1)\n",
    "    return obras_cleaned\n",
    "\n",
    "obras_cleaned=clean_df(obras)\n",
    "print(obras_cleaned.etapa.unique())\n",
    "\n",
    "# Con esto ya queda ok, porque como vimos antes, no hay ninguna sample sin etapa"
   ]
  },
  {
   "cell_type": "code",
   "execution_count": 9,
   "metadata": {},
   "outputs": [
    {
     "data": {
      "image/png": "[encoded data removed]",
      "text/plain": [
       "<Figure size 432x288 with 1 Axes>"
      ]
     },
     "metadata": {
      "needs_background": "light"
     },
     "output_type": "display_data"
    }
   ],
   "source": [
    "# Visualizamos rápidamente con un countplot\n",
    "\n",
    "ax = sns.countplot(x='etapa', \n",
    "                   data=obras_cleaned, \n",
    "                   palette='spring',\n",
    "                   alpha=0.8)\n",
    "ax.set_xticklabels(ax.get_xticklabels(), rotation=40, ha=\"right\")\n",
    "plt.title('Contador etapas de estado de la obra')\n",
    "sns.set_style('darkgrid')\n",
    "plt.show()\n",
    "\n",
    "# Vemos que el grueso de los samples ya están finalizados"
   ]
  },
  {
   "cell_type": "code",
   "execution_count": 10,
   "metadata": {},
   "outputs": [
    {
     "data": {
      "text/html": [
       "<div>\n",
       "<style scoped>\n",
       "    .dataframe tbody tr th:only-of-type {\n",
       "        vertical-align: middle;\n",
       "    }\n",
       "\n",
       "    .dataframe tbody tr th {\n",
       "        vertical-align: top;\n",
       "    }\n",
       "\n",
       "    .dataframe thead th {\n",
       "        text-align: right;\n",
       "    }\n",
       "</style>\n",
       "<table border=\"1\" class=\"dataframe\">\n",
       "  <thead>\n",
       "    <tr style=\"text-align: right;\">\n",
       "      <th></th>\n",
       "      <th>tipo</th>\n",
       "      <th>Porcentaje</th>\n",
       "    </tr>\n",
       "    <tr>\n",
       "      <th>etapa</th>\n",
       "      <th></th>\n",
       "      <th></th>\n",
       "    </tr>\n",
       "  </thead>\n",
       "  <tbody>\n",
       "    <tr>\n",
       "      <th>Finalizada</th>\n",
       "      <td>1052</td>\n",
       "      <td>94.180842</td>\n",
       "    </tr>\n",
       "    <tr>\n",
       "      <th>En ejecución</th>\n",
       "      <td>61</td>\n",
       "      <td>5.461056</td>\n",
       "    </tr>\n",
       "    <tr>\n",
       "      <th>En licitación</th>\n",
       "      <td>4</td>\n",
       "      <td>0.358102</td>\n",
       "    </tr>\n",
       "  </tbody>\n",
       "</table>\n",
       "</div>"
      ],
      "text/plain": [
       "               tipo  Porcentaje\n",
       "etapa                          \n",
       "Finalizada     1052   94.180842\n",
       "En ejecución     61    5.461056\n",
       "En licitación     4    0.358102"
      ]
     },
     "execution_count": 10,
     "metadata": {},
     "output_type": "execute_result"
    }
   ],
   "source": [
    "estado_etapas = (obras_cleaned[['etapa','tipo']].groupby(['etapa']).count()).sort_values(by='tipo',ascending=False)\n",
    "total = estado_etapas.sum()\n",
    "porcentaje = (estado_etapas / total)*100\n",
    "estado_etapas['Porcentaje'] = porcentaje\n",
    "estado_etapas"
   ]
  },
  {
   "cell_type": "markdown",
   "metadata": {},
   "source": [
    "Observación: El objetivo que buscamos es predecir el tiempo de realización de la obra, es conveniente quedarnos con las obras finalizadas ya que sabemos con certeza los meses que le llevó a la misma ser realizada. Con la tabla anterior podemos observar que representa el 94% de las obras registradas. \n",
    "Las samples \"En ejecución\" y \"En licitación\" conforman el 6% restante que para el caso no son de interés.\n",
    "\n",
    "Continuamos con el EDA teniendo en cuenta este punto para ir verificando durante el análisis de cada feature cómo se modifica este valor."
   ]
  },
  {
   "cell_type": "markdown",
   "metadata": {},
   "source": [
    "### Tipo"
   ]
  },
  {
   "cell_type": "code",
   "execution_count": 11,
   "metadata": {},
   "outputs": [
    {
     "name": "stdout",
     "output_type": "stream",
     "text": [
      "En total hay 7 tipos de obras.\"\r\n",
      "\n",
      "\n",
      " ['Escuelas' 'Espacio Público' 'Vivienda' 'Hidráulica e Infraestructura'\n",
      " 'Arquitectura' 'Transporte' 'Salud']\n"
     ]
    }
   ],
   "source": [
    "# Analizamos la cantidad de valores únicos en el feature de tipo de obra\n",
    "\n",
    "tipos_obras = len(obras['tipo'].unique()) \n",
    "print(f'En total hay {tipos_obras} tipos de obras.\"\\r\\n')\n",
    "print(\"\\n\", obras['tipo'].unique())"
   ]
  },
  {
   "cell_type": "code",
   "execution_count": 12,
   "metadata": {},
   "outputs": [
    {
     "data": {
      "image/png": "[encoded data removed]",
      "text/plain": [
       "<Figure size 432x288 with 1 Axes>"
      ]
     },
     "metadata": {},
     "output_type": "display_data"
    }
   ],
   "source": [
    "# En este caso no es necesario re agrupar los valores únicos\n",
    "# Y tampoco se requiere de análisis de NaNs ya que como vimos previamente, no posee valores nulos.\n",
    "# Comenzamos a analizar la feature mediante gráficos:\n",
    "\n",
    "ax = sns.countplot(x='tipo', \n",
    "                   data=obras,\n",
    "                   palette='spring', \n",
    "                   order=obras['tipo'].value_counts().index)\n",
    "ax.set_xticklabels(ax.get_xticklabels(), rotation=40, ha=\"right\")\n",
    "plt.title(\"Contador de tipos de obras\")\n",
    "plt.show()"
   ]
  },
  {
   "cell_type": "code",
   "execution_count": 13,
   "metadata": {},
   "outputs": [
    {
     "data": {
      "text/html": [
       "<div>\n",
       "<style scoped>\n",
       "    .dataframe tbody tr th:only-of-type {\n",
       "        vertical-align: middle;\n",
       "    }\n",
       "\n",
       "    .dataframe tbody tr th {\n",
       "        vertical-align: top;\n",
       "    }\n",
       "\n",
       "    .dataframe thead th {\n",
       "        text-align: right;\n",
       "    }\n",
       "</style>\n",
       "<table border=\"1\" class=\"dataframe\">\n",
       "  <thead>\n",
       "    <tr style=\"text-align: right;\">\n",
       "      <th></th>\n",
       "      <th>etapa</th>\n",
       "      <th>Porcentaje</th>\n",
       "    </tr>\n",
       "    <tr>\n",
       "      <th>tipo</th>\n",
       "      <th></th>\n",
       "      <th></th>\n",
       "    </tr>\n",
       "  </thead>\n",
       "  <tbody>\n",
       "    <tr>\n",
       "      <th>Espacio Público</th>\n",
       "      <td>364</td>\n",
       "      <td>32.587287</td>\n",
       "    </tr>\n",
       "    <tr>\n",
       "      <th>Escuelas</th>\n",
       "      <td>245</td>\n",
       "      <td>21.933751</td>\n",
       "    </tr>\n",
       "    <tr>\n",
       "      <th>Arquitectura</th>\n",
       "      <td>201</td>\n",
       "      <td>17.994628</td>\n",
       "    </tr>\n",
       "    <tr>\n",
       "      <th>Salud</th>\n",
       "      <td>108</td>\n",
       "      <td>9.668756</td>\n",
       "    </tr>\n",
       "    <tr>\n",
       "      <th>Hidráulica e Infraestructura</th>\n",
       "      <td>95</td>\n",
       "      <td>8.504924</td>\n",
       "    </tr>\n",
       "    <tr>\n",
       "      <th>Vivienda</th>\n",
       "      <td>68</td>\n",
       "      <td>6.087735</td>\n",
       "    </tr>\n",
       "    <tr>\n",
       "      <th>Transporte</th>\n",
       "      <td>36</td>\n",
       "      <td>3.222919</td>\n",
       "    </tr>\n",
       "  </tbody>\n",
       "</table>\n",
       "</div>"
      ],
      "text/plain": [
       "                              etapa  Porcentaje\n",
       "tipo                                           \n",
       "Espacio Público                 364   32.587287\n",
       "Escuelas                        245   21.933751\n",
       "Arquitectura                    201   17.994628\n",
       "Salud                           108    9.668756\n",
       "Hidráulica e Infraestructura     95    8.504924\n",
       "Vivienda                         68    6.087735\n",
       "Transporte                       36    3.222919"
      ]
     },
     "execution_count": 13,
     "metadata": {},
     "output_type": "execute_result"
    }
   ],
   "source": [
    "# Visualizamos los porcentajes que representa cada tipo de obra\n",
    "\n",
    "tipo_obra = (obras_cleaned[['etapa','tipo']].groupby(['tipo']).count()).sort_values(by='etapa',ascending=False)\n",
    "total_tipo = tipo_obra.sum()\n",
    "porcentaje_tipo = (tipo_obra / total_tipo)*100\n",
    "tipo_obra['Porcentaje'] = porcentaje_tipo\n",
    "tipo_obra"
   ]
  },
  {
   "cell_type": "code",
   "execution_count": 14,
   "metadata": {},
   "outputs": [
    {
     "data": {
      "text/plain": [
       "([<matplotlib.patches.Wedge at 0x274c828b460>,\n",
       "  <matplotlib.patches.Wedge at 0x274c828bb50>,\n",
       "  <matplotlib.patches.Wedge at 0x274c829b460>,\n",
       "  <matplotlib.patches.Wedge at 0x274c829bd30>,\n",
       "  <matplotlib.patches.Wedge at 0x274c82a7640>,\n",
       "  <matplotlib.patches.Wedge at 0x274c82a7f10>,\n",
       "  <matplotlib.patches.Wedge at 0x274c82b4820>],\n",
       " [Text(-0.8540697505929657, 0.5201584961548443, 'Espacio Público'),\n",
       "  Text(-0.3940223307316362, -0.9191008665455653, 'Escuelas'),\n",
       "  Text(0.750873187378892, -0.6604464069668813, 'Arquitectura'),\n",
       "  Text(0.9891183899529887, 0.14712175453279247, 'Salud'),\n",
       "  Text(0.7527276596899651, 0.6583320365420994, 'Hidráulica e Infraestructura'),\n",
       "  Text(0.38365755362215886, 0.923475436353702, 'Vivienda'),\n",
       "  Text(0.1010779665687869, 0.9948785074944172, 'Transporte')],\n",
       " [Text(-0.597848825415076, 0.364110947308391, '32.6%'),\n",
       "  Text(-0.2758156315121453, -0.6433706065818957, '21.9%'),\n",
       "  Text(0.5256112311652243, -0.46231248487681686, '18.0%'),\n",
       "  Text(0.6923828729670921, 0.10298522817295472, '9.7%'),\n",
       "  Text(0.5269093617829755, 0.4608324255794695, '8.5%'),\n",
       "  Text(0.2685602875355112, 0.6464328054475914, '6.1%'),\n",
       "  Text(0.07075457659815082, 0.696414955246092, '3.2%')])"
      ]
     },
     "execution_count": 14,
     "metadata": {},
     "output_type": "execute_result"
    },
    {
     "data": {
      "image/png": "[encoded data removed]",
      "text/plain": [
       "<Figure size 576x576 with 1 Axes>"
      ]
     },
     "metadata": {},
     "output_type": "display_data"
    }
   ],
   "source": [
    "# Visualizamos la tabla anterior\n",
    "\n",
    "grafico_tipo = tipo_obra.iloc[:,:]\n",
    "graf = grafico_tipo.index\n",
    "dat = grafico_tipo.Porcentaje\n",
    "plt.figure(figsize = (8,8))\n",
    "plt.axis('equal')\n",
    "plt.pie(dat, labels = graf,autopct = '%1.1f%%', \n",
    "        startangle = 90,labeldistance = 1,\n",
    "        pctdistance = 0.7,rotatelabels = True,\n",
    "        radius = 1,shadow = True)\n",
    " "
   ]
  },
  {
   "cell_type": "markdown",
   "metadata": {},
   "source": [
    "Observación: La feature tipo de obra, como vimos al comienzo, no posee valores nulos. Lo cual resulta positivo ya que será utilizada luego para realizar nuestro modelo de machine learning. Al tener data en todas las samples no habrá problemas cuando limpiemos las otras features, sin embargo, hay que tener cuidado al momento de aplicar ML ya que si eliminamos con el EDA aquellos tipos que tienen un porcentaje bajo (como por ejemplo Transporte con un 3.2%, es probable que la predicción resulte con un bajo accuracy)\n",
    "\n",
    "Una vez finalizado el EDA de las features en las que deban eliminarse datos, volveremos a analizar estos %."
   ]
  },
  {
   "cell_type": "markdown",
   "metadata": {},
   "source": [
    "### Monto del contrato "
   ]
  },
  {
   "cell_type": "code",
   "execution_count": 15,
   "metadata": {},
   "outputs": [
    {
     "data": {
      "text/html": [
       "<div>\n",
       "<style scoped>\n",
       "    .dataframe tbody tr th:only-of-type {\n",
       "        vertical-align: middle;\n",
       "    }\n",
       "\n",
       "    .dataframe tbody tr th {\n",
       "        vertical-align: top;\n",
       "    }\n",
       "\n",
       "    .dataframe thead th {\n",
       "        text-align: right;\n",
       "    }\n",
       "</style>\n",
       "<table border=\"1\" class=\"dataframe\">\n",
       "  <thead>\n",
       "    <tr style=\"text-align: right;\">\n",
       "      <th></th>\n",
       "      <th>tipo</th>\n",
       "      <th>monto_contrato</th>\n",
       "    </tr>\n",
       "    <tr>\n",
       "      <th>etapa</th>\n",
       "      <th></th>\n",
       "      <th></th>\n",
       "    </tr>\n",
       "  </thead>\n",
       "  <tbody>\n",
       "    <tr>\n",
       "      <th>Finalizada</th>\n",
       "      <td>1052</td>\n",
       "      <td>992</td>\n",
       "    </tr>\n",
       "    <tr>\n",
       "      <th>En ejecución</th>\n",
       "      <td>61</td>\n",
       "      <td>53</td>\n",
       "    </tr>\n",
       "    <tr>\n",
       "      <th>En licitación</th>\n",
       "      <td>4</td>\n",
       "      <td>2</td>\n",
       "    </tr>\n",
       "  </tbody>\n",
       "</table>\n",
       "</div>"
      ],
      "text/plain": [
       "               tipo  monto_contrato\n",
       "etapa                              \n",
       "Finalizada     1052             992\n",
       "En ejecución     61              53\n",
       "En licitación     4               2"
      ]
     },
     "execution_count": 15,
     "metadata": {},
     "output_type": "execute_result"
    }
   ],
   "source": [
    "# En esta feature hay 70 samples con valores NaNs, analizamos a qué etapa o estado de obra se ve asociado \n",
    "\n",
    "monto_obra = (obras_cleaned[['etapa','tipo','monto_contrato']].groupby(['etapa']).\n",
    "              count()).sort_values(by='tipo',ascending=False)\n",
    "monto_obra"
   ]
  },
  {
   "cell_type": "code",
   "execution_count": 16,
   "metadata": {},
   "outputs": [
    {
     "data": {
      "text/html": [
       "<div>\n",
       "<style scoped>\n",
       "    .dataframe tbody tr th:only-of-type {\n",
       "        vertical-align: middle;\n",
       "    }\n",
       "\n",
       "    .dataframe tbody tr th {\n",
       "        vertical-align: top;\n",
       "    }\n",
       "\n",
       "    .dataframe thead th {\n",
       "        text-align: right;\n",
       "    }\n",
       "</style>\n",
       "<table border=\"1\" class=\"dataframe\">\n",
       "  <thead>\n",
       "    <tr style=\"text-align: right;\">\n",
       "      <th></th>\n",
       "      <th>tipo</th>\n",
       "      <th>monto_contrato</th>\n",
       "      <th>Cantidad_Nans</th>\n",
       "      <th>Distribución de Nans</th>\n",
       "      <th>Porcentaje de Nans</th>\n",
       "    </tr>\n",
       "    <tr>\n",
       "      <th>etapa</th>\n",
       "      <th></th>\n",
       "      <th></th>\n",
       "      <th></th>\n",
       "      <th></th>\n",
       "      <th></th>\n",
       "    </tr>\n",
       "  </thead>\n",
       "  <tbody>\n",
       "    <tr>\n",
       "      <th>Finalizada</th>\n",
       "      <td>1052</td>\n",
       "      <td>992</td>\n",
       "      <td>60</td>\n",
       "      <td>85.714286</td>\n",
       "      <td>5.703422</td>\n",
       "    </tr>\n",
       "    <tr>\n",
       "      <th>En ejecución</th>\n",
       "      <td>61</td>\n",
       "      <td>53</td>\n",
       "      <td>8</td>\n",
       "      <td>11.428571</td>\n",
       "      <td>13.114754</td>\n",
       "    </tr>\n",
       "    <tr>\n",
       "      <th>En licitación</th>\n",
       "      <td>4</td>\n",
       "      <td>2</td>\n",
       "      <td>2</td>\n",
       "      <td>2.857143</td>\n",
       "      <td>50.000000</td>\n",
       "    </tr>\n",
       "  </tbody>\n",
       "</table>\n",
       "</div>"
      ],
      "text/plain": [
       "               tipo  monto_contrato  Cantidad_Nans  Distribución de Nans  \\\n",
       "etapa                                                                      \n",
       "Finalizada     1052             992             60             85.714286   \n",
       "En ejecución     61              53              8             11.428571   \n",
       "En licitación     4               2              2              2.857143   \n",
       "\n",
       "               Porcentaje de Nans  \n",
       "etapa                              \n",
       "Finalizada               5.703422  \n",
       "En ejecución            13.114754  \n",
       "En licitación           50.000000  "
      ]
     },
     "execution_count": 16,
     "metadata": {},
     "output_type": "execute_result"
    }
   ],
   "source": [
    "monto_obra['Cantidad_Nans'] = (monto_obra.tipo-monto_obra.monto_contrato)\n",
    "total_nuls = 70\n",
    "monto_obra['Distribución de Nans'] = ((monto_obra.tipo-monto_obra.monto_contrato)/total_nuls)*100\n",
    "monto_obra['Porcentaje de Nans'] = (monto_obra.Cantidad_Nans/monto_obra.tipo)*100\n",
    "monto_obra"
   ]
  },
  {
   "cell_type": "markdown",
   "metadata": {},
   "source": [
    "Observación: Vemos que el 85% de los nulls en montos de contrato se encuentra en aquellas obras cuya etapa fue calificada como \"Finalizada\" que son de nuestro interés. \n",
    "\n",
    "Vamos a analizar si es conveniente eliminar los nulls, o reemplazarlos por un valor que nos evite eliminar datos como por ejemplo, la media por tipo de obra pública"
   ]
  },
  {
   "cell_type": "code",
   "execution_count": 17,
   "metadata": {},
   "outputs": [
    {
     "data": {
      "text/html": [
       "<div>\n",
       "<style scoped>\n",
       "    .dataframe tbody tr th:only-of-type {\n",
       "        vertical-align: middle;\n",
       "    }\n",
       "\n",
       "    .dataframe tbody tr th {\n",
       "        vertical-align: top;\n",
       "    }\n",
       "\n",
       "    .dataframe thead th {\n",
       "        text-align: right;\n",
       "    }\n",
       "</style>\n",
       "<table border=\"1\" class=\"dataframe\">\n",
       "  <thead>\n",
       "    <tr style=\"text-align: right;\">\n",
       "      <th></th>\n",
       "      <th>count</th>\n",
       "      <th>mean</th>\n",
       "      <th>std</th>\n",
       "      <th>min</th>\n",
       "      <th>25%</th>\n",
       "      <th>50%</th>\n",
       "      <th>75%</th>\n",
       "      <th>max</th>\n",
       "    </tr>\n",
       "    <tr>\n",
       "      <th>tipo</th>\n",
       "      <th></th>\n",
       "      <th></th>\n",
       "      <th></th>\n",
       "      <th></th>\n",
       "      <th></th>\n",
       "      <th></th>\n",
       "      <th></th>\n",
       "      <th></th>\n",
       "    </tr>\n",
       "  </thead>\n",
       "  <tbody>\n",
       "    <tr>\n",
       "      <th>Arquitectura</th>\n",
       "      <td>194</td>\n",
       "      <td>47439458</td>\n",
       "      <td>169470659</td>\n",
       "      <td>146589</td>\n",
       "      <td>1247909</td>\n",
       "      <td>4061973</td>\n",
       "      <td>15350381</td>\n",
       "      <td>1389607260</td>\n",
       "    </tr>\n",
       "    <tr>\n",
       "      <th>Escuelas</th>\n",
       "      <td>207</td>\n",
       "      <td>19057011</td>\n",
       "      <td>57600108</td>\n",
       "      <td>47514</td>\n",
       "      <td>1119533</td>\n",
       "      <td>2991264</td>\n",
       "      <td>12057331</td>\n",
       "      <td>697650207</td>\n",
       "    </tr>\n",
       "    <tr>\n",
       "      <th>Espacio Público</th>\n",
       "      <td>356</td>\n",
       "      <td>19830220</td>\n",
       "      <td>59924315</td>\n",
       "      <td>56103</td>\n",
       "      <td>2569173</td>\n",
       "      <td>7619702</td>\n",
       "      <td>19941790</td>\n",
       "      <td>903283412</td>\n",
       "    </tr>\n",
       "    <tr>\n",
       "      <th>Hidráulica e Infraestructura</th>\n",
       "      <td>86</td>\n",
       "      <td>66164597</td>\n",
       "      <td>314760879</td>\n",
       "      <td>104574</td>\n",
       "      <td>946206</td>\n",
       "      <td>3470637</td>\n",
       "      <td>41492140</td>\n",
       "      <td>2893118429</td>\n",
       "    </tr>\n",
       "    <tr>\n",
       "      <th>Salud</th>\n",
       "      <td>105</td>\n",
       "      <td>22090619</td>\n",
       "      <td>39856387</td>\n",
       "      <td>241731</td>\n",
       "      <td>2828072</td>\n",
       "      <td>7489486</td>\n",
       "      <td>19060730</td>\n",
       "      <td>296735562</td>\n",
       "    </tr>\n",
       "    <tr>\n",
       "      <th>Transporte</th>\n",
       "      <td>33</td>\n",
       "      <td>558305555</td>\n",
       "      <td>922219981</td>\n",
       "      <td>1741124</td>\n",
       "      <td>40185440</td>\n",
       "      <td>114299267</td>\n",
       "      <td>266717844</td>\n",
       "      <td>3183200000</td>\n",
       "    </tr>\n",
       "    <tr>\n",
       "      <th>Vivienda</th>\n",
       "      <td>66</td>\n",
       "      <td>156850269</td>\n",
       "      <td>250527395</td>\n",
       "      <td>245946</td>\n",
       "      <td>22766531</td>\n",
       "      <td>102350323</td>\n",
       "      <td>195953091</td>\n",
       "      <td>1624752066</td>\n",
       "    </tr>\n",
       "  </tbody>\n",
       "</table>\n",
       "</div>"
      ],
      "text/plain": [
       "                              count       mean        std      min       25%  \\\n",
       "tipo                                                                           \n",
       "Arquitectura                    194   47439458  169470659   146589   1247909   \n",
       "Escuelas                        207   19057011   57600108    47514   1119533   \n",
       "Espacio Público                 356   19830220   59924315    56103   2569173   \n",
       "Hidráulica e Infraestructura     86   66164597  314760879   104574    946206   \n",
       "Salud                           105   22090619   39856387   241731   2828072   \n",
       "Transporte                       33  558305555  922219981  1741124  40185440   \n",
       "Vivienda                         66  156850269  250527395   245946  22766531   \n",
       "\n",
       "                                    50%        75%         max  \n",
       "tipo                                                            \n",
       "Arquitectura                    4061973   15350381  1389607260  \n",
       "Escuelas                        2991264   12057331   697650207  \n",
       "Espacio Público                 7619702   19941790   903283412  \n",
       "Hidráulica e Infraestructura    3470637   41492140  2893118429  \n",
       "Salud                           7489486   19060730   296735562  \n",
       "Transporte                    114299267  266717844  3183200000  \n",
       "Vivienda                      102350323  195953091  1624752066  "
      ]
     },
     "execution_count": 17,
     "metadata": {},
     "output_type": "execute_result"
    }
   ],
   "source": [
    "# Visualizamos la descripción estadística\n",
    "obras_cleaned.groupby('tipo')['monto_contrato'].describe().astype('int64')"
   ]
  },
  {
   "cell_type": "markdown",
   "metadata": {},
   "source": [
    "El desvío estándar es muy elevado (aún mayor que la media) debido a que la diferencia entre los valores mínimos y máximos que puede tomar la feature del monto de contrato es muy grande. Con lo cual, reemplazar los valores nulos por la media de cada tipo sería un valor poco representativo."
   ]
  },
  {
   "cell_type": "code",
   "execution_count": 18,
   "metadata": {},
   "outputs": [
    {
     "name": "stdout",
     "output_type": "stream",
     "text": [
      "Samples luego de eliminar los Nans de la feature monto de contrato: 1047\n"
     ]
    }
   ],
   "source": [
    "# Eliminamos los Nulls o Nans\n",
    "\n",
    "obras_cleaned.dropna(subset=['monto_contrato'], how='any', inplace=True, axis='index')\n",
    "filas2 = np.shape(obras_cleaned)[0] \n",
    "print(f'Samples luego de eliminar los Nans de la feature monto de contrato: {filas2}')"
   ]
  },
  {
   "cell_type": "code",
   "execution_count": 19,
   "metadata": {},
   "outputs": [
    {
     "data": {
      "text/plain": [
       "count          1047\n",
       "mean       54435039\n",
       "std       233990588\n",
       "min           47514\n",
       "25%         1760971\n",
       "50%         6495745\n",
       "75%        24848133\n",
       "max      3183200000\n",
       "Name: monto_contrato, dtype: int64"
      ]
     },
     "execution_count": 19,
     "metadata": {},
     "output_type": "execute_result"
    }
   ],
   "source": [
    "# Para esta feature, nos interesan más los datos descriptivos de los valores registrados\n",
    "\n",
    "obras_cleaned['monto_contrato'].describe().astype('int64')\n",
    "\n",
    "# Un std tan elevado implica que tenemos obras que van de un valor de 47K a uno de 3 Billones, es normal que el std sea alto"
   ]
  },
  {
   "cell_type": "code",
   "execution_count": 20,
   "metadata": {},
   "outputs": [
    {
     "data": {
      "text/plain": [
       "tipo\n",
       "Arquitectura                    1389607260\n",
       "Escuelas                         697650207\n",
       "Espacio Público                  903283412\n",
       "Hidráulica e Infraestructura    2893118429\n",
       "Salud                            296735562\n",
       "Transporte                      3183200000\n",
       "Vivienda                        1624752066\n",
       "Name: monto_contrato, dtype: int64"
      ]
     },
     "execution_count": 20,
     "metadata": {},
     "output_type": "execute_result"
    }
   ],
   "source": [
    "# Vamos a ver los máximos por tipo de obra, el mayor de todos se encuentra en \"Transporte\"\n",
    "\n",
    "obras_cleaned.groupby('tipo')['monto_contrato'].aggregate('max').astype('int64')\n"
   ]
  },
  {
   "cell_type": "code",
   "execution_count": 21,
   "metadata": {},
   "outputs": [],
   "source": [
    "# Para manejar números más chicos, vamos a agregar una variable de montos en miles\n",
    "\n",
    "obras_cleaned['monto_miles'] = obras_cleaned['monto_contrato']/1000\n"
   ]
  },
  {
   "cell_type": "code",
   "execution_count": 22,
   "metadata": {},
   "outputs": [
    {
     "data": {
      "image/png": "[encoded data removed]",
      "text/plain": [
       "<Figure size 432x288 with 1 Axes>"
      ]
     },
     "metadata": {},
     "output_type": "display_data"
    },
    {
     "data": {
      "image/png": "[encoded data removed]",
      "text/plain": [
       "<Figure size 432x288 with 1 Axes>"
      ]
     },
     "metadata": {},
     "output_type": "display_data"
    }
   ],
   "source": [
    "sns.kdeplot(obras_cleaned.monto_miles, color=\"purple\", shade = True)\n",
    "plt.xlabel(\"Monto del contrato en miles\")\n",
    "plt.title('Distribucion de Precio',size = 20)\n",
    "plt.show()\n",
    "\n",
    "# Plot Log-Precio\n",
    "sns.distplot(np.log(1+obras_cleaned['monto_miles']),color='purple')\n",
    "plt.xlabel(\"Monto del contrato en miles\")\n",
    "plt.title('Distribucion de Precio logarítmica',size = 20)\n",
    "plt.show()\n"
   ]
  },
  {
   "cell_type": "markdown",
   "metadata": {},
   "source": [
    "### Comunas"
   ]
  },
  {
   "cell_type": "code",
   "execution_count": 23,
   "metadata": {},
   "outputs": [
    {
     "name": "stdout",
     "output_type": "stream",
     "text": [
      "En total hay 16 comunas en el análisis.\r\n",
      "\n",
      "\n",
      " [12.  1.  8.  2.  9.  4. 13. 14. 11.  5. 15.  3.  7. 10.  6. nan]\n"
     ]
    }
   ],
   "source": [
    "# Analizamos la cantidad de valores únicos en la feature de comuna\n",
    "\n",
    "comuna = len(obras_cleaned['comuna'].unique()) \n",
    "print(f'En total hay {comuna} comunas en el análisis.\\r\\n')\n",
    "print(\"\\n\", obras_cleaned['comuna'].unique())"
   ]
  },
  {
   "cell_type": "code",
   "execution_count": 24,
   "metadata": {},
   "outputs": [
    {
     "data": {
      "text/html": [
       "<div>\n",
       "<style scoped>\n",
       "    .dataframe tbody tr th:only-of-type {\n",
       "        vertical-align: middle;\n",
       "    }\n",
       "\n",
       "    .dataframe tbody tr th {\n",
       "        vertical-align: top;\n",
       "    }\n",
       "\n",
       "    .dataframe thead th {\n",
       "        text-align: right;\n",
       "    }\n",
       "</style>\n",
       "<table border=\"1\" class=\"dataframe\">\n",
       "  <thead>\n",
       "    <tr style=\"text-align: right;\">\n",
       "      <th></th>\n",
       "      <th>tipo</th>\n",
       "      <th>comuna</th>\n",
       "    </tr>\n",
       "    <tr>\n",
       "      <th>etapa</th>\n",
       "      <th></th>\n",
       "      <th></th>\n",
       "    </tr>\n",
       "  </thead>\n",
       "  <tbody>\n",
       "    <tr>\n",
       "      <th>Finalizada</th>\n",
       "      <td>992</td>\n",
       "      <td>990</td>\n",
       "    </tr>\n",
       "    <tr>\n",
       "      <th>En ejecución</th>\n",
       "      <td>53</td>\n",
       "      <td>49</td>\n",
       "    </tr>\n",
       "    <tr>\n",
       "      <th>En licitación</th>\n",
       "      <td>2</td>\n",
       "      <td>2</td>\n",
       "    </tr>\n",
       "  </tbody>\n",
       "</table>\n",
       "</div>"
      ],
      "text/plain": [
       "               tipo  comuna\n",
       "etapa                      \n",
       "Finalizada      992     990\n",
       "En ejecución     53      49\n",
       "En licitación     2       2"
      ]
     },
     "execution_count": 24,
     "metadata": {},
     "output_type": "execute_result"
    }
   ],
   "source": [
    "# Hacemos un análisis similar al monto del contrato, para evaluar la acción a tomar con los Nans\n",
    "\n",
    "comuna_obra = (obras_cleaned[['etapa','tipo','comuna']].groupby(['etapa']).\n",
    "              count()).sort_values(by='tipo',ascending=False)\n",
    "comuna_obra"
   ]
  },
  {
   "cell_type": "code",
   "execution_count": 25,
   "metadata": {},
   "outputs": [
    {
     "data": {
      "text/plain": [
       "6"
      ]
     },
     "execution_count": 25,
     "metadata": {},
     "output_type": "execute_result"
    }
   ],
   "source": [
    "# Sumamos y guardamos en la variable nul la cantidad de Nans en comuna\n",
    "nul = obras_cleaned['comuna'].isnull().sum()\n",
    "nul"
   ]
  },
  {
   "cell_type": "code",
   "execution_count": 26,
   "metadata": {},
   "outputs": [
    {
     "data": {
      "text/html": [
       "<div>\n",
       "<style scoped>\n",
       "    .dataframe tbody tr th:only-of-type {\n",
       "        vertical-align: middle;\n",
       "    }\n",
       "\n",
       "    .dataframe tbody tr th {\n",
       "        vertical-align: top;\n",
       "    }\n",
       "\n",
       "    .dataframe thead th {\n",
       "        text-align: right;\n",
       "    }\n",
       "</style>\n",
       "<table border=\"1\" class=\"dataframe\">\n",
       "  <thead>\n",
       "    <tr style=\"text-align: right;\">\n",
       "      <th></th>\n",
       "      <th>tipo</th>\n",
       "      <th>comuna</th>\n",
       "      <th>Cantidad_Nans</th>\n",
       "      <th>Distribución de Nans</th>\n",
       "      <th>Porcentaje de Nans</th>\n",
       "    </tr>\n",
       "    <tr>\n",
       "      <th>etapa</th>\n",
       "      <th></th>\n",
       "      <th></th>\n",
       "      <th></th>\n",
       "      <th></th>\n",
       "      <th></th>\n",
       "    </tr>\n",
       "  </thead>\n",
       "  <tbody>\n",
       "    <tr>\n",
       "      <th>Finalizada</th>\n",
       "      <td>992</td>\n",
       "      <td>990</td>\n",
       "      <td>2</td>\n",
       "      <td>33.333333</td>\n",
       "      <td>0.201613</td>\n",
       "    </tr>\n",
       "    <tr>\n",
       "      <th>En ejecución</th>\n",
       "      <td>53</td>\n",
       "      <td>49</td>\n",
       "      <td>4</td>\n",
       "      <td>66.666667</td>\n",
       "      <td>7.547170</td>\n",
       "    </tr>\n",
       "    <tr>\n",
       "      <th>En licitación</th>\n",
       "      <td>2</td>\n",
       "      <td>2</td>\n",
       "      <td>0</td>\n",
       "      <td>0.000000</td>\n",
       "      <td>0.000000</td>\n",
       "    </tr>\n",
       "  </tbody>\n",
       "</table>\n",
       "</div>"
      ],
      "text/plain": [
       "               tipo  comuna  Cantidad_Nans  Distribución de Nans  \\\n",
       "etapa                                                              \n",
       "Finalizada      992     990              2             33.333333   \n",
       "En ejecución     53      49              4             66.666667   \n",
       "En licitación     2       2              0              0.000000   \n",
       "\n",
       "               Porcentaje de Nans  \n",
       "etapa                              \n",
       "Finalizada               0.201613  \n",
       "En ejecución             7.547170  \n",
       "En licitación            0.000000  "
      ]
     },
     "execution_count": 26,
     "metadata": {},
     "output_type": "execute_result"
    }
   ],
   "source": [
    "# Analizamos la distribución en % de Nans\n",
    "\n",
    "comuna_obra['Cantidad_Nans'] = (comuna_obra.tipo-comuna_obra.comuna)\n",
    "comuna_obra['Distribución de Nans'] = ((comuna_obra.tipo-comuna_obra.comuna)/nul)*100\n",
    "comuna_obra['Porcentaje de Nans'] = (comuna_obra.Cantidad_Nans/comuna_obra.tipo)*100\n",
    "comuna_obra"
   ]
  },
  {
   "cell_type": "markdown",
   "metadata": {},
   "source": [
    "Observación: El número de comuna al que pertenece la obra no es un valor que pueda aproximarse o estimarse en función de la descripción estadística de la feature. \n",
    "\n",
    "Una alternativa sería armar un modelo de clustering para poder clasificarlo, pero aún así esto estaría sujeto a cierto error que al incluirlo en este punto aumentaría el error en la predicción principal objetivo del trabajo, por ello se decide eliminar los Nans."
   ]
  },
  {
   "cell_type": "code",
   "execution_count": 27,
   "metadata": {},
   "outputs": [
    {
     "data": {
      "text/html": [
       "<div>\n",
       "<style scoped>\n",
       "    .dataframe tbody tr th:only-of-type {\n",
       "        vertical-align: middle;\n",
       "    }\n",
       "\n",
       "    .dataframe tbody tr th {\n",
       "        vertical-align: top;\n",
       "    }\n",
       "\n",
       "    .dataframe thead th {\n",
       "        text-align: right;\n",
       "    }\n",
       "</style>\n",
       "<table border=\"1\" class=\"dataframe\">\n",
       "  <thead>\n",
       "    <tr style=\"text-align: right;\">\n",
       "      <th></th>\n",
       "      <th>etapa</th>\n",
       "      <th>comuna</th>\n",
       "    </tr>\n",
       "    <tr>\n",
       "      <th>tipo</th>\n",
       "      <th></th>\n",
       "      <th></th>\n",
       "    </tr>\n",
       "  </thead>\n",
       "  <tbody>\n",
       "    <tr>\n",
       "      <th>Espacio Público</th>\n",
       "      <td>356</td>\n",
       "      <td>355</td>\n",
       "    </tr>\n",
       "    <tr>\n",
       "      <th>Escuelas</th>\n",
       "      <td>207</td>\n",
       "      <td>207</td>\n",
       "    </tr>\n",
       "    <tr>\n",
       "      <th>Arquitectura</th>\n",
       "      <td>194</td>\n",
       "      <td>190</td>\n",
       "    </tr>\n",
       "    <tr>\n",
       "      <th>Salud</th>\n",
       "      <td>105</td>\n",
       "      <td>105</td>\n",
       "    </tr>\n",
       "    <tr>\n",
       "      <th>Hidráulica e Infraestructura</th>\n",
       "      <td>86</td>\n",
       "      <td>86</td>\n",
       "    </tr>\n",
       "    <tr>\n",
       "      <th>Vivienda</th>\n",
       "      <td>66</td>\n",
       "      <td>66</td>\n",
       "    </tr>\n",
       "    <tr>\n",
       "      <th>Transporte</th>\n",
       "      <td>33</td>\n",
       "      <td>32</td>\n",
       "    </tr>\n",
       "  </tbody>\n",
       "</table>\n",
       "</div>"
      ],
      "text/plain": [
       "                              etapa  comuna\n",
       "tipo                                       \n",
       "Espacio Público                 356     355\n",
       "Escuelas                        207     207\n",
       "Arquitectura                    194     190\n",
       "Salud                           105     105\n",
       "Hidráulica e Infraestructura     86      86\n",
       "Vivienda                         66      66\n",
       "Transporte                       33      32"
      ]
     },
     "execution_count": 27,
     "metadata": {},
     "output_type": "execute_result"
    }
   ],
   "source": [
    "# Visualizamos dónde se encuentran los nans\n",
    "\n",
    "comuna = (obras_cleaned[['etapa','tipo','comuna']].groupby(['tipo']).\n",
    "              count()).sort_values(by='comuna',ascending=False)\n",
    "comuna"
   ]
  },
  {
   "cell_type": "code",
   "execution_count": 28,
   "metadata": {},
   "outputs": [
    {
     "name": "stdout",
     "output_type": "stream",
     "text": [
      "Filas: 1041\n"
     ]
    }
   ],
   "source": [
    "# Procedemos a eliminar los Nans\n",
    "\n",
    "obras_cleaned.dropna(subset=['comuna'], how='any', inplace=True, axis='index')\n",
    "filas3 = np.shape(obras_cleaned)[0] \n",
    "print(f'Filas: {filas3}')"
   ]
  },
  {
   "cell_type": "code",
   "execution_count": 29,
   "metadata": {},
   "outputs": [
    {
     "data": {
      "image/png": "[encoded data removed]",
      "text/plain": [
       "<Figure size 432x288 with 1 Axes>"
      ]
     },
     "metadata": {},
     "output_type": "display_data"
    }
   ],
   "source": [
    "ax = sns.countplot(x='comuna', \n",
    "                   data=obras_cleaned,\n",
    "                   palette='gist_rainbow',\n",
    "                   alpha=0.7,\n",
    "                   order=obras_cleaned['comuna'].value_counts().index)\n",
    "ax.set_xticklabels(ax.get_xticklabels(), rotation=40, ha=\"right\")\n",
    "plt.title(\"Contador de obras por comuna\")\n",
    "plt.show()\n"
   ]
  },
  {
   "cell_type": "code",
   "execution_count": 30,
   "metadata": {},
   "outputs": [
    {
     "data": {
      "text/html": [
       "<div>\n",
       "<style scoped>\n",
       "    .dataframe tbody tr th:only-of-type {\n",
       "        vertical-align: middle;\n",
       "    }\n",
       "\n",
       "    .dataframe tbody tr th {\n",
       "        vertical-align: top;\n",
       "    }\n",
       "\n",
       "    .dataframe thead th {\n",
       "        text-align: right;\n",
       "    }\n",
       "</style>\n",
       "<table border=\"1\" class=\"dataframe\">\n",
       "  <thead>\n",
       "    <tr style=\"text-align: right;\">\n",
       "      <th></th>\n",
       "      <th>tipo</th>\n",
       "      <th>Porcentaje</th>\n",
       "    </tr>\n",
       "    <tr>\n",
       "      <th>comuna</th>\n",
       "      <th></th>\n",
       "      <th></th>\n",
       "    </tr>\n",
       "  </thead>\n",
       "  <tbody>\n",
       "    <tr>\n",
       "      <th>8.0</th>\n",
       "      <td>280</td>\n",
       "      <td>26.897214</td>\n",
       "    </tr>\n",
       "    <tr>\n",
       "      <th>1.0</th>\n",
       "      <td>158</td>\n",
       "      <td>15.177714</td>\n",
       "    </tr>\n",
       "    <tr>\n",
       "      <th>4.0</th>\n",
       "      <td>140</td>\n",
       "      <td>13.448607</td>\n",
       "    </tr>\n",
       "    <tr>\n",
       "      <th>14.0</th>\n",
       "      <td>67</td>\n",
       "      <td>6.436119</td>\n",
       "    </tr>\n",
       "    <tr>\n",
       "      <th>9.0</th>\n",
       "      <td>52</td>\n",
       "      <td>4.995197</td>\n",
       "    </tr>\n",
       "    <tr>\n",
       "      <th>7.0</th>\n",
       "      <td>51</td>\n",
       "      <td>4.899135</td>\n",
       "    </tr>\n",
       "    <tr>\n",
       "      <th>3.0</th>\n",
       "      <td>42</td>\n",
       "      <td>4.034582</td>\n",
       "    </tr>\n",
       "    <tr>\n",
       "      <th>10.0</th>\n",
       "      <td>40</td>\n",
       "      <td>3.842459</td>\n",
       "    </tr>\n",
       "    <tr>\n",
       "      <th>15.0</th>\n",
       "      <td>39</td>\n",
       "      <td>3.746398</td>\n",
       "    </tr>\n",
       "    <tr>\n",
       "      <th>2.0</th>\n",
       "      <td>35</td>\n",
       "      <td>3.362152</td>\n",
       "    </tr>\n",
       "    <tr>\n",
       "      <th>12.0</th>\n",
       "      <td>33</td>\n",
       "      <td>3.170029</td>\n",
       "    </tr>\n",
       "    <tr>\n",
       "      <th>6.0</th>\n",
       "      <td>29</td>\n",
       "      <td>2.785783</td>\n",
       "    </tr>\n",
       "    <tr>\n",
       "      <th>11.0</th>\n",
       "      <td>28</td>\n",
       "      <td>2.689721</td>\n",
       "    </tr>\n",
       "    <tr>\n",
       "      <th>13.0</th>\n",
       "      <td>27</td>\n",
       "      <td>2.593660</td>\n",
       "    </tr>\n",
       "    <tr>\n",
       "      <th>5.0</th>\n",
       "      <td>20</td>\n",
       "      <td>1.921230</td>\n",
       "    </tr>\n",
       "  </tbody>\n",
       "</table>\n",
       "</div>"
      ],
      "text/plain": [
       "        tipo  Porcentaje\n",
       "comuna                  \n",
       "8.0      280   26.897214\n",
       "1.0      158   15.177714\n",
       "4.0      140   13.448607\n",
       "14.0      67    6.436119\n",
       "9.0       52    4.995197\n",
       "7.0       51    4.899135\n",
       "3.0       42    4.034582\n",
       "10.0      40    3.842459\n",
       "15.0      39    3.746398\n",
       "2.0       35    3.362152\n",
       "12.0      33    3.170029\n",
       "6.0       29    2.785783\n",
       "11.0      28    2.689721\n",
       "13.0      27    2.593660\n",
       "5.0       20    1.921230"
      ]
     },
     "execution_count": 30,
     "metadata": {},
     "output_type": "execute_result"
    }
   ],
   "source": [
    "comuna = (obras_cleaned[['tipo','comuna']].groupby(['comuna']).\n",
    "              count()).sort_values(by='tipo',ascending=False)\n",
    "total = comuna.tipo.sum()\n",
    "comuna['Porcentaje'] = (comuna.tipo/total)*100\n",
    "comuna\n"
   ]
  },
  {
   "cell_type": "code",
   "execution_count": 31,
   "metadata": {},
   "outputs": [
    {
     "data": {
      "text/plain": [
       "([<matplotlib.patches.Wedge at 0x274c84b8400>,\n",
       "  <matplotlib.patches.Wedge at 0x274c84b8af0>,\n",
       "  <matplotlib.patches.Wedge at 0x274c84c5400>,\n",
       "  <matplotlib.patches.Wedge at 0x274c84c5cd0>,\n",
       "  <matplotlib.patches.Wedge at 0x274c84d35e0>,\n",
       "  <matplotlib.patches.Wedge at 0x274c84d3eb0>,\n",
       "  <matplotlib.patches.Wedge at 0x274c84df7c0>,\n",
       "  <matplotlib.patches.Wedge at 0x274c84ec0d0>,\n",
       "  <matplotlib.patches.Wedge at 0x274c84ec9a0>,\n",
       "  <matplotlib.patches.Wedge at 0x274c84f82b0>,\n",
       "  <matplotlib.patches.Wedge at 0x274c8486f70>,\n",
       "  <matplotlib.patches.Wedge at 0x274c8506460>,\n",
       "  <matplotlib.patches.Wedge at 0x274c8506d30>,\n",
       "  <matplotlib.patches.Wedge at 0x274c8512640>,\n",
       "  <matplotlib.patches.Wedge at 0x274c8512f10>],\n",
       " [Text(-0.7479717473324291, 0.6637305667154955, '8.0'),\n",
       "  Text(-0.8275721310590461, -0.5613593928085544, '1.0'),\n",
       "  Text(-0.07537485187208681, -0.9971552696071264, '4.0'),\n",
       "  Text(0.5220483029706865, -0.8529159216273468, '14.0'),\n",
       "  Text(0.7885060382133067, -0.6150270137978944, '9.0'),\n",
       "  Text(0.9388295522224229, -0.3443821596335166, '7.0'),\n",
       "  Text(0.9974862598441755, -0.07086015398006114, '3.0'),\n",
       "  Text(0.9844563727137461, 0.17562929773615152, '10.0'),\n",
       "  Text(0.9151340838469509, 0.4031496106678038, '15.0'),\n",
       "  Text(0.8031231661688242, 0.5958130411152169, '2.0'),\n",
       "  Text(0.6648583644673334, 0.7469694472987651, '12.0'),\n",
       "  Text(0.5143048108100651, 0.8576074635738796, '6.0'),\n",
       "  Text(0.35991687470892986, 0.9329843746278693, '11.0'),\n",
       "  Text(0.2008215456392463, 0.9796278409717969, '13.0'),\n",
       "  Text(0.0603204050178192, 0.9981790664697824, '5.0')],\n",
       " [Text(-0.5235802231327004, 0.4646113967008468, '26.9%'),\n",
       "  Text(-0.5793004917413322, -0.39295157496598804, '15.2%'),\n",
       "  Text(-0.052762396310460764, -0.6980086887249884, '13.4%'),\n",
       "  Text(0.3654338120794805, -0.5970411451391426, '6.4%'),\n",
       "  Text(0.5519542267493146, -0.430518909658526, '5.0%'),\n",
       "  Text(0.6571806865556961, -0.2410675117434616, '4.9%'),\n",
       "  Text(0.6982403818909229, -0.04960210778604279, '4.0%'),\n",
       "  Text(0.6891194608996222, 0.12294050841530606, '3.8%'),\n",
       "  Text(0.6405938586928657, 0.28220472746746267, '3.7%'),\n",
       "  Text(0.5621862163181769, 0.41706912878065183, '3.4%'),\n",
       "  Text(0.4654008551271333, 0.5228786131091355, '3.2%'),\n",
       "  Text(0.36001336756704555, 0.6003252245017157, '2.8%'),\n",
       "  Text(0.2519418122962509, 0.6530890622395085, '2.7%'),\n",
       "  Text(0.1405750819474724, 0.6857394886802578, '2.6%'),\n",
       "  Text(0.04222428351247343, 0.6987253465288477, '1.9%')])"
      ]
     },
     "execution_count": 31,
     "metadata": {},
     "output_type": "execute_result"
    },
    {
     "data": {
      "image/png": "[encoded data removed]",
      "text/plain": [
       "<Figure size 576x576 with 1 Axes>"
      ]
     },
     "metadata": {},
     "output_type": "display_data"
    }
   ],
   "source": [
    "# Otra forma para visualizar\n",
    "\n",
    "grafico_comuna = comuna.iloc[:,:]\n",
    "graf = grafico_comuna.index\n",
    "dat = grafico_comuna.Porcentaje\n",
    "plt.figure(figsize = (8,8))\n",
    "plt.axis('equal')\n",
    "plt.pie(dat, labels = graf,autopct = '%1.1f%%', \n",
    "        startangle = 90,labeldistance = 1,\n",
    "        pctdistance = 0.7,rotatelabels = True,\n",
    "        radius = 1,shadow = True)"
   ]
  },
  {
   "cell_type": "markdown",
   "metadata": {},
   "source": [
    "### Plazo en meses"
   ]
  },
  {
   "cell_type": "code",
   "execution_count": 32,
   "metadata": {},
   "outputs": [
    {
     "name": "stdout",
     "output_type": "stream",
     "text": [
      "\n",
      " [29. 16. 22. 28. 12. 18. 20. 23. 21. 30.  3. 15. 10. 11. 14. 17. 31. 27.\n",
      " 26. 32. 57.  5. 52.  7. 33.  4. 46. 42. 34. 13.  9.  6.  2. nan 24. 25.\n",
      "  1.  8.  0. 19. 37. 40. 38. 35. 45. 55. 36. 86.]\n"
     ]
    }
   ],
   "source": [
    "# Analizamos la cantidad de valores únicos en la feature de plazos de realización\n",
    "\n",
    "meses = len(obras_cleaned['plazo_meses'].unique()) \n",
    "print(\"\\n\", obras_cleaned['plazo_meses'].unique())"
   ]
  },
  {
   "cell_type": "code",
   "execution_count": 33,
   "metadata": {},
   "outputs": [
    {
     "data": {
      "text/plain": [
       "63"
      ]
     },
     "execution_count": 33,
     "metadata": {},
     "output_type": "execute_result"
    }
   ],
   "source": [
    "# Sumamos y guardamos en la variable sin_plazo la cantidad de samples sin este dato\n",
    "sin_plazo = obras_cleaned['plazo_meses'].isnull().sum()\n",
    "sin_plazo"
   ]
  },
  {
   "cell_type": "code",
   "execution_count": 34,
   "metadata": {},
   "outputs": [
    {
     "data": {
      "text/html": [
       "<div>\n",
       "<style scoped>\n",
       "    .dataframe tbody tr th:only-of-type {\n",
       "        vertical-align: middle;\n",
       "    }\n",
       "\n",
       "    .dataframe tbody tr th {\n",
       "        vertical-align: top;\n",
       "    }\n",
       "\n",
       "    .dataframe thead th {\n",
       "        text-align: right;\n",
       "    }\n",
       "</style>\n",
       "<table border=\"1\" class=\"dataframe\">\n",
       "  <thead>\n",
       "    <tr style=\"text-align: right;\">\n",
       "      <th></th>\n",
       "      <th>tipo</th>\n",
       "      <th>plazo_meses</th>\n",
       "    </tr>\n",
       "    <tr>\n",
       "      <th>etapa</th>\n",
       "      <th></th>\n",
       "      <th></th>\n",
       "    </tr>\n",
       "  </thead>\n",
       "  <tbody>\n",
       "    <tr>\n",
       "      <th>Finalizada</th>\n",
       "      <td>990</td>\n",
       "      <td>927</td>\n",
       "    </tr>\n",
       "    <tr>\n",
       "      <th>En ejecución</th>\n",
       "      <td>49</td>\n",
       "      <td>49</td>\n",
       "    </tr>\n",
       "    <tr>\n",
       "      <th>En licitación</th>\n",
       "      <td>2</td>\n",
       "      <td>2</td>\n",
       "    </tr>\n",
       "  </tbody>\n",
       "</table>\n",
       "</div>"
      ],
      "text/plain": [
       "               tipo  plazo_meses\n",
       "etapa                           \n",
       "Finalizada      990          927\n",
       "En ejecución     49           49\n",
       "En licitación     2            2"
      ]
     },
     "execution_count": 34,
     "metadata": {},
     "output_type": "execute_result"
    }
   ],
   "source": [
    "# Hacemos un análisis similar al monto del contrato, para evaluar la acción a tomar con los Nans\n",
    "\n",
    "meses_obra = (obras_cleaned[['etapa','tipo','plazo_meses']].groupby(['etapa']).\n",
    "              count()).sort_values(by='tipo',ascending=False)\n",
    "meses_obra"
   ]
  },
  {
   "cell_type": "markdown",
   "metadata": {},
   "source": [
    "En este caso, no es necesario analizar la distribución de Nans ya que los 63 se encuentran en las obras finalizadas.\n",
    "\n",
    "Verificamos rapidamente el % del total que representa"
   ]
  },
  {
   "cell_type": "code",
   "execution_count": 35,
   "metadata": {},
   "outputs": [
    {
     "name": "stdout",
     "output_type": "stream",
     "text": [
      "Los Nans representan el: 6.36 % de los datos totales\n"
     ]
    }
   ],
   "source": [
    "porcentaje_sin_plazo = (63/990)*100\n",
    "\n",
    "print ('Los Nans representan el: {:.2f} % de los datos totales' .format(porcentaje_sin_plazo))"
   ]
  },
  {
   "cell_type": "markdown",
   "metadata": {},
   "source": [
    "Observación: En este caso nos sucede el mismo problema que con la feature de comunas, la idea es estimar este valor, por lo cual armar un modelo para aproximarlo ahora estaría sujeto a error que afectará la predicción principal.\n",
    "\n",
    "Esto nos lleva nuevamente a eliminar los Nans "
   ]
  },
  {
   "cell_type": "code",
   "execution_count": 36,
   "metadata": {},
   "outputs": [
    {
     "name": "stdout",
     "output_type": "stream",
     "text": [
      "Filas: 978\n"
     ]
    }
   ],
   "source": [
    "obras_cleaned.dropna(subset=['plazo_meses'], how='any', inplace=True, axis='index')\n",
    "filas = np.shape(obras_cleaned)[0] \n",
    "print(f'Filas: {filas}')"
   ]
  },
  {
   "cell_type": "code",
   "execution_count": 37,
   "metadata": {},
   "outputs": [
    {
     "data": {
      "text/html": [
       "<div>\n",
       "<style scoped>\n",
       "    .dataframe tbody tr th:only-of-type {\n",
       "        vertical-align: middle;\n",
       "    }\n",
       "\n",
       "    .dataframe tbody tr th {\n",
       "        vertical-align: top;\n",
       "    }\n",
       "\n",
       "    .dataframe thead th {\n",
       "        text-align: right;\n",
       "    }\n",
       "</style>\n",
       "<table border=\"1\" class=\"dataframe\">\n",
       "  <thead>\n",
       "    <tr style=\"text-align: right;\">\n",
       "      <th></th>\n",
       "      <th>tipo</th>\n",
       "      <th>plazo_meses</th>\n",
       "    </tr>\n",
       "    <tr>\n",
       "      <th>etapa</th>\n",
       "      <th></th>\n",
       "      <th></th>\n",
       "    </tr>\n",
       "  </thead>\n",
       "  <tbody>\n",
       "    <tr>\n",
       "      <th>Finalizada</th>\n",
       "      <td>927</td>\n",
       "      <td>927</td>\n",
       "    </tr>\n",
       "    <tr>\n",
       "      <th>En ejecución</th>\n",
       "      <td>49</td>\n",
       "      <td>49</td>\n",
       "    </tr>\n",
       "    <tr>\n",
       "      <th>En licitación</th>\n",
       "      <td>2</td>\n",
       "      <td>2</td>\n",
       "    </tr>\n",
       "  </tbody>\n",
       "</table>\n",
       "</div>"
      ],
      "text/plain": [
       "               tipo  plazo_meses\n",
       "etapa                           \n",
       "Finalizada      927          927\n",
       "En ejecución     49           49\n",
       "En licitación     2            2"
      ]
     },
     "execution_count": 37,
     "metadata": {},
     "output_type": "execute_result"
    }
   ],
   "source": [
    "# Visualizamos la tabla anterior y vemos que las samples eliminadas efectivamente fueron en las obras finalizadas\n",
    "\n",
    "año_obra_cleaned = (obras_cleaned[['etapa','tipo','plazo_meses']].groupby(['etapa']).\n",
    "              count()).sort_values(by='tipo',ascending=False)\n",
    "año_obra_cleaned"
   ]
  },
  {
   "cell_type": "code",
   "execution_count": 38,
   "metadata": {},
   "outputs": [],
   "source": [
    "# Otra cosa llamativa de esta feature es que hay plazos de \"0 meses\", vamos a hacer un EDA\n",
    "\n",
    "obras_cleaned['plazo_0'] = obras_cleaned.plazo_meses == 0"
   ]
  },
  {
   "cell_type": "code",
   "execution_count": 39,
   "metadata": {},
   "outputs": [
    {
     "data": {
      "text/html": [
       "<div>\n",
       "<style scoped>\n",
       "    .dataframe tbody tr th:only-of-type {\n",
       "        vertical-align: middle;\n",
       "    }\n",
       "\n",
       "    .dataframe tbody tr th {\n",
       "        vertical-align: top;\n",
       "    }\n",
       "\n",
       "    .dataframe thead th {\n",
       "        text-align: right;\n",
       "    }\n",
       "</style>\n",
       "<table border=\"1\" class=\"dataframe\">\n",
       "  <thead>\n",
       "    <tr style=\"text-align: right;\">\n",
       "      <th></th>\n",
       "      <th>plazo_0</th>\n",
       "    </tr>\n",
       "    <tr>\n",
       "      <th>etapa</th>\n",
       "      <th></th>\n",
       "    </tr>\n",
       "  </thead>\n",
       "  <tbody>\n",
       "    <tr>\n",
       "      <th>En ejecución</th>\n",
       "      <td>0.0</td>\n",
       "    </tr>\n",
       "    <tr>\n",
       "      <th>En licitación</th>\n",
       "      <td>0.0</td>\n",
       "    </tr>\n",
       "    <tr>\n",
       "      <th>Finalizada</th>\n",
       "      <td>44.0</td>\n",
       "    </tr>\n",
       "  </tbody>\n",
       "</table>\n",
       "</div>"
      ],
      "text/plain": [
       "               plazo_0\n",
       "etapa                 \n",
       "En ejecución       0.0\n",
       "En licitación      0.0\n",
       "Finalizada        44.0"
      ]
     },
     "execution_count": 39,
     "metadata": {},
     "output_type": "execute_result"
    }
   ],
   "source": [
    "plazo_cero = (obras_cleaned[['etapa','tipo','plazo_0']].groupby(['etapa']).\n",
    "           sum())\n",
    "\n",
    "plazo_cero"
   ]
  },
  {
   "cell_type": "markdown",
   "metadata": {},
   "source": [
    "Observación: al igual que nos sucedía antes, buscamos estimar el plazo de construcción, con lo cual tener un plazo de 0 no nos resulta representativo. Puede representar una falla en la carga de datos, para el modelo de machine learning se proceden a eliminar.\n",
    "\n",
    "Por el momento vamos a considerar que el plazo de 1 mes no es ruido, pero sería un punto a tener en cuenta en este sentido."
   ]
  },
  {
   "cell_type": "code",
   "execution_count": 40,
   "metadata": {},
   "outputs": [],
   "source": [
    "obras_cleaned['plazo_0'].replace(True,np.nan,inplace=True)"
   ]
  },
  {
   "cell_type": "code",
   "execution_count": 41,
   "metadata": {},
   "outputs": [
    {
     "name": "stdout",
     "output_type": "stream",
     "text": [
      "Filas: 934\n"
     ]
    }
   ],
   "source": [
    "obras_cleaned.dropna(subset=['plazo_0'], how='any', inplace=True, axis='index')\n",
    "filas = np.shape(obras_cleaned)[0] \n",
    "print(f'Filas: {filas}')"
   ]
  },
  {
   "cell_type": "code",
   "execution_count": 42,
   "metadata": {},
   "outputs": [
    {
     "data": {
      "image/png": "[encoded data removed]",
      "text/plain": [
       "<Figure size 576x576 with 1 Axes>"
      ]
     },
     "metadata": {},
     "output_type": "display_data"
    }
   ],
   "source": [
    "# Visualizamos si existe relación entre el plazo en meses y el monto del contrato\n",
    "\n",
    "fig=plt.figure(figsize=(8,8))\n",
    "plt.ticklabel_format(style='sci', axis='y', scilimits=(0,0), useMathText=True)\n",
    "plt.scatter(obras_cleaned['plazo_meses'], obras_cleaned['monto_contrato'], alpha=0.5)  \n",
    "plt.xlabel('Plazo en meses')\n",
    "plt.ylabel('Monto proyecto')\n",
    "plt.title('Relación plazo - monto')\n",
    "plt.tight_layout()\n",
    "plt.show()"
   ]
  },
  {
   "cell_type": "code",
   "execution_count": 43,
   "metadata": {},
   "outputs": [
    {
     "data": {
      "image/png": "[encoded data removed]",
      "text/plain": [
       "<Figure size 576x576 with 1 Axes>"
      ]
     },
     "metadata": {},
     "output_type": "display_data"
    },
    {
     "data": {
      "image/png": "[encoded data removed]",
      "text/plain": [
       "<Figure size 1080x360 with 1 Axes>"
      ]
     },
     "metadata": {},
     "output_type": "display_data"
    }
   ],
   "source": [
    "# Visualizamos si existe relación entre el plazo en meses y tipo de obra\n",
    "\n",
    "fig=plt.figure(figsize=(8,8))\n",
    "plt.scatter(obras_cleaned['plazo_meses'], obras_cleaned['tipo'], alpha=0.5)  \n",
    "plt.xlabel('Plazo en meses')\n",
    "plt.ylabel('Tipo proyecto')\n",
    "plt.title('Relación plazo - monto')\n",
    "plt.show()\n",
    "\n",
    "g = sns.catplot(x='plazo_meses',y='tipo',data=obras_cleaned, kind=\"box\", height = 5,aspect=3 ,palette = \"muted\")\n",
    "g.despine(left=True)\n",
    "g.set_xticklabels(rotation=90)\n",
    "#g = g.set_ylabels()\n",
    "plt.title('Relación plazo - monto',size = 20)\n",
    "plt.show()"
   ]
  },
  {
   "cell_type": "markdown",
   "metadata": {},
   "source": [
    "## Bandas en años"
   ]
  },
  {
   "cell_type": "code",
   "execution_count": null,
   "metadata": {},
   "outputs": [],
   "source": [
    "# Vamos a agrupar en períodos\n",
    "# Para no reemplazar los datos exactos de los plazos, vamos a crear una nueva columna \"Plazo en años\".\n",
    "\n",
    "obras_cleaned['plazo_años'] = obras_cleaned['plazo_meses']\n",
    "\n",
    "# En esta nueva columna, reemplazamos los valores agrupando por períodos.\n",
    "\n",
    "def clean_row(row):\n",
    "    a= [0,1,2,3,4,5,6,7,8,9,10,11,12]\n",
    "    b= [13,14,15,16,17,18,19,20,21,22,23,24]\n",
    "    c= [25,26,27,28,29,30,31,32,33,34,35,36]\n",
    "    d= [37,38,39,40,41,42,43,44,45,46,47,48,57,52,55,86]\n",
    "    #e= [57,52,55,86]\n",
    "    \n",
    "    if row.plazo_años in a:\n",
    "        return 'Menos de 1 año'\n",
    "    if row.plazo_años in b:\n",
    "        return 'De 1 a 2 años'\n",
    "    if row.plazo_años in c:\n",
    "        return 'De 2 a 3 años'\n",
    "    if row.plazo_años in d:\n",
    "        return 'Más de 3 años'\n",
    "    #if row.plazo_meses in e:\n",
    "        #return 'Más de 4 años'\n",
    "    \n",
    "    \n",
    "    return row.plazo_años\n",
    "\n",
    "def clean_df(obras_cleaned):\n",
    "    obras_cleaned=obras_cleaned.copy()\n",
    "    obras_cleaned['plazo_años']=obras_cleaned.apply(lambda row: \n",
    "                                                   clean_row(row),axis=1)\n",
    "    return obras_cleaned\n",
    "\n",
    "obras_cleaned=clean_df(obras_cleaned)\n",
    "\n",
    "print(f'Los plazos de las obras ahora quedarán agrupados como:\"\\r\\n')\n",
    "print(obras_cleaned.plazo_años.unique())"
   ]
  },
  {
   "cell_type": "code",
   "execution_count": null,
   "metadata": {},
   "outputs": [],
   "source": [
    "obras_cleaned.shape\n",
    "\n",
    "# Vemos que las columnas de monto en miles, plazo en años y plazo_0 fueron creadas correctamente \n",
    "# Ahora el dataset posee 39 columnas en lugar de 36."
   ]
  },
  {
   "cell_type": "code",
   "execution_count": null,
   "metadata": {},
   "outputs": [],
   "source": [
    "obras_cleaned.head()"
   ]
  },
  {
   "cell_type": "markdown",
   "metadata": {},
   "source": [
    "## Meses"
   ]
  },
  {
   "cell_type": "code",
   "execution_count": null,
   "metadata": {},
   "outputs": [],
   "source": [
    "ax = sns.countplot(x='plazo_meses', \n",
    "                   data=obras_cleaned,\n",
    "                   palette='viridis',\n",
    "                   alpha=0.7,\n",
    "                   order=obras_cleaned['plazo_meses'].value_counts().index)\n",
    "ax.set_xticklabels(ax.get_xticklabels(), rotation=90, ha=\"right\")\n",
    "plt.title(\"Tiempo de realización\")\n",
    "plt.show()"
   ]
  },
  {
   "cell_type": "code",
   "execution_count": null,
   "metadata": {
    "scrolled": true
   },
   "outputs": [],
   "source": [
    "# Visualizamos el gráfico anterior con %\n",
    "\n",
    "año_obra_cleaned = (obras_cleaned[['etapa','plazo_meses']].groupby(['plazo_meses']).count().\n",
    "                      sort_values(by='etapa',ascending=False))\n",
    "suma = año_obra_cleaned.etapa.sum()                      \n",
    "año_obra_cleaned['Porcentaje'] = (año_obra_cleaned.etapa/suma)*100\n",
    "año_obra_cleaned"
   ]
  },
  {
   "cell_type": "markdown",
   "metadata": {},
   "source": [
    "## Bandas por trimestres"
   ]
  },
  {
   "cell_type": "code",
   "execution_count": 45,
   "metadata": {},
   "outputs": [
    {
     "name": "stdout",
     "output_type": "stream",
     "text": [
      "Los plazos de las obras ahora quedarán agrupados como:\"\r\n",
      "\n",
      "['Más de 2 años' 'Entre 1 y 2 años' 'Entre 9 meses y 1 año'\n",
      " 'Hasta 3 meses' 'Entre 3 y 6 meses' 'Entre 7 y 9 meses']\n"
     ]
    }
   ],
   "source": [
    "# Vamos a agrupar en períodos\n",
    "# Para no reemplazar los datos exactos de los plazos, vamos a crear una nueva columna \"Plazo en años\".\n",
    "\n",
    "obras_cleaned['plazo_trimestres'] = obras_cleaned['plazo_meses']\n",
    "\n",
    "# En esta nueva columna, reemplazamos los valores agrupando por períodos.\n",
    "\n",
    "def clean_row(row):\n",
    "    a= [0,1,2,3]\n",
    "    b= [4,5,6]\n",
    "    c= [7,8,9]\n",
    "    d= [10,11,12]\n",
    "    e= [13,14,15,16,17,18,19,20,21,22,23,24]\n",
    "    f= [25,26,27,28,29,30,31,32,33,34,35,36,37,38,39,40,41,42,43,44,45,46,47,48,57,52,55,86]\n",
    "    #La última banda se hace más larga por la poca cantidad de samples\n",
    "    \n",
    "    if row.plazo_trimestres in a:\n",
    "        return 'Hasta 3 meses'\n",
    "    if row.plazo_trimestres in b:\n",
    "        return 'Entre 3 y 6 meses'\n",
    "    if row.plazo_trimestres in c:\n",
    "        return 'Entre 7 y 9 meses'\n",
    "    if row.plazo_trimestres in d:\n",
    "        return 'Entre 9 meses y 1 año'\n",
    "    if row.plazo_trimestres in e:\n",
    "        return 'Entre 1 y 2 años'\n",
    "    if row.plazo_trimestres in f:\n",
    "        return 'Más de 2 años'\n",
    "    \n",
    "    \n",
    "    return row.plazo_trimestres\n",
    "\n",
    "def clean_df(obras_cleaned):\n",
    "    obras_cleaned=obras_cleaned.copy()\n",
    "    obras_cleaned['plazo_trimestres']=obras_cleaned.apply(lambda row: \n",
    "                                                   clean_row(row),axis=1)\n",
    "    return obras_cleaned\n",
    "\n",
    "obras_cleaned=clean_df(obras_cleaned)\n",
    "\n",
    "print(f'Los plazos de las obras ahora quedarán agrupados como:\"\\r\\n')\n",
    "print(obras_cleaned.plazo_trimestres.unique())"
   ]
  },
  {
   "cell_type": "code",
   "execution_count": null,
   "metadata": {},
   "outputs": [],
   "source": []
  },
  {
   "cell_type": "code",
   "execution_count": null,
   "metadata": {},
   "outputs": [],
   "source": []
  },
  {
   "cell_type": "code",
   "execution_count": null,
   "metadata": {},
   "outputs": [],
   "source": [
    "# Visualizamos \n",
    "grafico_año = año_obra_cleaned.iloc[:,:]\n",
    "graf = grafico_año.index\n",
    "dat = grafico_año.Porcentaje\n",
    "plt.figure(figsize = (8,8))\n",
    "plt.axis('equal')\n",
    "plt.pie(dat, labels = graf,autopct = '%1.1f%%', \n",
    "        startangle = 90,labeldistance = 1,\n",
    "        pctdistance = 0.7,rotatelabels = True,\n",
    "        radius = 1,shadow = True)"
   ]
  },
  {
   "cell_type": "markdown",
   "metadata": {},
   "source": [
    "Observación: Actualmente la feature creada plazo_años se encuentra con strings, para utilizarlo en modelos de machine learning será conveniente generar dummies.\n",
    "Otra cosa importante a destacar es que hay un porcentaje muy bajo de obras cuyo plazo supera los 3 años. Esto podría dificultar el entrenamiento y por ende el test. Analizar luego de ML si es conveniente re agrupar estos plazos."
   ]
  },
  {
   "cell_type": "code",
   "execution_count": null,
   "metadata": {},
   "outputs": [],
   "source": [
    "# Verificamos nuevamente el estado de los tipos de obras, tal como se mencionó al comienzo del EDA\n",
    "\n",
    "tipo_obra2 = (obras_cleaned[['etapa','tipo']].groupby(['tipo']).count()).sort_values(by='etapa',ascending=False)\n",
    "total_tipo2 = tipo_obra2.sum()\n",
    "porcentaje_tipo2 = (tipo_obra2 / total_tipo2)*100\n",
    "tipo_obra2['Porcentaje_final'] = porcentaje_tipo2\n",
    "df=pd.merge(tipo_obra,tipo_obra2, on='tipo').drop(columns=['etapa_x','etapa_y'])\n",
    "df"
   ]
  },
  {
   "cell_type": "markdown",
   "metadata": {},
   "source": [
    "Observación: No hubo una variación tan importante en la distribución, procedemos a continuar con el EDA, en caso de que el modelo de aprendizaje no obtenga buenos resultados este es un punto a tener en cuenta"
   ]
  },
  {
   "cell_type": "markdown",
   "metadata": {},
   "source": [
    "Observación: Varias features de interés se encuentran en formato string, por lo cual el pairplot no nos brinda mucha información. Lo mismo sucede con el heatmap"
   ]
  },
  {
   "cell_type": "markdown",
   "metadata": {},
   "source": [
    "### Guardar data set limpio luego del EDA"
   ]
  },
  {
   "cell_type": "code",
   "execution_count": null,
   "metadata": {},
   "outputs": [],
   "source": [
    "# Generamos un nuevo data set con las columnas de interés y lo guardamos en un nuevo Excel\n",
    "\n",
    "df2 = obras_cleaned[['etapa','tipo','plazo_años','monto_miles','comuna']]\n",
    "df2"
   ]
  },
  {
   "cell_type": "code",
   "execution_count": null,
   "metadata": {},
   "outputs": [],
   "source": [
    "df2.to_excel('obras_publicas.xlsx')  #Años"
   ]
  },
  {
   "cell_type": "code",
   "execution_count": null,
   "metadata": {},
   "outputs": [],
   "source": [
    "# Generamos un nuevo data set con las columnas de interés y lo guardamos en un nuevo Excel\n",
    "\n",
    "df2 = obras_cleaned[['etapa','tipo','plazo_meses','monto_miles','comuna']]"
   ]
  },
  {
   "cell_type": "code",
   "execution_count": null,
   "metadata": {},
   "outputs": [],
   "source": [
    "df2.to_excel('obras_en_meses.xlsx')  #Meses"
   ]
  },
  {
   "cell_type": "code",
   "execution_count": 46,
   "metadata": {},
   "outputs": [
    {
     "data": {
      "text/html": [
       "<div>\n",
       "<style scoped>\n",
       "    .dataframe tbody tr th:only-of-type {\n",
       "        vertical-align: middle;\n",
       "    }\n",
       "\n",
       "    .dataframe tbody tr th {\n",
       "        vertical-align: top;\n",
       "    }\n",
       "\n",
       "    .dataframe thead th {\n",
       "        text-align: right;\n",
       "    }\n",
       "</style>\n",
       "<table border=\"1\" class=\"dataframe\">\n",
       "  <thead>\n",
       "    <tr style=\"text-align: right;\">\n",
       "      <th></th>\n",
       "      <th>etapa</th>\n",
       "      <th>tipo</th>\n",
       "      <th>plazo_trimestres</th>\n",
       "      <th>monto_miles</th>\n",
       "      <th>comuna</th>\n",
       "    </tr>\n",
       "  </thead>\n",
       "  <tbody>\n",
       "    <tr>\n",
       "      <th>0</th>\n",
       "      <td>Finalizada</td>\n",
       "      <td>Escuelas</td>\n",
       "      <td>Más de 2 años</td>\n",
       "      <td>67065.700</td>\n",
       "      <td>12.0</td>\n",
       "    </tr>\n",
       "    <tr>\n",
       "      <th>1</th>\n",
       "      <td>Finalizada</td>\n",
       "      <td>Espacio Público</td>\n",
       "      <td>Entre 1 y 2 años</td>\n",
       "      <td>9950.017</td>\n",
       "      <td>12.0</td>\n",
       "    </tr>\n",
       "    <tr>\n",
       "      <th>2</th>\n",
       "      <td>Finalizada</td>\n",
       "      <td>Espacio Público</td>\n",
       "      <td>Entre 1 y 2 años</td>\n",
       "      <td>36942.632</td>\n",
       "      <td>1.0</td>\n",
       "    </tr>\n",
       "    <tr>\n",
       "      <th>3</th>\n",
       "      <td>Finalizada</td>\n",
       "      <td>Espacio Público</td>\n",
       "      <td>Más de 2 años</td>\n",
       "      <td>26938.294</td>\n",
       "      <td>1.0</td>\n",
       "    </tr>\n",
       "    <tr>\n",
       "      <th>4</th>\n",
       "      <td>Finalizada</td>\n",
       "      <td>Vivienda</td>\n",
       "      <td>Entre 9 meses y 1 año</td>\n",
       "      <td>6990.315</td>\n",
       "      <td>8.0</td>\n",
       "    </tr>\n",
       "    <tr>\n",
       "      <th>...</th>\n",
       "      <td>...</td>\n",
       "      <td>...</td>\n",
       "      <td>...</td>\n",
       "      <td>...</td>\n",
       "      <td>...</td>\n",
       "    </tr>\n",
       "    <tr>\n",
       "      <th>1111</th>\n",
       "      <td>Finalizada</td>\n",
       "      <td>Espacio Público</td>\n",
       "      <td>Hasta 3 meses</td>\n",
       "      <td>2325.368</td>\n",
       "      <td>8.0</td>\n",
       "    </tr>\n",
       "    <tr>\n",
       "      <th>1112</th>\n",
       "      <td>Finalizada</td>\n",
       "      <td>Espacio Público</td>\n",
       "      <td>Hasta 3 meses</td>\n",
       "      <td>1984.627</td>\n",
       "      <td>8.0</td>\n",
       "    </tr>\n",
       "    <tr>\n",
       "      <th>1114</th>\n",
       "      <td>Finalizada</td>\n",
       "      <td>Espacio Público</td>\n",
       "      <td>Hasta 3 meses</td>\n",
       "      <td>6557.067</td>\n",
       "      <td>9.0</td>\n",
       "    </tr>\n",
       "    <tr>\n",
       "      <th>1115</th>\n",
       "      <td>Finalizada</td>\n",
       "      <td>Espacio Público</td>\n",
       "      <td>Hasta 3 meses</td>\n",
       "      <td>22279.428</td>\n",
       "      <td>15.0</td>\n",
       "    </tr>\n",
       "    <tr>\n",
       "      <th>1116</th>\n",
       "      <td>Finalizada</td>\n",
       "      <td>Espacio Público</td>\n",
       "      <td>Hasta 3 meses</td>\n",
       "      <td>14024.377</td>\n",
       "      <td>11.0</td>\n",
       "    </tr>\n",
       "  </tbody>\n",
       "</table>\n",
       "<p>934 rows × 5 columns</p>\n",
       "</div>"
      ],
      "text/plain": [
       "           etapa             tipo       plazo_trimestres  monto_miles  comuna\n",
       "0     Finalizada         Escuelas          Más de 2 años    67065.700    12.0\n",
       "1     Finalizada  Espacio Público       Entre 1 y 2 años     9950.017    12.0\n",
       "2     Finalizada  Espacio Público       Entre 1 y 2 años    36942.632     1.0\n",
       "3     Finalizada  Espacio Público          Más de 2 años    26938.294     1.0\n",
       "4     Finalizada         Vivienda  Entre 9 meses y 1 año     6990.315     8.0\n",
       "...          ...              ...                    ...          ...     ...\n",
       "1111  Finalizada  Espacio Público          Hasta 3 meses     2325.368     8.0\n",
       "1112  Finalizada  Espacio Público          Hasta 3 meses     1984.627     8.0\n",
       "1114  Finalizada  Espacio Público          Hasta 3 meses     6557.067     9.0\n",
       "1115  Finalizada  Espacio Público          Hasta 3 meses    22279.428    15.0\n",
       "1116  Finalizada  Espacio Público          Hasta 3 meses    14024.377    11.0\n",
       "\n",
       "[934 rows x 5 columns]"
      ]
     },
     "execution_count": 46,
     "metadata": {},
     "output_type": "execute_result"
    }
   ],
   "source": [
    "# Generamos un nuevo data set con las columnas de interés y lo guardamos en un nuevo Excel\n",
    "\n",
    "df2 = obras_cleaned[['etapa','tipo','plazo_trimestres','monto_miles','comuna']]\n",
    "df2"
   ]
  },
  {
   "cell_type": "code",
   "execution_count": 47,
   "metadata": {},
   "outputs": [],
   "source": [
    "df2.to_excel('obras_en_trimestres.xlsx')  #Trimestres"
   ]
  },
  {
   "cell_type": "code",
   "execution_count": null,
   "metadata": {},
   "outputs": [],
   "source": []
  }
 ],
 "metadata": {
  "hide_input": false,
  "kernelspec": {
   "display_name": "Python 3",
   "language": "python",
   "name": "python3"
  },
  "language_info": {
   "codemirror_mode": {
    "name": "ipython",
    "version": 3
   },
   "file_extension": ".py",
   "mimetype": "text/x-python",
   "name": "python",
   "nbconvert_exporter": "python",
   "pygments_lexer": "ipython3",
   "version": "3.8.3"
  },
  "toc": {
   "base_numbering": 1,
   "nav_menu": {},
   "number_sections": false,
   "sideBar": true,
   "skip_h1_title": false,
   "title_cell": "Table of Contents",
   "title_sidebar": "Contents",
   "toc_cell": false,
   "toc_position": {
    "height": "calc(100% - 180px)",
    "left": "10px",
    "top": "150px",
    "width": "165px"
   },
   "toc_section_display": true,
   "toc_window_display": false
  },
  "widgets": {
   "application/vnd.jupyter.widget-state+json": {
    "state": {},
    "version_major": 2,
    "version_minor": 0
   }
  }
 },
 "nbformat": 4,
 "nbformat_minor": 4
}
